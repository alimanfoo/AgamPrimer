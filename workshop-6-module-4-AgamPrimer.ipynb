{
  "cells": [
    {
      "cell_type": "markdown",
      "metadata": {
        "id": "view-in-github",
        "colab_type": "text"
      },
      "source": [
        "<a href=\"https://colab.research.google.com/github/sanjaynagi/AgamPrimer/blob/main/workshop-6-module-4-AgamPrimer.ipynb\" target=\"_parent\"><img src=\"https://colab.research.google.com/assets/colab-badge.svg\" alt=\"Open In Colab\"/></a>"
      ]
    },
    {
      "cell_type": "markdown",
      "id": "815e8658",
      "metadata": {
        "id": "815e8658"
      },
      "source": [
        "![banner](https://anopheles-genomic-surveillance.github.io/_images/banner.jpg)\n",
        "\n",
        "***Training course in data analysis for genomic surveillance of African malaria vectors - Workshop 6***\n",
        "\n",
        "---"
      ]
    },
    {
      "cell_type": "markdown",
      "id": "95841879",
      "metadata": {
        "id": "95841879"
      },
      "source": [
        "# Module 4 - AgamPrimer - Primer Design in *Anopheles gambiae*\n",
        "\n",
        "**Theme: Tools & technology**\n",
        "\n",
        "In the previous modules of workshop 6, we learnt how to discover candidate loci for insecticide resistance, using genome-wide selection scans (GWSS). In this module, we introduce a new python package [AgamPrimer](https://github.com/sanjaynagi/AgamPrimer), which uses the [malariagen_data API](https://malariagen.github.io/vector-data/ag3/api.html) and [primer3-py](https://github.com/libnano/primer3-py), to allow us to design primers and probes in *Anopheles gambiae s.l*. We can use then use these primers and probes to help us validate putative resistance loci. By integrating the malariagen_data API, AgamPrimer allows us to consider and avoid genetic variation in the Ag1000g resource during the design of our primers."
      ]
    },
    {
      "cell_type": "markdown",
      "id": "b0ccaed6",
      "metadata": {
        "id": "b0ccaed6"
      },
      "source": [
        "## Learning objectives\n",
        "\n",
        "At the end of this module you will be able to:\n",
        "\n",
        "1. Describe the principles of PCR, qPCR, and the role of primers. \n",
        "2. Describe some of the applications of PCR.\n",
        "3. Explain why it is important to consider SNPs when designing primers.\n",
        "4. Design genomic DNA primers to target the *ace1*-G280S mutation.\n",
        "5. Design RT-qPCR primers to measure gene expression of the P450, *Cyp9k1*. "
      ]
    },
    {
      "cell_type": "markdown",
      "id": "3cb60aec",
      "metadata": {
        "id": "3cb60aec"
      },
      "source": [
        "## Lecture\n",
        "### English\n",
        "### Francais"
      ]
    },
    {
      "cell_type": "markdown",
      "id": "527ff02d",
      "metadata": {
        "id": "527ff02d"
      },
      "source": [
        "## Introduction\n",
        "### Recap - Primers\n",
        "\n",
        "\n",
        "A primer is a short single-stranded nucleic acid used by all living organisms in the initiation of DNA synthesis. DNA polymerase (responsible for DNA replication) enzymes are only capable of adding nucleotides to the 3’-end of an existing nucleic acid, requiring a primer be bound to the template before DNA polymerase can begin a complementary strand.\n",
        "\n",
        "<img src=\"https://github.com/sanjaynagi/AgamPrimer/blob/main/graphics/teaching/primer.png\" alt=\"Drawing\" style=\"width: 800px; height: 400px\"/>\n",
        "\n",
        "In many molecular biology applications we use synthetic DNA primers alongside the polymerase chain reaction (PCR) to amplify regions of DNA that we are interested in.\n",
        "\n",
        "- PCR (Detection / Genotyping) \n",
        "- Real-time quantitative PCR  (Detection / Genotyping / Gene expression)\n",
        "    - SYBR\n",
        "    - Locked Nucleic Acid (LNA)\n",
        "    - TaqMan\n",
        "- Cloning\n",
        "- Next generation sequencing\n",
        "    - Amplicon sequencing\n",
        "\n",
        "### Primer Design\n",
        "\n",
        "Suitable primers are crucial to effective PCR reactions and must be designed to be robust, reliable and consistent across experimental conditions. \n",
        "\n",
        "Primers are typically designed with the following characteristics:\n",
        "\n",
        " - **Size**: Between 17-24 bases long\n",
        "     - This can vary depending on the application. Often, hybridisation probes are shorter. Shorter primers may be less specific, whereas longer primers may have a slower hybridisation rate.\n",
        " - **Tm**: A Melting temperature of 59–64°C, with an ideal temperature of 62°C, which is based on typical PCR conditions and the optimum temperature for PCR enzymes.\n",
        " - **Ta**: The annealing temperature chosen for PCR relies directly on length and composition of the primers. This temperature should be no more than 5°C below the Tm of your primers.\n",
        " - **GC content**: Design your assay so that the GC content is 35–65%, with an ideal content of 50%, which allows complexity while still maintaining a unique sequence. Primer sequences should not contain regions of 4 or more consecutive G residues. \n",
        " \n",
        "Primers should also be free of strong secondary structures and self-complementarity. \n",
        "\n",
        "### SNPs / Mismatches in primer binding sites\n",
        "\n",
        "Single nucleotide polymorphisms (SNPs) in primer binding sites can affect both the stability and *Tm* of the primer-template duplex, as well as the efficiency with which DNA polymerases can extend the primer (Figure 2). In some cases, this can completely prevent primer binding and amplification of the template DNA, often referred to as null alleles. If performing PCR on individual samples, this phenomenon can usually be identified with repeated, failed efforts to amplify. However, null alleles can become particular troublesome when performing PCR on pooled samples, where we may not observe whether all samples amplified successfully, and so we may not be sampling and observing the full range of alleles.\n",
        "\n",
        "<figure style=\"float: right; width: 400px;\">\n",
        "    <img src=\"https://github.com/sanjaynagi/AgamPrimer/blob/main/graphics/teaching/primer_snp.png?raw=1\" alt=\"mismatches1\"/>\n",
        "    <figcaption>Figure 2: Mismatches reduce the efficiency of primer extension<sup>[1]</sup><br>.</figcaption>\n",
        "</figure>\n",
        "\n",
        "An equally problematic scenario may occur if primers bind but with unequal efficiency against different genetic variants. In this case, in any quantitative molecular assay such as qPCR for gene expression, SNPs could lead to biases in the estimation of gene expression between genetic variants or strains. Even single mismatches can introduce a variety of effects, ranging from minor to major impacts on Cq values <sup>[1]</sup>. The effect will depend on the type of mismatch (which nucleotides are involved), and on the position of the SNP (3’ or 5’ end), as mismatches within the last 5 nucleotides at the 3’ end can disrupt the nearby polymerase active site, and so these mismatches tend to have a much greater impact <sup>[2]</sup>. Mismatches at the terminal 3’ base had the strongest shift of Cq, altering Cq by as much as 5–7 cycles (Figure 3).\n",
        "\n",
        "<figure style=\"float: right; width: 500px;\">\n",
        "    <img src=\"https://github.com/sanjaynagi/AgamPrimer/blob/main/graphics/teaching/snps_primer.jpg?raw=1\" alt=\"mismatches2\"/>\n",
        "    <figcaption>Figure 3: Mismatches at the 3’ end of primers substantially reduce qPCR performance <sup>[1]</sup>.</figcaption>\n",
        "</figure>\n",
        "\n",
        "To maximise the accuracy of our data we should therefore aim to either design primers that avoid SNPs completely or that contain a mix of bases (degenerate) at the sites of SNPs. There is a useful article on this topic on the IDT website - [Consider SNPs when designing PCR and qPCR assays](https://eu.idtdna.com/pages/education/decoded/article/considering-snps-when-designing-pcr-and-qpcr-assays).\n",
        "\n",
        "\n",
        "### Ag1000g\n",
        "\n",
        "As we have seen in earlier workshops, the Ag1000g resource <sup>[3]</sup> has revealed extreme amounts of [genetic variation in *Anopheles gambiae s.l*](https://genome.cshlp.org/content/30/10/1533.full). You can find a SNP in less than every 2 bases of the accessible genome - which makes considering SNPs even more important when designing molecular assays. However, it was not previously straightforward to consider genetic variation when designing primers, and so the vast majority of primers currently in use did not consider SNP variation during their design.\n",
        "\n",
        "Primer3 is the most widely cited program for primer design, and has been used extensively over the past two decades <sup>[4]</sup>. It is also the primer design engine behind [Primer-BLAST](https://www.ncbi.nlm.nih.gov/tools/primer-blast/) <sup>[5]</sup>, a web-server which designs primers and then blasts the primers to check for specificity. Thanks to the [primer3-py](https://github.com/libnano/primer3-py) python package and the fantastic [malariagen_data API](https://malariagen.github.io/vector-data/ag3/api.html), it is now possible to design primers in the cloud with google colab, considering SNP variation."
      ]
    },
    {
      "cell_type": "markdown",
      "id": "746LdtO9W8lE",
      "metadata": {
        "id": "746LdtO9W8lE"
      },
      "source": [
        "\n",
        "## Designing primers for the *ace1*-280S mutation\n",
        "\n",
        "In the rest of this module, we will design primers and probes for the *ace1*-280S mutation (previously *ace1*-119S). This mutation is known to be important in resistance to organophosphates and carbamates, insecticides which are widely used in indoor residual spraying (IRS). The resistance mutation has spread throughout much of west and central Africa, including introgressing from *An. gambiae* to *An. coluzzii*, and is often found on the background of large duplications which often pair wild-type and mutant alleles <sup>[6]</sup>. We see very large signals of selection at this locus in many contemporary populations of *An. gambiae*. \n",
        "\n",
        "  ----\n",
        "\n",
        "\n",
        "\n",
        "<figure style=\"width: 800px;\">\n",
        "    <img src=\"https://github.com/sanjaynagi/AgamPrimer/blob/main/graphics/teaching/ace1.png?raw=1\" alt=\"Drawing\"/>\n",
        "    <figcaption>Combination of Ace1 genotypes and CNVs, taken from Grau-Bove et al.<sup>[6]</sup></figcaption>\n",
        "</figure>\n"
      ]
    },
    {
      "cell_type": "markdown",
      "id": "f07c4647",
      "metadata": {
        "id": "f07c4647"
      },
      "source": [
        "### Setup\n",
        "Install and import the packages we'll need."
      ]
    },
    {
      "cell_type": "code",
      "execution_count": null,
      "id": "AM9EeHef6tAD",
      "metadata": {
        "id": "AM9EeHef6tAD"
      },
      "outputs": [],
      "source": [
        "# First, install some packages we require\n",
        "!pip install AgamPrimer==0.4.9 primer3-py malariagen_data kaleido gget -q "
      ]
    },
    {
      "cell_type": "code",
      "execution_count": null,
      "id": "528ae85d",
      "metadata": {
        "id": "528ae85d"
      },
      "outputs": [],
      "source": [
        "# Import libraries \n",
        "import AgamPrimer\n",
        "import pandas as pd\n",
        "import malariagen_data\n",
        "import primer3\n",
        "import gget\n",
        "\n",
        "#configure plotting with matplotlib\n",
        "%matplotlib inline\n",
        "%config InlineBackend.figure_format = \"retina\""
      ]
    },
    {
      "cell_type": "code",
      "execution_count": null,
      "id": "SV03ewwc9de8",
      "metadata": {
        "cellView": "form",
        "id": "SV03ewwc9de8"
      },
      "outputs": [],
      "source": [
        "#@title **Selecting Primer Parameters** { run: \"auto\" }\n",
        "#@markdown In the below cells, replace the values with those desired for your primers.\n",
        "\n",
        "assay_type = \"gDNA primers + probe\"           #@param [\"gDNA primers\", \"gDNA primers + probe\", \"probe\", \"qPCR primers\"]\n",
        "assay_name = 'ace1-280s'                            #@param {type:\"string\"}\n",
        "min_amplicon_size = 60                        #@param {type:\"integer\"}\n",
        "max_amplicon_size = 120                       #@param {type:\"integer\"}\n",
        "amplicon_size_range = [[min_amplicon_size, max_amplicon_size]]\n",
        "n_primer_pairs = 6                            #@param {type:\"slider\", min:1, max:20, step:1}\n",
        "\n",
        "#@markdown    \n",
        "#@markdown target_loc is required for gDNA primers and probes, and transcript required for qPCR primers.\n",
        "contig =  \"2R\"                                 #@param ['2L', '2R', '3L', '3R', 'X']\n",
        "\n",
        "target_loc =  '3492074'                       #@param {type:\"string\"}\n",
        "target_loc = int(target_loc)\n",
        "transcript =  ''                               #@param {type:\"string\"} \n",
        "\n",
        "\n",
        "if any(item in assay_type for item in ['gDNA', 'probe']):\n",
        "  assert target_loc > 0, \"Target location must be above 0 and less than the contig length\"\n",
        "elif assay_type == 'qPCR primers':\n",
        "  assert len(transcript) > 2, \"Transcript ID is not valid, should be vectorbase ID such as 'AGAP004707-RD'\""
      ]
    },
    {
      "cell_type": "markdown",
      "id": "c2073e67",
      "metadata": {
        "id": "c2073e67"
      },
      "source": [
        "Configure access to the MalariaGEN Ag3 data resource."
      ]
    },
    {
      "cell_type": "code",
      "execution_count": null,
      "id": "338d8c1a",
      "metadata": {
        "id": "338d8c1a"
      },
      "outputs": [],
      "source": [
        "ag3 = malariagen_data.Ag3()\n",
        "ag3"
      ]
    },
    {
      "cell_type": "markdown",
      "id": "aa733775",
      "metadata": {
        "id": "aa733775"
      },
      "source": [
        "Load sequence data for the chromosomal arm of choice, using the [malariagen_data API](https://malariagen.github.io/vector-data/ag3/api.html):"
      ]
    },
    {
      "cell_type": "code",
      "execution_count": null,
      "id": "5fa0be8d",
      "metadata": {
        "id": "5fa0be8d"
      },
      "outputs": [],
      "source": [
        "genome_seq = ag3.genome_sequence(region=contig)\n",
        "print(f\"Our genome sequence for {contig} is {genome_seq.shape[0]} bp long\")"
      ]
    },
    {
      "cell_type": "markdown",
      "id": "144a37ce",
      "metadata": {
        "id": "144a37ce"
      },
      "source": [
        "Now we need to extract the bit of genome sequence we need. We will use functions in the [AgamPrimer](https://pypi.org/project/AgamPrimer/) package. For genomic DNA primers, this is quite simple and we can make direct use of the `ag3.genome_sequence()` function, but for cDNA qPCR primers, we must only include coding sequence, and so we must concatenate exons together.\n",
        "\n",
        "With qPCR primers for cDNA, we also must ensure that one primer spans an exon-exon junction, to ensure that any residual genomic DNA in our samples does not get amplified. We must therefore make a note of where the exon junctions are, and we store that as a list in the `exon_junctions` variable."
      ]
    },
    {
      "cell_type": "code",
      "execution_count": null,
      "id": "R0CkEd38VXGY",
      "metadata": {
        "id": "R0CkEd38VXGY"
      },
      "outputs": [],
      "source": [
        "if any(item in assay_type for item in ['gDNA', 'probe']):\n",
        "  # genomic DNA\n",
        "  target_sequence, gdna_pos, seq_parameters = AgamPrimer.prepare_gDNA_sequence(target_loc=target_loc, amplicon_size_range=amplicon_size_range, genome_seq=genome_seq, assay_name=assay_name, assay_type=assay_type)\n",
        "elif assay_type == 'qPCR primers':\n",
        "  # RT-quantitative PCR, cDNA\n",
        "  target_sequence, exon_junctions, gdna_pos, seq_parameters = AgamPrimer.prepare_cDNA_sequence(transcript=transcript, gff=ag3.geneset(), genome_seq=genome_seq, assay_name=assay_name)"
      ]
    },
    {
      "cell_type": "markdown",
      "id": "_aaCJGAXUCSx",
      "metadata": {
        "id": "_aaCJGAXUCSx"
      },
      "source": [
        "Now we have our target sequence. Lets take a look..."
      ]
    },
    {
      "cell_type": "code",
      "execution_count": null,
      "id": "nDaWXq7f9hyA",
      "metadata": {
        "id": "nDaWXq7f9hyA"
      },
      "outputs": [],
      "source": [
        "seq_parameters['SEQUENCE_TEMPLATE']"
      ]
    },
    {
      "cell_type": "markdown",
      "id": "38fe2530",
      "metadata": {
        "id": "38fe2530"
      },
      "source": [
        "We need to set up a second python dictionary, which will be our input to primer3. This contains our preferred primer parameters. In the below cell, you can modify or add primer3 parameters, such as optimal primer size, TM, GC content etc etc. A full list of possible parameters and their functions can be found in the [primer3 2.3.7 manual](https://htmlpreview.github.io/?https://github.com/libnano/primer3-py/master/primer3/src/libprimer3/primer3_manual.htm)."
      ]
    },
    {
      "cell_type": "code",
      "execution_count": null,
      "id": "622ac6d9",
      "metadata": {
        "id": "622ac6d9"
      },
      "outputs": [],
      "source": [
        "primer_parameters  =  {\n",
        "        'PRIMER_NUM_RETURN':n_primer_pairs,\n",
        "        'PRIMER_OPT_SIZE': 20,\n",
        "        'PRIMER_TASK':'generic',\n",
        "        'PRIMER_MIN_SIZE': 17,\n",
        "        'PRIMER_MAX_SIZE': 24,\n",
        "        'PRIMER_OPT_TM': 60.0,\n",
        "        'PRIMER_MIN_TM': 55.0,\n",
        "        'PRIMER_MAX_TM': 64.0,\n",
        "        'PRIMER_MIN_GC': 30.0,\n",
        "        'PRIMER_MAX_GC': 75.0,\n",
        "        'PRIMER_PRODUCT_SIZE_RANGE': amplicon_size_range,\n",
        "        'PRIMER_MIN_THREE_PRIME_DISTANCE':3,          # this parameter is the minimum distance between successive pairs. If 1, it means successive primer pairs could be identical bar one base shift\n",
        "        'PRIMER_INTERNAL_OPT_SIZE': 16,               # Probe size preferences if selected, otherwise ignored\n",
        "        'PRIMER_INTERNAL_MIN_SIZE': 10,\n",
        "        'PRIMER_INTERNAL_MAX_SIZE': 22,\n",
        "        'PRIMER_INTERNAL_MIN_TM': 45,\n",
        "        'PRIMER_INTERNAL_MAX_TM':65,                # Probe considerations are quite relaxed, assumed that LNAs will be used later to affect TM\n",
        "        # Extra primer3 parameters can go here\n",
        "        # In the same format as above                       \n",
        "    }\n",
        "\n",
        "## adds some necessary parameters depending on assay type\n",
        "primer_parameters = AgamPrimer.primer_params(primer_parameters, assay_type) "
      ]
    },
    {
      "cell_type": "markdown",
      "id": "0819ba76",
      "metadata": {
        "id": "0819ba76"
      },
      "source": [
        "#### **Run the primer3 algorithm!**"
      ]
    },
    {
      "cell_type": "code",
      "execution_count": null,
      "id": "ae6e7525",
      "metadata": {
        "id": "ae6e7525",
        "scrolled": false
      },
      "outputs": [],
      "source": [
        "primer_dict = primer3.designPrimers(seq_args=seq_parameters, global_args=primer_parameters)"
      ]
    },
    {
      "cell_type": "markdown",
      "id": "56945ca6",
      "metadata": {
        "id": "56945ca6"
      },
      "source": [
        "It should be *fast*. The output, which we store as 'primer_dict', is a python dictionary containing the full results from primer3. We will turn this into a pandas dataframe containing just the necessary bits of information. First, we'll print some information from the primer3 run."
      ]
    },
    {
      "cell_type": "code",
      "execution_count": null,
      "id": "1bb40846",
      "metadata": {
        "id": "1bb40846"
      },
      "outputs": [],
      "source": [
        "AgamPrimer.primer3_run_statistics(primer_dict, assay_type)"
      ]
    },
    {
      "cell_type": "markdown",
      "id": "CbVMwOdCrNMf",
      "metadata": {
        "id": "CbVMwOdCrNMf"
      },
      "source": [
        "Now lets convert this into an easy to read pandas dataframe."
      ]
    },
    {
      "cell_type": "code",
      "execution_count": null,
      "id": "bf8c5970",
      "metadata": {
        "id": "bf8c5970"
      },
      "outputs": [],
      "source": [
        "primer_df = AgamPrimer.primer3_to_pandas(primer_dict, assay_type)\n",
        "primer_df"
      ]
    },
    {
      "cell_type": "markdown",
      "id": "Lf0CeEVrtaxP",
      "metadata": {
        "id": "Lf0CeEVrtaxP"
      },
      "source": [
        "\n",
        "We can write this to .tsv and excel files, which can be explored in other editors."
      ]
    },
    {
      "cell_type": "code",
      "execution_count": null,
      "id": "09eQYSeT7lHG",
      "metadata": {
        "id": "09eQYSeT7lHG"
      },
      "outputs": [],
      "source": [
        "primer_df.to_csv(f\"{assay_name}.{assay_type}.primers.tsv\", sep=\"\\t\")\n",
        "primer_df.to_excel(f\"{assay_name}.{assay_type}.primers.xlsx\")"
      ]
    },
    {
      "cell_type": "markdown",
      "id": "b4a9776c",
      "metadata": {
        "id": "b4a9776c"
      },
      "source": [
        "## **Looking for variation using the ag1000g resource and malariagen API**\n",
        "\n",
        "As we've seen in earlier workshops, ag1000g samples are organised into sample sets. Lets look at what each sample set contains, breaking it down by species, year and country. "
      ]
    },
    {
      "cell_type": "code",
      "execution_count": null,
      "id": "61286685",
      "metadata": {
        "id": "61286685"
      },
      "outputs": [],
      "source": [
        "metadata = ag3.sample_metadata()\n",
        "\n",
        "pivot_country_year_taxon = (\n",
        "    metadata\n",
        "    .pivot_table(\n",
        "        index=[\"sample_set\", \"year\", \"country\"], \n",
        "        columns=[\"taxon\"], \n",
        "        values=\"sample_id\",\n",
        "        aggfunc=\"count\",\n",
        "        fill_value=0\n",
        "    )\n",
        ")\n",
        "\n",
        "pivot_country_year_taxon"
      ]
    },
    {
      "cell_type": "markdown",
      "id": "BLwvXBT28NYE",
      "metadata": {
        "id": "BLwvXBT28NYE"
      },
      "source": [
        "Here, we can see the breakdown by sample set for country, species and year. For the purposes of this notebook, let's use the Ghana sample set. If we wanted to use all sample sets, we could supply '3.0' instead of a sample set, which will load all samples from the ag3.0 release."
      ]
    },
    {
      "cell_type": "code",
      "execution_count": null,
      "id": "49ca7f2b",
      "metadata": {
        "id": "49ca7f2b"
      },
      "outputs": [],
      "source": [
        "sample_set = 'AG1000G-GH'          # sample_set = '3.0' .you can also supply lists with multiple sample sets e.g ['AG1000G-GH', 'AG1000G-CI', 'AG1000G-BF-A]\n",
        "sample_query = None #\"aim_species == 'coluzzii'\"                # here we can subset to specific values in the metadata e.g :     \"aim_species == 'gambiae'\" , or \"aim_species == 'arabiensis'\"          "
      ]
    },
    {
      "cell_type": "markdown",
      "id": "67coxQKoo82x",
      "metadata": {
        "id": "67coxQKoo82x"
      },
      "source": [
        "### **Plot allele frequencies in primers locations**\n",
        "\n",
        "Now we can plot the primers pairs, and the frequency of any alternate alleles in the Ag1000g sample set of choice. When calculating allele frequencies, we will take the sum of all alternate alleles, as we are interested here in any mutations which are different from the reference genome. We can see the frequencies of specific alleles by hovering over the points of the plot - in some cases it may be preferable to design degenerate primers rather than avoid a primer pair completely.\n",
        "\n",
        "We will also plot the primer Tm, GC and genomic spans of each primer binding site. We can use this plot to identify primers pairs and probes which may be suitable, particularly trying to avoid SNPs in the 3' end. "
      ]
    },
    {
      "cell_type": "code",
      "execution_count": null,
      "id": "shXKBpG49LSU",
      "metadata": {
        "id": "shXKBpG49LSU",
        "scrolled": false
      },
      "outputs": [],
      "source": [
        "results_dict = AgamPrimer.plot_primer_ag3_frequencies(primer_df=primer_df,\n",
        "                                                gdna_pos=gdna_pos,\n",
        "                                                contig=contig,\n",
        "                                                sample_set=sample_set, \n",
        "                                                sample_query=sample_query,\n",
        "                                                assay_type=assay_type,\n",
        "                                                seq_parameters=seq_parameters,\n",
        "                                                save=True)"
      ]
    },
    {
      "cell_type": "markdown",
      "id": "aCVuE1CiAR4h",
      "metadata": {
        "id": "aCVuE1CiAR4h"
      },
      "source": [
        "Now lets plot these primer pairs across the genome, highlighting where they are in relation to any nearby exons..."
      ]
    },
    {
      "cell_type": "code",
      "execution_count": null,
      "id": "cAacbw-q8Sgm",
      "metadata": {
        "id": "cAacbw-q8Sgm"
      },
      "outputs": [],
      "source": [
        "AgamPrimer.plot_primer_locs(primer_res_dict=results_dict, primer_df=primer_df, assay_type=assay_type, gff=ag3.geneset(), contig=contig, seq_parameters=seq_parameters, legend_loc='lower left')"
      ]
    },
    {
      "cell_type": "markdown",
      "id": "-aIy4IyoBc7-",
      "metadata": {
        "id": "-aIy4IyoBc7-"
      },
      "source": [
        "### **Checking our primers for specificity to the *Anopheles gambiae* genome**\n",
        "\n",
        "We can use a cool new python package, [gget](https://github.com/pachterlab/gget), to rapidly search our primers against the AgamP3 genome, to ensure they will not amplify any other regions of the genome. gget rapidly queries large databases - in this case we can use the program BLAT to align primer sequences. Unfortunately as the lengths of primer sequences are so short, it is at the limit of BLATs sensitivity, and in some cases, matches are not returned. gget can also currently only query the older AgamP3 assembly. Therefore, it is also recommended run a more exhaustive search in [Primer-BLAST](https://www.ncbi.nlm.nih.gov/tools/primer-blast/)."
      ]
    },
    {
      "cell_type": "code",
      "execution_count": null,
      "id": "f9fedfe4",
      "metadata": {
        "id": "f9fedfe4"
      },
      "outputs": [],
      "source": [
        "blat_result_df = AgamPrimer.gget_blat_genome(primer_df, assay_type, assembly='anoGam3')\n",
        "blat_result_df"
      ]
    },
    {
      "cell_type": "markdown",
      "id": "1f7ca79e",
      "metadata": {
        "id": "1f7ca79e"
      },
      "source": [
        "#### **We may now have designed suitable primers. However, there are some further considerations...**\n",
        "\n",
        "\n",
        "- Primers should be run in [**Primer-BLAST**](https://www.ncbi.nlm.nih.gov/tools/primer-blast/), to ensure specificity against the host organism, and specificity for the genomic location of interest.\n",
        "\n",
        "- If in multiplexed use with other primers or probes, primers must not interact with each other. This can be investigated on a one by one basis using the IDT tool [oligoanalyzer](https://eu.idtdna.com/calc/analyzer), though higher throughput algorithms may be required.\n",
        "\n",
        "- If designing Locked Nucleic Acid (LNA) probes for SNP detection, you will want to play around with the placement of LNAs in the oligo sequence, which can allow short probes (~10-14 bases) to bind with high affinity and discriminate between SNPs. IDT have a tool for this which allow you to check the binding affinity between mismatches, though it requires a log in https://eu.idtdna.com/calc/analyzer/lna. \n",
        "\n",
        "- Many more considerations.... [IDT - How to design primers and probes for PCR and qPCR](https://eu.idtdna.com/pages/education/decoded/article/designing-pcr-primers-and-probes)   \n",
        "\n",
        "---"
      ]
    },
    {
      "cell_type": "markdown",
      "id": "86c29277",
      "metadata": {
        "id": "86c29277"
      },
      "source": [
        "### Well done!!\n",
        "\n",
        "Well done on completing the notebook and hopefully designing sets of SNP-variation informed primers!\n",
        "\n",
        "---\n",
        "\n",
        "### Exercises\n",
        "\n",
        "For the exercises, you may wish to open the [AgamPrimer notebook](https://colab.research.google.com/github/sanjaynagi/AgamPrimer/blob/main/Primer-Design-in-Anopheles-gambiae.ipynb) rather than re-run this one.\n",
        "\n",
        "**1)** Design a set of qPCR primers for the Cytochrome P450 gene, CYP9K1 (AGAP000818), restricting the samples to just *Anopheles coluzzii*.\n",
        "\n",
        "**2)** Design a set of primers and a probe for the *vgsc*-995F *kdr* mutation (contig = 2L, genome bp = 2422652)\n",
        "\n",
        "**3)** Use the batch mode of AgamPrimer (link) to design a set of primers for multiple loci.\n",
        "\n",
        "---\n",
        "### **Future development**\n",
        "\n",
        "Any contributions or suggestions on how we can improve this notebook are more than welcome. Please [email](mailto:sanjay.nagi@lstmed.ac.uk) or log an [issue on github](https://github.com/sanjaynagi/primerDesignAg/issues). This notebook and source code for AgamPrimer are located here - https://github.com/sanjaynagi/AgamPrimer/    \n",
        "\n",
        "---\n",
        "\n",
        "\n",
        "### **References**\n",
        "\n",
        "[1] Lefever S, Pattyn F, et al. (2013) **Single-nucleotide polymorphisms and other mismatches reduce performance of quantitative PCR assays. Single-nucleotide polymorphisms and other mismatches reduce performance of quantitative PCR assays**. Clin Chem, 59(10):1470–1480.\n",
        "\n",
        "[2] Owczarzy R, Tataurov AV, et al. (2008) **IDT SciTools: a suite for analysis and design of nucleic acid oligomers**. Nucl Acids Res, 36 (suppl 2):W163–169.\n",
        "\n",
        "[3] The Anopheles gambiae 1000 Genomes Consortium (2020). **Genome variation and population structure among 1142 mosquitoes of the African malaria vector species *Anopheles gambiae* and *Anopheles coluzzii***. *Genome Research*, **30**: 1533-1546. \n",
        "https://genome.cshlp.org/content/early/2020/09/25/gr.262790.120\n",
        "\n",
        "[4] Untergasser A, Cutcutache I, Koressaar T, Ye J, Faircloth BC, Remm M and Rozen SG (2012). **Primer3--new capabilities and interfaces**. *Nucleic Acids Research*. 40(15):e115.\n",
        "\n",
        "[5] Ye, J., Coulouris, G., Zaretskaya, I. et al. **Primer-BLAST: A tool to design target-specific primers for polymerase chain reaction**. BMC Bioinformatics 13, 134 (2012). https://doi.org/10.1186/1471-2105-13-134"
      ]
    },
    {
      "cell_type": "code",
      "execution_count": null,
      "id": "0be05d58",
      "metadata": {
        "id": "0be05d58"
      },
      "outputs": [],
      "source": []
    }
  ],
  "metadata": {
    "colab": {
      "name": "Workshop 6 - Module 4 - AgamPrimer.ipynb",
      "provenance": [],
      "include_colab_link": true
    },
    "kernelspec": {
      "display_name": "Python 3 (ipykernel)",
      "language": "python",
      "name": "python3"
    },
    "language_info": {
      "codemirror_mode": {
        "name": "ipython",
        "version": 3
      },
      "file_extension": ".py",
      "mimetype": "text/x-python",
      "name": "python",
      "nbconvert_exporter": "python",
      "pygments_lexer": "ipython3",
      "version": "3.7.12"
    },
    "vscode": {
      "interpreter": {
        "hash": "710100144729ec1057471750b60f3250df4296be7eb29e7e87fec32ed718ec4b"
      }
    }
  },
  "nbformat": 4,
  "nbformat_minor": 5
}
