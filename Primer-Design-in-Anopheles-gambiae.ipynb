{
  "cells": [
    {
      "cell_type": "markdown",
      "metadata": {
        "id": "view-in-github",
        "colab_type": "text"
      },
      "source": [
        "<a href=\"https://colab.research.google.com/github/sanjaynagi/AgamPrimer/blob/main/Primer-Design-in-Anopheles-gambiae.ipynb\" target=\"_parent\"><img src=\"https://colab.research.google.com/assets/colab-badge.svg\" alt=\"Open In Colab\"/></a>"
      ]
    },
    {
      "cell_type": "code",
      "execution_count": null,
      "id": "AM9EeHef6tAD",
      "metadata": {
        "id": "AM9EeHef6tAD"
      },
      "outputs": [],
      "source": [
        "# First, install some packages we require\n",
        "!pip install AgamPrimer==0.3.4 primer3-py malariagen_data -q "
      ]
    },
    {
      "cell_type": "code",
      "execution_count": null,
      "id": "528ae85d",
      "metadata": {
        "id": "528ae85d"
      },
      "outputs": [],
      "source": [
        "# Import libraries \n",
        "import AgamPrimer\n",
        "import pandas as pd\n",
        "import malariagen_data\n",
        "import numpy as np\n",
        "import primer3\n",
        "import matplotlib.pyplot as plt"
      ]
    },
    {
      "cell_type": "markdown",
      "id": "47bde61a",
      "metadata": {
        "id": "47bde61a"
      },
      "source": [
        "##**AgamPrimer: Primer design considering genetic variation in *Anopheles gambiae***\n",
        "**Author**: [Sanjay Curtis Nagi](https://sanjaynagi.github.io/)    \n",
        "**Email**: sanjay.nagi@lstmed.ac.uk  \n",
        "\n",
        "Often, we would like to design primers for PCR applications, such as genotyping (PCR, TaqMan, LNA) or gene expression qPCR (SYBR, TaqMan, LNA). However, single nucleotide polymorphisms (SNPs) in primer binding sites can result in differences or failures in PCR amplification, referred to as null alleles. \n",
        "\n",
        "In general, mismatches caused by SNPs are more of a problem as you move towards the 3' end. I recommend reading a really good article on this topic on the IDT website - [Consider SNPs when designing PCR and qPCR assays](https://eu.idtdna.com/pages/education/decoded/article/considering-snps-when-designing-pcr-and-qpcr-assays). In *An. gambiae s.l*, there is a [huge amount of genetic variation](https://genome.cshlp.org/content/30/10/1533.full); a SNP found approximately every 1.9 bases (!), which makes considering SNPs even more important when designing molecular assays. Thanks to primer3-py and the fantastic malariagen_data package, we can do all of this in the cloud, hosted by google!  \n",
        "\n",
        "\\\n",
        "\n",
        "####**Google Colab**\n",
        "\n",
        "If you are unfamiliar with iPython notebooks and google colab, I encourage you to read the [FAQ](https://research.google.com/colaboratory/faq.html) and watch the following [introduction](https://www.youtube.com/watch?v=inN8seMm7UI). In general, the cells contain python code, and can be run by pressing the play button next to each cell, and should be run in order.\n",
        "\n",
        "You may want to save a copy of the notebook into your google drive (`file -> save a copy in Drive`)."
      ]
    },
    {
      "cell_type": "code",
      "execution_count": null,
      "id": "SV03ewwc9de8",
      "metadata": {
        "id": "SV03ewwc9de8",
        "cellView": "form"
      },
      "outputs": [],
      "source": [
        "#@title **Selecting Primer Parameters** { run: \"auto\" }\n",
        "#@markdown In the below cells, replace the values with those desired for your primers.\n",
        "\n",
        "assay_type = 'gDNA primers + probe'           #@param [\"gDNA primers\", \"gDNA primers + probe\", \"probe\", \"qPCR primers\"]\n",
        "assay_name = 'vgsc-995f'        #@param {type:\"string\"}\n",
        "min_amplicon_size = 190        #@param {type:\"integer\"}\n",
        "max_amplicon_size = 210      #@param {type:\"integer\"}\n",
        "amplicon_size_range = [[min_amplicon_size, max_amplicon_size]]\n",
        "n_primer_pairs = 8            #@param {type:\"slider\", min:1, max:20, step:1}\n",
        "\n",
        "#@markdown    \n",
        "#@markdown target_loc is required for gDNA primers and probes, and transcript required for qPCR primers.\n",
        "contig =  \"2L\"                #@param ['2L', '2R', '3L', '3R', 'X']\n",
        "\n",
        "target_loc =  '2422652'                #@param {type:\"string\"}\n",
        "target_loc = int(target_loc)\n",
        "transcript =  'AGAP004707-RD'         #@param {type:\"string\"} \n",
        "\n",
        "\n",
        "if any(item in assay_type for item in ['gDNA', 'probe']):\n",
        "  assert target_loc > 0, \"Target location must be above 0 and less than the contig length\"\n",
        "elif assay_type == 'qPCR primers':\n",
        "  assert len(transcript) > 2, \"Transcript ID is not valid, should be vectorbase ID such as 'AGAP004707-RD'\""
      ]
    },
    {
      "cell_type": "markdown",
      "id": "aa733775",
      "metadata": {
        "id": "aa733775"
      },
      "source": [
        "Load sequence data for chromosomal arm of choice, using the [malariagen_data API](https://malariagen.github.io/vector-data/ag3/api.html):"
      ]
    },
    {
      "cell_type": "code",
      "execution_count": null,
      "id": "5fa0be8d",
      "metadata": {
        "id": "5fa0be8d"
      },
      "outputs": [],
      "source": [
        "# Connect to the malariagen_data ag3 API\n",
        "ag3 = malariagen_data.Ag3() #pre=True\n",
        "genome_seq = ag3.genome_sequence(region=contig)\n",
        "print(f\"Our genome sequence for {contig} is {genome_seq.shape[0]} bp long\")"
      ]
    },
    {
      "cell_type": "markdown",
      "id": "144a37ce",
      "metadata": {
        "id": "144a37ce"
      },
      "source": [
        "Now we need to extract the bit of sequence we need. We will use functions in the [AgamPrimer](https://pypi.org/project/AgamPrimer/) package."
      ]
    },
    {
      "cell_type": "code",
      "execution_count": null,
      "id": "R0CkEd38VXGY",
      "metadata": {
        "id": "R0CkEd38VXGY"
      },
      "outputs": [],
      "source": [
        "if any(item in assay_type for item in ['gDNA', 'probe']):\n",
        "  # genomic DNA\n",
        "  target_sequence, gdna_pos, seq_parameters = AgamPrimer.prepare_gDNA_sequence(target_loc=target_loc, amplicon_size_range=amplicon_size_range, genome_seq=genome_seq, assay_name=assay_name, assay_type=assay_type)\n",
        "elif assay_type == 'qPCR primers':\n",
        "  # quantitative PCR \n",
        "  target_sequence, exon_junctions, gdna_pos, seq_parameters = AgamPrimer.prepare_cDNA_sequence(transcript=transcript, gff=ag3.geneset(), genome_seq=genome_seq, assay_name=assay_name)"
      ]
    },
    {
      "cell_type": "markdown",
      "id": "_aaCJGAXUCSx",
      "metadata": {
        "id": "_aaCJGAXUCSx"
      },
      "source": [
        "Now we have our target sequence. Lets take a look..."
      ]
    },
    {
      "cell_type": "code",
      "execution_count": null,
      "id": "nDaWXq7f9hyA",
      "metadata": {
        "id": "nDaWXq7f9hyA"
      },
      "outputs": [],
      "source": [
        "target_sequence"
      ]
    },
    {
      "cell_type": "markdown",
      "id": "38fe2530",
      "metadata": {
        "id": "38fe2530"
      },
      "source": [
        "We need to set up some python dictionaries containing our sequence and primer parameters, this will be our input to primer3. In the below cell, you can modify or add primer3 parameters, such as optimal TM, GC content etc etc. A full list of possible parameters and their functions can be found in the [primer3 manual](https://primer3.org/manual.html)."
      ]
    },
    {
      "cell_type": "code",
      "execution_count": null,
      "id": "622ac6d9",
      "metadata": {
        "id": "622ac6d9"
      },
      "outputs": [],
      "source": [
        "primer_parameters  =  {\n",
        "        'PRIMER_NUM_RETURN':n_primer_pairs,\n",
        "        'PRIMER_OPT_SIZE': 20,\n",
        "        'PRIMER_TASK':'generic',\n",
        "        'PRIMER_MIN_SIZE': 17,\n",
        "        'PRIMER_MAX_SIZE': 24,\n",
        "        'PRIMER_OPT_TM': 60.0,\n",
        "        'PRIMER_MIN_TM': 57.0,\n",
        "        'PRIMER_MAX_TM': 63.0,\n",
        "        'PRIMER_MIN_GC': 30.0,\n",
        "        'PRIMER_MAX_GC': 75.0,\n",
        "        'PRIMER_PRODUCT_SIZE_RANGE': amplicon_size_range,\n",
        "        'PRIMER_MIN_THREE_PRIME_DISTANCE':3,          # this parameter is the minimum distance between successive pairs. If 1, it means successive primer pairs could be identical bar one base shift\n",
        "        'PRIMER_INTERNAL_OPT_SIZE': 16,               # Probe size preferences if selected, otherwise ignored\n",
        "        'PRIMER_INTERNAL_MIN_SIZE': 10,\n",
        "        'PRIMER_INTERNAL_MAX_SIZE': 22,\n",
        "        'PRIMER_INTERNAL_MIN_TM': 45,\n",
        "        'PRIMER_INTERNAL_MAX_TM':65,                # Probe considerations are quite relaxed, assumed that LNAs will be used later to affect TM\n",
        "        # Extra primer3 parameters can go here\n",
        "        # In the same format as above                       \n",
        "    }\n",
        "\n",
        "primer_parameters = AgamPrimer.primer_params(primer_parameters, assay_type) ## adds some parameters depending on assay type"
      ]
    },
    {
      "cell_type": "markdown",
      "id": "0819ba76",
      "metadata": {
        "id": "0819ba76"
      },
      "source": [
        "#### **Run the primer3 algorithm!**"
      ]
    },
    {
      "cell_type": "code",
      "execution_count": null,
      "id": "ae6e7525",
      "metadata": {
        "id": "ae6e7525",
        "scrolled": false
      },
      "outputs": [],
      "source": [
        "primer_dict = primer3.designPrimers(seq_args=seq_parameters, global_args=primer_parameters)"
      ]
    },
    {
      "cell_type": "markdown",
      "id": "56945ca6",
      "metadata": {
        "id": "56945ca6"
      },
      "source": [
        "It should be *fast*. The output, which we call 'primer_dict', is a python dictionary containing the full results from primer3. We will turn this into a pandas dataframe (i.e a useful, pretty table), containing just the necessary bits of information. First, we'll print some information from the primer3 run."
      ]
    },
    {
      "cell_type": "code",
      "execution_count": null,
      "id": "1bb40846",
      "metadata": {
        "id": "1bb40846"
      },
      "outputs": [],
      "source": [
        "AgamPrimer.primer3_run_statistics(primer_dict, assay_type)"
      ]
    },
    {
      "cell_type": "markdown",
      "id": "CbVMwOdCrNMf",
      "metadata": {
        "id": "CbVMwOdCrNMf"
      },
      "source": [
        "Now lets wrangle this into an easy to look at table."
      ]
    },
    {
      "cell_type": "code",
      "execution_count": null,
      "id": "bf8c5970",
      "metadata": {
        "id": "bf8c5970"
      },
      "outputs": [],
      "source": [
        "primer_df = AgamPrimer.primer3_to_pandas(primer_dict, assay_type)\n",
        "primer_df"
      ]
    },
    {
      "cell_type": "markdown",
      "id": "Lf0CeEVrtaxP",
      "metadata": {
        "id": "Lf0CeEVrtaxP"
      },
      "source": [
        "\n",
        "We can write this to .tsv and excel files, which can be explored in other editors. To download a file from colab to your local computer, click the folder panel on the left-hand sidebar, the three dots next your primers.tsv/.xlsx file, and download."
      ]
    },
    {
      "cell_type": "code",
      "execution_count": null,
      "id": "09eQYSeT7lHG",
      "metadata": {
        "id": "09eQYSeT7lHG"
      },
      "outputs": [],
      "source": [
        "primer_df.to_csv(f\"{assay_name}.{assay_type}.primers.tsv\", sep=\"\\t\")\n",
        "primer_df.to_excel(f\"{assay_name}.{assay_type}.primers.xlsx\")"
      ]
    },
    {
      "cell_type": "markdown",
      "id": "b4a9776c",
      "metadata": {
        "id": "b4a9776c"
      },
      "source": [
        "##**Looking for variation using the ag1000g resource and malariagen API**\n",
        "\n",
        "In Ag3, samples are organised into sample sets. We can load any sample set from the Ag3 resource, but there are quite a few! Lets look at what each sample set contains, breaking it down by species, year and country. "
      ]
    },
    {
      "cell_type": "code",
      "execution_count": null,
      "id": "61286685",
      "metadata": {
        "id": "61286685"
      },
      "outputs": [],
      "source": [
        "metadata = ag3.sample_metadata()"
      ]
    },
    {
      "cell_type": "code",
      "execution_count": null,
      "id": "iSTRbVpxD3oy",
      "metadata": {
        "id": "iSTRbVpxD3oy"
      },
      "outputs": [],
      "source": [
        "pivot_country_year_taxon = (\n",
        "    metadata\n",
        "    .pivot_table(\n",
        "        index=[\"sample_set\", \"year\", \"country\"], \n",
        "        columns=[\"taxon\"], \n",
        "        values=\"sample_id\",\n",
        "        aggfunc=\"count\",\n",
        "        fill_value=0\n",
        "    )\n",
        ")\n",
        "\n",
        "pivot_country_year_taxon"
      ]
    },
    {
      "cell_type": "markdown",
      "id": "BLwvXBT28NYE",
      "metadata": {
        "id": "BLwvXBT28NYE"
      },
      "source": [
        "Here, we can see the breakdown by sample set for country, species and year. For the purposes of this notebook, let's use the Ghana sample set. If we wanted to use all sample sets, we could supply '3.0' instead of a sample set, which will load all samples from the ag3.0 release."
      ]
    },
    {
      "cell_type": "code",
      "execution_count": null,
      "id": "49ca7f2b",
      "metadata": {
        "id": "49ca7f2b"
      },
      "outputs": [],
      "source": [
        "sample_set = 'AG1000G-GH'          # sample_set = '3.0' .you can also supply lists with multiple sample sets e.g ['AG1000G-GH', 'AG1000G-CI', 'AG1000G-BF-A]\n",
        "sample_query = None # \"aim_species == 'gambiae'\"                # here we can subset to specific values in the metadata e.g :     \"aim_species == 'gambiae'\" , or \"aim_species == 'arabiensis'\"          "
      ]
    },
    {
      "cell_type": "markdown",
      "id": "67coxQKoo82x",
      "metadata": {
        "id": "67coxQKoo82x"
      },
      "source": [
        "### **Plot allele frequencies in primers locations**\n",
        "\n",
        "Now we can plot the primers pairs, and the frequency of any alternate alleles in the Ag1000g sample set of choice. When calculating allele frequencies, we will take the sum of all alternate alleles, as we are interested here in any mutations which are different from the reference genome. \n",
        "\n",
        "We will also plot the primer Tm, GC and genomic spans of each primer binding site. We can use this plot to identify primers pairs and probes which may be suitable, particularly trying to avoid SNPs in the 3' end. "
      ]
    },
    {
      "cell_type": "code",
      "execution_count": null,
      "id": "shXKBpG49LSU",
      "metadata": {
        "id": "shXKBpG49LSU"
      },
      "outputs": [],
      "source": [
        "results_dict = AgamPrimer.plot_primer_ag3_frequencies(primer_df=primer_df,\n",
        "                                                gdna_pos=gdna_pos,\n",
        "                                                contig=contig,\n",
        "                                                sample_set=sample_set, \n",
        "                                                sample_query=sample_query,\n",
        "                                                assay_type=assay_type,\n",
        "                                                seq_parameters=seq_parameters,\n",
        "                                                save=True)"
      ]
    },
    {
      "cell_type": "markdown",
      "id": "aCVuE1CiAR4h",
      "metadata": {
        "id": "aCVuE1CiAR4h"
      },
      "source": [
        "Now lets plot these primer pairs across the genome, highlighting where they are in relation to any nearby exons..."
      ]
    },
    {
      "cell_type": "code",
      "execution_count": null,
      "id": "cAacbw-q8Sgm",
      "metadata": {
        "id": "cAacbw-q8Sgm"
      },
      "outputs": [],
      "source": [
        "AgamPrimer.plot_primer_locs(primer_res_dict=results_dict, assay_type=assay_type, gff=ag3.geneset(), contig=contig, seq_parameters=seq_parameters, n_primer_pairs=n_primer_pairs, legend_loc='lower left')"
      ]
    },
    {
      "cell_type": "code",
      "execution_count": null,
      "id": "0JA92ApBcxLo",
      "metadata": {
        "id": "0JA92ApBcxLo"
      },
      "outputs": [],
      "source": [
        "primer_df"
      ]
    },
    {
      "cell_type": "markdown",
      "id": "g4r9sQectXxx",
      "metadata": {
        "id": "g4r9sQectXxx"
      },
      "source": [
        "####**We may now have designed suitable primers. However, there are some further considerations...**\n",
        "\n",
        "\n",
        "- Primers **must** be run in [**NCBI Blast**](https://blast.ncbi.nlm.nih.gov/Blast.cgi), to ensure specificity against the host organism, and specificity for the genomic location of interest. I would recommend both doing a general blast and also specifically against *An. gambiae* (TaxonID = 7165).\n",
        "\n",
        "- If in multiplexed use with other primers or probes, primers must not interact with each other. This can be investigated on a one by one basis using the IDT tool [oligoanalyzer](https://eu.idtdna.com/calc/analyzer), though higher throughput algorithms may be required.\n",
        "\n",
        "- If designing Locked Nucleic Acid (LNA) probes for SNP detection, you will want to play around with the placement of LNAs in the oligo sequence, which can allow short probes (~10-14 bases) to bind with high affinity and discriminate between SNPs. IDT have a tool for this which allow you to check the binding affinity between mismatches, though it requires a log in https://eu.idtdna.com/calc/analyzer/lna. \n",
        "\n",
        "- Many more considerations.... [IDT - How to design primers and probes for PCR and qPCR](https://eu.idtdna.com/pages/education/decoded/article/designing-pcr-primers-and-probes)   \n",
        "\n",
        "\\\n",
        "  \n",
        "\n",
        "####**Future development**\n",
        "\n",
        "Any contributions or suggestions on how we can improve this notebook are more than welcome. Please [email](mailto:sanjay.nagi@lstmed.ac.uk) or log an [issue on github](https://github.com/sanjaynagi/primerDesignAg/issues). This notebook and source code for AgamPrimer are located here - https://github.com/sanjaynagi/AgamPrimer/    \n",
        "\n",
        "\\\n",
        "####**References**\n",
        "\n",
        "The Anopheles gambiae 1000 Genomes Consortium (2020). **Genome variation and population structure among 1142 mosquitoes of the African malaria vector species *Anopheles gambiae* and *Anopheles coluzzii***. *Genome Research*, **30**: 1533-1546. \n",
        "https://genome.cshlp.org/content/early/2020/09/25/gr.262790.120\n",
        "\n",
        "Untergasser A, Cutcutache I, Koressaar T, Ye J, Faircloth BC, Remm M and Rozen SG (2012). **Primer3--new capabilities and interfaces**. *Nucleic Acids Research*. 40(15):e115."
      ]
    }
  ],
  "metadata": {
    "colab": {
      "name": "Primer Design in Anopheles gambiae.ipynb",
      "provenance": [],
      "include_colab_link": true
    },
    "kernelspec": {
      "display_name": "Python 3 (ipykernel)",
      "language": "python",
      "name": "python3"
    },
    "language_info": {
      "codemirror_mode": {
        "name": "ipython",
        "version": 3
      },
      "file_extension": ".py",
      "mimetype": "text/x-python",
      "name": "python",
      "nbconvert_exporter": "python",
      "pygments_lexer": "ipython3",
      "version": "3.7.12"
    }
  },
  "nbformat": 4,
  "nbformat_minor": 5
}