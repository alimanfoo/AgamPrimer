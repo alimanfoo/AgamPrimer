{
  "cells": [
    {
      "cell_type": "markdown",
      "metadata": {
        "colab_type": "text",
        "id": "view-in-github"
      },
      "source": [
        "<a href=\"https://colab.research.google.com/github/sanjaynagi/AgamPrimer/blob/main/Primer-Design-in-Anopheles-gambiae.ipynb\" target=\"_parent\"><img src=\"https://colab.research.google.com/assets/colab-badge.svg\" alt=\"Open In Colab\"/></a>"
      ]
    },
    {
      "cell_type": "code",
      "execution_count": null,
      "id": "AM9EeHef6tAD",
      "metadata": {
        "id": "AM9EeHef6tAD"
      },
      "outputs": [],
      "source": [
        "# First, install some packages we require\n",
        "!pip install AgamPrimer==0.5.1 primer3-py malariagen_data kaleido gget -q "
      ]
    },
    {
      "cell_type": "code",
      "execution_count": 1,
      "id": "528ae85d",
      "metadata": {
        "id": "528ae85d"
      },
      "outputs": [
        {
          "data": {
            "application/javascript": "\n(function(root) {\n  function now() {\n    return new Date();\n  }\n\n  const force = true;\n\n  if (typeof root._bokeh_onload_callbacks === \"undefined\" || force === true) {\n    root._bokeh_onload_callbacks = [];\n    root._bokeh_is_loading = undefined;\n  }\n\n  const JS_MIME_TYPE = 'application/javascript';\n  const HTML_MIME_TYPE = 'text/html';\n  const EXEC_MIME_TYPE = 'application/vnd.bokehjs_exec.v0+json';\n  const CLASS_NAME = 'output_bokeh rendered_html';\n\n  /**\n   * Render data to the DOM node\n   */\n  function render(props, node) {\n    const script = document.createElement(\"script\");\n    node.appendChild(script);\n  }\n\n  /**\n   * Handle when an output is cleared or removed\n   */\n  function handleClearOutput(event, handle) {\n    const cell = handle.cell;\n\n    const id = cell.output_area._bokeh_element_id;\n    const server_id = cell.output_area._bokeh_server_id;\n    // Clean up Bokeh references\n    if (id != null && id in Bokeh.index) {\n      Bokeh.index[id].model.document.clear();\n      delete Bokeh.index[id];\n    }\n\n    if (server_id !== undefined) {\n      // Clean up Bokeh references\n      const cmd_clean = \"from bokeh.io.state import curstate; print(curstate().uuid_to_server['\" + server_id + \"'].get_sessions()[0].document.roots[0]._id)\";\n      cell.notebook.kernel.execute(cmd_clean, {\n        iopub: {\n          output: function(msg) {\n            const id = msg.content.text.trim();\n            if (id in Bokeh.index) {\n              Bokeh.index[id].model.document.clear();\n              delete Bokeh.index[id];\n            }\n          }\n        }\n      });\n      // Destroy server and session\n      const cmd_destroy = \"import bokeh.io.notebook as ion; ion.destroy_server('\" + server_id + \"')\";\n      cell.notebook.kernel.execute(cmd_destroy);\n    }\n  }\n\n  /**\n   * Handle when a new output is added\n   */\n  function handleAddOutput(event, handle) {\n    const output_area = handle.output_area;\n    const output = handle.output;\n\n    // limit handleAddOutput to display_data with EXEC_MIME_TYPE content only\n    if ((output.output_type != \"display_data\") || (!Object.prototype.hasOwnProperty.call(output.data, EXEC_MIME_TYPE))) {\n      return\n    }\n\n    const toinsert = output_area.element.find(\".\" + CLASS_NAME.split(' ')[0]);\n\n    if (output.metadata[EXEC_MIME_TYPE][\"id\"] !== undefined) {\n      toinsert[toinsert.length - 1].firstChild.textContent = output.data[JS_MIME_TYPE];\n      // store reference to embed id on output_area\n      output_area._bokeh_element_id = output.metadata[EXEC_MIME_TYPE][\"id\"];\n    }\n    if (output.metadata[EXEC_MIME_TYPE][\"server_id\"] !== undefined) {\n      const bk_div = document.createElement(\"div\");\n      bk_div.innerHTML = output.data[HTML_MIME_TYPE];\n      const script_attrs = bk_div.children[0].attributes;\n      for (let i = 0; i < script_attrs.length; i++) {\n        toinsert[toinsert.length - 1].firstChild.setAttribute(script_attrs[i].name, script_attrs[i].value);\n        toinsert[toinsert.length - 1].firstChild.textContent = bk_div.children[0].textContent\n      }\n      // store reference to server id on output_area\n      output_area._bokeh_server_id = output.metadata[EXEC_MIME_TYPE][\"server_id\"];\n    }\n  }\n\n  function register_renderer(events, OutputArea) {\n\n    function append_mime(data, metadata, element) {\n      // create a DOM node to render to\n      const toinsert = this.create_output_subarea(\n        metadata,\n        CLASS_NAME,\n        EXEC_MIME_TYPE\n      );\n      this.keyboard_manager.register_events(toinsert);\n      // Render to node\n      const props = {data: data, metadata: metadata[EXEC_MIME_TYPE]};\n      render(props, toinsert[toinsert.length - 1]);\n      element.append(toinsert);\n      return toinsert\n    }\n\n    /* Handle when an output is cleared or removed */\n    events.on('clear_output.CodeCell', handleClearOutput);\n    events.on('delete.Cell', handleClearOutput);\n\n    /* Handle when a new output is added */\n    events.on('output_added.OutputArea', handleAddOutput);\n\n    /**\n     * Register the mime type and append_mime function with output_area\n     */\n    OutputArea.prototype.register_mime_type(EXEC_MIME_TYPE, append_mime, {\n      /* Is output safe? */\n      safe: true,\n      /* Index of renderer in `output_area.display_order` */\n      index: 0\n    });\n  }\n\n  // register the mime type if in Jupyter Notebook environment and previously unregistered\n  if (root.Jupyter !== undefined) {\n    const events = require('base/js/events');\n    const OutputArea = require('notebook/js/outputarea').OutputArea;\n\n    if (OutputArea.prototype.mime_types().indexOf(EXEC_MIME_TYPE) == -1) {\n      register_renderer(events, OutputArea);\n    }\n  }\n\n  \n  if (typeof (root._bokeh_timeout) === \"undefined\" || force === true) {\n    root._bokeh_timeout = Date.now() + 5000;\n    root._bokeh_failed_load = false;\n  }\n\n  const NB_LOAD_WARNING = {'data': {'text/html':\n     \"<div style='background-color: #fdd'>\\n\"+\n     \"<p>\\n\"+\n     \"BokehJS does not appear to have successfully loaded. If loading BokehJS from CDN, this \\n\"+\n     \"may be due to a slow or bad network connection. Possible fixes:\\n\"+\n     \"</p>\\n\"+\n     \"<ul>\\n\"+\n     \"<li>re-rerun `output_notebook()` to attempt to load from CDN again, or</li>\\n\"+\n     \"<li>use INLINE resources instead, as so:</li>\\n\"+\n     \"</ul>\\n\"+\n     \"<code>\\n\"+\n     \"from bokeh.resources import INLINE\\n\"+\n     \"output_notebook(resources=INLINE)\\n\"+\n     \"</code>\\n\"+\n     \"</div>\"}};\n\n  function display_loaded() {\n    const el = document.getElementById(null);\n    if (el != null) {\n      el.textContent = \"BokehJS is loading...\";\n    }\n    if (root.Bokeh !== undefined) {\n      if (el != null) {\n        el.textContent = \"BokehJS \" + root.Bokeh.version + \" successfully loaded.\";\n      }\n    } else if (Date.now() < root._bokeh_timeout) {\n      setTimeout(display_loaded, 100)\n    }\n  }\n\n\n  function run_callbacks() {\n    try {\n      root._bokeh_onload_callbacks.forEach(function(callback) {\n        if (callback != null)\n          callback();\n      });\n    } finally {\n      delete root._bokeh_onload_callbacks\n    }\n    console.debug(\"Bokeh: all callbacks have finished\");\n  }\n\n  function load_libs(css_urls, js_urls, callback) {\n    if (css_urls == null) css_urls = [];\n    if (js_urls == null) js_urls = [];\n\n    root._bokeh_onload_callbacks.push(callback);\n    if (root._bokeh_is_loading > 0) {\n      console.debug(\"Bokeh: BokehJS is being loaded, scheduling callback at\", now());\n      return null;\n    }\n    if (js_urls == null || js_urls.length === 0) {\n      run_callbacks();\n      return null;\n    }\n    console.debug(\"Bokeh: BokehJS not loaded, scheduling load and callback at\", now());\n    root._bokeh_is_loading = css_urls.length + js_urls.length;\n\n    function on_load() {\n      root._bokeh_is_loading--;\n      if (root._bokeh_is_loading === 0) {\n        console.debug(\"Bokeh: all BokehJS libraries/stylesheets loaded\");\n        run_callbacks()\n      }\n    }\n\n    function on_error(url) {\n      console.error(\"failed to load \" + url);\n    }\n\n    for (let i = 0; i < css_urls.length; i++) {\n      const url = css_urls[i];\n      const element = document.createElement(\"link\");\n      element.onload = on_load;\n      element.onerror = on_error.bind(null, url);\n      element.rel = \"stylesheet\";\n      element.type = \"text/css\";\n      element.href = url;\n      console.debug(\"Bokeh: injecting link tag for BokehJS stylesheet: \", url);\n      document.body.appendChild(element);\n    }\n\n    for (let i = 0; i < js_urls.length; i++) {\n      const url = js_urls[i];\n      const element = document.createElement('script');\n      element.onload = on_load;\n      element.onerror = on_error.bind(null, url);\n      element.async = false;\n      element.src = url;\n      console.debug(\"Bokeh: injecting script tag for BokehJS library: \", url);\n      document.head.appendChild(element);\n    }\n  };\n\n  function inject_raw_css(css) {\n    const element = document.createElement(\"style\");\n    element.appendChild(document.createTextNode(css));\n    document.body.appendChild(element);\n  }\n\n  \n  const js_urls = [\"https://cdn.bokeh.org/bokeh/release/bokeh-2.4.2.min.js\", \"https://cdn.bokeh.org/bokeh/release/bokeh-gl-2.4.2.min.js\", \"https://cdn.bokeh.org/bokeh/release/bokeh-widgets-2.4.2.min.js\", \"https://cdn.bokeh.org/bokeh/release/bokeh-tables-2.4.2.min.js\", \"https://cdn.bokeh.org/bokeh/release/bokeh-mathjax-2.4.2.min.js\"];\n  const css_urls = [];\n  \n\n  const inline_js = [\n    function(Bokeh) {\n      Bokeh.set_log_level(\"info\");\n    },\n    function(Bokeh) {\n    \n    \n    }\n  ];\n\n  function run_inline_js() {\n    \n    if (root.Bokeh !== undefined || force === true) {\n      \n    for (let i = 0; i < inline_js.length; i++) {\n      inline_js[i].call(root, root.Bokeh);\n    }\n    } else if (Date.now() < root._bokeh_timeout) {\n      setTimeout(run_inline_js, 100);\n    } else if (!root._bokeh_failed_load) {\n      console.log(\"Bokeh: BokehJS failed to load within specified timeout.\");\n      root._bokeh_failed_load = true;\n    } else if (force !== true) {\n      const cell = $(document.getElementById(null)).parents('.cell').data().cell;\n      cell.output_area.append_execute_result(NB_LOAD_WARNING)\n    }\n\n  }\n\n  if (root._bokeh_is_loading === 0) {\n    console.debug(\"Bokeh: BokehJS loaded, going straight to plotting\");\n    run_inline_js();\n  } else {\n    load_libs(css_urls, js_urls, function() {\n      console.debug(\"Bokeh: BokehJS plotting callback run at\", now());\n      run_inline_js();\n    });\n  }\n}(window));",
            "application/vnd.bokehjs_load.v0+json": ""
          },
          "metadata": {},
          "output_type": "display_data"
        }
      ],
      "source": [
        "# Import libraries \n",
        "import AgamPrimer\n",
        "import pandas as pd\n",
        "import malariagen_data\n",
        "import numpy as np\n",
        "import primer3\n",
        "import matplotlib.pyplot as plt\n",
        "import gget"
      ]
    },
    {
      "cell_type": "markdown",
      "id": "47bde61a",
      "metadata": {
        "id": "47bde61a"
      },
      "source": [
        "##**AgamPrimer: Primer design considering genetic variation in *Anopheles gambiae***\n",
        "**Author**: [Sanjay Curtis Nagi](https://sanjaynagi.github.io/)    \n",
        "**Email**: sanjay.nagi@lstmed.ac.uk  \n",
        "\n",
        "Often, we would like to design primers for PCR applications, such as genotyping (PCR, TaqMan, LNA) or gene expression qPCR (SYBR, TaqMan, LNA). However, single nucleotide polymorphisms (SNPs) in primer binding sites can result in differences or failures in PCR amplification, referred to as null alleles. \n",
        "\n",
        "In general, mismatches caused by SNPs are more of a problem as you move towards the 3' end. I recommend reading a really good article on this topic on the IDT website - [Consider SNPs when designing PCR and qPCR assays](https://eu.idtdna.com/pages/education/decoded/article/considering-snps-when-designing-pcr-and-qpcr-assays). In *An. gambiae s.l*, there is a [huge amount of genetic variation](https://genome.cshlp.org/content/30/10/1533.full); a SNP found approximately every 1.9 bases (!), which makes considering SNPs even more important when designing molecular assays. Thanks to primer3-py and the fantastic malariagen_data package, we can do all of this in the cloud, hosted by google!  \n",
        "\n",
        "\\\n",
        "\n",
        "####**Google Colab**\n",
        "\n",
        "If you are unfamiliar with iPython notebooks and google colab, I encourage you to read the [FAQ](https://research.google.com/colaboratory/faq.html) and watch the following [introduction](https://www.youtube.com/watch?v=inN8seMm7UI). In general, the cells contain python code, and can be run by pressing the play button next to each cell, and should be run in order.\n",
        "\n",
        "You may want to save a copy of the notebook into your google drive (`file -> save a copy in Drive`)."
      ]
    },
    {
      "cell_type": "code",
      "execution_count": 15,
      "id": "SV03ewwc9de8",
      "metadata": {
        "cellView": "form",
        "id": "SV03ewwc9de8",
        "tags": [
          "parameters"
        ]
      },
      "outputs": [],
      "source": [
        "#@title **Selecting Primer Parameters** { run: \"auto\" }\n",
        "#@markdown In the below cells, replace the values with those desired for your primers.\n",
        "\n",
        "assay_type = 'qPCR primers'           #@param [\"gDNA primers\", \"gDNA primers + probe\", \"probe\", \"qPCR primers\"]\n",
        "assay_name = 'coeae2f'        #@param {type:\"string\"}\n",
        "min_amplicon_size = 60        #@param {type:\"integer\"}\n",
        "max_amplicon_size = 120      #@param {type:\"integer\"}\n",
        "amplicon_size_range = [[min_amplicon_size, max_amplicon_size]]\n",
        "n_primer_pairs = 6            #@param {type:\"slider\", min:1, max:20, step:1}\n",
        "\n",
        "#@markdown    \n",
        "#@markdown target_loc is required for gDNA primers and probes, and transcript required for qPCR primers.\n",
        "contig =  \"2L\"                #@param ['2L', '2R', '3L', '3R', 'X']\n",
        "\n",
        "target_loc =  '2422652'                #@param {type:\"string\"}\n",
        "target_loc = int(target_loc)\n",
        "transcript =  'AGAP006228-RA'         #@param {type:\"string\"} \n",
        "\n",
        "\n",
        "if any(item in assay_type for item in ['gDNA', 'probe']):\n",
        "  assert target_loc > 0, \"Target location must be above 0 and less than the contig length\"\n",
        "elif assay_type == 'qPCR primers':\n",
        "  assert len(transcript) > 2, \"Transcript ID is not valid, should be vectorbase ID such as 'AGAP004707-RD'\""
      ]
    },
    {
      "cell_type": "markdown",
      "id": "aa733775",
      "metadata": {
        "id": "aa733775"
      },
      "source": [
        "Load sequence data for chromosomal arm of choice, using the [malariagen_data API](https://malariagen.github.io/vector-data/ag3/api.html):"
      ]
    },
    {
      "cell_type": "code",
      "execution_count": 16,
      "id": "5fa0be8d",
      "metadata": {
        "id": "5fa0be8d"
      },
      "outputs": [
        {
          "data": {
            "application/javascript": "\n(function(root) {\n  function now() {\n    return new Date();\n  }\n\n  const force = true;\n\n  if (typeof root._bokeh_onload_callbacks === \"undefined\" || force === true) {\n    root._bokeh_onload_callbacks = [];\n    root._bokeh_is_loading = undefined;\n  }\n\n  const JS_MIME_TYPE = 'application/javascript';\n  const HTML_MIME_TYPE = 'text/html';\n  const EXEC_MIME_TYPE = 'application/vnd.bokehjs_exec.v0+json';\n  const CLASS_NAME = 'output_bokeh rendered_html';\n\n  /**\n   * Render data to the DOM node\n   */\n  function render(props, node) {\n    const script = document.createElement(\"script\");\n    node.appendChild(script);\n  }\n\n  /**\n   * Handle when an output is cleared or removed\n   */\n  function handleClearOutput(event, handle) {\n    const cell = handle.cell;\n\n    const id = cell.output_area._bokeh_element_id;\n    const server_id = cell.output_area._bokeh_server_id;\n    // Clean up Bokeh references\n    if (id != null && id in Bokeh.index) {\n      Bokeh.index[id].model.document.clear();\n      delete Bokeh.index[id];\n    }\n\n    if (server_id !== undefined) {\n      // Clean up Bokeh references\n      const cmd_clean = \"from bokeh.io.state import curstate; print(curstate().uuid_to_server['\" + server_id + \"'].get_sessions()[0].document.roots[0]._id)\";\n      cell.notebook.kernel.execute(cmd_clean, {\n        iopub: {\n          output: function(msg) {\n            const id = msg.content.text.trim();\n            if (id in Bokeh.index) {\n              Bokeh.index[id].model.document.clear();\n              delete Bokeh.index[id];\n            }\n          }\n        }\n      });\n      // Destroy server and session\n      const cmd_destroy = \"import bokeh.io.notebook as ion; ion.destroy_server('\" + server_id + \"')\";\n      cell.notebook.kernel.execute(cmd_destroy);\n    }\n  }\n\n  /**\n   * Handle when a new output is added\n   */\n  function handleAddOutput(event, handle) {\n    const output_area = handle.output_area;\n    const output = handle.output;\n\n    // limit handleAddOutput to display_data with EXEC_MIME_TYPE content only\n    if ((output.output_type != \"display_data\") || (!Object.prototype.hasOwnProperty.call(output.data, EXEC_MIME_TYPE))) {\n      return\n    }\n\n    const toinsert = output_area.element.find(\".\" + CLASS_NAME.split(' ')[0]);\n\n    if (output.metadata[EXEC_MIME_TYPE][\"id\"] !== undefined) {\n      toinsert[toinsert.length - 1].firstChild.textContent = output.data[JS_MIME_TYPE];\n      // store reference to embed id on output_area\n      output_area._bokeh_element_id = output.metadata[EXEC_MIME_TYPE][\"id\"];\n    }\n    if (output.metadata[EXEC_MIME_TYPE][\"server_id\"] !== undefined) {\n      const bk_div = document.createElement(\"div\");\n      bk_div.innerHTML = output.data[HTML_MIME_TYPE];\n      const script_attrs = bk_div.children[0].attributes;\n      for (let i = 0; i < script_attrs.length; i++) {\n        toinsert[toinsert.length - 1].firstChild.setAttribute(script_attrs[i].name, script_attrs[i].value);\n        toinsert[toinsert.length - 1].firstChild.textContent = bk_div.children[0].textContent\n      }\n      // store reference to server id on output_area\n      output_area._bokeh_server_id = output.metadata[EXEC_MIME_TYPE][\"server_id\"];\n    }\n  }\n\n  function register_renderer(events, OutputArea) {\n\n    function append_mime(data, metadata, element) {\n      // create a DOM node to render to\n      const toinsert = this.create_output_subarea(\n        metadata,\n        CLASS_NAME,\n        EXEC_MIME_TYPE\n      );\n      this.keyboard_manager.register_events(toinsert);\n      // Render to node\n      const props = {data: data, metadata: metadata[EXEC_MIME_TYPE]};\n      render(props, toinsert[toinsert.length - 1]);\n      element.append(toinsert);\n      return toinsert\n    }\n\n    /* Handle when an output is cleared or removed */\n    events.on('clear_output.CodeCell', handleClearOutput);\n    events.on('delete.Cell', handleClearOutput);\n\n    /* Handle when a new output is added */\n    events.on('output_added.OutputArea', handleAddOutput);\n\n    /**\n     * Register the mime type and append_mime function with output_area\n     */\n    OutputArea.prototype.register_mime_type(EXEC_MIME_TYPE, append_mime, {\n      /* Is output safe? */\n      safe: true,\n      /* Index of renderer in `output_area.display_order` */\n      index: 0\n    });\n  }\n\n  // register the mime type if in Jupyter Notebook environment and previously unregistered\n  if (root.Jupyter !== undefined) {\n    const events = require('base/js/events');\n    const OutputArea = require('notebook/js/outputarea').OutputArea;\n\n    if (OutputArea.prototype.mime_types().indexOf(EXEC_MIME_TYPE) == -1) {\n      register_renderer(events, OutputArea);\n    }\n  }\n\n  \n  if (typeof (root._bokeh_timeout) === \"undefined\" || force === true) {\n    root._bokeh_timeout = Date.now() + 5000;\n    root._bokeh_failed_load = false;\n  }\n\n  const NB_LOAD_WARNING = {'data': {'text/html':\n     \"<div style='background-color: #fdd'>\\n\"+\n     \"<p>\\n\"+\n     \"BokehJS does not appear to have successfully loaded. If loading BokehJS from CDN, this \\n\"+\n     \"may be due to a slow or bad network connection. Possible fixes:\\n\"+\n     \"</p>\\n\"+\n     \"<ul>\\n\"+\n     \"<li>re-rerun `output_notebook()` to attempt to load from CDN again, or</li>\\n\"+\n     \"<li>use INLINE resources instead, as so:</li>\\n\"+\n     \"</ul>\\n\"+\n     \"<code>\\n\"+\n     \"from bokeh.resources import INLINE\\n\"+\n     \"output_notebook(resources=INLINE)\\n\"+\n     \"</code>\\n\"+\n     \"</div>\"}};\n\n  function display_loaded() {\n    const el = document.getElementById(null);\n    if (el != null) {\n      el.textContent = \"BokehJS is loading...\";\n    }\n    if (root.Bokeh !== undefined) {\n      if (el != null) {\n        el.textContent = \"BokehJS \" + root.Bokeh.version + \" successfully loaded.\";\n      }\n    } else if (Date.now() < root._bokeh_timeout) {\n      setTimeout(display_loaded, 100)\n    }\n  }\n\n\n  function run_callbacks() {\n    try {\n      root._bokeh_onload_callbacks.forEach(function(callback) {\n        if (callback != null)\n          callback();\n      });\n    } finally {\n      delete root._bokeh_onload_callbacks\n    }\n    console.debug(\"Bokeh: all callbacks have finished\");\n  }\n\n  function load_libs(css_urls, js_urls, callback) {\n    if (css_urls == null) css_urls = [];\n    if (js_urls == null) js_urls = [];\n\n    root._bokeh_onload_callbacks.push(callback);\n    if (root._bokeh_is_loading > 0) {\n      console.debug(\"Bokeh: BokehJS is being loaded, scheduling callback at\", now());\n      return null;\n    }\n    if (js_urls == null || js_urls.length === 0) {\n      run_callbacks();\n      return null;\n    }\n    console.debug(\"Bokeh: BokehJS not loaded, scheduling load and callback at\", now());\n    root._bokeh_is_loading = css_urls.length + js_urls.length;\n\n    function on_load() {\n      root._bokeh_is_loading--;\n      if (root._bokeh_is_loading === 0) {\n        console.debug(\"Bokeh: all BokehJS libraries/stylesheets loaded\");\n        run_callbacks()\n      }\n    }\n\n    function on_error(url) {\n      console.error(\"failed to load \" + url);\n    }\n\n    for (let i = 0; i < css_urls.length; i++) {\n      const url = css_urls[i];\n      const element = document.createElement(\"link\");\n      element.onload = on_load;\n      element.onerror = on_error.bind(null, url);\n      element.rel = \"stylesheet\";\n      element.type = \"text/css\";\n      element.href = url;\n      console.debug(\"Bokeh: injecting link tag for BokehJS stylesheet: \", url);\n      document.body.appendChild(element);\n    }\n\n    for (let i = 0; i < js_urls.length; i++) {\n      const url = js_urls[i];\n      const element = document.createElement('script');\n      element.onload = on_load;\n      element.onerror = on_error.bind(null, url);\n      element.async = false;\n      element.src = url;\n      console.debug(\"Bokeh: injecting script tag for BokehJS library: \", url);\n      document.head.appendChild(element);\n    }\n  };\n\n  function inject_raw_css(css) {\n    const element = document.createElement(\"style\");\n    element.appendChild(document.createTextNode(css));\n    document.body.appendChild(element);\n  }\n\n  \n  const js_urls = [\"https://cdn.bokeh.org/bokeh/release/bokeh-2.4.2.min.js\", \"https://cdn.bokeh.org/bokeh/release/bokeh-gl-2.4.2.min.js\", \"https://cdn.bokeh.org/bokeh/release/bokeh-widgets-2.4.2.min.js\", \"https://cdn.bokeh.org/bokeh/release/bokeh-tables-2.4.2.min.js\", \"https://cdn.bokeh.org/bokeh/release/bokeh-mathjax-2.4.2.min.js\"];\n  const css_urls = [];\n  \n\n  const inline_js = [\n    function(Bokeh) {\n      Bokeh.set_log_level(\"info\");\n    },\n    function(Bokeh) {\n    \n    \n    }\n  ];\n\n  function run_inline_js() {\n    \n    if (root.Bokeh !== undefined || force === true) {\n      \n    for (let i = 0; i < inline_js.length; i++) {\n      inline_js[i].call(root, root.Bokeh);\n    }\n    } else if (Date.now() < root._bokeh_timeout) {\n      setTimeout(run_inline_js, 100);\n    } else if (!root._bokeh_failed_load) {\n      console.log(\"Bokeh: BokehJS failed to load within specified timeout.\");\n      root._bokeh_failed_load = true;\n    } else if (force !== true) {\n      const cell = $(document.getElementById(null)).parents('.cell').data().cell;\n      cell.output_area.append_execute_result(NB_LOAD_WARNING)\n    }\n\n  }\n\n  if (root._bokeh_is_loading === 0) {\n    console.debug(\"Bokeh: BokehJS loaded, going straight to plotting\");\n    run_inline_js();\n  } else {\n    load_libs(css_urls, js_urls, function() {\n      console.debug(\"Bokeh: BokehJS plotting callback run at\", now());\n      run_inline_js();\n    });\n  }\n}(window));",
            "application/vnd.bokehjs_load.v0+json": ""
          },
          "metadata": {},
          "output_type": "display_data"
        },
        {
          "name": "stdout",
          "output_type": "stream",
          "text": [
            "Our genome sequence for X is 24393108 bp long\n"
          ]
        }
      ],
      "source": [
        "# Connect to the malariagen_data ag3 API\n",
        "ag3 = malariagen_data.Ag3(url='gs://vo_agam_release/') #pre=True\n",
        "genome_seq = ag3.genome_sequence(region=contig)\n",
        "print(f\"Our genome sequence for {contig} is {genome_seq.shape[0]} bp long\")"
      ]
    },
    {
      "cell_type": "markdown",
      "id": "144a37ce",
      "metadata": {
        "id": "144a37ce"
      },
      "source": [
        "Now we need to extract the bit of sequence we need. We will use functions in the [AgamPrimer](https://pypi.org/project/AgamPrimer/) package."
      ]
    },
    {
      "cell_type": "code",
      "execution_count": 17,
      "id": "R0CkEd38VXGY",
      "metadata": {
        "id": "R0CkEd38VXGY"
      },
      "outputs": [
        {
          "name": "stdout",
          "output_type": "stream",
          "text": [
            "The target sequence is 419 bases long\n",
            "the target snp is 209 bp into our target sequence\n"
          ]
        }
      ],
      "source": [
        "if any(item in assay_type for item in ['gDNA', 'probe']):\n",
        "  # genomic DNA\n",
        "  target_sequence, gdna_pos, seq_parameters = AgamPrimer.prepare_gDNA_sequence(target_loc=target_loc, amplicon_size_range=amplicon_size_range, genome_seq=genome_seq, assay_name=assay_name, assay_type=assay_type)\n",
        "elif assay_type == 'qPCR primers':\n",
        "  # quantitative PCR \n",
        "  target_sequence, exon_junctions, gdna_pos, seq_parameters = AgamPrimer.prepare_cDNA_sequence(transcript=transcript, gff=ag3.geneset(), genome_seq=genome_seq, assay_name=assay_name)"
      ]
    },
    {
      "cell_type": "markdown",
      "id": "_aaCJGAXUCSx",
      "metadata": {
        "id": "_aaCJGAXUCSx"
      },
      "source": [
        "Now we have our target sequence. Lets take a look..."
      ]
    },
    {
      "cell_type": "code",
      "execution_count": 18,
      "id": "nDaWXq7f9hyA",
      "metadata": {
        "id": "nDaWXq7f9hyA"
      },
      "outputs": [
        {
          "data": {
            "text/plain": [
              "'CGGGAAACAGTGCTTGCCAGCGTTTGCTGGCGATGATTTATACTTATTTTTCGCTGCTCGTTTTGGGTGTATCTAACTCTTATGTCTTTTGTACTTTGGCGTACAGTAACACATCATTACAGCTGGCACGATAACTCACACACGCATACACGCTAAACTTCATCATTATGTCATGCTCATGTTTGTTAGCTACATGTGGGTTCCTTCCTTTGGCATTTTTTCGTTGTTCTTTTAAGTAATTAATGCACATttgttaggactataaacacagccgctgccgctaaatttggtatcttaggtatcaatttttgcctgtgaggcttcatcttttgactctaacgcatttttgactgtaagtcatcaattctagactctcgtaggtatcaTGATATATTTAAAAGGTTTTTGACGAGATTTAT'"
            ]
          },
          "execution_count": 18,
          "metadata": {},
          "output_type": "execute_result"
        }
      ],
      "source": [
        "target_sequence"
      ]
    },
    {
      "cell_type": "markdown",
      "id": "38fe2530",
      "metadata": {
        "id": "38fe2530"
      },
      "source": [
        "We need to set up some python dictionaries containing our sequence and primer parameters, this will be our input to primer3. In the below cell, you can modify or add primer3 parameters, such as optimal TM, GC content etc etc. A full list of possible parameters and their functions can be found in the [primer3 manual](https://primer3.org/manual.html)."
      ]
    },
    {
      "cell_type": "code",
      "execution_count": 19,
      "id": "622ac6d9",
      "metadata": {
        "id": "622ac6d9"
      },
      "outputs": [],
      "source": [
        "primer_parameters  =  {\n",
        "        'PRIMER_NUM_RETURN':n_primer_pairs,\n",
        "        'PRIMER_OPT_SIZE': 20,\n",
        "        'PRIMER_TASK':'generic',\n",
        "        'PRIMER_MIN_SIZE': 17,\n",
        "        'PRIMER_MAX_SIZE': 24,\n",
        "        'PRIMER_OPT_TM': 60.0,\n",
        "        'PRIMER_MIN_TM': 57.0,\n",
        "        'PRIMER_MAX_TM': 63.0,\n",
        "        'PRIMER_MIN_GC': 30.0,\n",
        "        'PRIMER_MAX_GC': 75.0,\n",
        "        'PRIMER_PRODUCT_SIZE_RANGE': amplicon_size_range,\n",
        "        'PRIMER_MIN_THREE_PRIME_DISTANCE':3,          # this parameter is the minimum distance between successive pairs. If 1, it means successive primer pairs could be identical bar one base shift\n",
        "        'PRIMER_INTERNAL_OPT_SIZE': 16,               # Probe size preferences if selected, otherwise ignored\n",
        "        'PRIMER_INTERNAL_MIN_SIZE': 10,\n",
        "        'PRIMER_INTERNAL_MAX_SIZE': 22,\n",
        "        'PRIMER_INTERNAL_MIN_TM': 45,\n",
        "        'PRIMER_INTERNAL_MAX_TM':65,                # Probe considerations are quite relaxed, assumed that LNAs will be used later to affect TM\n",
        "        # Extra primer3 parameters can go here\n",
        "        # In the same format as above                       \n",
        "    }\n",
        "\n",
        "primer_parameters = AgamPrimer.primer_params(primer_parameters, assay_type) ## adds some parameters depending on assay type"
      ]
    },
    {
      "cell_type": "markdown",
      "id": "0819ba76",
      "metadata": {
        "id": "0819ba76"
      },
      "source": [
        "#### **Run the primer3 algorithm!**"
      ]
    },
    {
      "cell_type": "code",
      "execution_count": 20,
      "id": "ae6e7525",
      "metadata": {
        "id": "ae6e7525",
        "scrolled": false
      },
      "outputs": [],
      "source": [
        "primer_dict = primer3.designPrimers(seq_args=seq_parameters, global_args=primer_parameters)"
      ]
    },
    {
      "cell_type": "markdown",
      "id": "56945ca6",
      "metadata": {
        "id": "56945ca6"
      },
      "source": [
        "It should be *fast*. The output, which we call 'primer_dict', is a python dictionary containing the full results from primer3. We will turn this into a pandas dataframe (i.e a useful, pretty table), containing just the necessary bits of information. First, we'll print some information from the primer3 run."
      ]
    },
    {
      "cell_type": "code",
      "execution_count": 21,
      "id": "1bb40846",
      "metadata": {
        "id": "1bb40846"
      },
      "outputs": [
        {
          "name": "stdout",
          "output_type": "stream",
          "text": [
            "primer_probe_explain  :  considered 548, overlap excluded region 400, low tm 99, long poly-x seq 5, ok 44 \n",
            "\n",
            "primer_forward_num_returned  :  0 \n",
            "\n",
            "primer_reverse_num_returned  :  0 \n",
            "\n",
            "primer_probe_num_returned  :  6 \n",
            "\n",
            "primer_pair_num_returned  :  0 \n",
            "\n"
          ]
        }
      ],
      "source": [
        "AgamPrimer.primer3_run_statistics(primer_dict, assay_type)"
      ]
    },
    {
      "cell_type": "markdown",
      "id": "CbVMwOdCrNMf",
      "metadata": {
        "id": "CbVMwOdCrNMf"
      },
      "source": [
        "Now lets wrangle this into an easy to look at table."
      ]
    },
    {
      "cell_type": "code",
      "execution_count": 22,
      "id": "bf8c5970",
      "metadata": {
        "id": "bf8c5970"
      },
      "outputs": [
        {
          "data": {
            "text/html": [
              "<div>\n",
              "<style scoped>\n",
              "    .dataframe tbody tr th:only-of-type {\n",
              "        vertical-align: middle;\n",
              "    }\n",
              "\n",
              "    .dataframe tbody tr th {\n",
              "        vertical-align: top;\n",
              "    }\n",
              "\n",
              "    .dataframe thead th {\n",
              "        text-align: right;\n",
              "    }\n",
              "</style>\n",
              "<table border=\"1\" class=\"dataframe\">\n",
              "  <thead>\n",
              "    <tr style=\"text-align: right;\">\n",
              "      <th>primer_pair</th>\n",
              "      <th>0</th>\n",
              "      <th>1</th>\n",
              "      <th>2</th>\n",
              "      <th>3</th>\n",
              "      <th>4</th>\n",
              "      <th>5</th>\n",
              "    </tr>\n",
              "    <tr>\n",
              "      <th>parameter</th>\n",
              "      <th></th>\n",
              "      <th></th>\n",
              "      <th></th>\n",
              "      <th></th>\n",
              "      <th></th>\n",
              "      <th></th>\n",
              "    </tr>\n",
              "  </thead>\n",
              "  <tbody>\n",
              "    <tr>\n",
              "      <th>primer_probe_sequence</th>\n",
              "      <td>TGTGGGTTCCTTCCTTTGGCA</td>\n",
              "      <td>GTGGGTTCCTTCCTTTGGCA</td>\n",
              "      <td>TGTGGGTTCCTTCCTTTGGC</td>\n",
              "      <td>TGTGGGTTCCTTCCTTTGGCAT</td>\n",
              "      <td>TGGGTTCCTTCCTTTGGCA</td>\n",
              "      <td>GTGGGTTCCTTCCTTTGGCAT</td>\n",
              "    </tr>\n",
              "    <tr>\n",
              "      <th>primer_probe_tm</th>\n",
              "      <td>56.12102</td>\n",
              "      <td>54.550878</td>\n",
              "      <td>54.550878</td>\n",
              "      <td>56.357826</td>\n",
              "      <td>53.094331</td>\n",
              "      <td>54.864863</td>\n",
              "    </tr>\n",
              "    <tr>\n",
              "      <th>primer_probe_gc_percent</th>\n",
              "      <td>52.380952</td>\n",
              "      <td>55.0</td>\n",
              "      <td>55.0</td>\n",
              "      <td>50.0</td>\n",
              "      <td>52.631579</td>\n",
              "      <td>52.380952</td>\n",
              "    </tr>\n",
              "    <tr>\n",
              "      <th>primer_probe</th>\n",
              "      <td>(194, 21)</td>\n",
              "      <td>(195, 20)</td>\n",
              "      <td>(194, 20)</td>\n",
              "      <td>(194, 22)</td>\n",
              "      <td>(196, 19)</td>\n",
              "      <td>(195, 21)</td>\n",
              "    </tr>\n",
              "  </tbody>\n",
              "</table>\n",
              "</div>"
            ],
            "text/plain": [
              "primer_pair                                  0                     1  \\\n",
              "parameter                                                              \n",
              "primer_probe_sequence    TGTGGGTTCCTTCCTTTGGCA  GTGGGTTCCTTCCTTTGGCA   \n",
              "primer_probe_tm                       56.12102             54.550878   \n",
              "primer_probe_gc_percent              52.380952                  55.0   \n",
              "primer_probe                         (194, 21)             (195, 20)   \n",
              "\n",
              "primer_pair                                 2                       3  \\\n",
              "parameter                                                               \n",
              "primer_probe_sequence    TGTGGGTTCCTTCCTTTGGC  TGTGGGTTCCTTCCTTTGGCAT   \n",
              "primer_probe_tm                     54.550878               56.357826   \n",
              "primer_probe_gc_percent                  55.0                    50.0   \n",
              "primer_probe                        (194, 20)               (194, 22)   \n",
              "\n",
              "primer_pair                                4                      5  \n",
              "parameter                                                            \n",
              "primer_probe_sequence    TGGGTTCCTTCCTTTGGCA  GTGGGTTCCTTCCTTTGGCAT  \n",
              "primer_probe_tm                    53.094331              54.864863  \n",
              "primer_probe_gc_percent            52.631579              52.380952  \n",
              "primer_probe                       (196, 19)              (195, 21)  "
            ]
          },
          "execution_count": 22,
          "metadata": {},
          "output_type": "execute_result"
        }
      ],
      "source": [
        "primer_df = AgamPrimer.primer3_to_pandas(primer_dict, assay_type)\n",
        "primer_df"
      ]
    },
    {
      "cell_type": "markdown",
      "id": "Lf0CeEVrtaxP",
      "metadata": {
        "id": "Lf0CeEVrtaxP"
      },
      "source": [
        "\n",
        "We can write this to .tsv and excel files, which can be explored in other editors. To download a file from colab to your local computer, click the folder panel on the left-hand sidebar, the three dots next your primers.tsv/.xlsx file, and download."
      ]
    },
    {
      "cell_type": "code",
      "execution_count": null,
      "id": "09eQYSeT7lHG",
      "metadata": {
        "id": "09eQYSeT7lHG"
      },
      "outputs": [],
      "source": [
        "primer_df.to_csv(f\"{assay_name}.{assay_type}.primers.tsv\", sep=\"\\t\")\n",
        "primer_df.to_excel(f\"{assay_name}.{assay_type}.primers.xlsx\")"
      ]
    },
    {
      "cell_type": "markdown",
      "id": "b4a9776c",
      "metadata": {
        "id": "b4a9776c"
      },
      "source": [
        "##**Looking for variation using the ag1000g resource and malariagen API**\n",
        "\n",
        "In Ag3, samples are organised into sample sets. We can load any sample set from the Ag3 resource, but there are quite a few! Lets look at what each sample set contains, breaking it down by species, year and country. "
      ]
    },
    {
      "cell_type": "code",
      "execution_count": null,
      "id": "61286685",
      "metadata": {
        "id": "61286685"
      },
      "outputs": [],
      "source": [
        "metadata = ag3.sample_metadata()"
      ]
    },
    {
      "cell_type": "code",
      "execution_count": null,
      "id": "iSTRbVpxD3oy",
      "metadata": {
        "id": "iSTRbVpxD3oy"
      },
      "outputs": [],
      "source": [
        "pivot_country_year_taxon = (\n",
        "    metadata\n",
        "    .pivot_table(\n",
        "        index=[\"sample_set\", \"year\", \"country\"], \n",
        "        columns=[\"taxon\"], \n",
        "        values=\"sample_id\",\n",
        "        aggfunc=\"count\",\n",
        "        fill_value=0\n",
        "    )\n",
        ")\n",
        "\n",
        "pivot_country_year_taxon"
      ]
    },
    {
      "cell_type": "markdown",
      "id": "BLwvXBT28NYE",
      "metadata": {
        "id": "BLwvXBT28NYE"
      },
      "source": [
        "Here, we can see the breakdown by sample set for country, species and year. For the purposes of this notebook, let's use the Ghana sample set. If we wanted to use all sample sets, we could supply '3.0' instead of a sample set, which will load all samples from the ag3.0 release."
      ]
    },
    {
      "cell_type": "code",
      "execution_count": 10,
      "id": "49ca7f2b",
      "metadata": {
        "id": "49ca7f2b"
      },
      "outputs": [],
      "source": [
        "sample_set = 'AG1000G-GH'          # sample_set = '3.0' .you can also supply lists with multiple sample sets e.g ['AG1000G-GH', 'AG1000G-CI', 'AG1000G-BF-A]\n",
        "sample_query = \"taxon == 'coluzzii'\"                # here we can subset to specific values in the metadata e.g :     \"taxon == 'gambiae'\" , or \"taxon == 'arabiensis'\"          "
      ]
    },
    {
      "cell_type": "markdown",
      "id": "67coxQKoo82x",
      "metadata": {
        "id": "67coxQKoo82x"
      },
      "source": [
        "### **Plot allele frequencies in primers locations**\n",
        "\n",
        "Now we can plot the primers pairs, and the frequency of any alternate alleles in the Ag1000g sample set of choice. When calculating allele frequencies, we will take the sum of all alternate alleles, as we are interested here in any mutations which are different from the reference genome. We can see the frequencies of specific alleles by hovering over the points of the plot - in some cases it may be preferable to design degenerate primers rather than avoid a primer pair completely.\n",
        "\n",
        "We will also plot the primer Tm, GC and genomic spans of each primer binding site. We can use this plot to identify primers pairs and probes which may be suitable, particularly trying to avoid SNPs in the 3' end. "
      ]
    },
    {
      "cell_type": "code",
      "execution_count": 23,
      "id": "shXKBpG49LSU",
      "metadata": {
        "id": "shXKBpG49LSU"
      },
      "outputs": [
        {
          "name": "stderr",
          "output_type": "stream",
          "text": [
            "Wed Sep  7 16:21:14 2022 DEBUG snp_calls: normalise parameters\n"
          ]
        },
        {
          "name": "stdout",
          "output_type": "stream",
          "text": [
            "Subsetting allele frequencies to taxon == 'coluzzii'\n"
          ]
        },
        {
          "name": "stderr",
          "output_type": "stream",
          "text": [
            "Wed Sep  7 16:21:14 2022 DEBUG snp_calls: access SNP calls and concatenate multiple sample sets and/or regions\n",
            "Wed Sep  7 16:21:14 2022 DEBUG _snp_calls_dataset: call arrays\n",
            "Wed Sep  7 16:21:14 2022 DEBUG _snp_calls_dataset: sample arrays\n",
            "Wed Sep  7 16:21:14 2022 DEBUG _snp_calls_dataset: create a dataset\n",
            "Wed Sep  7 16:21:14 2022 DEBUG snp_calls: concatenate data from multiple sample sets\n",
            "Wed Sep  7 16:21:14 2022 DEBUG snp_calls: add variants variables\n",
            "Wed Sep  7 16:21:14 2022 DEBUG _snp_variants_dataset: variant arrays\n",
            "Wed Sep  7 16:21:14 2022 DEBUG _snp_variants_dataset: variant_position\n",
            "Wed Sep  7 16:21:14 2022 DEBUG _snp_variants_dataset: variant_allele\n",
            "Wed Sep  7 16:21:14 2022 DEBUG _snp_variants_dataset: variant_contig\n",
            "Wed Sep  7 16:21:14 2022 DEBUG _snp_variants_dataset: site filters arrays\n",
            "Wed Sep  7 16:21:14 2022 DEBUG _snp_variants_dataset: set up attributes\n",
            "Wed Sep  7 16:21:14 2022 DEBUG _snp_variants_dataset: create a dataset\n",
            "Wed Sep  7 16:21:14 2022 DEBUG snp_calls: handle site class\n",
            "Wed Sep  7 16:21:14 2022 DEBUG snp_calls: handle region, do this only once - optimisation\n",
            "Wed Sep  7 16:21:16 2022 DEBUG snp_calls: concatenate data from multiple regions\n",
            "Wed Sep  7 16:21:16 2022 DEBUG snp_calls: apply site filters\n",
            "Wed Sep  7 16:21:16 2022 DEBUG snp_calls: add call_genotype_mask\n",
            "Wed Sep  7 16:21:16 2022 DEBUG snp_calls: handle sample query\n",
            "Wed Sep  7 16:21:16 2022 DEBUG snp_calls: handle cohort size\n",
            "Wed Sep  7 16:21:17 2022 DEBUG snp_calls: normalise parameters\n",
            "Wed Sep  7 16:21:17 2022 DEBUG snp_calls: access SNP calls and concatenate multiple sample sets and/or regions\n",
            "Wed Sep  7 16:21:17 2022 DEBUG _snp_calls_dataset: call arrays\n",
            "Wed Sep  7 16:21:17 2022 DEBUG _snp_calls_dataset: sample arrays\n",
            "Wed Sep  7 16:21:17 2022 DEBUG _snp_calls_dataset: create a dataset\n",
            "Wed Sep  7 16:21:17 2022 DEBUG snp_calls: concatenate data from multiple sample sets\n",
            "Wed Sep  7 16:21:17 2022 DEBUG snp_calls: add variants variables\n",
            "Wed Sep  7 16:21:17 2022 DEBUG _snp_variants_dataset: variant arrays\n",
            "Wed Sep  7 16:21:17 2022 DEBUG _snp_variants_dataset: variant_position\n",
            "Wed Sep  7 16:21:17 2022 DEBUG _snp_variants_dataset: variant_allele\n",
            "Wed Sep  7 16:21:17 2022 DEBUG _snp_variants_dataset: variant_contig\n",
            "Wed Sep  7 16:21:17 2022 DEBUG _snp_variants_dataset: site filters arrays\n",
            "Wed Sep  7 16:21:17 2022 DEBUG _snp_variants_dataset: set up attributes\n",
            "Wed Sep  7 16:21:17 2022 DEBUG _snp_variants_dataset: create a dataset\n",
            "Wed Sep  7 16:21:17 2022 DEBUG snp_calls: handle site class\n",
            "Wed Sep  7 16:21:17 2022 DEBUG snp_calls: handle region, do this only once - optimisation\n",
            "Wed Sep  7 16:21:20 2022 DEBUG snp_calls: concatenate data from multiple regions\n",
            "Wed Sep  7 16:21:20 2022 DEBUG snp_calls: apply site filters\n",
            "Wed Sep  7 16:21:20 2022 DEBUG snp_calls: add call_genotype_mask\n",
            "Wed Sep  7 16:21:20 2022 DEBUG snp_calls: handle sample query\n",
            "Wed Sep  7 16:21:20 2022 DEBUG snp_calls: handle cohort size\n",
            "Wed Sep  7 16:21:21 2022 DEBUG snp_calls: normalise parameters\n",
            "Wed Sep  7 16:21:21 2022 DEBUG snp_calls: access SNP calls and concatenate multiple sample sets and/or regions\n",
            "Wed Sep  7 16:21:21 2022 DEBUG _snp_calls_dataset: call arrays\n",
            "Wed Sep  7 16:21:21 2022 DEBUG _snp_calls_dataset: sample arrays\n",
            "Wed Sep  7 16:21:21 2022 DEBUG _snp_calls_dataset: create a dataset\n",
            "Wed Sep  7 16:21:21 2022 DEBUG snp_calls: concatenate data from multiple sample sets\n",
            "Wed Sep  7 16:21:21 2022 DEBUG snp_calls: add variants variables\n",
            "Wed Sep  7 16:21:21 2022 DEBUG _snp_variants_dataset: variant arrays\n",
            "Wed Sep  7 16:21:21 2022 DEBUG _snp_variants_dataset: variant_position\n",
            "Wed Sep  7 16:21:21 2022 DEBUG _snp_variants_dataset: variant_allele\n",
            "Wed Sep  7 16:21:21 2022 DEBUG _snp_variants_dataset: variant_contig\n",
            "Wed Sep  7 16:21:21 2022 DEBUG _snp_variants_dataset: site filters arrays\n",
            "Wed Sep  7 16:21:21 2022 DEBUG _snp_variants_dataset: set up attributes\n",
            "Wed Sep  7 16:21:21 2022 DEBUG _snp_variants_dataset: create a dataset\n",
            "Wed Sep  7 16:21:21 2022 DEBUG snp_calls: handle site class\n",
            "Wed Sep  7 16:21:21 2022 DEBUG snp_calls: handle region, do this only once - optimisation\n",
            "Wed Sep  7 16:21:23 2022 DEBUG snp_calls: concatenate data from multiple regions\n",
            "Wed Sep  7 16:21:23 2022 DEBUG snp_calls: apply site filters\n",
            "Wed Sep  7 16:21:23 2022 DEBUG snp_calls: add call_genotype_mask\n",
            "Wed Sep  7 16:21:23 2022 DEBUG snp_calls: handle sample query\n",
            "Wed Sep  7 16:21:23 2022 DEBUG snp_calls: handle cohort size\n",
            "Wed Sep  7 16:21:24 2022 DEBUG snp_calls: normalise parameters\n",
            "Wed Sep  7 16:21:24 2022 DEBUG snp_calls: access SNP calls and concatenate multiple sample sets and/or regions\n",
            "Wed Sep  7 16:21:24 2022 DEBUG _snp_calls_dataset: call arrays\n",
            "Wed Sep  7 16:21:24 2022 DEBUG _snp_calls_dataset: sample arrays\n",
            "Wed Sep  7 16:21:24 2022 DEBUG _snp_calls_dataset: create a dataset\n",
            "Wed Sep  7 16:21:24 2022 DEBUG snp_calls: concatenate data from multiple sample sets\n",
            "Wed Sep  7 16:21:24 2022 DEBUG snp_calls: add variants variables\n",
            "Wed Sep  7 16:21:24 2022 DEBUG _snp_variants_dataset: variant arrays\n",
            "Wed Sep  7 16:21:24 2022 DEBUG _snp_variants_dataset: variant_position\n",
            "Wed Sep  7 16:21:24 2022 DEBUG _snp_variants_dataset: variant_allele\n",
            "Wed Sep  7 16:21:24 2022 DEBUG _snp_variants_dataset: variant_contig\n",
            "Wed Sep  7 16:21:24 2022 DEBUG _snp_variants_dataset: site filters arrays\n",
            "Wed Sep  7 16:21:24 2022 DEBUG _snp_variants_dataset: set up attributes\n",
            "Wed Sep  7 16:21:24 2022 DEBUG _snp_variants_dataset: create a dataset\n",
            "Wed Sep  7 16:21:24 2022 DEBUG snp_calls: handle site class\n",
            "Wed Sep  7 16:21:24 2022 DEBUG snp_calls: handle region, do this only once - optimisation\n",
            "Wed Sep  7 16:21:25 2022 DEBUG snp_calls: concatenate data from multiple regions\n",
            "Wed Sep  7 16:21:25 2022 DEBUG snp_calls: apply site filters\n",
            "Wed Sep  7 16:21:25 2022 DEBUG snp_calls: add call_genotype_mask\n",
            "Wed Sep  7 16:21:25 2022 DEBUG snp_calls: handle sample query\n",
            "Wed Sep  7 16:21:25 2022 DEBUG snp_calls: handle cohort size\n",
            "Wed Sep  7 16:21:27 2022 DEBUG snp_calls: normalise parameters\n",
            "Wed Sep  7 16:21:27 2022 DEBUG snp_calls: access SNP calls and concatenate multiple sample sets and/or regions\n",
            "Wed Sep  7 16:21:27 2022 DEBUG _snp_calls_dataset: call arrays\n",
            "Wed Sep  7 16:21:28 2022 DEBUG _snp_calls_dataset: sample arrays\n",
            "Wed Sep  7 16:21:28 2022 DEBUG _snp_calls_dataset: create a dataset\n",
            "Wed Sep  7 16:21:28 2022 DEBUG snp_calls: concatenate data from multiple sample sets\n",
            "Wed Sep  7 16:21:28 2022 DEBUG snp_calls: add variants variables\n",
            "Wed Sep  7 16:21:28 2022 DEBUG _snp_variants_dataset: variant arrays\n",
            "Wed Sep  7 16:21:28 2022 DEBUG _snp_variants_dataset: variant_position\n",
            "Wed Sep  7 16:21:28 2022 DEBUG _snp_variants_dataset: variant_allele\n",
            "Wed Sep  7 16:21:28 2022 DEBUG _snp_variants_dataset: variant_contig\n",
            "Wed Sep  7 16:21:28 2022 DEBUG _snp_variants_dataset: site filters arrays\n",
            "Wed Sep  7 16:21:28 2022 DEBUG _snp_variants_dataset: set up attributes\n",
            "Wed Sep  7 16:21:28 2022 DEBUG _snp_variants_dataset: create a dataset\n",
            "Wed Sep  7 16:21:28 2022 DEBUG snp_calls: handle site class\n",
            "Wed Sep  7 16:21:28 2022 DEBUG snp_calls: handle region, do this only once - optimisation\n",
            "Wed Sep  7 16:21:29 2022 DEBUG snp_calls: concatenate data from multiple regions\n",
            "Wed Sep  7 16:21:29 2022 DEBUG snp_calls: apply site filters\n",
            "Wed Sep  7 16:21:29 2022 DEBUG snp_calls: add call_genotype_mask\n",
            "Wed Sep  7 16:21:29 2022 DEBUG snp_calls: handle sample query\n",
            "Wed Sep  7 16:21:29 2022 DEBUG snp_calls: handle cohort size\n",
            "Wed Sep  7 16:21:29 2022 DEBUG snp_calls: normalise parameters\n",
            "Wed Sep  7 16:21:29 2022 DEBUG snp_calls: access SNP calls and concatenate multiple sample sets and/or regions\n",
            "Wed Sep  7 16:21:29 2022 DEBUG _snp_calls_dataset: call arrays\n",
            "Wed Sep  7 16:21:29 2022 DEBUG _snp_calls_dataset: sample arrays\n",
            "Wed Sep  7 16:21:29 2022 DEBUG _snp_calls_dataset: create a dataset\n",
            "Wed Sep  7 16:21:29 2022 DEBUG snp_calls: concatenate data from multiple sample sets\n",
            "Wed Sep  7 16:21:29 2022 DEBUG snp_calls: add variants variables\n",
            "Wed Sep  7 16:21:29 2022 DEBUG _snp_variants_dataset: variant arrays\n",
            "Wed Sep  7 16:21:29 2022 DEBUG _snp_variants_dataset: variant_position\n",
            "Wed Sep  7 16:21:29 2022 DEBUG _snp_variants_dataset: variant_allele\n",
            "Wed Sep  7 16:21:29 2022 DEBUG _snp_variants_dataset: variant_contig\n",
            "Wed Sep  7 16:21:29 2022 DEBUG _snp_variants_dataset: site filters arrays\n",
            "Wed Sep  7 16:21:29 2022 DEBUG _snp_variants_dataset: set up attributes\n",
            "Wed Sep  7 16:21:29 2022 DEBUG _snp_variants_dataset: create a dataset\n",
            "Wed Sep  7 16:21:29 2022 DEBUG snp_calls: handle site class\n",
            "Wed Sep  7 16:21:29 2022 DEBUG snp_calls: handle region, do this only once - optimisation\n",
            "Wed Sep  7 16:21:30 2022 DEBUG snp_calls: concatenate data from multiple regions\n",
            "Wed Sep  7 16:21:30 2022 DEBUG snp_calls: apply site filters\n",
            "Wed Sep  7 16:21:30 2022 DEBUG snp_calls: add call_genotype_mask\n",
            "Wed Sep  7 16:21:30 2022 DEBUG snp_calls: handle sample query\n",
            "Wed Sep  7 16:21:30 2022 DEBUG snp_calls: handle cohort size\n"
          ]
        },
        {
          "data": {
            "application/vnd.plotly.v1+json": {
              "config": {
                "plotlyServerURL": "https://plot.ly"
              },
              "data": [
                {
                  "customdata": [
                    [
                      0.05,
                      0.005,
                      0,
                      0.945,
                      "T_9499985"
                    ],
                    [
                      0,
                      0,
                      1,
                      0,
                      "G_9499986"
                    ],
                    [
                      0,
                      0,
                      0,
                      1,
                      "T_9499987"
                    ],
                    [
                      0,
                      0,
                      0.995,
                      0.005,
                      "G_9499988"
                    ],
                    [
                      0.005,
                      0,
                      0.995,
                      0,
                      "G_9499989"
                    ],
                    [
                      0,
                      0,
                      1,
                      0,
                      "G_9499990"
                    ],
                    [
                      0.01,
                      0,
                      0,
                      0.99,
                      "T_9499991"
                    ],
                    [
                      0,
                      0,
                      0,
                      1,
                      "T_9499992"
                    ],
                    [
                      0,
                      1,
                      0,
                      0,
                      "C_9499993"
                    ],
                    [
                      0,
                      1,
                      0,
                      0,
                      "C_9499994"
                    ],
                    [
                      0,
                      0,
                      0,
                      1,
                      "T_9499995"
                    ],
                    [
                      0,
                      0,
                      0,
                      1,
                      "T_9499996"
                    ],
                    [
                      0,
                      1,
                      0,
                      0,
                      "C_9499997"
                    ],
                    [
                      0,
                      0.995,
                      0,
                      0.005,
                      "C_9499998"
                    ],
                    [
                      0,
                      0,
                      0,
                      1,
                      "T_9499999"
                    ],
                    [
                      0,
                      0,
                      0,
                      1,
                      "T_9500000"
                    ],
                    [
                      0,
                      0,
                      0,
                      1,
                      "T_9500001"
                    ],
                    [
                      0,
                      0,
                      1,
                      0,
                      "G_9500002"
                    ],
                    [
                      0,
                      0,
                      1,
                      0,
                      "G_9500003"
                    ],
                    [
                      0.03,
                      0.97,
                      0,
                      0,
                      "C_9500004"
                    ],
                    [
                      1,
                      0,
                      0,
                      0,
                      "A_9500005"
                    ]
                  ],
                  "hovertemplate": "Base / Position: %{customdata[4]}<br>Total Alternate freq: %{y}<br>A_freq: %{customdata[0]}<br>C_freq: %{customdata[1]}<br>G_freq: %{customdata[2]}<br>T_freq: %{customdata[3]}",
                  "marker": {
                    "color": [
                      1,
                      -1,
                      -1,
                      1,
                      1,
                      -1,
                      1,
                      -1,
                      -1,
                      -1,
                      -1,
                      -1,
                      -1,
                      1,
                      -1,
                      -1,
                      -1,
                      -1,
                      -1,
                      1,
                      -1
                    ],
                    "colorscale": [
                      [
                        0,
                        "lightgray"
                      ],
                      [
                        0.5,
                        "lightgray"
                      ],
                      [
                        1,
                        "dodgerblue"
                      ]
                    ],
                    "line": {
                      "color": "black",
                      "width": 2
                    },
                    "size": 14,
                    "symbol": "circle"
                  },
                  "mode": "markers",
                  "type": "scatter",
                  "x": [
                    "T_9499985",
                    "G_9499986",
                    "T_9499987",
                    "G_9499988",
                    "G_9499989",
                    "G_9499990",
                    "T_9499991",
                    "T_9499992",
                    "C_9499993",
                    "C_9499994",
                    "T_9499995",
                    "T_9499996",
                    "C_9499997",
                    "C_9499998",
                    "T_9499999",
                    "T_9500000",
                    "T_9500001",
                    "G_9500002",
                    "G_9500003",
                    "C_9500004",
                    "A_9500005"
                  ],
                  "xaxis": "x",
                  "y": [
                    0.055,
                    0,
                    0,
                    0.005,
                    0.005,
                    0,
                    0.01,
                    0,
                    0,
                    0,
                    0,
                    0,
                    0,
                    0.005,
                    0,
                    0,
                    0,
                    0,
                    0,
                    0.03,
                    0
                  ],
                  "yaxis": "y"
                },
                {
                  "customdata": [
                    [
                      0,
                      0,
                      1,
                      0,
                      "G_9499986"
                    ],
                    [
                      0,
                      0,
                      0,
                      1,
                      "T_9499987"
                    ],
                    [
                      0,
                      0,
                      0.995,
                      0.005,
                      "G_9499988"
                    ],
                    [
                      0.005,
                      0,
                      0.995,
                      0,
                      "G_9499989"
                    ],
                    [
                      0,
                      0,
                      1,
                      0,
                      "G_9499990"
                    ],
                    [
                      0.01,
                      0,
                      0,
                      0.99,
                      "T_9499991"
                    ],
                    [
                      0,
                      0,
                      0,
                      1,
                      "T_9499992"
                    ],
                    [
                      0,
                      1,
                      0,
                      0,
                      "C_9499993"
                    ],
                    [
                      0,
                      1,
                      0,
                      0,
                      "C_9499994"
                    ],
                    [
                      0,
                      0,
                      0,
                      1,
                      "T_9499995"
                    ],
                    [
                      0,
                      0,
                      0,
                      1,
                      "T_9499996"
                    ],
                    [
                      0,
                      1,
                      0,
                      0,
                      "C_9499997"
                    ],
                    [
                      0,
                      0.995,
                      0,
                      0.005,
                      "C_9499998"
                    ],
                    [
                      0,
                      0,
                      0,
                      1,
                      "T_9499999"
                    ],
                    [
                      0,
                      0,
                      0,
                      1,
                      "T_9500000"
                    ],
                    [
                      0,
                      0,
                      0,
                      1,
                      "T_9500001"
                    ],
                    [
                      0,
                      0,
                      1,
                      0,
                      "G_9500002"
                    ],
                    [
                      0,
                      0,
                      1,
                      0,
                      "G_9500003"
                    ],
                    [
                      0.03,
                      0.97,
                      0,
                      0,
                      "C_9500004"
                    ],
                    [
                      1,
                      0,
                      0,
                      0,
                      "A_9500005"
                    ]
                  ],
                  "hovertemplate": "Base / Position: %{customdata[4]}<br>Total Alternate freq: %{y}<br>A_freq: %{customdata[0]}<br>C_freq: %{customdata[1]}<br>G_freq: %{customdata[2]}<br>T_freq: %{customdata[3]}",
                  "marker": {
                    "color": [
                      -1,
                      -1,
                      1,
                      1,
                      -1,
                      1,
                      -1,
                      -1,
                      -1,
                      -1,
                      -1,
                      -1,
                      1,
                      -1,
                      -1,
                      -1,
                      -1,
                      -1,
                      1,
                      -1
                    ],
                    "colorscale": [
                      [
                        0,
                        "lightgray"
                      ],
                      [
                        0.5,
                        "lightgray"
                      ],
                      [
                        1,
                        "dodgerblue"
                      ]
                    ],
                    "line": {
                      "color": "black",
                      "width": 2
                    },
                    "size": 14,
                    "symbol": "circle"
                  },
                  "mode": "markers",
                  "type": "scatter",
                  "x": [
                    "G_9499986",
                    "T_9499987",
                    "G_9499988",
                    "G_9499989",
                    "G_9499990",
                    "T_9499991",
                    "T_9499992",
                    "C_9499993",
                    "C_9499994",
                    "T_9499995",
                    "T_9499996",
                    "C_9499997",
                    "C_9499998",
                    "T_9499999",
                    "T_9500000",
                    "T_9500001",
                    "G_9500002",
                    "G_9500003",
                    "C_9500004",
                    "A_9500005"
                  ],
                  "xaxis": "x2",
                  "y": [
                    0,
                    0,
                    0.005,
                    0.005,
                    0,
                    0.01,
                    0,
                    0,
                    0,
                    0,
                    0,
                    0,
                    0.005,
                    0,
                    0,
                    0,
                    0,
                    0,
                    0.03,
                    0
                  ],
                  "yaxis": "y2"
                },
                {
                  "customdata": [
                    [
                      0.05,
                      0.005,
                      0,
                      0.945,
                      "T_9499985"
                    ],
                    [
                      0,
                      0,
                      1,
                      0,
                      "G_9499986"
                    ],
                    [
                      0,
                      0,
                      0,
                      1,
                      "T_9499987"
                    ],
                    [
                      0,
                      0,
                      0.995,
                      0.005,
                      "G_9499988"
                    ],
                    [
                      0.005,
                      0,
                      0.995,
                      0,
                      "G_9499989"
                    ],
                    [
                      0,
                      0,
                      1,
                      0,
                      "G_9499990"
                    ],
                    [
                      0.01,
                      0,
                      0,
                      0.99,
                      "T_9499991"
                    ],
                    [
                      0,
                      0,
                      0,
                      1,
                      "T_9499992"
                    ],
                    [
                      0,
                      1,
                      0,
                      0,
                      "C_9499993"
                    ],
                    [
                      0,
                      1,
                      0,
                      0,
                      "C_9499994"
                    ],
                    [
                      0,
                      0,
                      0,
                      1,
                      "T_9499995"
                    ],
                    [
                      0,
                      0,
                      0,
                      1,
                      "T_9499996"
                    ],
                    [
                      0,
                      1,
                      0,
                      0,
                      "C_9499997"
                    ],
                    [
                      0,
                      0.995,
                      0,
                      0.005,
                      "C_9499998"
                    ],
                    [
                      0,
                      0,
                      0,
                      1,
                      "T_9499999"
                    ],
                    [
                      0,
                      0,
                      0,
                      1,
                      "T_9500000"
                    ],
                    [
                      0,
                      0,
                      0,
                      1,
                      "T_9500001"
                    ],
                    [
                      0,
                      0,
                      1,
                      0,
                      "G_9500002"
                    ],
                    [
                      0,
                      0,
                      1,
                      0,
                      "G_9500003"
                    ],
                    [
                      0.03,
                      0.97,
                      0,
                      0,
                      "C_9500004"
                    ]
                  ],
                  "hovertemplate": "Base / Position: %{customdata[4]}<br>Total Alternate freq: %{y}<br>A_freq: %{customdata[0]}<br>C_freq: %{customdata[1]}<br>G_freq: %{customdata[2]}<br>T_freq: %{customdata[3]}",
                  "marker": {
                    "color": [
                      1,
                      -1,
                      -1,
                      1,
                      1,
                      -1,
                      1,
                      -1,
                      -1,
                      -1,
                      -1,
                      -1,
                      -1,
                      1,
                      -1,
                      -1,
                      -1,
                      -1,
                      -1,
                      1
                    ],
                    "colorscale": [
                      [
                        0,
                        "lightgray"
                      ],
                      [
                        0.5,
                        "lightgray"
                      ],
                      [
                        1,
                        "dodgerblue"
                      ]
                    ],
                    "line": {
                      "color": "black",
                      "width": 2
                    },
                    "size": 14,
                    "symbol": "circle"
                  },
                  "mode": "markers",
                  "type": "scatter",
                  "x": [
                    "T_9499985",
                    "G_9499986",
                    "T_9499987",
                    "G_9499988",
                    "G_9499989",
                    "G_9499990",
                    "T_9499991",
                    "T_9499992",
                    "C_9499993",
                    "C_9499994",
                    "T_9499995",
                    "T_9499996",
                    "C_9499997",
                    "C_9499998",
                    "T_9499999",
                    "T_9500000",
                    "T_9500001",
                    "G_9500002",
                    "G_9500003",
                    "C_9500004"
                  ],
                  "xaxis": "x3",
                  "y": [
                    0.055,
                    0,
                    0,
                    0.005,
                    0.005,
                    0,
                    0.01,
                    0,
                    0,
                    0,
                    0,
                    0,
                    0,
                    0.005,
                    0,
                    0,
                    0,
                    0,
                    0,
                    0.03
                  ],
                  "yaxis": "y3"
                },
                {
                  "customdata": [
                    [
                      0.05,
                      0.005,
                      0,
                      0.945,
                      "T_9499985"
                    ],
                    [
                      0,
                      0,
                      1,
                      0,
                      "G_9499986"
                    ],
                    [
                      0,
                      0,
                      0,
                      1,
                      "T_9499987"
                    ],
                    [
                      0,
                      0,
                      0.995,
                      0.005,
                      "G_9499988"
                    ],
                    [
                      0.005,
                      0,
                      0.995,
                      0,
                      "G_9499989"
                    ],
                    [
                      0,
                      0,
                      1,
                      0,
                      "G_9499990"
                    ],
                    [
                      0.01,
                      0,
                      0,
                      0.99,
                      "T_9499991"
                    ],
                    [
                      0,
                      0,
                      0,
                      1,
                      "T_9499992"
                    ],
                    [
                      0,
                      1,
                      0,
                      0,
                      "C_9499993"
                    ],
                    [
                      0,
                      1,
                      0,
                      0,
                      "C_9499994"
                    ],
                    [
                      0,
                      0,
                      0,
                      1,
                      "T_9499995"
                    ],
                    [
                      0,
                      0,
                      0,
                      1,
                      "T_9499996"
                    ],
                    [
                      0,
                      1,
                      0,
                      0,
                      "C_9499997"
                    ],
                    [
                      0,
                      0.995,
                      0,
                      0.005,
                      "C_9499998"
                    ],
                    [
                      0,
                      0,
                      0,
                      1,
                      "T_9499999"
                    ],
                    [
                      0,
                      0,
                      0,
                      1,
                      "T_9500000"
                    ],
                    [
                      0,
                      0,
                      0,
                      1,
                      "T_9500001"
                    ],
                    [
                      0,
                      0,
                      1,
                      0,
                      "G_9500002"
                    ],
                    [
                      0,
                      0,
                      1,
                      0,
                      "G_9500003"
                    ],
                    [
                      0.03,
                      0.97,
                      0,
                      0,
                      "C_9500004"
                    ],
                    [
                      1,
                      0,
                      0,
                      0,
                      "A_9500005"
                    ],
                    [
                      0,
                      0,
                      0,
                      1,
                      "T_9500006"
                    ]
                  ],
                  "hovertemplate": "Base / Position: %{customdata[4]}<br>Total Alternate freq: %{y}<br>A_freq: %{customdata[0]}<br>C_freq: %{customdata[1]}<br>G_freq: %{customdata[2]}<br>T_freq: %{customdata[3]}",
                  "marker": {
                    "color": [
                      1,
                      -1,
                      -1,
                      1,
                      1,
                      -1,
                      1,
                      -1,
                      -1,
                      -1,
                      -1,
                      -1,
                      -1,
                      1,
                      -1,
                      -1,
                      -1,
                      -1,
                      -1,
                      1,
                      -1,
                      -1
                    ],
                    "colorscale": [
                      [
                        0,
                        "lightgray"
                      ],
                      [
                        0.5,
                        "lightgray"
                      ],
                      [
                        1,
                        "dodgerblue"
                      ]
                    ],
                    "line": {
                      "color": "black",
                      "width": 2
                    },
                    "size": 14,
                    "symbol": "circle"
                  },
                  "mode": "markers",
                  "type": "scatter",
                  "x": [
                    "T_9499985",
                    "G_9499986",
                    "T_9499987",
                    "G_9499988",
                    "G_9499989",
                    "G_9499990",
                    "T_9499991",
                    "T_9499992",
                    "C_9499993",
                    "C_9499994",
                    "T_9499995",
                    "T_9499996",
                    "C_9499997",
                    "C_9499998",
                    "T_9499999",
                    "T_9500000",
                    "T_9500001",
                    "G_9500002",
                    "G_9500003",
                    "C_9500004",
                    "A_9500005",
                    "T_9500006"
                  ],
                  "xaxis": "x4",
                  "y": [
                    0.055,
                    0,
                    0,
                    0.005,
                    0.005,
                    0,
                    0.01,
                    0,
                    0,
                    0,
                    0,
                    0,
                    0,
                    0.005,
                    0,
                    0,
                    0,
                    0,
                    0,
                    0.03,
                    0,
                    0
                  ],
                  "yaxis": "y4"
                },
                {
                  "customdata": [
                    [
                      0,
                      0,
                      0,
                      1,
                      "T_9499987"
                    ],
                    [
                      0,
                      0,
                      0.995,
                      0.005,
                      "G_9499988"
                    ],
                    [
                      0.005,
                      0,
                      0.995,
                      0,
                      "G_9499989"
                    ],
                    [
                      0,
                      0,
                      1,
                      0,
                      "G_9499990"
                    ],
                    [
                      0.01,
                      0,
                      0,
                      0.99,
                      "T_9499991"
                    ],
                    [
                      0,
                      0,
                      0,
                      1,
                      "T_9499992"
                    ],
                    [
                      0,
                      1,
                      0,
                      0,
                      "C_9499993"
                    ],
                    [
                      0,
                      1,
                      0,
                      0,
                      "C_9499994"
                    ],
                    [
                      0,
                      0,
                      0,
                      1,
                      "T_9499995"
                    ],
                    [
                      0,
                      0,
                      0,
                      1,
                      "T_9499996"
                    ],
                    [
                      0,
                      1,
                      0,
                      0,
                      "C_9499997"
                    ],
                    [
                      0,
                      0.995,
                      0,
                      0.005,
                      "C_9499998"
                    ],
                    [
                      0,
                      0,
                      0,
                      1,
                      "T_9499999"
                    ],
                    [
                      0,
                      0,
                      0,
                      1,
                      "T_9500000"
                    ],
                    [
                      0,
                      0,
                      0,
                      1,
                      "T_9500001"
                    ],
                    [
                      0,
                      0,
                      1,
                      0,
                      "G_9500002"
                    ],
                    [
                      0,
                      0,
                      1,
                      0,
                      "G_9500003"
                    ],
                    [
                      0.03,
                      0.97,
                      0,
                      0,
                      "C_9500004"
                    ],
                    [
                      1,
                      0,
                      0,
                      0,
                      "A_9500005"
                    ]
                  ],
                  "hovertemplate": "Base / Position: %{customdata[4]}<br>Total Alternate freq: %{y}<br>A_freq: %{customdata[0]}<br>C_freq: %{customdata[1]}<br>G_freq: %{customdata[2]}<br>T_freq: %{customdata[3]}",
                  "marker": {
                    "color": [
                      -1,
                      1,
                      1,
                      -1,
                      1,
                      -1,
                      -1,
                      -1,
                      -1,
                      -1,
                      -1,
                      1,
                      -1,
                      -1,
                      -1,
                      -1,
                      -1,
                      1,
                      -1
                    ],
                    "colorscale": [
                      [
                        0,
                        "lightgray"
                      ],
                      [
                        0.5,
                        "lightgray"
                      ],
                      [
                        1,
                        "dodgerblue"
                      ]
                    ],
                    "line": {
                      "color": "black",
                      "width": 2
                    },
                    "size": 14,
                    "symbol": "circle"
                  },
                  "mode": "markers",
                  "type": "scatter",
                  "x": [
                    "T_9499987",
                    "G_9499988",
                    "G_9499989",
                    "G_9499990",
                    "T_9499991",
                    "T_9499992",
                    "C_9499993",
                    "C_9499994",
                    "T_9499995",
                    "T_9499996",
                    "C_9499997",
                    "C_9499998",
                    "T_9499999",
                    "T_9500000",
                    "T_9500001",
                    "G_9500002",
                    "G_9500003",
                    "C_9500004",
                    "A_9500005"
                  ],
                  "xaxis": "x5",
                  "y": [
                    0,
                    0.005,
                    0.005,
                    0,
                    0.01,
                    0,
                    0,
                    0,
                    0,
                    0,
                    0,
                    0.005,
                    0,
                    0,
                    0,
                    0,
                    0,
                    0.03,
                    0
                  ],
                  "yaxis": "y5"
                },
                {
                  "customdata": [
                    [
                      0,
                      0,
                      1,
                      0,
                      "G_9499986"
                    ],
                    [
                      0,
                      0,
                      0,
                      1,
                      "T_9499987"
                    ],
                    [
                      0,
                      0,
                      0.995,
                      0.005,
                      "G_9499988"
                    ],
                    [
                      0.005,
                      0,
                      0.995,
                      0,
                      "G_9499989"
                    ],
                    [
                      0,
                      0,
                      1,
                      0,
                      "G_9499990"
                    ],
                    [
                      0.01,
                      0,
                      0,
                      0.99,
                      "T_9499991"
                    ],
                    [
                      0,
                      0,
                      0,
                      1,
                      "T_9499992"
                    ],
                    [
                      0,
                      1,
                      0,
                      0,
                      "C_9499993"
                    ],
                    [
                      0,
                      1,
                      0,
                      0,
                      "C_9499994"
                    ],
                    [
                      0,
                      0,
                      0,
                      1,
                      "T_9499995"
                    ],
                    [
                      0,
                      0,
                      0,
                      1,
                      "T_9499996"
                    ],
                    [
                      0,
                      1,
                      0,
                      0,
                      "C_9499997"
                    ],
                    [
                      0,
                      0.995,
                      0,
                      0.005,
                      "C_9499998"
                    ],
                    [
                      0,
                      0,
                      0,
                      1,
                      "T_9499999"
                    ],
                    [
                      0,
                      0,
                      0,
                      1,
                      "T_9500000"
                    ],
                    [
                      0,
                      0,
                      0,
                      1,
                      "T_9500001"
                    ],
                    [
                      0,
                      0,
                      1,
                      0,
                      "G_9500002"
                    ],
                    [
                      0,
                      0,
                      1,
                      0,
                      "G_9500003"
                    ],
                    [
                      0.03,
                      0.97,
                      0,
                      0,
                      "C_9500004"
                    ],
                    [
                      1,
                      0,
                      0,
                      0,
                      "A_9500005"
                    ],
                    [
                      0,
                      0,
                      0,
                      1,
                      "T_9500006"
                    ]
                  ],
                  "hovertemplate": "Base / Position: %{customdata[4]}<br>Total Alternate freq: %{y}<br>A_freq: %{customdata[0]}<br>C_freq: %{customdata[1]}<br>G_freq: %{customdata[2]}<br>T_freq: %{customdata[3]}",
                  "marker": {
                    "color": [
                      -1,
                      -1,
                      1,
                      1,
                      -1,
                      1,
                      -1,
                      -1,
                      -1,
                      -1,
                      -1,
                      -1,
                      1,
                      -1,
                      -1,
                      -1,
                      -1,
                      -1,
                      1,
                      -1,
                      -1
                    ],
                    "colorscale": [
                      [
                        0,
                        "lightgray"
                      ],
                      [
                        0.5,
                        "lightgray"
                      ],
                      [
                        1,
                        "dodgerblue"
                      ]
                    ],
                    "line": {
                      "color": "black",
                      "width": 2
                    },
                    "size": 14,
                    "symbol": "circle"
                  },
                  "mode": "markers",
                  "type": "scatter",
                  "x": [
                    "G_9499986",
                    "T_9499987",
                    "G_9499988",
                    "G_9499989",
                    "G_9499990",
                    "T_9499991",
                    "T_9499992",
                    "C_9499993",
                    "C_9499994",
                    "T_9499995",
                    "T_9499996",
                    "C_9499997",
                    "C_9499998",
                    "T_9499999",
                    "T_9500000",
                    "T_9500001",
                    "G_9500002",
                    "G_9500003",
                    "C_9500004",
                    "A_9500005",
                    "T_9500006"
                  ],
                  "xaxis": "x6",
                  "y": [
                    0,
                    0,
                    0.005,
                    0.005,
                    0,
                    0.01,
                    0,
                    0,
                    0,
                    0,
                    0,
                    0,
                    0.005,
                    0,
                    0,
                    0,
                    0,
                    0,
                    0.03,
                    0,
                    0
                  ],
                  "yaxis": "y6"
                }
              ],
              "layout": {
                "annotations": [
                  {
                    "font": {
                      "size": 13
                    },
                    "showarrow": false,
                    "text": "Probe 0",
                    "x": 0.5,
                    "xanchor": "center",
                    "xref": "paper",
                    "y": 0.9999999999999999,
                    "yanchor": "bottom",
                    "yref": "paper"
                  },
                  {
                    "font": {
                      "size": 13
                    },
                    "showarrow": false,
                    "text": "Probe 1",
                    "x": 0.5,
                    "xanchor": "center",
                    "xref": "paper",
                    "y": 0.82,
                    "yanchor": "bottom",
                    "yref": "paper"
                  },
                  {
                    "font": {
                      "size": 13
                    },
                    "showarrow": false,
                    "text": "Probe 2",
                    "x": 0.5,
                    "xanchor": "center",
                    "xref": "paper",
                    "y": 0.64,
                    "yanchor": "bottom",
                    "yref": "paper"
                  },
                  {
                    "font": {
                      "size": 13
                    },
                    "showarrow": false,
                    "text": "Probe 3",
                    "x": 0.5,
                    "xanchor": "center",
                    "xref": "paper",
                    "y": 0.45999999999999996,
                    "yanchor": "bottom",
                    "yref": "paper"
                  },
                  {
                    "font": {
                      "size": 13
                    },
                    "showarrow": false,
                    "text": "Probe 4",
                    "x": 0.5,
                    "xanchor": "center",
                    "xref": "paper",
                    "y": 0.27999999999999997,
                    "yanchor": "bottom",
                    "yref": "paper"
                  },
                  {
                    "font": {
                      "size": 13
                    },
                    "showarrow": false,
                    "text": "Probe 5",
                    "x": 0.5,
                    "xanchor": "center",
                    "xref": "paper",
                    "y": 0.09999999999999999,
                    "yanchor": "bottom",
                    "yref": "paper"
                  },
                  {
                    "showarrow": false,
                    "text": "5'",
                    "x": "T_9499985",
                    "xref": "x",
                    "y": 0.8,
                    "yref": "y"
                  },
                  {
                    "showarrow": false,
                    "text": "3'",
                    "x": "A_9500005",
                    "xref": "x",
                    "y": 0.8,
                    "yref": "y"
                  },
                  {
                    "showarrow": false,
                    "text": "9499985-9500005",
                    "x": "G_9499989",
                    "xref": "x",
                    "y": 0.92,
                    "yref": "y"
                  },
                  {
                    "showarrow": false,
                    "text": "GC=52.38",
                    "x": "T_9499999",
                    "xref": "x",
                    "y": 0.92,
                    "yref": "y"
                  },
                  {
                    "showarrow": false,
                    "text": "TM=56.12",
                    "x": "G_9500003",
                    "xref": "x",
                    "y": 0.92,
                    "yref": "y"
                  },
                  {
                    "showarrow": false,
                    "text": "5'",
                    "x": "G_9499986",
                    "xref": "x2",
                    "y": 0.8,
                    "yref": "y2"
                  },
                  {
                    "showarrow": false,
                    "text": "3'",
                    "x": "A_9500005",
                    "xref": "x2",
                    "y": 0.8,
                    "yref": "y2"
                  },
                  {
                    "showarrow": false,
                    "text": "9499986-9500005",
                    "x": "G_9499990",
                    "xref": "x2",
                    "y": 0.92,
                    "yref": "y2"
                  },
                  {
                    "showarrow": false,
                    "text": "GC=55.0",
                    "x": "T_9499999",
                    "xref": "x2",
                    "y": 0.92,
                    "yref": "y2"
                  },
                  {
                    "showarrow": false,
                    "text": "TM=54.55",
                    "x": "G_9500003",
                    "xref": "x2",
                    "y": 0.92,
                    "yref": "y2"
                  },
                  {
                    "showarrow": false,
                    "text": "5'",
                    "x": "T_9499985",
                    "xref": "x3",
                    "y": 0.8,
                    "yref": "y3"
                  },
                  {
                    "showarrow": false,
                    "text": "3'",
                    "x": "C_9500004",
                    "xref": "x3",
                    "y": 0.8,
                    "yref": "y3"
                  },
                  {
                    "showarrow": false,
                    "text": "9499985-9500004",
                    "x": "G_9499989",
                    "xref": "x3",
                    "y": 0.92,
                    "yref": "y3"
                  },
                  {
                    "showarrow": false,
                    "text": "GC=55.0",
                    "x": "C_9499998",
                    "xref": "x3",
                    "y": 0.92,
                    "yref": "y3"
                  },
                  {
                    "showarrow": false,
                    "text": "TM=54.55",
                    "x": "G_9500002",
                    "xref": "x3",
                    "y": 0.92,
                    "yref": "y3"
                  },
                  {
                    "showarrow": false,
                    "text": "5'",
                    "x": "T_9499985",
                    "xref": "x4",
                    "y": 0.8,
                    "yref": "y4"
                  },
                  {
                    "showarrow": false,
                    "text": "3'",
                    "x": "T_9500006",
                    "xref": "x4",
                    "y": 0.8,
                    "yref": "y4"
                  },
                  {
                    "showarrow": false,
                    "text": "9499985-9500006",
                    "x": "G_9499989",
                    "xref": "x4",
                    "y": 0.92,
                    "yref": "y4"
                  },
                  {
                    "showarrow": false,
                    "text": "GC=50.0",
                    "x": "T_9500000",
                    "xref": "x4",
                    "y": 0.92,
                    "yref": "y4"
                  },
                  {
                    "showarrow": false,
                    "text": "TM=56.36",
                    "x": "C_9500004",
                    "xref": "x4",
                    "y": 0.92,
                    "yref": "y4"
                  },
                  {
                    "showarrow": false,
                    "text": "5'",
                    "x": "T_9499987",
                    "xref": "x5",
                    "y": 0.8,
                    "yref": "y5"
                  },
                  {
                    "showarrow": false,
                    "text": "3'",
                    "x": "A_9500005",
                    "xref": "x5",
                    "y": 0.8,
                    "yref": "y5"
                  },
                  {
                    "showarrow": false,
                    "text": "9499987-9500005",
                    "x": "T_9499991",
                    "xref": "x5",
                    "y": 0.92,
                    "yref": "y5"
                  },
                  {
                    "showarrow": false,
                    "text": "GC=52.63",
                    "x": "T_9499999",
                    "xref": "x5",
                    "y": 0.92,
                    "yref": "y5"
                  },
                  {
                    "showarrow": false,
                    "text": "TM=53.09",
                    "x": "G_9500003",
                    "xref": "x5",
                    "y": 0.92,
                    "yref": "y5"
                  },
                  {
                    "showarrow": false,
                    "text": "5'",
                    "x": "G_9499986",
                    "xref": "x6",
                    "y": 0.8,
                    "yref": "y6"
                  },
                  {
                    "showarrow": false,
                    "text": "3'",
                    "x": "T_9500006",
                    "xref": "x6",
                    "y": 0.8,
                    "yref": "y6"
                  },
                  {
                    "showarrow": false,
                    "text": "9499986-9500006",
                    "x": "G_9499990",
                    "xref": "x6",
                    "y": 0.92,
                    "yref": "y6"
                  },
                  {
                    "showarrow": false,
                    "text": "GC=52.38",
                    "x": "T_9500000",
                    "xref": "x6",
                    "y": 0.92,
                    "yref": "y6"
                  },
                  {
                    "showarrow": false,
                    "text": "TM=54.86",
                    "x": "C_9500004",
                    "xref": "x6",
                    "y": 0.92,
                    "yref": "y6"
                  }
                ],
                "height": 1200,
                "showlegend": false,
                "template": {
                  "data": {
                    "bar": [
                      {
                        "error_x": {
                          "color": "rgb(36,36,36)"
                        },
                        "error_y": {
                          "color": "rgb(36,36,36)"
                        },
                        "marker": {
                          "line": {
                            "color": "white",
                            "width": 0.5
                          },
                          "pattern": {
                            "fillmode": "overlay",
                            "size": 10,
                            "solidity": 0.2
                          }
                        },
                        "type": "bar"
                      }
                    ],
                    "barpolar": [
                      {
                        "marker": {
                          "line": {
                            "color": "white",
                            "width": 0.5
                          },
                          "pattern": {
                            "fillmode": "overlay",
                            "size": 10,
                            "solidity": 0.2
                          }
                        },
                        "type": "barpolar"
                      }
                    ],
                    "carpet": [
                      {
                        "aaxis": {
                          "endlinecolor": "rgb(36,36,36)",
                          "gridcolor": "white",
                          "linecolor": "white",
                          "minorgridcolor": "white",
                          "startlinecolor": "rgb(36,36,36)"
                        },
                        "baxis": {
                          "endlinecolor": "rgb(36,36,36)",
                          "gridcolor": "white",
                          "linecolor": "white",
                          "minorgridcolor": "white",
                          "startlinecolor": "rgb(36,36,36)"
                        },
                        "type": "carpet"
                      }
                    ],
                    "choropleth": [
                      {
                        "colorbar": {
                          "outlinewidth": 1,
                          "tickcolor": "rgb(36,36,36)",
                          "ticks": "outside"
                        },
                        "type": "choropleth"
                      }
                    ],
                    "contour": [
                      {
                        "colorbar": {
                          "outlinewidth": 1,
                          "tickcolor": "rgb(36,36,36)",
                          "ticks": "outside"
                        },
                        "colorscale": [
                          [
                            0,
                            "#440154"
                          ],
                          [
                            0.1111111111111111,
                            "#482878"
                          ],
                          [
                            0.2222222222222222,
                            "#3e4989"
                          ],
                          [
                            0.3333333333333333,
                            "#31688e"
                          ],
                          [
                            0.4444444444444444,
                            "#26828e"
                          ],
                          [
                            0.5555555555555556,
                            "#1f9e89"
                          ],
                          [
                            0.6666666666666666,
                            "#35b779"
                          ],
                          [
                            0.7777777777777778,
                            "#6ece58"
                          ],
                          [
                            0.8888888888888888,
                            "#b5de2b"
                          ],
                          [
                            1,
                            "#fde725"
                          ]
                        ],
                        "type": "contour"
                      }
                    ],
                    "contourcarpet": [
                      {
                        "colorbar": {
                          "outlinewidth": 1,
                          "tickcolor": "rgb(36,36,36)",
                          "ticks": "outside"
                        },
                        "type": "contourcarpet"
                      }
                    ],
                    "heatmap": [
                      {
                        "colorbar": {
                          "outlinewidth": 1,
                          "tickcolor": "rgb(36,36,36)",
                          "ticks": "outside"
                        },
                        "colorscale": [
                          [
                            0,
                            "#440154"
                          ],
                          [
                            0.1111111111111111,
                            "#482878"
                          ],
                          [
                            0.2222222222222222,
                            "#3e4989"
                          ],
                          [
                            0.3333333333333333,
                            "#31688e"
                          ],
                          [
                            0.4444444444444444,
                            "#26828e"
                          ],
                          [
                            0.5555555555555556,
                            "#1f9e89"
                          ],
                          [
                            0.6666666666666666,
                            "#35b779"
                          ],
                          [
                            0.7777777777777778,
                            "#6ece58"
                          ],
                          [
                            0.8888888888888888,
                            "#b5de2b"
                          ],
                          [
                            1,
                            "#fde725"
                          ]
                        ],
                        "type": "heatmap"
                      }
                    ],
                    "heatmapgl": [
                      {
                        "colorbar": {
                          "outlinewidth": 1,
                          "tickcolor": "rgb(36,36,36)",
                          "ticks": "outside"
                        },
                        "colorscale": [
                          [
                            0,
                            "#440154"
                          ],
                          [
                            0.1111111111111111,
                            "#482878"
                          ],
                          [
                            0.2222222222222222,
                            "#3e4989"
                          ],
                          [
                            0.3333333333333333,
                            "#31688e"
                          ],
                          [
                            0.4444444444444444,
                            "#26828e"
                          ],
                          [
                            0.5555555555555556,
                            "#1f9e89"
                          ],
                          [
                            0.6666666666666666,
                            "#35b779"
                          ],
                          [
                            0.7777777777777778,
                            "#6ece58"
                          ],
                          [
                            0.8888888888888888,
                            "#b5de2b"
                          ],
                          [
                            1,
                            "#fde725"
                          ]
                        ],
                        "type": "heatmapgl"
                      }
                    ],
                    "histogram": [
                      {
                        "marker": {
                          "line": {
                            "color": "white",
                            "width": 0.6
                          }
                        },
                        "type": "histogram"
                      }
                    ],
                    "histogram2d": [
                      {
                        "colorbar": {
                          "outlinewidth": 1,
                          "tickcolor": "rgb(36,36,36)",
                          "ticks": "outside"
                        },
                        "colorscale": [
                          [
                            0,
                            "#440154"
                          ],
                          [
                            0.1111111111111111,
                            "#482878"
                          ],
                          [
                            0.2222222222222222,
                            "#3e4989"
                          ],
                          [
                            0.3333333333333333,
                            "#31688e"
                          ],
                          [
                            0.4444444444444444,
                            "#26828e"
                          ],
                          [
                            0.5555555555555556,
                            "#1f9e89"
                          ],
                          [
                            0.6666666666666666,
                            "#35b779"
                          ],
                          [
                            0.7777777777777778,
                            "#6ece58"
                          ],
                          [
                            0.8888888888888888,
                            "#b5de2b"
                          ],
                          [
                            1,
                            "#fde725"
                          ]
                        ],
                        "type": "histogram2d"
                      }
                    ],
                    "histogram2dcontour": [
                      {
                        "colorbar": {
                          "outlinewidth": 1,
                          "tickcolor": "rgb(36,36,36)",
                          "ticks": "outside"
                        },
                        "colorscale": [
                          [
                            0,
                            "#440154"
                          ],
                          [
                            0.1111111111111111,
                            "#482878"
                          ],
                          [
                            0.2222222222222222,
                            "#3e4989"
                          ],
                          [
                            0.3333333333333333,
                            "#31688e"
                          ],
                          [
                            0.4444444444444444,
                            "#26828e"
                          ],
                          [
                            0.5555555555555556,
                            "#1f9e89"
                          ],
                          [
                            0.6666666666666666,
                            "#35b779"
                          ],
                          [
                            0.7777777777777778,
                            "#6ece58"
                          ],
                          [
                            0.8888888888888888,
                            "#b5de2b"
                          ],
                          [
                            1,
                            "#fde725"
                          ]
                        ],
                        "type": "histogram2dcontour"
                      }
                    ],
                    "mesh3d": [
                      {
                        "colorbar": {
                          "outlinewidth": 1,
                          "tickcolor": "rgb(36,36,36)",
                          "ticks": "outside"
                        },
                        "type": "mesh3d"
                      }
                    ],
                    "parcoords": [
                      {
                        "line": {
                          "colorbar": {
                            "outlinewidth": 1,
                            "tickcolor": "rgb(36,36,36)",
                            "ticks": "outside"
                          }
                        },
                        "type": "parcoords"
                      }
                    ],
                    "pie": [
                      {
                        "automargin": true,
                        "type": "pie"
                      }
                    ],
                    "scatter": [
                      {
                        "marker": {
                          "colorbar": {
                            "outlinewidth": 1,
                            "tickcolor": "rgb(36,36,36)",
                            "ticks": "outside"
                          }
                        },
                        "type": "scatter"
                      }
                    ],
                    "scatter3d": [
                      {
                        "line": {
                          "colorbar": {
                            "outlinewidth": 1,
                            "tickcolor": "rgb(36,36,36)",
                            "ticks": "outside"
                          }
                        },
                        "marker": {
                          "colorbar": {
                            "outlinewidth": 1,
                            "tickcolor": "rgb(36,36,36)",
                            "ticks": "outside"
                          }
                        },
                        "type": "scatter3d"
                      }
                    ],
                    "scattercarpet": [
                      {
                        "marker": {
                          "colorbar": {
                            "outlinewidth": 1,
                            "tickcolor": "rgb(36,36,36)",
                            "ticks": "outside"
                          }
                        },
                        "type": "scattercarpet"
                      }
                    ],
                    "scattergeo": [
                      {
                        "marker": {
                          "colorbar": {
                            "outlinewidth": 1,
                            "tickcolor": "rgb(36,36,36)",
                            "ticks": "outside"
                          }
                        },
                        "type": "scattergeo"
                      }
                    ],
                    "scattergl": [
                      {
                        "marker": {
                          "colorbar": {
                            "outlinewidth": 1,
                            "tickcolor": "rgb(36,36,36)",
                            "ticks": "outside"
                          }
                        },
                        "type": "scattergl"
                      }
                    ],
                    "scattermapbox": [
                      {
                        "marker": {
                          "colorbar": {
                            "outlinewidth": 1,
                            "tickcolor": "rgb(36,36,36)",
                            "ticks": "outside"
                          }
                        },
                        "type": "scattermapbox"
                      }
                    ],
                    "scatterpolar": [
                      {
                        "marker": {
                          "colorbar": {
                            "outlinewidth": 1,
                            "tickcolor": "rgb(36,36,36)",
                            "ticks": "outside"
                          }
                        },
                        "type": "scatterpolar"
                      }
                    ],
                    "scatterpolargl": [
                      {
                        "marker": {
                          "colorbar": {
                            "outlinewidth": 1,
                            "tickcolor": "rgb(36,36,36)",
                            "ticks": "outside"
                          }
                        },
                        "type": "scatterpolargl"
                      }
                    ],
                    "scatterternary": [
                      {
                        "marker": {
                          "colorbar": {
                            "outlinewidth": 1,
                            "tickcolor": "rgb(36,36,36)",
                            "ticks": "outside"
                          }
                        },
                        "type": "scatterternary"
                      }
                    ],
                    "surface": [
                      {
                        "colorbar": {
                          "outlinewidth": 1,
                          "tickcolor": "rgb(36,36,36)",
                          "ticks": "outside"
                        },
                        "colorscale": [
                          [
                            0,
                            "#440154"
                          ],
                          [
                            0.1111111111111111,
                            "#482878"
                          ],
                          [
                            0.2222222222222222,
                            "#3e4989"
                          ],
                          [
                            0.3333333333333333,
                            "#31688e"
                          ],
                          [
                            0.4444444444444444,
                            "#26828e"
                          ],
                          [
                            0.5555555555555556,
                            "#1f9e89"
                          ],
                          [
                            0.6666666666666666,
                            "#35b779"
                          ],
                          [
                            0.7777777777777778,
                            "#6ece58"
                          ],
                          [
                            0.8888888888888888,
                            "#b5de2b"
                          ],
                          [
                            1,
                            "#fde725"
                          ]
                        ],
                        "type": "surface"
                      }
                    ],
                    "table": [
                      {
                        "cells": {
                          "fill": {
                            "color": "rgb(237,237,237)"
                          },
                          "line": {
                            "color": "white"
                          }
                        },
                        "header": {
                          "fill": {
                            "color": "rgb(217,217,217)"
                          },
                          "line": {
                            "color": "white"
                          }
                        },
                        "type": "table"
                      }
                    ]
                  },
                  "layout": {
                    "annotationdefaults": {
                      "arrowhead": 0,
                      "arrowwidth": 1
                    },
                    "autotypenumbers": "strict",
                    "coloraxis": {
                      "colorbar": {
                        "outlinewidth": 1,
                        "tickcolor": "rgb(36,36,36)",
                        "ticks": "outside"
                      }
                    },
                    "colorscale": {
                      "diverging": [
                        [
                          0,
                          "rgb(103,0,31)"
                        ],
                        [
                          0.1,
                          "rgb(178,24,43)"
                        ],
                        [
                          0.2,
                          "rgb(214,96,77)"
                        ],
                        [
                          0.3,
                          "rgb(244,165,130)"
                        ],
                        [
                          0.4,
                          "rgb(253,219,199)"
                        ],
                        [
                          0.5,
                          "rgb(247,247,247)"
                        ],
                        [
                          0.6,
                          "rgb(209,229,240)"
                        ],
                        [
                          0.7,
                          "rgb(146,197,222)"
                        ],
                        [
                          0.8,
                          "rgb(67,147,195)"
                        ],
                        [
                          0.9,
                          "rgb(33,102,172)"
                        ],
                        [
                          1,
                          "rgb(5,48,97)"
                        ]
                      ],
                      "sequential": [
                        [
                          0,
                          "#440154"
                        ],
                        [
                          0.1111111111111111,
                          "#482878"
                        ],
                        [
                          0.2222222222222222,
                          "#3e4989"
                        ],
                        [
                          0.3333333333333333,
                          "#31688e"
                        ],
                        [
                          0.4444444444444444,
                          "#26828e"
                        ],
                        [
                          0.5555555555555556,
                          "#1f9e89"
                        ],
                        [
                          0.6666666666666666,
                          "#35b779"
                        ],
                        [
                          0.7777777777777778,
                          "#6ece58"
                        ],
                        [
                          0.8888888888888888,
                          "#b5de2b"
                        ],
                        [
                          1,
                          "#fde725"
                        ]
                      ],
                      "sequentialminus": [
                        [
                          0,
                          "#440154"
                        ],
                        [
                          0.1111111111111111,
                          "#482878"
                        ],
                        [
                          0.2222222222222222,
                          "#3e4989"
                        ],
                        [
                          0.3333333333333333,
                          "#31688e"
                        ],
                        [
                          0.4444444444444444,
                          "#26828e"
                        ],
                        [
                          0.5555555555555556,
                          "#1f9e89"
                        ],
                        [
                          0.6666666666666666,
                          "#35b779"
                        ],
                        [
                          0.7777777777777778,
                          "#6ece58"
                        ],
                        [
                          0.8888888888888888,
                          "#b5de2b"
                        ],
                        [
                          1,
                          "#fde725"
                        ]
                      ]
                    },
                    "colorway": [
                      "#1F77B4",
                      "#FF7F0E",
                      "#2CA02C",
                      "#D62728",
                      "#9467BD",
                      "#8C564B",
                      "#E377C2",
                      "#7F7F7F",
                      "#BCBD22",
                      "#17BECF"
                    ],
                    "font": {
                      "color": "rgb(36,36,36)"
                    },
                    "geo": {
                      "bgcolor": "white",
                      "lakecolor": "white",
                      "landcolor": "white",
                      "showlakes": true,
                      "showland": true,
                      "subunitcolor": "white"
                    },
                    "hoverlabel": {
                      "align": "left"
                    },
                    "hovermode": "closest",
                    "mapbox": {
                      "style": "light"
                    },
                    "paper_bgcolor": "white",
                    "plot_bgcolor": "white",
                    "polar": {
                      "angularaxis": {
                        "gridcolor": "rgb(232,232,232)",
                        "linecolor": "rgb(36,36,36)",
                        "showgrid": false,
                        "showline": true,
                        "ticks": "outside"
                      },
                      "bgcolor": "white",
                      "radialaxis": {
                        "gridcolor": "rgb(232,232,232)",
                        "linecolor": "rgb(36,36,36)",
                        "showgrid": false,
                        "showline": true,
                        "ticks": "outside"
                      }
                    },
                    "scene": {
                      "xaxis": {
                        "backgroundcolor": "white",
                        "gridcolor": "rgb(232,232,232)",
                        "gridwidth": 2,
                        "linecolor": "rgb(36,36,36)",
                        "showbackground": true,
                        "showgrid": false,
                        "showline": true,
                        "ticks": "outside",
                        "zeroline": false,
                        "zerolinecolor": "rgb(36,36,36)"
                      },
                      "yaxis": {
                        "backgroundcolor": "white",
                        "gridcolor": "rgb(232,232,232)",
                        "gridwidth": 2,
                        "linecolor": "rgb(36,36,36)",
                        "showbackground": true,
                        "showgrid": false,
                        "showline": true,
                        "ticks": "outside",
                        "zeroline": false,
                        "zerolinecolor": "rgb(36,36,36)"
                      },
                      "zaxis": {
                        "backgroundcolor": "white",
                        "gridcolor": "rgb(232,232,232)",
                        "gridwidth": 2,
                        "linecolor": "rgb(36,36,36)",
                        "showbackground": true,
                        "showgrid": false,
                        "showline": true,
                        "ticks": "outside",
                        "zeroline": false,
                        "zerolinecolor": "rgb(36,36,36)"
                      }
                    },
                    "shapedefaults": {
                      "fillcolor": "black",
                      "line": {
                        "width": 0
                      },
                      "opacity": 0.3
                    },
                    "ternary": {
                      "aaxis": {
                        "gridcolor": "rgb(232,232,232)",
                        "linecolor": "rgb(36,36,36)",
                        "showgrid": false,
                        "showline": true,
                        "ticks": "outside"
                      },
                      "baxis": {
                        "gridcolor": "rgb(232,232,232)",
                        "linecolor": "rgb(36,36,36)",
                        "showgrid": false,
                        "showline": true,
                        "ticks": "outside"
                      },
                      "bgcolor": "white",
                      "caxis": {
                        "gridcolor": "rgb(232,232,232)",
                        "linecolor": "rgb(36,36,36)",
                        "showgrid": false,
                        "showline": true,
                        "ticks": "outside"
                      }
                    },
                    "title": {
                      "x": 0.05
                    },
                    "xaxis": {
                      "automargin": true,
                      "gridcolor": "rgb(232,232,232)",
                      "linecolor": "rgb(36,36,36)",
                      "showgrid": false,
                      "showline": true,
                      "ticks": "outside",
                      "title": {
                        "standoff": 15
                      },
                      "zeroline": false,
                      "zerolinecolor": "rgb(36,36,36)"
                    },
                    "yaxis": {
                      "automargin": true,
                      "gridcolor": "rgb(232,232,232)",
                      "linecolor": "rgb(36,36,36)",
                      "showgrid": false,
                      "showline": true,
                      "ticks": "outside",
                      "title": {
                        "standoff": 15
                      },
                      "zeroline": false,
                      "zerolinecolor": "rgb(36,36,36)"
                    }
                  }
                },
                "title": {
                  "text": "coeae2f probe | AG1000G-GH | target 9500000 bp",
                  "x": 0.5
                },
                "width": 500,
                "xaxis": {
                  "anchor": "y",
                  "domain": [
                    0,
                    1
                  ],
                  "mirror": true,
                  "tickangle": 0,
                  "tickmode": "array",
                  "ticktext": [
                    "T",
                    "G",
                    "T",
                    "G",
                    "G",
                    "G",
                    "T",
                    "T",
                    "C",
                    "C",
                    "T",
                    "T",
                    "C",
                    "C",
                    "T",
                    "T",
                    "T",
                    "G",
                    "G",
                    "C",
                    "A"
                  ],
                  "tickvals": [
                    "T_9499985",
                    "G_9499986",
                    "T_9499987",
                    "G_9499988",
                    "G_9499989",
                    "G_9499990",
                    "T_9499991",
                    "T_9499992",
                    "C_9499993",
                    "C_9499994",
                    "T_9499995",
                    "T_9499996",
                    "C_9499997",
                    "C_9499998",
                    "T_9499999",
                    "T_9500000",
                    "T_9500001",
                    "G_9500002",
                    "G_9500003",
                    "C_9500004",
                    "A_9500005"
                  ]
                },
                "xaxis2": {
                  "anchor": "y2",
                  "domain": [
                    0,
                    1
                  ],
                  "mirror": true,
                  "tickangle": 0,
                  "tickmode": "array",
                  "ticktext": [
                    "G",
                    "T",
                    "G",
                    "G",
                    "G",
                    "T",
                    "T",
                    "C",
                    "C",
                    "T",
                    "T",
                    "C",
                    "C",
                    "T",
                    "T",
                    "T",
                    "G",
                    "G",
                    "C",
                    "A"
                  ],
                  "tickvals": [
                    "G_9499986",
                    "T_9499987",
                    "G_9499988",
                    "G_9499989",
                    "G_9499990",
                    "T_9499991",
                    "T_9499992",
                    "C_9499993",
                    "C_9499994",
                    "T_9499995",
                    "T_9499996",
                    "C_9499997",
                    "C_9499998",
                    "T_9499999",
                    "T_9500000",
                    "T_9500001",
                    "G_9500002",
                    "G_9500003",
                    "C_9500004",
                    "A_9500005"
                  ]
                },
                "xaxis3": {
                  "anchor": "y3",
                  "domain": [
                    0,
                    1
                  ],
                  "mirror": true,
                  "tickangle": 0,
                  "tickmode": "array",
                  "ticktext": [
                    "T",
                    "G",
                    "T",
                    "G",
                    "G",
                    "G",
                    "T",
                    "T",
                    "C",
                    "C",
                    "T",
                    "T",
                    "C",
                    "C",
                    "T",
                    "T",
                    "T",
                    "G",
                    "G",
                    "C"
                  ],
                  "tickvals": [
                    "T_9499985",
                    "G_9499986",
                    "T_9499987",
                    "G_9499988",
                    "G_9499989",
                    "G_9499990",
                    "T_9499991",
                    "T_9499992",
                    "C_9499993",
                    "C_9499994",
                    "T_9499995",
                    "T_9499996",
                    "C_9499997",
                    "C_9499998",
                    "T_9499999",
                    "T_9500000",
                    "T_9500001",
                    "G_9500002",
                    "G_9500003",
                    "C_9500004"
                  ]
                },
                "xaxis4": {
                  "anchor": "y4",
                  "domain": [
                    0,
                    1
                  ],
                  "mirror": true,
                  "tickangle": 0,
                  "tickmode": "array",
                  "ticktext": [
                    "T",
                    "G",
                    "T",
                    "G",
                    "G",
                    "G",
                    "T",
                    "T",
                    "C",
                    "C",
                    "T",
                    "T",
                    "C",
                    "C",
                    "T",
                    "T",
                    "T",
                    "G",
                    "G",
                    "C",
                    "A",
                    "T"
                  ],
                  "tickvals": [
                    "T_9499985",
                    "G_9499986",
                    "T_9499987",
                    "G_9499988",
                    "G_9499989",
                    "G_9499990",
                    "T_9499991",
                    "T_9499992",
                    "C_9499993",
                    "C_9499994",
                    "T_9499995",
                    "T_9499996",
                    "C_9499997",
                    "C_9499998",
                    "T_9499999",
                    "T_9500000",
                    "T_9500001",
                    "G_9500002",
                    "G_9500003",
                    "C_9500004",
                    "A_9500005",
                    "T_9500006"
                  ]
                },
                "xaxis5": {
                  "anchor": "y5",
                  "domain": [
                    0,
                    1
                  ],
                  "mirror": true,
                  "tickangle": 0,
                  "tickmode": "array",
                  "ticktext": [
                    "T",
                    "G",
                    "G",
                    "G",
                    "T",
                    "T",
                    "C",
                    "C",
                    "T",
                    "T",
                    "C",
                    "C",
                    "T",
                    "T",
                    "T",
                    "G",
                    "G",
                    "C",
                    "A"
                  ],
                  "tickvals": [
                    "T_9499987",
                    "G_9499988",
                    "G_9499989",
                    "G_9499990",
                    "T_9499991",
                    "T_9499992",
                    "C_9499993",
                    "C_9499994",
                    "T_9499995",
                    "T_9499996",
                    "C_9499997",
                    "C_9499998",
                    "T_9499999",
                    "T_9500000",
                    "T_9500001",
                    "G_9500002",
                    "G_9500003",
                    "C_9500004",
                    "A_9500005"
                  ]
                },
                "xaxis6": {
                  "anchor": "y6",
                  "domain": [
                    0,
                    1
                  ],
                  "mirror": true,
                  "tickangle": 0,
                  "tickmode": "array",
                  "ticktext": [
                    "G",
                    "T",
                    "G",
                    "G",
                    "G",
                    "T",
                    "T",
                    "C",
                    "C",
                    "T",
                    "T",
                    "C",
                    "C",
                    "T",
                    "T",
                    "T",
                    "G",
                    "G",
                    "C",
                    "A",
                    "T"
                  ],
                  "tickvals": [
                    "G_9499986",
                    "T_9499987",
                    "G_9499988",
                    "G_9499989",
                    "G_9499990",
                    "T_9499991",
                    "T_9499992",
                    "C_9499993",
                    "C_9499994",
                    "T_9499995",
                    "T_9499996",
                    "C_9499997",
                    "C_9499998",
                    "T_9499999",
                    "T_9500000",
                    "T_9500001",
                    "G_9500002",
                    "G_9500003",
                    "C_9500004",
                    "A_9500005",
                    "T_9500006"
                  ]
                },
                "yaxis": {
                  "anchor": "x",
                  "domain": [
                    0.8999999999999999,
                    0.9999999999999999
                  ],
                  "mirror": true,
                  "range": [
                    0,
                    1
                  ],
                  "tickvals": [
                    0,
                    0.2,
                    0.4,
                    0.6000000000000001,
                    0.8
                  ]
                },
                "yaxis2": {
                  "anchor": "x2",
                  "domain": [
                    0.72,
                    0.82
                  ],
                  "mirror": true,
                  "range": [
                    0,
                    1
                  ],
                  "tickvals": [
                    0,
                    0.2,
                    0.4,
                    0.6000000000000001,
                    0.8
                  ],
                  "title": {
                    "text": "Alternate allele frequency"
                  }
                },
                "yaxis3": {
                  "anchor": "x3",
                  "domain": [
                    0.54,
                    0.64
                  ],
                  "mirror": true,
                  "range": [
                    0,
                    1
                  ],
                  "tickvals": [
                    0,
                    0.2,
                    0.4,
                    0.6000000000000001,
                    0.8
                  ]
                },
                "yaxis4": {
                  "anchor": "x4",
                  "domain": [
                    0.36,
                    0.45999999999999996
                  ],
                  "mirror": true,
                  "range": [
                    0,
                    1
                  ],
                  "tickvals": [
                    0,
                    0.2,
                    0.4,
                    0.6000000000000001,
                    0.8
                  ],
                  "title": {
                    "text": "Alternate allele frequency"
                  }
                },
                "yaxis5": {
                  "anchor": "x5",
                  "domain": [
                    0.18,
                    0.27999999999999997
                  ],
                  "mirror": true,
                  "range": [
                    0,
                    1
                  ],
                  "tickvals": [
                    0,
                    0.2,
                    0.4,
                    0.6000000000000001,
                    0.8
                  ]
                },
                "yaxis6": {
                  "anchor": "x6",
                  "domain": [
                    0,
                    0.09999999999999999
                  ],
                  "mirror": true,
                  "range": [
                    0,
                    1
                  ],
                  "tickvals": [
                    0,
                    0.2,
                    0.4,
                    0.6000000000000001,
                    0.8
                  ],
                  "title": {
                    "text": "Alternate allele frequency"
                  }
                }
              }
            }
          },
          "metadata": {},
          "output_type": "display_data"
        }
      ],
      "source": [
        "results_dict = AgamPrimer.plot_primer_ag3_frequencies(primer_df=primer_df,\n",
        "                                                gdna_pos=gdna_pos,\n",
        "                                                contig=contig,\n",
        "                                                sample_set=sample_set, \n",
        "                                                sample_query=sample_query,\n",
        "                                                assay_type=assay_type,\n",
        "                                                seq_parameters=seq_parameters,\n",
        "                                                save=True)"
      ]
    },
    {
      "cell_type": "markdown",
      "id": "aCVuE1CiAR4h",
      "metadata": {
        "id": "aCVuE1CiAR4h"
      },
      "source": [
        "Now lets plot these primer pairs across the genome, highlighting where they are in relation to any nearby exons..."
      ]
    },
    {
      "cell_type": "code",
      "execution_count": 24,
      "id": "cAacbw-q8Sgm",
      "metadata": {
        "id": "cAacbw-q8Sgm"
      },
      "outputs": [
        {
          "name": "stderr",
          "output_type": "stream",
          "text": [
            "Wed Sep  7 16:21:35 2022 DEBUG geneset: handle region\n"
          ]
        },
        {
          "data": {
            "image/png": "[encoded data removed]",
            "text/plain": [
              "<Figure size 1152x288 with 1 Axes>"
            ]
          },
          "metadata": {
            "needs_background": "light"
          },
          "output_type": "display_data"
        }
      ],
      "source": [
        "AgamPrimer.plot_primer_locs(primer_df=primer_df, primer_res_dict=results_dict, assay_type=assay_type, gff=ag3.geneset(), contig=contig, seq_parameters=seq_parameters, legend_loc='lower left')"
      ]
    },
    {
      "cell_type": "code",
      "execution_count": 25,
      "id": "0JA92ApBcxLo",
      "metadata": {
        "id": "0JA92ApBcxLo"
      },
      "outputs": [
        {
          "data": {
            "text/html": [
              "<div>\n",
              "<style scoped>\n",
              "    .dataframe tbody tr th:only-of-type {\n",
              "        vertical-align: middle;\n",
              "    }\n",
              "\n",
              "    .dataframe tbody tr th {\n",
              "        vertical-align: top;\n",
              "    }\n",
              "\n",
              "    .dataframe thead th {\n",
              "        text-align: right;\n",
              "    }\n",
              "</style>\n",
              "<table border=\"1\" class=\"dataframe\">\n",
              "  <thead>\n",
              "    <tr style=\"text-align: right;\">\n",
              "      <th>primer_pair</th>\n",
              "      <th>0</th>\n",
              "      <th>1</th>\n",
              "      <th>2</th>\n",
              "      <th>3</th>\n",
              "      <th>4</th>\n",
              "      <th>5</th>\n",
              "    </tr>\n",
              "    <tr>\n",
              "      <th>parameter</th>\n",
              "      <th></th>\n",
              "      <th></th>\n",
              "      <th></th>\n",
              "      <th></th>\n",
              "      <th></th>\n",
              "      <th></th>\n",
              "    </tr>\n",
              "  </thead>\n",
              "  <tbody>\n",
              "    <tr>\n",
              "      <th>primer_probe_sequence</th>\n",
              "      <td>TGTGGGTTCCTTCCTTTGGCA</td>\n",
              "      <td>GTGGGTTCCTTCCTTTGGCA</td>\n",
              "      <td>TGTGGGTTCCTTCCTTTGGC</td>\n",
              "      <td>TGTGGGTTCCTTCCTTTGGCAT</td>\n",
              "      <td>TGGGTTCCTTCCTTTGGCA</td>\n",
              "      <td>GTGGGTTCCTTCCTTTGGCAT</td>\n",
              "    </tr>\n",
              "    <tr>\n",
              "      <th>primer_probe_tm</th>\n",
              "      <td>56.12102</td>\n",
              "      <td>54.550878</td>\n",
              "      <td>54.550878</td>\n",
              "      <td>56.357826</td>\n",
              "      <td>53.094331</td>\n",
              "      <td>54.864863</td>\n",
              "    </tr>\n",
              "    <tr>\n",
              "      <th>primer_probe_gc_percent</th>\n",
              "      <td>52.380952</td>\n",
              "      <td>55.0</td>\n",
              "      <td>55.0</td>\n",
              "      <td>50.0</td>\n",
              "      <td>52.631579</td>\n",
              "      <td>52.380952</td>\n",
              "    </tr>\n",
              "    <tr>\n",
              "      <th>primer_probe</th>\n",
              "      <td>(194, 21)</td>\n",
              "      <td>(195, 20)</td>\n",
              "      <td>(194, 20)</td>\n",
              "      <td>(194, 22)</td>\n",
              "      <td>(196, 19)</td>\n",
              "      <td>(195, 21)</td>\n",
              "    </tr>\n",
              "  </tbody>\n",
              "</table>\n",
              "</div>"
            ],
            "text/plain": [
              "primer_pair                                  0                     1  \\\n",
              "parameter                                                              \n",
              "primer_probe_sequence    TGTGGGTTCCTTCCTTTGGCA  GTGGGTTCCTTCCTTTGGCA   \n",
              "primer_probe_tm                       56.12102             54.550878   \n",
              "primer_probe_gc_percent              52.380952                  55.0   \n",
              "primer_probe                         (194, 21)             (195, 20)   \n",
              "\n",
              "primer_pair                                 2                       3  \\\n",
              "parameter                                                               \n",
              "primer_probe_sequence    TGTGGGTTCCTTCCTTTGGC  TGTGGGTTCCTTCCTTTGGCAT   \n",
              "primer_probe_tm                     54.550878               56.357826   \n",
              "primer_probe_gc_percent                  55.0                    50.0   \n",
              "primer_probe                        (194, 20)               (194, 22)   \n",
              "\n",
              "primer_pair                                4                      5  \n",
              "parameter                                                            \n",
              "primer_probe_sequence    TGGGTTCCTTCCTTTGGCA  GTGGGTTCCTTCCTTTGGCAT  \n",
              "primer_probe_tm                    53.094331              54.864863  \n",
              "primer_probe_gc_percent            52.631579              52.380952  \n",
              "primer_probe                       (196, 19)              (195, 21)  "
            ]
          },
          "execution_count": 25,
          "metadata": {},
          "output_type": "execute_result"
        }
      ],
      "source": [
        "primer_df"
      ]
    },
    {
      "cell_type": "markdown",
      "id": "-aIy4IyoBc7-",
      "metadata": {
        "id": "-aIy4IyoBc7-"
      },
      "source": [
        "### **Checking our primers for specificity to the *Anopheles gambiae* genome**\n",
        "\n",
        "We can use a cool new python package, [gget](https://github.com/pachterlab/gget), to rapidly search our primers against the AgamP3 genome, to ensure they will not amplify any other regions of the genome. gget rapidly queries large databases - in this case we can use the program BLAT to align primer sequences. Unfortunately as the lengths of primer sequences are so short, it is at the limit of BLATs sensitivity, and in some cases, matches are not returned. gget can also currently only query the older AgamP3 assembly. Therefore, it is also recommended run a more exhaustive search in [Primer-BLAST](https://www.ncbi.nlm.nih.gov/tools/primer-blast/)."
      ]
    },
    {
      "cell_type": "code",
      "execution_count": 26,
      "id": "zP4LB2bQBgGg",
      "metadata": {
        "id": "zP4LB2bQBgGg"
      },
      "outputs": [
        {
          "name": "stderr",
          "output_type": "stream",
          "text": [
            "Wed Sep  7 16:22:14 2022 INFO No DNA BLAT matches were found for this sequence in genome anoGam3.\n"
          ]
        },
        {
          "name": "stdout",
          "output_type": "stream",
          "text": [
            "No hit for probe - pair 4\n"
          ]
        },
        {
          "data": {
            "text/html": [
              "<div>\n",
              "<style scoped>\n",
              "    .dataframe tbody tr th:only-of-type {\n",
              "        vertical-align: middle;\n",
              "    }\n",
              "\n",
              "    .dataframe tbody tr th {\n",
              "        vertical-align: top;\n",
              "    }\n",
              "\n",
              "    .dataframe thead th {\n",
              "        text-align: right;\n",
              "    }\n",
              "</style>\n",
              "<table border=\"1\" class=\"dataframe\">\n",
              "  <thead>\n",
              "    <tr style=\"text-align: right;\">\n",
              "      <th></th>\n",
              "      <th></th>\n",
              "      <th>genome</th>\n",
              "      <th>query_size</th>\n",
              "      <th>aligned_start</th>\n",
              "      <th>aligned_end</th>\n",
              "      <th>matches</th>\n",
              "      <th>mismatches</th>\n",
              "      <th>%_aligned</th>\n",
              "      <th>%_matched</th>\n",
              "      <th>chromosome</th>\n",
              "      <th>strand</th>\n",
              "      <th>start</th>\n",
              "      <th>end</th>\n",
              "    </tr>\n",
              "    <tr>\n",
              "      <th></th>\n",
              "      <th>primer</th>\n",
              "      <th></th>\n",
              "      <th></th>\n",
              "      <th></th>\n",
              "      <th></th>\n",
              "      <th></th>\n",
              "      <th></th>\n",
              "      <th></th>\n",
              "      <th></th>\n",
              "      <th></th>\n",
              "      <th></th>\n",
              "      <th></th>\n",
              "      <th></th>\n",
              "    </tr>\n",
              "  </thead>\n",
              "  <tbody>\n",
              "    <tr>\n",
              "      <th>0</th>\n",
              "      <th>probe_0</th>\n",
              "      <td>anoGam3</td>\n",
              "      <td>21</td>\n",
              "      <td>1</td>\n",
              "      <td>21</td>\n",
              "      <td>21</td>\n",
              "      <td>0</td>\n",
              "      <td>100.0</td>\n",
              "      <td>100.0</td>\n",
              "      <td>chrX</td>\n",
              "      <td>+</td>\n",
              "      <td>9499985</td>\n",
              "      <td>9500005</td>\n",
              "    </tr>\n",
              "    <tr>\n",
              "      <th>1</th>\n",
              "      <th>probe_1</th>\n",
              "      <td>anoGam3</td>\n",
              "      <td>20</td>\n",
              "      <td>1</td>\n",
              "      <td>20</td>\n",
              "      <td>20</td>\n",
              "      <td>0</td>\n",
              "      <td>100.0</td>\n",
              "      <td>100.0</td>\n",
              "      <td>chrX</td>\n",
              "      <td>+</td>\n",
              "      <td>9499986</td>\n",
              "      <td>9500005</td>\n",
              "    </tr>\n",
              "    <tr>\n",
              "      <th>2</th>\n",
              "      <th>probe_2</th>\n",
              "      <td>anoGam3</td>\n",
              "      <td>20</td>\n",
              "      <td>1</td>\n",
              "      <td>20</td>\n",
              "      <td>20</td>\n",
              "      <td>0</td>\n",
              "      <td>100.0</td>\n",
              "      <td>100.0</td>\n",
              "      <td>chrX</td>\n",
              "      <td>+</td>\n",
              "      <td>9499985</td>\n",
              "      <td>9500004</td>\n",
              "    </tr>\n",
              "    <tr>\n",
              "      <th>3</th>\n",
              "      <th>probe_3</th>\n",
              "      <td>anoGam3</td>\n",
              "      <td>22</td>\n",
              "      <td>1</td>\n",
              "      <td>22</td>\n",
              "      <td>22</td>\n",
              "      <td>0</td>\n",
              "      <td>100.0</td>\n",
              "      <td>100.0</td>\n",
              "      <td>chrX</td>\n",
              "      <td>+</td>\n",
              "      <td>9499985</td>\n",
              "      <td>9500006</td>\n",
              "    </tr>\n",
              "    <tr>\n",
              "      <th>5</th>\n",
              "      <th>probe_5</th>\n",
              "      <td>anoGam3</td>\n",
              "      <td>21</td>\n",
              "      <td>1</td>\n",
              "      <td>21</td>\n",
              "      <td>21</td>\n",
              "      <td>0</td>\n",
              "      <td>100.0</td>\n",
              "      <td>100.0</td>\n",
              "      <td>chrX</td>\n",
              "      <td>+</td>\n",
              "      <td>9499986</td>\n",
              "      <td>9500006</td>\n",
              "    </tr>\n",
              "  </tbody>\n",
              "</table>\n",
              "</div>"
            ],
            "text/plain": [
              "            genome  query_size  aligned_start  aligned_end  matches  \\\n",
              "  primer                                                              \n",
              "0 probe_0  anoGam3          21              1           21       21   \n",
              "1 probe_1  anoGam3          20              1           20       20   \n",
              "2 probe_2  anoGam3          20              1           20       20   \n",
              "3 probe_3  anoGam3          22              1           22       22   \n",
              "5 probe_5  anoGam3          21              1           21       21   \n",
              "\n",
              "           mismatches  %_aligned  %_matched chromosome strand    start  \\\n",
              "  primer                                                                 \n",
              "0 probe_0           0      100.0      100.0       chrX      +  9499985   \n",
              "1 probe_1           0      100.0      100.0       chrX      +  9499986   \n",
              "2 probe_2           0      100.0      100.0       chrX      +  9499985   \n",
              "3 probe_3           0      100.0      100.0       chrX      +  9499985   \n",
              "5 probe_5           0      100.0      100.0       chrX      +  9499986   \n",
              "\n",
              "               end  \n",
              "  primer            \n",
              "0 probe_0  9500005  \n",
              "1 probe_1  9500005  \n",
              "2 probe_2  9500004  \n",
              "3 probe_3  9500006  \n",
              "5 probe_5  9500006  "
            ]
          },
          "execution_count": 26,
          "metadata": {},
          "output_type": "execute_result"
        }
      ],
      "source": [
        "blat_result_df = AgamPrimer.gget_blat_genome(primer_df, assay_type, assembly='anoGam3')\n",
        "blat_result_df"
      ]
    },
    {
      "cell_type": "markdown",
      "id": "g4r9sQectXxx",
      "metadata": {
        "id": "g4r9sQectXxx"
      },
      "source": [
        "####**We may now have designed suitable primers. However, there are some further considerations...**\n",
        "\n",
        "\n",
        "- Primers **must** be run in [**NCBI Blast**](https://blast.ncbi.nlm.nih.gov/Blast.cgi), to ensure specificity against the host organism, and specificity for the genomic location of interest. I would recommend both doing a general blast and also specifically against *An. gambiae* (TaxonID = 7165).\n",
        "\n",
        "- If in multiplexed use with other primers or probes, primers must not interact with each other. This can be investigated on a one by one basis using the IDT tool [oligoanalyzer](https://eu.idtdna.com/calc/analyzer), though higher throughput algorithms may be required.\n",
        "\n",
        "- If designing Locked Nucleic Acid (LNA) probes for SNP detection, you will want to play around with the placement of LNAs in the oligo sequence, which can allow short probes (~10-14 bases) to bind with high affinity and discriminate between SNPs. IDT have a tool for this which allow you to check the binding affinity between mismatches, though it requires a log in https://eu.idtdna.com/calc/analyzer/lna. \n",
        "\n",
        "- Many more considerations.... [IDT - How to design primers and probes for PCR and qPCR](https://eu.idtdna.com/pages/education/decoded/article/designing-pcr-primers-and-probes)   \n",
        "\n",
        "\\\n",
        "  \n",
        "\n",
        "####**Future development**\n",
        "\n",
        "Any contributions or suggestions on how we can improve this notebook are more than welcome. Please [email](mailto:sanjay.nagi@lstmed.ac.uk) or log an [issue on github](https://github.com/sanjaynagi/primerDesignAg/issues). This notebook and source code for AgamPrimer are located here - https://github.com/sanjaynagi/AgamPrimer/    \n",
        "\n",
        "\\\n",
        "####**References**\n",
        "\n",
        "The Anopheles gambiae 1000 Genomes Consortium (2020). **Genome variation and population structure among 1142 mosquitoes of the African malaria vector species *Anopheles gambiae* and *Anopheles coluzzii***. *Genome Research*, **30**: 1533-1546. \n",
        "https://genome.cshlp.org/content/early/2020/09/25/gr.262790.120\n",
        "\n",
        "Untergasser A, Cutcutache I, Koressaar T, Ye J, Faircloth BC, Remm M and Rozen SG (2012). **Primer3--new capabilities and interfaces**. *Nucleic Acids Research*. 40(15):e115."
      ]
    }
  ],
  "metadata": {
    "colab": {
      "include_colab_link": true,
      "name": "Primer Design in Anopheles gambiae.ipynb",
      "provenance": []
    },
    "kernelspec": {
      "display_name": "Python 3 (ipykernel)",
      "language": "python",
      "name": "python3"
    },
    "language_info": {
      "codemirror_mode": {
        "name": "ipython",
        "version": 3
      },
      "file_extension": ".py",
      "mimetype": "text/x-python",
      "name": "python",
      "nbconvert_exporter": "python",
      "pygments_lexer": "ipython3",
      "version": "3.7.12"
    },
    "vscode": {
      "interpreter": {
        "hash": "710100144729ec1057471750b60f3250df4296be7eb29e7e87fec32ed718ec4b"
      }
    }
  },
  "nbformat": 4,
  "nbformat_minor": 5
}
