{
 "cells": [
  {
   "cell_type": "markdown",
   "id": "815e8658",
   "metadata": {},
   "source": [
    "![banner](https://anopheles-genomic-surveillance.github.io/_images/banner.jpg)\n",
    "\n",
    "***Training course in data analysis for genomic surveillance of African malaria vectors - Workshop 6***\n",
    "\n",
    "---"
   ]
  },
  {
   "cell_type": "markdown",
   "id": "95841879",
   "metadata": {},
   "source": [
    "# Module 1 - AgamPrimer - Primer Design in *Anopheles gambiae*\n",
    "\n",
    "**Theme: Tools & technology**\n",
    "\n",
    "This module introduces a new python package [AgamPrimer](https://github.com/sanjaynagi/AgamPrimer), which uses the [malariagen_data API](https://malariagen.github.io/vector-data/ag3/api.html) and [primer3-py](https://github.com/libnano/primer3-py), to allow us to design DNA primers for the major malaria mosquito, *Anopheles gambiae s.l*. This is useful, as it allows us to consider and avoid genetic variation in the Ag1000g resource during the design of our primers."
   ]
  },
  {
   "cell_type": "markdown",
   "id": "b0ccaed6",
   "metadata": {},
   "source": [
    "## Learning objectives\n",
    "\n",
    "At the end of this module you will be able to:\n",
    "\n",
    "- Explain what DNA primers are, and describe some of their applications.\n",
    "- Explain why it is important to consider SNPs when designing primers.\n",
    "- Design genomic DNA primers to target the *ace1*-G280S mutation.\n",
    "- Design RT-qPCR primers to measure gene expression of the cytochrome P450, CYP9K1. \n",
    "- Design a set of primers in AgamPrimer batch mode to target multiple sites in the genome."
   ]
  },
  {
   "cell_type": "markdown",
   "id": "3cb60aec",
   "metadata": {},
   "source": [
    "## Lecture\n",
    "### English\n",
    "### Francais"
   ]
  },
  {
   "cell_type": "markdown",
   "id": "f07c4647",
   "metadata": {},
   "source": [
    "### Setup\n",
    "Install and import the packages we'll need."
   ]
  },
  {
   "cell_type": "code",
   "execution_count": 65,
   "id": "AM9EeHef6tAD",
   "metadata": {
    "colab": {
     "base_uri": "https://localhost:8080/"
    },
    "id": "AM9EeHef6tAD",
    "outputId": "b33357a8-582f-422a-be52-3d72eb065d1c"
   },
   "outputs": [],
   "source": [
    "# First, install some packages we require\n",
    "#!pip install AgamPrimer==0.4.6 primer3-py malariagen_data kaleido gget -q "
   ]
  },
  {
   "cell_type": "code",
   "execution_count": 66,
   "id": "528ae85d",
   "metadata": {
    "colab": {
     "base_uri": "https://localhost:8080/"
    },
    "id": "528ae85d",
    "outputId": "753faa12-9126-40e9-bbbb-245ed3ead12a"
   },
   "outputs": [],
   "source": [
    "# Import libraries \n",
    "import AgamPrimer\n",
    "import pandas as pd\n",
    "import malariagen_data\n",
    "import primer3\n",
    "import gget\n",
    "\n",
    "#configure plotting with matplotlib\n",
    "%matplotlib inline\n",
    "%config InlineBackend.figure_format = \"retina\""
   ]
  },
  {
   "cell_type": "markdown",
   "id": "c2073e67",
   "metadata": {},
   "source": [
    "Configure access to the MalariaGEN Ag3 data resource."
   ]
  },
  {
   "cell_type": "code",
   "execution_count": 67,
   "id": "338d8c1a",
   "metadata": {},
   "outputs": [
    {
     "data": {
      "application/javascript": [
       "\n",
       "(function(root) {\n",
       "  function now() {\n",
       "    return new Date();\n",
       "  }\n",
       "\n",
       "  const force = true;\n",
       "\n",
       "  if (typeof root._bokeh_onload_callbacks === \"undefined\" || force === true) {\n",
       "    root._bokeh_onload_callbacks = [];\n",
       "    root._bokeh_is_loading = undefined;\n",
       "  }\n",
       "\n",
       "  const JS_MIME_TYPE = 'application/javascript';\n",
       "  const HTML_MIME_TYPE = 'text/html';\n",
       "  const EXEC_MIME_TYPE = 'application/vnd.bokehjs_exec.v0+json';\n",
       "  const CLASS_NAME = 'output_bokeh rendered_html';\n",
       "\n",
       "  /**\n",
       "   * Render data to the DOM node\n",
       "   */\n",
       "  function render(props, node) {\n",
       "    const script = document.createElement(\"script\");\n",
       "    node.appendChild(script);\n",
       "  }\n",
       "\n",
       "  /**\n",
       "   * Handle when an output is cleared or removed\n",
       "   */\n",
       "  function handleClearOutput(event, handle) {\n",
       "    const cell = handle.cell;\n",
       "\n",
       "    const id = cell.output_area._bokeh_element_id;\n",
       "    const server_id = cell.output_area._bokeh_server_id;\n",
       "    // Clean up Bokeh references\n",
       "    if (id != null && id in Bokeh.index) {\n",
       "      Bokeh.index[id].model.document.clear();\n",
       "      delete Bokeh.index[id];\n",
       "    }\n",
       "\n",
       "    if (server_id !== undefined) {\n",
       "      // Clean up Bokeh references\n",
       "      const cmd_clean = \"from bokeh.io.state import curstate; print(curstate().uuid_to_server['\" + server_id + \"'].get_sessions()[0].document.roots[0]._id)\";\n",
       "      cell.notebook.kernel.execute(cmd_clean, {\n",
       "        iopub: {\n",
       "          output: function(msg) {\n",
       "            const id = msg.content.text.trim();\n",
       "            if (id in Bokeh.index) {\n",
       "              Bokeh.index[id].model.document.clear();\n",
       "              delete Bokeh.index[id];\n",
       "            }\n",
       "          }\n",
       "        }\n",
       "      });\n",
       "      // Destroy server and session\n",
       "      const cmd_destroy = \"import bokeh.io.notebook as ion; ion.destroy_server('\" + server_id + \"')\";\n",
       "      cell.notebook.kernel.execute(cmd_destroy);\n",
       "    }\n",
       "  }\n",
       "\n",
       "  /**\n",
       "   * Handle when a new output is added\n",
       "   */\n",
       "  function handleAddOutput(event, handle) {\n",
       "    const output_area = handle.output_area;\n",
       "    const output = handle.output;\n",
       "\n",
       "    // limit handleAddOutput to display_data with EXEC_MIME_TYPE content only\n",
       "    if ((output.output_type != \"display_data\") || (!Object.prototype.hasOwnProperty.call(output.data, EXEC_MIME_TYPE))) {\n",
       "      return\n",
       "    }\n",
       "\n",
       "    const toinsert = output_area.element.find(\".\" + CLASS_NAME.split(' ')[0]);\n",
       "\n",
       "    if (output.metadata[EXEC_MIME_TYPE][\"id\"] !== undefined) {\n",
       "      toinsert[toinsert.length - 1].firstChild.textContent = output.data[JS_MIME_TYPE];\n",
       "      // store reference to embed id on output_area\n",
       "      output_area._bokeh_element_id = output.metadata[EXEC_MIME_TYPE][\"id\"];\n",
       "    }\n",
       "    if (output.metadata[EXEC_MIME_TYPE][\"server_id\"] !== undefined) {\n",
       "      const bk_div = document.createElement(\"div\");\n",
       "      bk_div.innerHTML = output.data[HTML_MIME_TYPE];\n",
       "      const script_attrs = bk_div.children[0].attributes;\n",
       "      for (let i = 0; i < script_attrs.length; i++) {\n",
       "        toinsert[toinsert.length - 1].firstChild.setAttribute(script_attrs[i].name, script_attrs[i].value);\n",
       "        toinsert[toinsert.length - 1].firstChild.textContent = bk_div.children[0].textContent\n",
       "      }\n",
       "      // store reference to server id on output_area\n",
       "      output_area._bokeh_server_id = output.metadata[EXEC_MIME_TYPE][\"server_id\"];\n",
       "    }\n",
       "  }\n",
       "\n",
       "  function register_renderer(events, OutputArea) {\n",
       "\n",
       "    function append_mime(data, metadata, element) {\n",
       "      // create a DOM node to render to\n",
       "      const toinsert = this.create_output_subarea(\n",
       "        metadata,\n",
       "        CLASS_NAME,\n",
       "        EXEC_MIME_TYPE\n",
       "      );\n",
       "      this.keyboard_manager.register_events(toinsert);\n",
       "      // Render to node\n",
       "      const props = {data: data, metadata: metadata[EXEC_MIME_TYPE]};\n",
       "      render(props, toinsert[toinsert.length - 1]);\n",
       "      element.append(toinsert);\n",
       "      return toinsert\n",
       "    }\n",
       "\n",
       "    /* Handle when an output is cleared or removed */\n",
       "    events.on('clear_output.CodeCell', handleClearOutput);\n",
       "    events.on('delete.Cell', handleClearOutput);\n",
       "\n",
       "    /* Handle when a new output is added */\n",
       "    events.on('output_added.OutputArea', handleAddOutput);\n",
       "\n",
       "    /**\n",
       "     * Register the mime type and append_mime function with output_area\n",
       "     */\n",
       "    OutputArea.prototype.register_mime_type(EXEC_MIME_TYPE, append_mime, {\n",
       "      /* Is output safe? */\n",
       "      safe: true,\n",
       "      /* Index of renderer in `output_area.display_order` */\n",
       "      index: 0\n",
       "    });\n",
       "  }\n",
       "\n",
       "  // register the mime type if in Jupyter Notebook environment and previously unregistered\n",
       "  if (root.Jupyter !== undefined) {\n",
       "    const events = require('base/js/events');\n",
       "    const OutputArea = require('notebook/js/outputarea').OutputArea;\n",
       "\n",
       "    if (OutputArea.prototype.mime_types().indexOf(EXEC_MIME_TYPE) == -1) {\n",
       "      register_renderer(events, OutputArea);\n",
       "    }\n",
       "  }\n",
       "\n",
       "  \n",
       "  if (typeof (root._bokeh_timeout) === \"undefined\" || force === true) {\n",
       "    root._bokeh_timeout = Date.now() + 5000;\n",
       "    root._bokeh_failed_load = false;\n",
       "  }\n",
       "\n",
       "  const NB_LOAD_WARNING = {'data': {'text/html':\n",
       "     \"<div style='background-color: #fdd'>\\n\"+\n",
       "     \"<p>\\n\"+\n",
       "     \"BokehJS does not appear to have successfully loaded. If loading BokehJS from CDN, this \\n\"+\n",
       "     \"may be due to a slow or bad network connection. Possible fixes:\\n\"+\n",
       "     \"</p>\\n\"+\n",
       "     \"<ul>\\n\"+\n",
       "     \"<li>re-rerun `output_notebook()` to attempt to load from CDN again, or</li>\\n\"+\n",
       "     \"<li>use INLINE resources instead, as so:</li>\\n\"+\n",
       "     \"</ul>\\n\"+\n",
       "     \"<code>\\n\"+\n",
       "     \"from bokeh.resources import INLINE\\n\"+\n",
       "     \"output_notebook(resources=INLINE)\\n\"+\n",
       "     \"</code>\\n\"+\n",
       "     \"</div>\"}};\n",
       "\n",
       "  function display_loaded() {\n",
       "    const el = document.getElementById(null);\n",
       "    if (el != null) {\n",
       "      el.textContent = \"BokehJS is loading...\";\n",
       "    }\n",
       "    if (root.Bokeh !== undefined) {\n",
       "      if (el != null) {\n",
       "        el.textContent = \"BokehJS \" + root.Bokeh.version + \" successfully loaded.\";\n",
       "      }\n",
       "    } else if (Date.now() < root._bokeh_timeout) {\n",
       "      setTimeout(display_loaded, 100)\n",
       "    }\n",
       "  }\n",
       "\n",
       "\n",
       "  function run_callbacks() {\n",
       "    try {\n",
       "      root._bokeh_onload_callbacks.forEach(function(callback) {\n",
       "        if (callback != null)\n",
       "          callback();\n",
       "      });\n",
       "    } finally {\n",
       "      delete root._bokeh_onload_callbacks\n",
       "    }\n",
       "    console.debug(\"Bokeh: all callbacks have finished\");\n",
       "  }\n",
       "\n",
       "  function load_libs(css_urls, js_urls, callback) {\n",
       "    if (css_urls == null) css_urls = [];\n",
       "    if (js_urls == null) js_urls = [];\n",
       "\n",
       "    root._bokeh_onload_callbacks.push(callback);\n",
       "    if (root._bokeh_is_loading > 0) {\n",
       "      console.debug(\"Bokeh: BokehJS is being loaded, scheduling callback at\", now());\n",
       "      return null;\n",
       "    }\n",
       "    if (js_urls == null || js_urls.length === 0) {\n",
       "      run_callbacks();\n",
       "      return null;\n",
       "    }\n",
       "    console.debug(\"Bokeh: BokehJS not loaded, scheduling load and callback at\", now());\n",
       "    root._bokeh_is_loading = css_urls.length + js_urls.length;\n",
       "\n",
       "    function on_load() {\n",
       "      root._bokeh_is_loading--;\n",
       "      if (root._bokeh_is_loading === 0) {\n",
       "        console.debug(\"Bokeh: all BokehJS libraries/stylesheets loaded\");\n",
       "        run_callbacks()\n",
       "      }\n",
       "    }\n",
       "\n",
       "    function on_error(url) {\n",
       "      console.error(\"failed to load \" + url);\n",
       "    }\n",
       "\n",
       "    for (let i = 0; i < css_urls.length; i++) {\n",
       "      const url = css_urls[i];\n",
       "      const element = document.createElement(\"link\");\n",
       "      element.onload = on_load;\n",
       "      element.onerror = on_error.bind(null, url);\n",
       "      element.rel = \"stylesheet\";\n",
       "      element.type = \"text/css\";\n",
       "      element.href = url;\n",
       "      console.debug(\"Bokeh: injecting link tag for BokehJS stylesheet: \", url);\n",
       "      document.body.appendChild(element);\n",
       "    }\n",
       "\n",
       "    for (let i = 0; i < js_urls.length; i++) {\n",
       "      const url = js_urls[i];\n",
       "      const element = document.createElement('script');\n",
       "      element.onload = on_load;\n",
       "      element.onerror = on_error.bind(null, url);\n",
       "      element.async = false;\n",
       "      element.src = url;\n",
       "      console.debug(\"Bokeh: injecting script tag for BokehJS library: \", url);\n",
       "      document.head.appendChild(element);\n",
       "    }\n",
       "  };\n",
       "\n",
       "  function inject_raw_css(css) {\n",
       "    const element = document.createElement(\"style\");\n",
       "    element.appendChild(document.createTextNode(css));\n",
       "    document.body.appendChild(element);\n",
       "  }\n",
       "\n",
       "  \n",
       "  const js_urls = [\"https://cdn.bokeh.org/bokeh/release/bokeh-2.4.2.min.js\", \"https://cdn.bokeh.org/bokeh/release/bokeh-gl-2.4.2.min.js\", \"https://cdn.bokeh.org/bokeh/release/bokeh-widgets-2.4.2.min.js\", \"https://cdn.bokeh.org/bokeh/release/bokeh-tables-2.4.2.min.js\", \"https://cdn.bokeh.org/bokeh/release/bokeh-mathjax-2.4.2.min.js\"];\n",
       "  const css_urls = [];\n",
       "  \n",
       "\n",
       "  const inline_js = [\n",
       "    function(Bokeh) {\n",
       "      Bokeh.set_log_level(\"info\");\n",
       "    },\n",
       "    function(Bokeh) {\n",
       "    \n",
       "    \n",
       "    }\n",
       "  ];\n",
       "\n",
       "  function run_inline_js() {\n",
       "    \n",
       "    if (root.Bokeh !== undefined || force === true) {\n",
       "      \n",
       "    for (let i = 0; i < inline_js.length; i++) {\n",
       "      inline_js[i].call(root, root.Bokeh);\n",
       "    }\n",
       "    } else if (Date.now() < root._bokeh_timeout) {\n",
       "      setTimeout(run_inline_js, 100);\n",
       "    } else if (!root._bokeh_failed_load) {\n",
       "      console.log(\"Bokeh: BokehJS failed to load within specified timeout.\");\n",
       "      root._bokeh_failed_load = true;\n",
       "    } else if (force !== true) {\n",
       "      const cell = $(document.getElementById(null)).parents('.cell').data().cell;\n",
       "      cell.output_area.append_execute_result(NB_LOAD_WARNING)\n",
       "    }\n",
       "\n",
       "  }\n",
       "\n",
       "  if (root._bokeh_is_loading === 0) {\n",
       "    console.debug(\"Bokeh: BokehJS loaded, going straight to plotting\");\n",
       "    run_inline_js();\n",
       "  } else {\n",
       "    load_libs(css_urls, js_urls, function() {\n",
       "      console.debug(\"Bokeh: BokehJS plotting callback run at\", now());\n",
       "      run_inline_js();\n",
       "    });\n",
       "  }\n",
       "}(window));"
      ],
      "application/vnd.bokehjs_load.v0+json": "\n(function(root) {\n  function now() {\n    return new Date();\n  }\n\n  const force = true;\n\n  if (typeof root._bokeh_onload_callbacks === \"undefined\" || force === true) {\n    root._bokeh_onload_callbacks = [];\n    root._bokeh_is_loading = undefined;\n  }\n\n  \n\n  \n  if (typeof (root._bokeh_timeout) === \"undefined\" || force === true) {\n    root._bokeh_timeout = Date.now() + 5000;\n    root._bokeh_failed_load = false;\n  }\n\n  const NB_LOAD_WARNING = {'data': {'text/html':\n     \"<div style='background-color: #fdd'>\\n\"+\n     \"<p>\\n\"+\n     \"BokehJS does not appear to have successfully loaded. If loading BokehJS from CDN, this \\n\"+\n     \"may be due to a slow or bad network connection. Possible fixes:\\n\"+\n     \"</p>\\n\"+\n     \"<ul>\\n\"+\n     \"<li>re-rerun `output_notebook()` to attempt to load from CDN again, or</li>\\n\"+\n     \"<li>use INLINE resources instead, as so:</li>\\n\"+\n     \"</ul>\\n\"+\n     \"<code>\\n\"+\n     \"from bokeh.resources import INLINE\\n\"+\n     \"output_notebook(resources=INLINE)\\n\"+\n     \"</code>\\n\"+\n     \"</div>\"}};\n\n  function display_loaded() {\n    const el = document.getElementById(null);\n    if (el != null) {\n      el.textContent = \"BokehJS is loading...\";\n    }\n    if (root.Bokeh !== undefined) {\n      if (el != null) {\n        el.textContent = \"BokehJS \" + root.Bokeh.version + \" successfully loaded.\";\n      }\n    } else if (Date.now() < root._bokeh_timeout) {\n      setTimeout(display_loaded, 100)\n    }\n  }\n\n\n  function run_callbacks() {\n    try {\n      root._bokeh_onload_callbacks.forEach(function(callback) {\n        if (callback != null)\n          callback();\n      });\n    } finally {\n      delete root._bokeh_onload_callbacks\n    }\n    console.debug(\"Bokeh: all callbacks have finished\");\n  }\n\n  function load_libs(css_urls, js_urls, callback) {\n    if (css_urls == null) css_urls = [];\n    if (js_urls == null) js_urls = [];\n\n    root._bokeh_onload_callbacks.push(callback);\n    if (root._bokeh_is_loading > 0) {\n      console.debug(\"Bokeh: BokehJS is being loaded, scheduling callback at\", now());\n      return null;\n    }\n    if (js_urls == null || js_urls.length === 0) {\n      run_callbacks();\n      return null;\n    }\n    console.debug(\"Bokeh: BokehJS not loaded, scheduling load and callback at\", now());\n    root._bokeh_is_loading = css_urls.length + js_urls.length;\n\n    function on_load() {\n      root._bokeh_is_loading--;\n      if (root._bokeh_is_loading === 0) {\n        console.debug(\"Bokeh: all BokehJS libraries/stylesheets loaded\");\n        run_callbacks()\n      }\n    }\n\n    function on_error(url) {\n      console.error(\"failed to load \" + url);\n    }\n\n    for (let i = 0; i < css_urls.length; i++) {\n      const url = css_urls[i];\n      const element = document.createElement(\"link\");\n      element.onload = on_load;\n      element.onerror = on_error.bind(null, url);\n      element.rel = \"stylesheet\";\n      element.type = \"text/css\";\n      element.href = url;\n      console.debug(\"Bokeh: injecting link tag for BokehJS stylesheet: \", url);\n      document.body.appendChild(element);\n    }\n\n    for (let i = 0; i < js_urls.length; i++) {\n      const url = js_urls[i];\n      const element = document.createElement('script');\n      element.onload = on_load;\n      element.onerror = on_error.bind(null, url);\n      element.async = false;\n      element.src = url;\n      console.debug(\"Bokeh: injecting script tag for BokehJS library: \", url);\n      document.head.appendChild(element);\n    }\n  };\n\n  function inject_raw_css(css) {\n    const element = document.createElement(\"style\");\n    element.appendChild(document.createTextNode(css));\n    document.body.appendChild(element);\n  }\n\n  \n  const js_urls = [\"https://cdn.bokeh.org/bokeh/release/bokeh-2.4.2.min.js\", \"https://cdn.bokeh.org/bokeh/release/bokeh-gl-2.4.2.min.js\", \"https://cdn.bokeh.org/bokeh/release/bokeh-widgets-2.4.2.min.js\", \"https://cdn.bokeh.org/bokeh/release/bokeh-tables-2.4.2.min.js\", \"https://cdn.bokeh.org/bokeh/release/bokeh-mathjax-2.4.2.min.js\"];\n  const css_urls = [];\n  \n\n  const inline_js = [\n    function(Bokeh) {\n      Bokeh.set_log_level(\"info\");\n    },\n    function(Bokeh) {\n    \n    \n    }\n  ];\n\n  function run_inline_js() {\n    \n    if (root.Bokeh !== undefined || force === true) {\n      \n    for (let i = 0; i < inline_js.length; i++) {\n      inline_js[i].call(root, root.Bokeh);\n    }\n    } else if (Date.now() < root._bokeh_timeout) {\n      setTimeout(run_inline_js, 100);\n    } else if (!root._bokeh_failed_load) {\n      console.log(\"Bokeh: BokehJS failed to load within specified timeout.\");\n      root._bokeh_failed_load = true;\n    } else if (force !== true) {\n      const cell = $(document.getElementById(null)).parents('.cell').data().cell;\n      cell.output_area.append_execute_result(NB_LOAD_WARNING)\n    }\n\n  }\n\n  if (root._bokeh_is_loading === 0) {\n    console.debug(\"Bokeh: BokehJS loaded, going straight to plotting\");\n    run_inline_js();\n  } else {\n    load_libs(css_urls, js_urls, function() {\n      console.debug(\"Bokeh: BokehJS plotting callback run at\", now());\n      run_inline_js();\n    });\n  }\n}(window));"
     },
     "metadata": {},
     "output_type": "display_data"
    },
    {
     "data": {
      "text/html": [
       "\n",
       "            <table class=\"malariagen-ag3\">\n",
       "                <thead>\n",
       "                    <tr>\n",
       "                        <th style=\"text-align: left\" colspan=\"2\">MalariaGEN Ag3 API client</th>\n",
       "                    </tr>\n",
       "                    <tr><td colspan=\"2\" style=\"text-align: left\">\n",
       "                        Please note that data are subject to terms of use,\n",
       "                        for more information see <a href=\"https://www.malariagen.net/data\">\n",
       "                        the MalariaGEN website</a> or contact data@malariagen.net.\n",
       "                        See also the <a href=\"https://malariagen.github.io/vector-data/ag3/api.html\">Ag3 API docs</a>.\n",
       "                    </td></tr>\n",
       "                </thead>\n",
       "                <tbody>\n",
       "                    <tr>\n",
       "                        <th style=\"text-align: left\">\n",
       "                            Storage URL\n",
       "                        </th>\n",
       "                        <td>gs://vo_agam_release/</td>\n",
       "                    </tr>\n",
       "                    <tr>\n",
       "                        <th style=\"text-align: left\">\n",
       "                            Data releases available\n",
       "                        </th>\n",
       "                        <td>3.0</td>\n",
       "                    </tr>\n",
       "                    <tr>\n",
       "                        <th style=\"text-align: left\">\n",
       "                            Results cache\n",
       "                        </th>\n",
       "                        <td>None</td>\n",
       "                    </tr>\n",
       "                    <tr>\n",
       "                        <th style=\"text-align: left\">\n",
       "                            Cohorts analysis\n",
       "                        </th>\n",
       "                        <td>20220608</td>\n",
       "                    </tr>\n",
       "                    <tr>\n",
       "                        <th style=\"text-align: left\">\n",
       "                            Species analysis\n",
       "                        </th>\n",
       "                        <td>aim_20220528</td>\n",
       "                    </tr>\n",
       "                    <tr>\n",
       "                        <th style=\"text-align: left\">\n",
       "                            Site filters analysis\n",
       "                        </th>\n",
       "                        <td>dt_20200416</td>\n",
       "                    </tr>\n",
       "                    <tr>\n",
       "                        <th style=\"text-align: left\">\n",
       "                            Software version\n",
       "                        </th>\n",
       "                        <td>malariagen_data 6.0.1</td>\n",
       "                    </tr>\n",
       "                    <tr>\n",
       "                        <th style=\"text-align: left\">\n",
       "                            Client location\n",
       "                        </th>\n",
       "                        <td>England, GB</td>\n",
       "                    </tr>\n",
       "                </tbody>\n",
       "            </table>\n",
       "        "
      ],
      "text/plain": [
       "<MalariaGEN Ag3 API client>\n",
       "Storage URL             : gs://vo_agam_release/\n",
       "Data releases available : 3.0\n",
       "Results cache           : None\n",
       "Cohorts analysis        : 20220608\n",
       "Species analysis        : aim_20220528\n",
       "Site filters analysis   : dt_20200416\n",
       "Software version        : malariagen_data 6.0.1\n",
       "Client location         : England, GB\n",
       "---\n",
       "Please note that data are subject to terms of use,\n",
       "for more information see https://www.malariagen.net/data\n",
       "or contact data@malariagen.net. For API documentation see \n",
       "https://malariagen.github.io/vector-data/ag3/api.html"
      ]
     },
     "execution_count": 67,
     "metadata": {},
     "output_type": "execute_result"
    }
   ],
   "source": [
    "ag3 = malariagen_data.Ag3()\n",
    "ag3"
   ]
  },
  {
   "cell_type": "markdown",
   "id": "527ff02d",
   "metadata": {},
   "source": [
    "## Introduction\n",
    "### Recap - Primers\n",
    "\n",
    "\n",
    "A primer is a short single-stranded nucleic acid used by all living organisms in the initiation of DNA synthesis. DNA polymerase (responsible for DNA replication) enzymes are only capable of adding nucleotides to the 3’-end of an existing nucleic acid, requiring a primer be bound to the template before DNA polymerase can begin a complementary strand.\n",
    "\n",
    "<img src=\"graphics/teaching/primer.png\" alt=\"Drawing\" style=\"width: 800px; height: 400px\"/>\n",
    "\n",
    "In many molecular biology applications we use synthetic DNA primers alongside the polymerase chain reaction (PCR) to amplify regions of DNA that we are interested in.\n",
    "\n",
    "- PCR (Detection / Genotyping) \n",
    "- Real-time quantitative PCR  (Detection / Genotyping / Gene expression)\n",
    "    - SYBR\n",
    "    - Locked Nucleic Acid (LNA)\n",
    "    - TaqMan\n",
    "- Cloning\n",
    "- Next generation sequencing\n",
    "    - Amplicon sequencing\n",
    "\n",
    "### Primer Design\n",
    "\n",
    "Suitable primers are crucial to effective PCR reactions and must be designed to be robust, reliable and consistent across experimental conditions. \n",
    "\n",
    "Primers are typically designed with the following characteristics:\n",
    "\n",
    " - **Size**: Between 17-24 bases long\n",
    "     - This can vary depending on the application. Often, hybridisation probes are shorter. Shorter primers may be less specific, whereas longer primers may have a slower hybridisation rate.\n",
    " - **Tm**: A Melting temperature of 59–64°C, with an ideal temperature of 62°C, which is based on typical PCR conditions and the optimum temperature for PCR enzymes.\n",
    " - **Ta**: The annealing temperature chosen for PCR relies directly on length and composition of the primers. This temperature should be no more than 5°C below the Tm of your primers.\n",
    " - **GC content**: Design your assay so that the GC content is 35–65%, with an ideal content of 50%, which allows complexity while still maintaining a unique sequence. Primer sequences should not contain regions of 4 or more consecutive G residues. \n",
    " \n",
    "Primers should also be free of strong secondary structures and self-complementarity. \n",
    "\n",
    "### SNPs / Mismatches in primer binding sites\n",
    "\n",
    "<figure style=\"float: right; width: 500px;\">\n",
    "    <img src=\"graphics/teaching/primer_snp.png\" alt=\"Drawing\"/>\n",
    "    <figcaption>Figure 2: Mismatches reduce the efficiency of primer extension<sup>[1]</sup><br>.</figcaption>\n",
    "</figure>\n",
    "\n",
    "Single nucleotide polymorphisms (SNPs) in primer binding sites can affect both the stability and *Tm* of the primer-template duplex, as well as the efficiency with which DNA polymerases can extend the primer (Figure 2). In some cases, this can completely prevent primer binding and amplification of the template DNA, often referred to as null alleles. If performing PCR on individual samples, this phenomenon can usually be identified with repeated, failed efforts to amplify. However, null alleles can become particular troublesome when performing PCR on pooled samples, where we may not observe whether all samples amplified successfully, and so we may not be sampling and observing the full range of alleles.\n",
    "\n",
    "<figure style=\"float: right; width: 500px;\">\n",
    "    <img src=\"graphics/teaching/snps_primer.jpg\" alt=\"Drawing\"/>\n",
    "    <figcaption>Figure 3: Mismatches at the 3’ end of primers substantially reduce qPCR performance <sup>[1]</sup>.</figcaption>\n",
    "</figure>\n",
    "\n",
    "An equally problematic scenario may occur if primers bind but with unequal efficiency against different genetic variants. In this case, in any quantitative molecular assay such as qPCR for gene expression, SNPs could lead to biases in the estimation of gene expression between genetic variants or strains. Even single mismatches can introduce a variety of effects, ranging from minor to major impacts on Cq values <sup>[1]</sup>. The effect will depend on the type of mismatch (which nucleotides are involved), and on the position of the SNP (3’ or 5’ end), as mismatches within the last 5 nucleotides at the 3’ end can disrupt the nearby polymerase active site, and so these mismatches tend to have a much greater impact <sup>[2]</sup>. Mismatches at the terminal 3’ base had the strongest shift of Cq, altering Cq by as much as 5–7 cycles (Figure 3).\n",
    "\n",
    "To maximise the accuracy of our data we should therefore aim to either design primers that avoid SNPs completely or that contain a mix of bases (degenerate) at the sites of SNPs. There is a useful article on this topic on the IDT website - [Consider SNPs when designing PCR and qPCR assays](https://eu.idtdna.com/pages/education/decoded/article/considering-snps-when-designing-pcr-and-qpcr-assays).\n",
    "\n",
    "<br> \n",
    "<br>\n",
    "\n",
    "### Ag1000g\n",
    "\n",
    "As we have seen in earlier workshops, the Ag1000g resource <sup>[3]</sup> has revealed extreme amounts of [genetic variation in *Anopheles gambiae s.l*](https://genome.cshlp.org/content/30/10/1533.full). You can find a SNP in less than every 2 bases of the accessible genome - which makes considering SNPs even more important when designing molecular assays. However, it was not previously straightforward to consider genetic variation when designing primers, and so the vast majority of primers currently in use did not consider SNP variation during their design.\n",
    "\n",
    "Primer3 is the most widely cited program for primer design, and has been used extensively over the past two decades <sup>[4]</sup>. It is also the primer design engine behind [Primer-BLAST](https://www.ncbi.nlm.nih.gov/tools/primer-blast/) <sup>[5]</sup>, a web-server which designs primers and then blasts the primers to check for specificity. Thanks to the [primer3-py](https://github.com/libnano/primer3-py) python package and the fantastic [malariagen_data API](https://malariagen.github.io/vector-data/ag3/api.html), it is now possible to design primers in the cloud with google colab, considering SNP variation.\n",
    "\n",
    "---\n",
    "\n",
    "## Designing primers for the *ace1*-280S mutation\n",
    "\n",
    "In the rest of this module, we will design primers and probes for the *ace1*-280S mutation (previously *ace1*-119S). This mutation is known to be important in resistance to organophosphates and carbamates, insecticides which are widely used in indoor residual spraying (IRS). The resistance mutation has spread throughout much of west and central Africa, including introgressing from *An. gambiae* to *An. coluzzii*, and is often found on the background of large duplications which often pair wild-type and mutant alleles <sup>[6]</sup>. We see very large signals of selection at this locus in many contemporary populations of *An. gambiae*. \n",
    "\n",
    "  ----\n",
    "\n",
    "\n",
    "\n",
    "<figure style=\"width: 800px;\">\n",
    "    <img src=\"graphics/teaching/ace1.png\" alt=\"Drawing\"/>\n",
    "    <figcaption>Combination of Ace1 genotypes and CNVs, taken from Grau-Bove et al.<sup>[6]</sup></figcaption>\n",
    "</figure>\n"
   ]
  },
  {
   "cell_type": "markdown",
   "id": "86bb7919",
   "metadata": {},
   "source": [
    "### Selecting our design parameters"
   ]
  },
  {
   "cell_type": "code",
   "execution_count": 68,
   "id": "SV03ewwc9de8",
   "metadata": {
    "cellView": "form",
    "id": "SV03ewwc9de8"
   },
   "outputs": [],
   "source": [
    "#@title **Selecting Primer Parameters** { run: \"auto\" }\n",
    "#@markdown In the below cells, replace the values with those desired for your primers.\n",
    "\n",
    "assay_type = \"gDNA primers + probe\"           #@param [\"gDNA primers\", \"gDNA primers + probe\", \"probe\", \"qPCR primers\"]\n",
    "assay_name = 'ace1-280s'                            #@param {type:\"string\"}\n",
    "min_amplicon_size = 60                        #@param {type:\"integer\"}\n",
    "max_amplicon_size = 120                       #@param {type:\"integer\"}\n",
    "amplicon_size_range = [[min_amplicon_size, max_amplicon_size]]\n",
    "n_primer_pairs = 6                            #@param {type:\"slider\", min:1, max:20, step:1}\n",
    "\n",
    "#@markdown    \n",
    "#@markdown target_loc is required for gDNA primers and probes, and transcript required for qPCR primers.\n",
    "contig =  \"2R\"                                 #@param ['2L', '2R', '3L', '3R', 'X']\n",
    "\n",
    "target_loc =  '3492074'                       #@param {type:\"string\"}\n",
    "target_loc = int(target_loc)\n",
    "transcript =  ''                               #@param {type:\"string\"} \n",
    "\n",
    "\n",
    "if any(item in assay_type for item in ['gDNA', 'probe']):\n",
    "  assert target_loc > 0, \"Target location must be above 0 and less than the contig length\"\n",
    "elif assay_type == 'qPCR primers':\n",
    "  assert len(transcript) > 2, \"Transcript ID is not valid, should be vectorbase ID such as 'AGAP004707-RD'\""
   ]
  },
  {
   "cell_type": "markdown",
   "id": "aa733775",
   "metadata": {
    "id": "aa733775"
   },
   "source": [
    "Load sequence data for the chromosomal arm of choice, using the [malariagen_data API](https://malariagen.github.io/vector-data/ag3/api.html):"
   ]
  },
  {
   "cell_type": "code",
   "execution_count": 69,
   "id": "5fa0be8d",
   "metadata": {
    "colab": {
     "base_uri": "https://localhost:8080/"
    },
    "id": "5fa0be8d",
    "outputId": "a5fbb80c-3cb9-4d6b-940e-fc79b52301e3"
   },
   "outputs": [
    {
     "name": "stdout",
     "output_type": "stream",
     "text": [
      "Our genome sequence for 2R is 61545105 bp long\n"
     ]
    }
   ],
   "source": [
    "genome_seq = ag3.genome_sequence(region=contig)\n",
    "print(f\"Our genome sequence for {contig} is {genome_seq.shape[0]} bp long\")"
   ]
  },
  {
   "cell_type": "code",
   "execution_count": 70,
   "id": "ca17f051",
   "metadata": {},
   "outputs": [
    {
     "data": {
      "text/html": [
       "<table>\n",
       "    <tr>\n",
       "        <td>\n",
       "            <table>\n",
       "                <thead>\n",
       "                    <tr>\n",
       "                        <td> </td>\n",
       "                        <th> Array </th>\n",
       "                        <th> Chunk </th>\n",
       "                    </tr>\n",
       "                </thead>\n",
       "                <tbody>\n",
       "                    \n",
       "                    <tr>\n",
       "                        <th> Bytes </th>\n",
       "                        <td> 58.69 MiB </td>\n",
       "                        <td> 9.54 MiB </td>\n",
       "                    </tr>\n",
       "                    \n",
       "                    <tr>\n",
       "                        <th> Shape </th>\n",
       "                        <td> (61545105,) </td>\n",
       "                        <td> (10000000,) </td>\n",
       "                    </tr>\n",
       "                    <tr>\n",
       "                        <th> Count </th>\n",
       "                        <td> 7 Tasks </td>\n",
       "                        <td> 7 Chunks </td>\n",
       "                    </tr>\n",
       "                    <tr>\n",
       "                    <th> Type </th>\n",
       "                    <td> |S1 </td>\n",
       "                    <td> numpy.ndarray </td>\n",
       "                    </tr>\n",
       "                </tbody>\n",
       "            </table>\n",
       "        </td>\n",
       "        <td>\n",
       "        <svg width=\"170\" height=\"75\" style=\"stroke:rgb(0,0,0);stroke-width:1\" >\n",
       "\n",
       "  <!-- Horizontal lines -->\n",
       "  <line x1=\"0\" y1=\"0\" x2=\"120\" y2=\"0\" style=\"stroke-width:2\" />\n",
       "  <line x1=\"0\" y1=\"25\" x2=\"120\" y2=\"25\" style=\"stroke-width:2\" />\n",
       "\n",
       "  <!-- Vertical lines -->\n",
       "  <line x1=\"0\" y1=\"0\" x2=\"0\" y2=\"25\" style=\"stroke-width:2\" />\n",
       "  <line x1=\"19\" y1=\"0\" x2=\"19\" y2=\"25\" />\n",
       "  <line x1=\"38\" y1=\"0\" x2=\"38\" y2=\"25\" />\n",
       "  <line x1=\"58\" y1=\"0\" x2=\"58\" y2=\"25\" />\n",
       "  <line x1=\"77\" y1=\"0\" x2=\"77\" y2=\"25\" />\n",
       "  <line x1=\"97\" y1=\"0\" x2=\"97\" y2=\"25\" />\n",
       "  <line x1=\"116\" y1=\"0\" x2=\"116\" y2=\"25\" />\n",
       "  <line x1=\"120\" y1=\"0\" x2=\"120\" y2=\"25\" style=\"stroke-width:2\" />\n",
       "\n",
       "  <!-- Colored Rectangle -->\n",
       "  <polygon points=\"0.0,0.0 120.0,0.0 120.0,25.412616514582485 0.0,25.412616514582485\" style=\"fill:#ECB172A0;stroke-width:0\"/>\n",
       "\n",
       "  <!-- Text -->\n",
       "  <text x=\"60.000000\" y=\"45.412617\" font-size=\"1.0rem\" font-weight=\"100\" text-anchor=\"middle\" >61545105</text>\n",
       "  <text x=\"140.000000\" y=\"12.706308\" font-size=\"1.0rem\" font-weight=\"100\" text-anchor=\"middle\" transform=\"rotate(0,140.000000,12.706308)\">1</text>\n",
       "</svg>\n",
       "        </td>\n",
       "    </tr>\n",
       "</table>"
      ],
      "text/plain": [
       "dask.array<array, shape=(61545105,), dtype=|S1, chunksize=(10000000,), chunktype=numpy.ndarray>"
      ]
     },
     "execution_count": 70,
     "metadata": {},
     "output_type": "execute_result"
    }
   ],
   "source": [
    "genome_seq"
   ]
  },
  {
   "cell_type": "markdown",
   "id": "144a37ce",
   "metadata": {
    "id": "144a37ce"
   },
   "source": [
    "Now we need to extract the bit of genome sequence we need. We will use functions in the [AgamPrimer](https://pypi.org/project/AgamPrimer/) package. For genomic DNA primers, this is quite simple and we can make direct use of the `ag3.genome_sequence()` function, but for cDNA qPCR primers, we must only include coding sequence, and so we must concatenate exons together.\n",
    "\n",
    "With qPCR primers for cDNA, we also must ensure that one primer spans an exon-exon junction, to ensure that any residual genomic DNA in our samples does not get amplified. We must therefore make a note of where the exon junctions are, and we store that as a list in the `exon_junctions` variable."
   ]
  },
  {
   "cell_type": "code",
   "execution_count": 71,
   "id": "R0CkEd38VXGY",
   "metadata": {
    "colab": {
     "base_uri": "https://localhost:8080/"
    },
    "id": "R0CkEd38VXGY",
    "outputId": "5f8509f0-a2c3-42b4-cd92-10e3ee97d016"
   },
   "outputs": [
    {
     "name": "stdout",
     "output_type": "stream",
     "text": [
      "The target sequence is 179 bases long\n",
      "the target snp is 89 bp into our target sequence\n"
     ]
    }
   ],
   "source": [
    "if any(item in assay_type for item in ['gDNA', 'probe']):\n",
    "  # genomic DNA\n",
    "  target_sequence, gdna_pos, seq_parameters = AgamPrimer.prepare_gDNA_sequence(target_loc=target_loc, amplicon_size_range=amplicon_size_range, genome_seq=genome_seq, assay_name=assay_name, assay_type=assay_type)\n",
    "elif assay_type == 'qPCR primers':\n",
    "  # RT-quantitative PCR, cDNA\n",
    "  target_sequence, exon_junctions, gdna_pos, seq_parameters = AgamPrimer.prepare_cDNA_sequence(transcript=transcript, gff=ag3.geneset(), genome_seq=genome_seq, assay_name=assay_name)"
   ]
  },
  {
   "cell_type": "markdown",
   "id": "_aaCJGAXUCSx",
   "metadata": {
    "id": "_aaCJGAXUCSx"
   },
   "source": [
    "Now we have our target sequence. Lets take a look..."
   ]
  },
  {
   "cell_type": "code",
   "execution_count": 72,
   "id": "nDaWXq7f9hyA",
   "metadata": {
    "colab": {
     "base_uri": "https://localhost:8080/",
     "height": 113
    },
    "id": "nDaWXq7f9hyA",
    "outputId": "87738985-33ee-4dc2-ba52-195d4ac095b9"
   },
   "outputs": [
    {
     "data": {
      "text/plain": [
       "'CCCTGTCCGAGGACTGTCTGTACATTAACGTGGTGGCACCGCGACCCCGGCCCAAGAATGCGGCCGTCATGCTGTGGATCTTCGGCGGCGGCTTCTACTCCGGCACCGCCACCCTGGACGTGTACGACCACCGGGCGCTTGCGTCGGAGGAGAACGTGATCGTGGTGTCGCTGCAGTAC'"
      ]
     },
     "execution_count": 72,
     "metadata": {},
     "output_type": "execute_result"
    }
   ],
   "source": [
    "seq_parameters['SEQUENCE_TEMPLATE']"
   ]
  },
  {
   "cell_type": "markdown",
   "id": "38fe2530",
   "metadata": {
    "id": "38fe2530"
   },
   "source": [
    "We need to set up a second python dictionary, which will be our input to primer3. This contains our preferred primer parameters. In the below cell, you can modify or add primer3 parameters, such as optimal primer size, TM, GC content etc etc. A full list of possible parameters and their functions can be found in the [primer3 2.3.7 manual](https://htmlpreview.github.io/?https://github.com/libnano/primer3-py/master/primer3/src/libprimer3/primer3_manual.htm)."
   ]
  },
  {
   "cell_type": "code",
   "execution_count": 73,
   "id": "622ac6d9",
   "metadata": {
    "id": "622ac6d9"
   },
   "outputs": [],
   "source": [
    "primer_parameters  =  {\n",
    "        'PRIMER_NUM_RETURN':n_primer_pairs,\n",
    "        'PRIMER_OPT_SIZE': 20,\n",
    "        'PRIMER_TASK':'generic',\n",
    "        'PRIMER_MIN_SIZE': 17,\n",
    "        'PRIMER_MAX_SIZE': 24,\n",
    "        'PRIMER_OPT_TM': 60.0,\n",
    "        'PRIMER_MIN_TM': 55.0,\n",
    "        'PRIMER_MAX_TM': 64.0,\n",
    "        'PRIMER_MIN_GC': 30.0,\n",
    "        'PRIMER_MAX_GC': 75.0,\n",
    "        'PRIMER_PRODUCT_SIZE_RANGE': amplicon_size_range,\n",
    "        'PRIMER_MIN_THREE_PRIME_DISTANCE':3,          # this parameter is the minimum distance between successive pairs. If 1, it means successive primer pairs could be identical bar one base shift\n",
    "        'PRIMER_INTERNAL_OPT_SIZE': 16,               # Probe size preferences if selected, otherwise ignored\n",
    "        'PRIMER_INTERNAL_MIN_SIZE': 10,\n",
    "        'PRIMER_INTERNAL_MAX_SIZE': 22,\n",
    "        'PRIMER_INTERNAL_MIN_TM': 45,\n",
    "        'PRIMER_INTERNAL_MAX_TM':65,                # Probe considerations are quite relaxed, assumed that LNAs will be used later to affect TM\n",
    "        # Extra primer3 parameters can go here\n",
    "        # In the same format as above                       \n",
    "    }\n",
    "\n",
    "## adds some necessary parameters depending on assay type\n",
    "primer_parameters = AgamPrimer.primer_params(primer_parameters, assay_type) "
   ]
  },
  {
   "cell_type": "markdown",
   "id": "0819ba76",
   "metadata": {
    "id": "0819ba76"
   },
   "source": [
    "#### **Run the primer3 algorithm!**"
   ]
  },
  {
   "cell_type": "code",
   "execution_count": 75,
   "id": "ae6e7525",
   "metadata": {
    "id": "ae6e7525",
    "scrolled": false
   },
   "outputs": [],
   "source": [
    "primer_dict = primer3.designPrimers(seq_args=seq_parameters, global_args=primer_parameters)"
   ]
  },
  {
   "cell_type": "markdown",
   "id": "56945ca6",
   "metadata": {
    "id": "56945ca6"
   },
   "source": [
    "It should be *fast*. The output, which we store as 'primer_dict', is a python dictionary containing the full results from primer3. We will turn this into a pandas dataframe containing just the necessary bits of information. First, we'll print some information from the primer3 run."
   ]
  },
  {
   "cell_type": "code",
   "execution_count": 77,
   "id": "1bb40846",
   "metadata": {
    "colab": {
     "base_uri": "https://localhost:8080/"
    },
    "id": "1bb40846",
    "outputId": "612e982a-b944-4c12-e489-00770b65e7f1"
   },
   "outputs": [
    {
     "name": "stdout",
     "output_type": "stream",
     "text": [
      "primer_forward_explain  :  considered 556, GC content failed 81, low tm 70, high tm 193, ok 212 \n",
      "\n",
      "primer_reverse_explain  :  considered 484, GC content failed 62, low tm 11, high tm 242, high hairpin stability 17, ok 152 \n",
      "\n",
      "primer_probe_explain  :  considered 368, overlap excluded region 160, GC content failed 16, low tm 64, high tm 2, high hairpin stability 4, ok 122 \n",
      "\n",
      "primer_pair_explain  :  considered 374, unacceptable product size 366, primer in pair overlaps a primer in a better pair 727, ok 8 \n",
      "\n",
      "primer_forward_num_returned  :  6 \n",
      "\n",
      "primer_reverse_num_returned  :  6 \n",
      "\n",
      "primer_probe_num_returned  :  6 \n",
      "\n",
      "primer_pair_num_returned  :  6 \n",
      "\n"
     ]
    }
   ],
   "source": [
    "AgamPrimer.primer3_run_statistics(primer_dict, assay_type)"
   ]
  },
  {
   "cell_type": "markdown",
   "id": "CbVMwOdCrNMf",
   "metadata": {
    "id": "CbVMwOdCrNMf"
   },
   "source": [
    "Now lets convert this into an easy to read pandas dataframe."
   ]
  },
  {
   "cell_type": "code",
   "execution_count": 78,
   "id": "bf8c5970",
   "metadata": {
    "colab": {
     "base_uri": "https://localhost:8080/",
     "height": 328
    },
    "id": "bf8c5970",
    "outputId": "cf0dc28e-f37c-412d-e9f1-8ecdc93a18c9"
   },
   "outputs": [
    {
     "data": {
      "text/html": [
       "<div>\n",
       "<style scoped>\n",
       "    .dataframe tbody tr th:only-of-type {\n",
       "        vertical-align: middle;\n",
       "    }\n",
       "\n",
       "    .dataframe tbody tr th {\n",
       "        vertical-align: top;\n",
       "    }\n",
       "\n",
       "    .dataframe thead th {\n",
       "        text-align: right;\n",
       "    }\n",
       "</style>\n",
       "<table border=\"1\" class=\"dataframe\">\n",
       "  <thead>\n",
       "    <tr style=\"text-align: right;\">\n",
       "      <th>primer_pair</th>\n",
       "      <th>0</th>\n",
       "      <th>1</th>\n",
       "      <th>2</th>\n",
       "      <th>3</th>\n",
       "      <th>4</th>\n",
       "      <th>5</th>\n",
       "    </tr>\n",
       "    <tr>\n",
       "      <th>parameter</th>\n",
       "      <th></th>\n",
       "      <th></th>\n",
       "      <th></th>\n",
       "      <th></th>\n",
       "      <th></th>\n",
       "      <th></th>\n",
       "    </tr>\n",
       "  </thead>\n",
       "  <tbody>\n",
       "    <tr>\n",
       "      <th>primer_forward_sequence</th>\n",
       "      <td>TCATGCTGTGGATCTTCGGC</td>\n",
       "      <td>GCCGTCATGCTGTGGATCTT</td>\n",
       "      <td>CAAGAATGCGGCCGTCATG</td>\n",
       "      <td>ACATTAACGTGGTGGCACCG</td>\n",
       "      <td>GGCCGTCATGCTGTGGAT</td>\n",
       "      <td>CTGTGGATCTTCGGCGGC</td>\n",
       "    </tr>\n",
       "    <tr>\n",
       "      <th>primer_reverse_sequence</th>\n",
       "      <td>GATCACGTTCTCCTCCGACG</td>\n",
       "      <td>GTCGTACACGTCCAGGGTG</td>\n",
       "      <td>GTTCTCCTCCGACGCAAGC</td>\n",
       "      <td>CGGTGGTCGTACACGTCC</td>\n",
       "      <td>TACTGCAGCGACACCACGAT</td>\n",
       "      <td>AGCGACACCACGATCACG</td>\n",
       "    </tr>\n",
       "    <tr>\n",
       "      <th>primer_probe_sequence</th>\n",
       "      <td>GCGGCTTCTACTCCGGCA</td>\n",
       "      <td>GCGGCGGCTTCTACTCCGG</td>\n",
       "      <td>TGGATCTTCGGCGGCGGC</td>\n",
       "      <td>TGGATCTTCGGCGGCGGC</td>\n",
       "      <td>GCGGCGGCTTCTACTCCGG</td>\n",
       "      <td>GGCTTCTACTCCGGCA</td>\n",
       "    </tr>\n",
       "    <tr>\n",
       "      <th>primer_forward_tm</th>\n",
       "      <td>60.462581</td>\n",
       "      <td>60.745845</td>\n",
       "      <td>59.936994</td>\n",
       "      <td>61.231958</td>\n",
       "      <td>60.12457</td>\n",
       "      <td>60.892425</td>\n",
       "    </tr>\n",
       "    <tr>\n",
       "      <th>primer_reverse_tm</th>\n",
       "      <td>60.248134</td>\n",
       "      <td>60.080974</td>\n",
       "      <td>61.095252</td>\n",
       "      <td>60.126734</td>\n",
       "      <td>61.87327</td>\n",
       "      <td>60.126463</td>\n",
       "    </tr>\n",
       "    <tr>\n",
       "      <th>primer_probe_tm</th>\n",
       "      <td>56.445018</td>\n",
       "      <td>59.897635</td>\n",
       "      <td>59.805464</td>\n",
       "      <td>59.805464</td>\n",
       "      <td>59.897635</td>\n",
       "      <td>49.485421</td>\n",
       "    </tr>\n",
       "    <tr>\n",
       "      <th>primer_forward_gc_percent</th>\n",
       "      <td>55.0</td>\n",
       "      <td>55.0</td>\n",
       "      <td>57.894737</td>\n",
       "      <td>55.0</td>\n",
       "      <td>61.111111</td>\n",
       "      <td>66.666667</td>\n",
       "    </tr>\n",
       "    <tr>\n",
       "      <th>primer_reverse_gc_percent</th>\n",
       "      <td>60.0</td>\n",
       "      <td>63.157895</td>\n",
       "      <td>63.157895</td>\n",
       "      <td>66.666667</td>\n",
       "      <td>55.0</td>\n",
       "      <td>61.111111</td>\n",
       "    </tr>\n",
       "    <tr>\n",
       "      <th>primer_probe_gc_percent</th>\n",
       "      <td>66.666667</td>\n",
       "      <td>73.684211</td>\n",
       "      <td>72.222222</td>\n",
       "      <td>72.222222</td>\n",
       "      <td>73.684211</td>\n",
       "      <td>62.5</td>\n",
       "    </tr>\n",
       "    <tr>\n",
       "      <th>primer_forward</th>\n",
       "      <td>(66, 20)</td>\n",
       "      <td>(62, 20)</td>\n",
       "      <td>(52, 19)</td>\n",
       "      <td>(21, 20)</td>\n",
       "      <td>(61, 18)</td>\n",
       "      <td>(71, 18)</td>\n",
       "    </tr>\n",
       "    <tr>\n",
       "      <th>primer_reverse</th>\n",
       "      <td>(160, 20)</td>\n",
       "      <td>(127, 19)</td>\n",
       "      <td>(154, 19)</td>\n",
       "      <td>(132, 18)</td>\n",
       "      <td>(177, 20)</td>\n",
       "      <td>(171, 18)</td>\n",
       "    </tr>\n",
       "    <tr>\n",
       "      <th>primer_probe</th>\n",
       "      <td>(87, 18)</td>\n",
       "      <td>(84, 19)</td>\n",
       "      <td>(74, 18)</td>\n",
       "      <td>(74, 18)</td>\n",
       "      <td>(84, 19)</td>\n",
       "      <td>(89, 16)</td>\n",
       "    </tr>\n",
       "    <tr>\n",
       "      <th>primer_pair_product_size</th>\n",
       "      <td>95</td>\n",
       "      <td>66</td>\n",
       "      <td>103</td>\n",
       "      <td>112</td>\n",
       "      <td>117</td>\n",
       "      <td>101</td>\n",
       "    </tr>\n",
       "  </tbody>\n",
       "</table>\n",
       "</div>"
      ],
      "text/plain": [
       "primer_pair                                   0                     1  \\\n",
       "parameter                                                               \n",
       "primer_forward_sequence    TCATGCTGTGGATCTTCGGC  GCCGTCATGCTGTGGATCTT   \n",
       "primer_reverse_sequence    GATCACGTTCTCCTCCGACG   GTCGTACACGTCCAGGGTG   \n",
       "primer_probe_sequence        GCGGCTTCTACTCCGGCA   GCGGCGGCTTCTACTCCGG   \n",
       "primer_forward_tm                     60.462581             60.745845   \n",
       "primer_reverse_tm                     60.248134             60.080974   \n",
       "primer_probe_tm                       56.445018             59.897635   \n",
       "primer_forward_gc_percent                  55.0                  55.0   \n",
       "primer_reverse_gc_percent                  60.0             63.157895   \n",
       "primer_probe_gc_percent               66.666667             73.684211   \n",
       "primer_forward                         (66, 20)              (62, 20)   \n",
       "primer_reverse                        (160, 20)             (127, 19)   \n",
       "primer_probe                           (87, 18)              (84, 19)   \n",
       "primer_pair_product_size                     95                    66   \n",
       "\n",
       "primer_pair                                  2                     3  \\\n",
       "parameter                                                              \n",
       "primer_forward_sequence    CAAGAATGCGGCCGTCATG  ACATTAACGTGGTGGCACCG   \n",
       "primer_reverse_sequence    GTTCTCCTCCGACGCAAGC    CGGTGGTCGTACACGTCC   \n",
       "primer_probe_sequence       TGGATCTTCGGCGGCGGC    TGGATCTTCGGCGGCGGC   \n",
       "primer_forward_tm                    59.936994             61.231958   \n",
       "primer_reverse_tm                    61.095252             60.126734   \n",
       "primer_probe_tm                      59.805464             59.805464   \n",
       "primer_forward_gc_percent            57.894737                  55.0   \n",
       "primer_reverse_gc_percent            63.157895             66.666667   \n",
       "primer_probe_gc_percent              72.222222             72.222222   \n",
       "primer_forward                        (52, 19)              (21, 20)   \n",
       "primer_reverse                       (154, 19)             (132, 18)   \n",
       "primer_probe                          (74, 18)              (74, 18)   \n",
       "primer_pair_product_size                   103                   112   \n",
       "\n",
       "primer_pair                                   4                   5  \n",
       "parameter                                                            \n",
       "primer_forward_sequence      GGCCGTCATGCTGTGGAT  CTGTGGATCTTCGGCGGC  \n",
       "primer_reverse_sequence    TACTGCAGCGACACCACGAT  AGCGACACCACGATCACG  \n",
       "primer_probe_sequence       GCGGCGGCTTCTACTCCGG    GGCTTCTACTCCGGCA  \n",
       "primer_forward_tm                      60.12457           60.892425  \n",
       "primer_reverse_tm                      61.87327           60.126463  \n",
       "primer_probe_tm                       59.897635           49.485421  \n",
       "primer_forward_gc_percent             61.111111           66.666667  \n",
       "primer_reverse_gc_percent                  55.0           61.111111  \n",
       "primer_probe_gc_percent               73.684211                62.5  \n",
       "primer_forward                         (61, 18)            (71, 18)  \n",
       "primer_reverse                        (177, 20)           (171, 18)  \n",
       "primer_probe                           (84, 19)            (89, 16)  \n",
       "primer_pair_product_size                    117                 101  "
      ]
     },
     "execution_count": 78,
     "metadata": {},
     "output_type": "execute_result"
    }
   ],
   "source": [
    "primer_df = AgamPrimer.primer3_to_pandas(primer_dict, assay_type)\n",
    "primer_df"
   ]
  },
  {
   "cell_type": "markdown",
   "id": "Lf0CeEVrtaxP",
   "metadata": {
    "id": "Lf0CeEVrtaxP"
   },
   "source": [
    "\n",
    "We can write this to .tsv and excel files, which can be explored in other editors."
   ]
  },
  {
   "cell_type": "code",
   "execution_count": 79,
   "id": "09eQYSeT7lHG",
   "metadata": {
    "id": "09eQYSeT7lHG"
   },
   "outputs": [],
   "source": [
    "primer_df.to_csv(f\"{assay_name}.{assay_type}.primers.tsv\", sep=\"\\t\")\n",
    "primer_df.to_excel(f\"{assay_name}.{assay_type}.primers.xlsx\")"
   ]
  },
  {
   "cell_type": "markdown",
   "id": "b4a9776c",
   "metadata": {
    "id": "b4a9776c"
   },
   "source": [
    "## **Looking for variation using the ag1000g resource and malariagen API**\n",
    "\n",
    "As we've seen in earlier workshops, ag1000g samples are organised into sample sets. Lets look at what each sample set contains, breaking it down by species, year and country. "
   ]
  },
  {
   "cell_type": "code",
   "execution_count": 80,
   "id": "61286685",
   "metadata": {
    "colab": {
     "base_uri": "https://localhost:8080/",
     "height": 49,
     "referenced_widgets": [
      "e2fec3b726cd4f529b58b0716f2237a3",
      "506dbb25d1f743ee80033d6f98dabc3b",
      "5a98a29b6ecf41f09fee8d7aebf3132e",
      "743f1f0ae54f4f4aa4994c96a523625c",
      "792f088bb26346baa2f17f4cfcafe0ea",
      "2db4d9dd91a24e32b80d870e9869339a",
      "cbf3c833b87d4f51b10aa6f09d53d5d1",
      "a60370f9435b42ab8b5d794ce32c2fa2",
      "cc3c6714c3ab435ca820f8081878dc3f",
      "4546f79977e24400806287bebf4efca0",
      "b913e8c4b6ca4c129949878e1b832774"
     ]
    },
    "id": "61286685",
    "outputId": "406f20a5-93b8-4c37-d051-a14b6e8a5ace"
   },
   "outputs": [
    {
     "data": {
      "application/vnd.jupyter.widget-view+json": {
       "model_id": "54c82356bf8b4ad0b49281a4fd98ab9a",
       "version_major": 2,
       "version_minor": 0
      },
      "text/plain": [
       "Load sample metadata:   0%|          | 0/28 [00:00<?, ?it/s]"
      ]
     },
     "metadata": {},
     "output_type": "display_data"
    },
    {
     "data": {
      "text/html": [
       "<div>\n",
       "<style scoped>\n",
       "    .dataframe tbody tr th:only-of-type {\n",
       "        vertical-align: middle;\n",
       "    }\n",
       "\n",
       "    .dataframe tbody tr th {\n",
       "        vertical-align: top;\n",
       "    }\n",
       "\n",
       "    .dataframe thead th {\n",
       "        text-align: right;\n",
       "    }\n",
       "</style>\n",
       "<table border=\"1\" class=\"dataframe\">\n",
       "  <thead>\n",
       "    <tr style=\"text-align: right;\">\n",
       "      <th></th>\n",
       "      <th></th>\n",
       "      <th>taxon</th>\n",
       "      <th>arabiensis</th>\n",
       "      <th>coluzzii</th>\n",
       "      <th>gambiae</th>\n",
       "      <th>gcx1</th>\n",
       "      <th>gcx2</th>\n",
       "      <th>gcx3</th>\n",
       "      <th>intermediate_gambcolu_arabiensis</th>\n",
       "      <th>intermediate_gambiae_coluzzii</th>\n",
       "    </tr>\n",
       "    <tr>\n",
       "      <th>sample_set</th>\n",
       "      <th>year</th>\n",
       "      <th>country</th>\n",
       "      <th></th>\n",
       "      <th></th>\n",
       "      <th></th>\n",
       "      <th></th>\n",
       "      <th></th>\n",
       "      <th></th>\n",
       "      <th></th>\n",
       "      <th></th>\n",
       "    </tr>\n",
       "  </thead>\n",
       "  <tbody>\n",
       "    <tr>\n",
       "      <th>AG1000G-AO</th>\n",
       "      <th>2009</th>\n",
       "      <th>Angola</th>\n",
       "      <td>0</td>\n",
       "      <td>81</td>\n",
       "      <td>0</td>\n",
       "      <td>0</td>\n",
       "      <td>0</td>\n",
       "      <td>0</td>\n",
       "      <td>0</td>\n",
       "      <td>0</td>\n",
       "    </tr>\n",
       "    <tr>\n",
       "      <th>AG1000G-BF-A</th>\n",
       "      <th>2012</th>\n",
       "      <th>Burkina Faso</th>\n",
       "      <td>0</td>\n",
       "      <td>82</td>\n",
       "      <td>98</td>\n",
       "      <td>0</td>\n",
       "      <td>0</td>\n",
       "      <td>0</td>\n",
       "      <td>0</td>\n",
       "      <td>1</td>\n",
       "    </tr>\n",
       "    <tr>\n",
       "      <th>AG1000G-BF-B</th>\n",
       "      <th>2014</th>\n",
       "      <th>Burkina Faso</th>\n",
       "      <td>3</td>\n",
       "      <td>53</td>\n",
       "      <td>46</td>\n",
       "      <td>0</td>\n",
       "      <td>0</td>\n",
       "      <td>0</td>\n",
       "      <td>0</td>\n",
       "      <td>0</td>\n",
       "    </tr>\n",
       "    <tr>\n",
       "      <th>AG1000G-BF-C</th>\n",
       "      <th>2004</th>\n",
       "      <th>Burkina Faso</th>\n",
       "      <td>0</td>\n",
       "      <td>0</td>\n",
       "      <td>13</td>\n",
       "      <td>0</td>\n",
       "      <td>0</td>\n",
       "      <td>0</td>\n",
       "      <td>0</td>\n",
       "      <td>0</td>\n",
       "    </tr>\n",
       "    <tr>\n",
       "      <th>AG1000G-CD</th>\n",
       "      <th>2015</th>\n",
       "      <th>Democratic Republic of the Congo</th>\n",
       "      <td>0</td>\n",
       "      <td>0</td>\n",
       "      <td>76</td>\n",
       "      <td>0</td>\n",
       "      <td>0</td>\n",
       "      <td>0</td>\n",
       "      <td>0</td>\n",
       "      <td>0</td>\n",
       "    </tr>\n",
       "    <tr>\n",
       "      <th rowspan=\"2\" valign=\"top\">AG1000G-CF</th>\n",
       "      <th>1993</th>\n",
       "      <th>Central African Republic</th>\n",
       "      <td>0</td>\n",
       "      <td>5</td>\n",
       "      <td>2</td>\n",
       "      <td>0</td>\n",
       "      <td>0</td>\n",
       "      <td>0</td>\n",
       "      <td>0</td>\n",
       "      <td>0</td>\n",
       "    </tr>\n",
       "    <tr>\n",
       "      <th>1994</th>\n",
       "      <th>Central African Republic</th>\n",
       "      <td>0</td>\n",
       "      <td>13</td>\n",
       "      <td>53</td>\n",
       "      <td>0</td>\n",
       "      <td>0</td>\n",
       "      <td>0</td>\n",
       "      <td>0</td>\n",
       "      <td>0</td>\n",
       "    </tr>\n",
       "    <tr>\n",
       "      <th>AG1000G-CI</th>\n",
       "      <th>2012</th>\n",
       "      <th>Cote d'Ivoire</th>\n",
       "      <td>0</td>\n",
       "      <td>80</td>\n",
       "      <td>0</td>\n",
       "      <td>0</td>\n",
       "      <td>0</td>\n",
       "      <td>0</td>\n",
       "      <td>0</td>\n",
       "      <td>0</td>\n",
       "    </tr>\n",
       "    <tr>\n",
       "      <th>AG1000G-CM-A</th>\n",
       "      <th>2009</th>\n",
       "      <th>Cameroon</th>\n",
       "      <td>0</td>\n",
       "      <td>0</td>\n",
       "      <td>303</td>\n",
       "      <td>0</td>\n",
       "      <td>0</td>\n",
       "      <td>0</td>\n",
       "      <td>0</td>\n",
       "      <td>0</td>\n",
       "    </tr>\n",
       "    <tr>\n",
       "      <th>AG1000G-CM-B</th>\n",
       "      <th>2005</th>\n",
       "      <th>Cameroon</th>\n",
       "      <td>0</td>\n",
       "      <td>7</td>\n",
       "      <td>90</td>\n",
       "      <td>0</td>\n",
       "      <td>0</td>\n",
       "      <td>0</td>\n",
       "      <td>0</td>\n",
       "      <td>0</td>\n",
       "    </tr>\n",
       "    <tr>\n",
       "      <th>AG1000G-CM-C</th>\n",
       "      <th>2013</th>\n",
       "      <th>Cameroon</th>\n",
       "      <td>2</td>\n",
       "      <td>19</td>\n",
       "      <td>23</td>\n",
       "      <td>0</td>\n",
       "      <td>0</td>\n",
       "      <td>0</td>\n",
       "      <td>0</td>\n",
       "      <td>0</td>\n",
       "    </tr>\n",
       "    <tr>\n",
       "      <th>AG1000G-FR</th>\n",
       "      <th>2011</th>\n",
       "      <th>Mayotte</th>\n",
       "      <td>0</td>\n",
       "      <td>0</td>\n",
       "      <td>23</td>\n",
       "      <td>0</td>\n",
       "      <td>0</td>\n",
       "      <td>0</td>\n",
       "      <td>0</td>\n",
       "      <td>0</td>\n",
       "    </tr>\n",
       "    <tr>\n",
       "      <th>AG1000G-GA-A</th>\n",
       "      <th>2000</th>\n",
       "      <th>Gabon</th>\n",
       "      <td>0</td>\n",
       "      <td>0</td>\n",
       "      <td>69</td>\n",
       "      <td>0</td>\n",
       "      <td>0</td>\n",
       "      <td>0</td>\n",
       "      <td>0</td>\n",
       "      <td>0</td>\n",
       "    </tr>\n",
       "    <tr>\n",
       "      <th>AG1000G-GH</th>\n",
       "      <th>2012</th>\n",
       "      <th>Ghana</th>\n",
       "      <td>0</td>\n",
       "      <td>64</td>\n",
       "      <td>36</td>\n",
       "      <td>0</td>\n",
       "      <td>0</td>\n",
       "      <td>0</td>\n",
       "      <td>0</td>\n",
       "      <td>0</td>\n",
       "    </tr>\n",
       "    <tr>\n",
       "      <th>AG1000G-GM-A</th>\n",
       "      <th>2011</th>\n",
       "      <th>Gambia, The</th>\n",
       "      <td>0</td>\n",
       "      <td>0</td>\n",
       "      <td>0</td>\n",
       "      <td>68</td>\n",
       "      <td>6</td>\n",
       "      <td>0</td>\n",
       "      <td>0</td>\n",
       "      <td>0</td>\n",
       "    </tr>\n",
       "    <tr>\n",
       "      <th>AG1000G-GM-B</th>\n",
       "      <th>2012</th>\n",
       "      <th>Gambia, The</th>\n",
       "      <td>0</td>\n",
       "      <td>2</td>\n",
       "      <td>0</td>\n",
       "      <td>9</td>\n",
       "      <td>19</td>\n",
       "      <td>0</td>\n",
       "      <td>0</td>\n",
       "      <td>1</td>\n",
       "    </tr>\n",
       "    <tr>\n",
       "      <th>AG1000G-GM-C</th>\n",
       "      <th>2012</th>\n",
       "      <th>Gambia, The</th>\n",
       "      <td>0</td>\n",
       "      <td>12</td>\n",
       "      <td>2</td>\n",
       "      <td>0</td>\n",
       "      <td>160</td>\n",
       "      <td>0</td>\n",
       "      <td>0</td>\n",
       "      <td>0</td>\n",
       "    </tr>\n",
       "    <tr>\n",
       "      <th>AG1000G-GN-A</th>\n",
       "      <th>2012</th>\n",
       "      <th>Guinea</th>\n",
       "      <td>0</td>\n",
       "      <td>4</td>\n",
       "      <td>40</td>\n",
       "      <td>0</td>\n",
       "      <td>0</td>\n",
       "      <td>0</td>\n",
       "      <td>0</td>\n",
       "      <td>1</td>\n",
       "    </tr>\n",
       "    <tr>\n",
       "      <th rowspan=\"2\" valign=\"top\">AG1000G-GN-B</th>\n",
       "      <th rowspan=\"2\" valign=\"top\">2012</th>\n",
       "      <th>Guinea</th>\n",
       "      <td>0</td>\n",
       "      <td>7</td>\n",
       "      <td>83</td>\n",
       "      <td>0</td>\n",
       "      <td>0</td>\n",
       "      <td>0</td>\n",
       "      <td>0</td>\n",
       "      <td>1</td>\n",
       "    </tr>\n",
       "    <tr>\n",
       "      <th>Mali</th>\n",
       "      <td>0</td>\n",
       "      <td>28</td>\n",
       "      <td>65</td>\n",
       "      <td>0</td>\n",
       "      <td>0</td>\n",
       "      <td>0</td>\n",
       "      <td>0</td>\n",
       "      <td>1</td>\n",
       "    </tr>\n",
       "    <tr>\n",
       "      <th>AG1000G-GQ</th>\n",
       "      <th>2002</th>\n",
       "      <th>Equatorial Guinea</th>\n",
       "      <td>0</td>\n",
       "      <td>0</td>\n",
       "      <td>10</td>\n",
       "      <td>0</td>\n",
       "      <td>0</td>\n",
       "      <td>0</td>\n",
       "      <td>0</td>\n",
       "      <td>0</td>\n",
       "    </tr>\n",
       "    <tr>\n",
       "      <th>AG1000G-GW</th>\n",
       "      <th>2010</th>\n",
       "      <th>Guinea-Bissau</th>\n",
       "      <td>0</td>\n",
       "      <td>0</td>\n",
       "      <td>8</td>\n",
       "      <td>93</td>\n",
       "      <td>0</td>\n",
       "      <td>0</td>\n",
       "      <td>0</td>\n",
       "      <td>0</td>\n",
       "    </tr>\n",
       "    <tr>\n",
       "      <th rowspan=\"3\" valign=\"top\">AG1000G-KE</th>\n",
       "      <th>2000</th>\n",
       "      <th>Kenya</th>\n",
       "      <td>0</td>\n",
       "      <td>0</td>\n",
       "      <td>19</td>\n",
       "      <td>0</td>\n",
       "      <td>0</td>\n",
       "      <td>0</td>\n",
       "      <td>0</td>\n",
       "      <td>0</td>\n",
       "    </tr>\n",
       "    <tr>\n",
       "      <th>2007</th>\n",
       "      <th>Kenya</th>\n",
       "      <td>3</td>\n",
       "      <td>0</td>\n",
       "      <td>0</td>\n",
       "      <td>0</td>\n",
       "      <td>0</td>\n",
       "      <td>0</td>\n",
       "      <td>0</td>\n",
       "      <td>0</td>\n",
       "    </tr>\n",
       "    <tr>\n",
       "      <th>2012</th>\n",
       "      <th>Kenya</th>\n",
       "      <td>10</td>\n",
       "      <td>0</td>\n",
       "      <td>0</td>\n",
       "      <td>0</td>\n",
       "      <td>0</td>\n",
       "      <td>54</td>\n",
       "      <td>0</td>\n",
       "      <td>0</td>\n",
       "    </tr>\n",
       "    <tr>\n",
       "      <th>AG1000G-ML-A</th>\n",
       "      <th>2014</th>\n",
       "      <th>Mali</th>\n",
       "      <td>0</td>\n",
       "      <td>27</td>\n",
       "      <td>33</td>\n",
       "      <td>0</td>\n",
       "      <td>0</td>\n",
       "      <td>0</td>\n",
       "      <td>0</td>\n",
       "      <td>0</td>\n",
       "    </tr>\n",
       "    <tr>\n",
       "      <th>AG1000G-ML-B</th>\n",
       "      <th>2004</th>\n",
       "      <th>Mali</th>\n",
       "      <td>2</td>\n",
       "      <td>36</td>\n",
       "      <td>33</td>\n",
       "      <td>0</td>\n",
       "      <td>0</td>\n",
       "      <td>0</td>\n",
       "      <td>0</td>\n",
       "      <td>0</td>\n",
       "    </tr>\n",
       "    <tr>\n",
       "      <th>AG1000G-MW</th>\n",
       "      <th>2015</th>\n",
       "      <th>Malawi</th>\n",
       "      <td>41</td>\n",
       "      <td>0</td>\n",
       "      <td>0</td>\n",
       "      <td>0</td>\n",
       "      <td>0</td>\n",
       "      <td>0</td>\n",
       "      <td>0</td>\n",
       "      <td>0</td>\n",
       "    </tr>\n",
       "    <tr>\n",
       "      <th rowspan=\"2\" valign=\"top\">AG1000G-MZ</th>\n",
       "      <th>2003</th>\n",
       "      <th>Mozambique</th>\n",
       "      <td>0</td>\n",
       "      <td>0</td>\n",
       "      <td>3</td>\n",
       "      <td>0</td>\n",
       "      <td>0</td>\n",
       "      <td>0</td>\n",
       "      <td>0</td>\n",
       "      <td>0</td>\n",
       "    </tr>\n",
       "    <tr>\n",
       "      <th>2004</th>\n",
       "      <th>Mozambique</th>\n",
       "      <td>0</td>\n",
       "      <td>0</td>\n",
       "      <td>71</td>\n",
       "      <td>0</td>\n",
       "      <td>0</td>\n",
       "      <td>0</td>\n",
       "      <td>0</td>\n",
       "      <td>0</td>\n",
       "    </tr>\n",
       "    <tr>\n",
       "      <th rowspan=\"3\" valign=\"top\">AG1000G-TZ</th>\n",
       "      <th>2012</th>\n",
       "      <th>Tanzania</th>\n",
       "      <td>87</td>\n",
       "      <td>0</td>\n",
       "      <td>0</td>\n",
       "      <td>0</td>\n",
       "      <td>0</td>\n",
       "      <td>0</td>\n",
       "      <td>0</td>\n",
       "      <td>0</td>\n",
       "    </tr>\n",
       "    <tr>\n",
       "      <th>2013</th>\n",
       "      <th>Tanzania</th>\n",
       "      <td>1</td>\n",
       "      <td>0</td>\n",
       "      <td>32</td>\n",
       "      <td>0</td>\n",
       "      <td>0</td>\n",
       "      <td>10</td>\n",
       "      <td>0</td>\n",
       "      <td>0</td>\n",
       "    </tr>\n",
       "    <tr>\n",
       "      <th>2015</th>\n",
       "      <th>Tanzania</th>\n",
       "      <td>137</td>\n",
       "      <td>0</td>\n",
       "      <td>32</td>\n",
       "      <td>0</td>\n",
       "      <td>0</td>\n",
       "      <td>1</td>\n",
       "      <td>0</td>\n",
       "      <td>0</td>\n",
       "    </tr>\n",
       "    <tr>\n",
       "      <th>AG1000G-UG</th>\n",
       "      <th>2012</th>\n",
       "      <th>Uganda</th>\n",
       "      <td>82</td>\n",
       "      <td>0</td>\n",
       "      <td>207</td>\n",
       "      <td>0</td>\n",
       "      <td>0</td>\n",
       "      <td>0</td>\n",
       "      <td>1</td>\n",
       "      <td>0</td>\n",
       "    </tr>\n",
       "    <tr>\n",
       "      <th>AG1000G-X</th>\n",
       "      <th>-1</th>\n",
       "      <th>Lab Cross</th>\n",
       "      <td>0</td>\n",
       "      <td>74</td>\n",
       "      <td>49</td>\n",
       "      <td>0</td>\n",
       "      <td>0</td>\n",
       "      <td>0</td>\n",
       "      <td>0</td>\n",
       "      <td>174</td>\n",
       "    </tr>\n",
       "  </tbody>\n",
       "</table>\n",
       "</div>"
      ],
      "text/plain": [
       "taxon                                                arabiensis  coluzzii  \\\n",
       "sample_set   year  country                                                  \n",
       "AG1000G-AO    2009 Angola                                     0        81   \n",
       "AG1000G-BF-A  2012 Burkina Faso                               0        82   \n",
       "AG1000G-BF-B  2014 Burkina Faso                               3        53   \n",
       "AG1000G-BF-C  2004 Burkina Faso                               0         0   \n",
       "AG1000G-CD    2015 Democratic Republic of the Congo           0         0   \n",
       "AG1000G-CF    1993 Central African Republic                   0         5   \n",
       "              1994 Central African Republic                   0        13   \n",
       "AG1000G-CI    2012 Cote d'Ivoire                              0        80   \n",
       "AG1000G-CM-A  2009 Cameroon                                   0         0   \n",
       "AG1000G-CM-B  2005 Cameroon                                   0         7   \n",
       "AG1000G-CM-C  2013 Cameroon                                   2        19   \n",
       "AG1000G-FR    2011 Mayotte                                    0         0   \n",
       "AG1000G-GA-A  2000 Gabon                                      0         0   \n",
       "AG1000G-GH    2012 Ghana                                      0        64   \n",
       "AG1000G-GM-A  2011 Gambia, The                                0         0   \n",
       "AG1000G-GM-B  2012 Gambia, The                                0         2   \n",
       "AG1000G-GM-C  2012 Gambia, The                                0        12   \n",
       "AG1000G-GN-A  2012 Guinea                                     0         4   \n",
       "AG1000G-GN-B  2012 Guinea                                     0         7   \n",
       "                   Mali                                       0        28   \n",
       "AG1000G-GQ    2002 Equatorial Guinea                          0         0   \n",
       "AG1000G-GW    2010 Guinea-Bissau                              0         0   \n",
       "AG1000G-KE    2000 Kenya                                      0         0   \n",
       "              2007 Kenya                                      3         0   \n",
       "              2012 Kenya                                     10         0   \n",
       "AG1000G-ML-A  2014 Mali                                       0        27   \n",
       "AG1000G-ML-B  2004 Mali                                       2        36   \n",
       "AG1000G-MW    2015 Malawi                                    41         0   \n",
       "AG1000G-MZ    2003 Mozambique                                 0         0   \n",
       "              2004 Mozambique                                 0         0   \n",
       "AG1000G-TZ    2012 Tanzania                                  87         0   \n",
       "              2013 Tanzania                                   1         0   \n",
       "              2015 Tanzania                                 137         0   \n",
       "AG1000G-UG    2012 Uganda                                    82         0   \n",
       "AG1000G-X    -1    Lab Cross                                  0        74   \n",
       "\n",
       "taxon                                                gambiae  gcx1  gcx2  \\\n",
       "sample_set   year  country                                                 \n",
       "AG1000G-AO    2009 Angola                                  0     0     0   \n",
       "AG1000G-BF-A  2012 Burkina Faso                           98     0     0   \n",
       "AG1000G-BF-B  2014 Burkina Faso                           46     0     0   \n",
       "AG1000G-BF-C  2004 Burkina Faso                           13     0     0   \n",
       "AG1000G-CD    2015 Democratic Republic of the Congo       76     0     0   \n",
       "AG1000G-CF    1993 Central African Republic                2     0     0   \n",
       "              1994 Central African Republic               53     0     0   \n",
       "AG1000G-CI    2012 Cote d'Ivoire                           0     0     0   \n",
       "AG1000G-CM-A  2009 Cameroon                              303     0     0   \n",
       "AG1000G-CM-B  2005 Cameroon                               90     0     0   \n",
       "AG1000G-CM-C  2013 Cameroon                               23     0     0   \n",
       "AG1000G-FR    2011 Mayotte                                23     0     0   \n",
       "AG1000G-GA-A  2000 Gabon                                  69     0     0   \n",
       "AG1000G-GH    2012 Ghana                                  36     0     0   \n",
       "AG1000G-GM-A  2011 Gambia, The                             0    68     6   \n",
       "AG1000G-GM-B  2012 Gambia, The                             0     9    19   \n",
       "AG1000G-GM-C  2012 Gambia, The                             2     0   160   \n",
       "AG1000G-GN-A  2012 Guinea                                 40     0     0   \n",
       "AG1000G-GN-B  2012 Guinea                                 83     0     0   \n",
       "                   Mali                                   65     0     0   \n",
       "AG1000G-GQ    2002 Equatorial Guinea                      10     0     0   \n",
       "AG1000G-GW    2010 Guinea-Bissau                           8    93     0   \n",
       "AG1000G-KE    2000 Kenya                                  19     0     0   \n",
       "              2007 Kenya                                   0     0     0   \n",
       "              2012 Kenya                                   0     0     0   \n",
       "AG1000G-ML-A  2014 Mali                                   33     0     0   \n",
       "AG1000G-ML-B  2004 Mali                                   33     0     0   \n",
       "AG1000G-MW    2015 Malawi                                  0     0     0   \n",
       "AG1000G-MZ    2003 Mozambique                              3     0     0   \n",
       "              2004 Mozambique                             71     0     0   \n",
       "AG1000G-TZ    2012 Tanzania                                0     0     0   \n",
       "              2013 Tanzania                               32     0     0   \n",
       "              2015 Tanzania                               32     0     0   \n",
       "AG1000G-UG    2012 Uganda                                207     0     0   \n",
       "AG1000G-X    -1    Lab Cross                              49     0     0   \n",
       "\n",
       "taxon                                                gcx3  \\\n",
       "sample_set   year  country                                  \n",
       "AG1000G-AO    2009 Angola                               0   \n",
       "AG1000G-BF-A  2012 Burkina Faso                         0   \n",
       "AG1000G-BF-B  2014 Burkina Faso                         0   \n",
       "AG1000G-BF-C  2004 Burkina Faso                         0   \n",
       "AG1000G-CD    2015 Democratic Republic of the Congo     0   \n",
       "AG1000G-CF    1993 Central African Republic             0   \n",
       "              1994 Central African Republic             0   \n",
       "AG1000G-CI    2012 Cote d'Ivoire                        0   \n",
       "AG1000G-CM-A  2009 Cameroon                             0   \n",
       "AG1000G-CM-B  2005 Cameroon                             0   \n",
       "AG1000G-CM-C  2013 Cameroon                             0   \n",
       "AG1000G-FR    2011 Mayotte                              0   \n",
       "AG1000G-GA-A  2000 Gabon                                0   \n",
       "AG1000G-GH    2012 Ghana                                0   \n",
       "AG1000G-GM-A  2011 Gambia, The                          0   \n",
       "AG1000G-GM-B  2012 Gambia, The                          0   \n",
       "AG1000G-GM-C  2012 Gambia, The                          0   \n",
       "AG1000G-GN-A  2012 Guinea                               0   \n",
       "AG1000G-GN-B  2012 Guinea                               0   \n",
       "                   Mali                                 0   \n",
       "AG1000G-GQ    2002 Equatorial Guinea                    0   \n",
       "AG1000G-GW    2010 Guinea-Bissau                        0   \n",
       "AG1000G-KE    2000 Kenya                                0   \n",
       "              2007 Kenya                                0   \n",
       "              2012 Kenya                               54   \n",
       "AG1000G-ML-A  2014 Mali                                 0   \n",
       "AG1000G-ML-B  2004 Mali                                 0   \n",
       "AG1000G-MW    2015 Malawi                               0   \n",
       "AG1000G-MZ    2003 Mozambique                           0   \n",
       "              2004 Mozambique                           0   \n",
       "AG1000G-TZ    2012 Tanzania                             0   \n",
       "              2013 Tanzania                            10   \n",
       "              2015 Tanzania                             1   \n",
       "AG1000G-UG    2012 Uganda                               0   \n",
       "AG1000G-X    -1    Lab Cross                            0   \n",
       "\n",
       "taxon                                                intermediate_gambcolu_arabiensis  \\\n",
       "sample_set   year  country                                                              \n",
       "AG1000G-AO    2009 Angola                                                           0   \n",
       "AG1000G-BF-A  2012 Burkina Faso                                                     0   \n",
       "AG1000G-BF-B  2014 Burkina Faso                                                     0   \n",
       "AG1000G-BF-C  2004 Burkina Faso                                                     0   \n",
       "AG1000G-CD    2015 Democratic Republic of the Congo                                 0   \n",
       "AG1000G-CF    1993 Central African Republic                                         0   \n",
       "              1994 Central African Republic                                         0   \n",
       "AG1000G-CI    2012 Cote d'Ivoire                                                    0   \n",
       "AG1000G-CM-A  2009 Cameroon                                                         0   \n",
       "AG1000G-CM-B  2005 Cameroon                                                         0   \n",
       "AG1000G-CM-C  2013 Cameroon                                                         0   \n",
       "AG1000G-FR    2011 Mayotte                                                          0   \n",
       "AG1000G-GA-A  2000 Gabon                                                            0   \n",
       "AG1000G-GH    2012 Ghana                                                            0   \n",
       "AG1000G-GM-A  2011 Gambia, The                                                      0   \n",
       "AG1000G-GM-B  2012 Gambia, The                                                      0   \n",
       "AG1000G-GM-C  2012 Gambia, The                                                      0   \n",
       "AG1000G-GN-A  2012 Guinea                                                           0   \n",
       "AG1000G-GN-B  2012 Guinea                                                           0   \n",
       "                   Mali                                                             0   \n",
       "AG1000G-GQ    2002 Equatorial Guinea                                                0   \n",
       "AG1000G-GW    2010 Guinea-Bissau                                                    0   \n",
       "AG1000G-KE    2000 Kenya                                                            0   \n",
       "              2007 Kenya                                                            0   \n",
       "              2012 Kenya                                                            0   \n",
       "AG1000G-ML-A  2014 Mali                                                             0   \n",
       "AG1000G-ML-B  2004 Mali                                                             0   \n",
       "AG1000G-MW    2015 Malawi                                                           0   \n",
       "AG1000G-MZ    2003 Mozambique                                                       0   \n",
       "              2004 Mozambique                                                       0   \n",
       "AG1000G-TZ    2012 Tanzania                                                         0   \n",
       "              2013 Tanzania                                                         0   \n",
       "              2015 Tanzania                                                         0   \n",
       "AG1000G-UG    2012 Uganda                                                           1   \n",
       "AG1000G-X    -1    Lab Cross                                                        0   \n",
       "\n",
       "taxon                                                intermediate_gambiae_coluzzii  \n",
       "sample_set   year  country                                                          \n",
       "AG1000G-AO    2009 Angola                                                        0  \n",
       "AG1000G-BF-A  2012 Burkina Faso                                                  1  \n",
       "AG1000G-BF-B  2014 Burkina Faso                                                  0  \n",
       "AG1000G-BF-C  2004 Burkina Faso                                                  0  \n",
       "AG1000G-CD    2015 Democratic Republic of the Congo                              0  \n",
       "AG1000G-CF    1993 Central African Republic                                      0  \n",
       "              1994 Central African Republic                                      0  \n",
       "AG1000G-CI    2012 Cote d'Ivoire                                                 0  \n",
       "AG1000G-CM-A  2009 Cameroon                                                      0  \n",
       "AG1000G-CM-B  2005 Cameroon                                                      0  \n",
       "AG1000G-CM-C  2013 Cameroon                                                      0  \n",
       "AG1000G-FR    2011 Mayotte                                                       0  \n",
       "AG1000G-GA-A  2000 Gabon                                                         0  \n",
       "AG1000G-GH    2012 Ghana                                                         0  \n",
       "AG1000G-GM-A  2011 Gambia, The                                                   0  \n",
       "AG1000G-GM-B  2012 Gambia, The                                                   1  \n",
       "AG1000G-GM-C  2012 Gambia, The                                                   0  \n",
       "AG1000G-GN-A  2012 Guinea                                                        1  \n",
       "AG1000G-GN-B  2012 Guinea                                                        1  \n",
       "                   Mali                                                          1  \n",
       "AG1000G-GQ    2002 Equatorial Guinea                                             0  \n",
       "AG1000G-GW    2010 Guinea-Bissau                                                 0  \n",
       "AG1000G-KE    2000 Kenya                                                         0  \n",
       "              2007 Kenya                                                         0  \n",
       "              2012 Kenya                                                         0  \n",
       "AG1000G-ML-A  2014 Mali                                                          0  \n",
       "AG1000G-ML-B  2004 Mali                                                          0  \n",
       "AG1000G-MW    2015 Malawi                                                        0  \n",
       "AG1000G-MZ    2003 Mozambique                                                    0  \n",
       "              2004 Mozambique                                                    0  \n",
       "AG1000G-TZ    2012 Tanzania                                                      0  \n",
       "              2013 Tanzania                                                      0  \n",
       "              2015 Tanzania                                                      0  \n",
       "AG1000G-UG    2012 Uganda                                                        0  \n",
       "AG1000G-X    -1    Lab Cross                                                   174  "
      ]
     },
     "execution_count": 80,
     "metadata": {},
     "output_type": "execute_result"
    }
   ],
   "source": [
    "metadata = ag3.sample_metadata()\n",
    "\n",
    "pivot_country_year_taxon = (\n",
    "    metadata\n",
    "    .pivot_table(\n",
    "        index=[\"sample_set\", \"year\", \"country\"], \n",
    "        columns=[\"taxon\"], \n",
    "        values=\"sample_id\",\n",
    "        aggfunc=\"count\",\n",
    "        fill_value=0\n",
    "    )\n",
    ")\n",
    "\n",
    "pivot_country_year_taxon"
   ]
  },
  {
   "cell_type": "markdown",
   "id": "BLwvXBT28NYE",
   "metadata": {
    "id": "BLwvXBT28NYE"
   },
   "source": [
    "Here, we can see the breakdown by sample set for country, species and year. For the purposes of this notebook, let's use the Ghana sample set. If we wanted to use all sample sets, we could supply '3.0' instead of a sample set, which will load all samples from the ag3.0 release."
   ]
  },
  {
   "cell_type": "code",
   "execution_count": 82,
   "id": "49ca7f2b",
   "metadata": {
    "id": "49ca7f2b"
   },
   "outputs": [],
   "source": [
    "sample_set = 'AG1000G-GH'          # sample_set = '3.0' .you can also supply lists with multiple sample sets e.g ['AG1000G-GH', 'AG1000G-CI', 'AG1000G-BF-A]\n",
    "sample_query = None #\"aim_species == 'coluzzii'\"                # here we can subset to specific values in the metadata e.g :     \"aim_species == 'gambiae'\" , or \"aim_species == 'arabiensis'\"          "
   ]
  },
  {
   "cell_type": "markdown",
   "id": "67coxQKoo82x",
   "metadata": {
    "id": "67coxQKoo82x"
   },
   "source": [
    "### **Plot allele frequencies in primers locations**\n",
    "\n",
    "Now we can plot the primers pairs, and the frequency of any alternate alleles in the Ag1000g sample set of choice. When calculating allele frequencies, we will take the sum of all alternate alleles, as we are interested here in any mutations which are different from the reference genome. We can see the frequencies of specific alleles by hovering over the points of the plot - in some cases it may be preferable to design degenerate primers rather than avoid a primer pair completely.\n",
    "\n",
    "We will also plot the primer Tm, GC and genomic spans of each primer binding site. We can use this plot to identify primers pairs and probes which may be suitable, particularly trying to avoid SNPs in the 3' end. "
   ]
  },
  {
   "cell_type": "code",
   "execution_count": 83,
   "id": "shXKBpG49LSU",
   "metadata": {
    "colab": {
     "base_uri": "https://localhost:8080/",
     "height": 1000
    },
    "id": "shXKBpG49LSU",
    "outputId": "3d6287e4-2ce5-4b18-b213-5fa956f8f189",
    "scrolled": false
   },
   "outputs": [
    {
     "name": "stderr",
     "output_type": "stream",
     "text": [
      "Thu Sep  1 14:16:16 2022 DEBUG snp_calls: normalise parameters\n",
      "Thu Sep  1 14:16:16 2022 DEBUG snp_calls: access SNP calls and concatenate multiple sample sets and/or regions\n",
      "Thu Sep  1 14:16:16 2022 DEBUG _snp_calls_dataset: call arrays\n",
      "Thu Sep  1 14:16:16 2022 DEBUG _snp_calls_dataset: sample arrays\n",
      "Thu Sep  1 14:16:16 2022 DEBUG _snp_calls_dataset: create a dataset\n",
      "Thu Sep  1 14:16:16 2022 DEBUG snp_calls: concatenate data from multiple sample sets\n",
      "Thu Sep  1 14:16:16 2022 DEBUG snp_calls: add variants variables\n",
      "Thu Sep  1 14:16:16 2022 DEBUG _snp_variants_dataset: variant arrays\n",
      "Thu Sep  1 14:16:16 2022 DEBUG _snp_variants_dataset: variant_position\n",
      "Thu Sep  1 14:16:16 2022 DEBUG _snp_variants_dataset: variant_allele\n",
      "Thu Sep  1 14:16:16 2022 DEBUG _snp_variants_dataset: variant_contig\n",
      "Thu Sep  1 14:16:16 2022 DEBUG _snp_variants_dataset: site filters arrays\n",
      "Thu Sep  1 14:16:16 2022 DEBUG _snp_variants_dataset: set up attributes\n",
      "Thu Sep  1 14:16:16 2022 DEBUG _snp_variants_dataset: create a dataset\n",
      "Thu Sep  1 14:16:16 2022 DEBUG snp_calls: handle site class\n",
      "Thu Sep  1 14:16:16 2022 DEBUG snp_calls: handle region, do this only once - optimisation\n",
      "Thu Sep  1 14:16:19 2022 DEBUG snp_calls: concatenate data from multiple regions\n",
      "Thu Sep  1 14:16:19 2022 DEBUG snp_calls: apply site filters\n",
      "Thu Sep  1 14:16:19 2022 DEBUG snp_calls: add call_genotype_mask\n",
      "Thu Sep  1 14:16:19 2022 DEBUG snp_calls: handle sample query\n",
      "Thu Sep  1 14:16:19 2022 DEBUG snp_calls: handle cohort size\n",
      "Thu Sep  1 14:16:20 2022 DEBUG snp_calls: normalise parameters\n",
      "Thu Sep  1 14:16:20 2022 DEBUG snp_calls: access SNP calls and concatenate multiple sample sets and/or regions\n",
      "Thu Sep  1 14:16:20 2022 DEBUG _snp_calls_dataset: call arrays\n",
      "Thu Sep  1 14:16:20 2022 DEBUG _snp_calls_dataset: sample arrays\n",
      "Thu Sep  1 14:16:20 2022 DEBUG _snp_calls_dataset: create a dataset\n",
      "Thu Sep  1 14:16:20 2022 DEBUG snp_calls: concatenate data from multiple sample sets\n",
      "Thu Sep  1 14:16:20 2022 DEBUG snp_calls: add variants variables\n",
      "Thu Sep  1 14:16:20 2022 DEBUG _snp_variants_dataset: variant arrays\n",
      "Thu Sep  1 14:16:20 2022 DEBUG _snp_variants_dataset: variant_position\n",
      "Thu Sep  1 14:16:20 2022 DEBUG _snp_variants_dataset: variant_allele\n",
      "Thu Sep  1 14:16:20 2022 DEBUG _snp_variants_dataset: variant_contig\n",
      "Thu Sep  1 14:16:20 2022 DEBUG _snp_variants_dataset: site filters arrays\n",
      "Thu Sep  1 14:16:20 2022 DEBUG _snp_variants_dataset: set up attributes\n",
      "Thu Sep  1 14:16:20 2022 DEBUG _snp_variants_dataset: create a dataset\n",
      "Thu Sep  1 14:16:20 2022 DEBUG snp_calls: handle site class\n",
      "Thu Sep  1 14:16:20 2022 DEBUG snp_calls: handle region, do this only once - optimisation\n",
      "Thu Sep  1 14:16:22 2022 DEBUG snp_calls: concatenate data from multiple regions\n",
      "Thu Sep  1 14:16:22 2022 DEBUG snp_calls: apply site filters\n",
      "Thu Sep  1 14:16:22 2022 DEBUG snp_calls: add call_genotype_mask\n",
      "Thu Sep  1 14:16:22 2022 DEBUG snp_calls: handle sample query\n",
      "Thu Sep  1 14:16:22 2022 DEBUG snp_calls: handle cohort size\n",
      "Thu Sep  1 14:16:22 2022 DEBUG snp_calls: normalise parameters\n",
      "Thu Sep  1 14:16:22 2022 DEBUG snp_calls: access SNP calls and concatenate multiple sample sets and/or regions\n",
      "Thu Sep  1 14:16:22 2022 DEBUG _snp_calls_dataset: call arrays\n",
      "Thu Sep  1 14:16:22 2022 DEBUG _snp_calls_dataset: sample arrays\n",
      "Thu Sep  1 14:16:22 2022 DEBUG _snp_calls_dataset: create a dataset\n",
      "Thu Sep  1 14:16:22 2022 DEBUG snp_calls: concatenate data from multiple sample sets\n",
      "Thu Sep  1 14:16:22 2022 DEBUG snp_calls: add variants variables\n",
      "Thu Sep  1 14:16:22 2022 DEBUG _snp_variants_dataset: variant arrays\n",
      "Thu Sep  1 14:16:22 2022 DEBUG _snp_variants_dataset: variant_position\n",
      "Thu Sep  1 14:16:22 2022 DEBUG _snp_variants_dataset: variant_allele\n",
      "Thu Sep  1 14:16:22 2022 DEBUG _snp_variants_dataset: variant_contig\n",
      "Thu Sep  1 14:16:22 2022 DEBUG _snp_variants_dataset: site filters arrays\n",
      "Thu Sep  1 14:16:22 2022 DEBUG _snp_variants_dataset: set up attributes\n",
      "Thu Sep  1 14:16:22 2022 DEBUG _snp_variants_dataset: create a dataset\n",
      "Thu Sep  1 14:16:22 2022 DEBUG snp_calls: handle site class\n",
      "Thu Sep  1 14:16:22 2022 DEBUG snp_calls: handle region, do this only once - optimisation\n",
      "Thu Sep  1 14:16:24 2022 DEBUG snp_calls: concatenate data from multiple regions\n",
      "Thu Sep  1 14:16:24 2022 DEBUG snp_calls: apply site filters\n",
      "Thu Sep  1 14:16:24 2022 DEBUG snp_calls: add call_genotype_mask\n",
      "Thu Sep  1 14:16:24 2022 DEBUG snp_calls: handle sample query\n",
      "Thu Sep  1 14:16:24 2022 DEBUG snp_calls: handle cohort size\n",
      "Thu Sep  1 14:16:24 2022 DEBUG snp_calls: normalise parameters\n",
      "Thu Sep  1 14:16:24 2022 DEBUG snp_calls: access SNP calls and concatenate multiple sample sets and/or regions\n",
      "Thu Sep  1 14:16:24 2022 DEBUG _snp_calls_dataset: call arrays\n",
      "Thu Sep  1 14:16:24 2022 DEBUG _snp_calls_dataset: sample arrays\n",
      "Thu Sep  1 14:16:24 2022 DEBUG _snp_calls_dataset: create a dataset\n",
      "Thu Sep  1 14:16:24 2022 DEBUG snp_calls: concatenate data from multiple sample sets\n",
      "Thu Sep  1 14:16:24 2022 DEBUG snp_calls: add variants variables\n",
      "Thu Sep  1 14:16:24 2022 DEBUG _snp_variants_dataset: variant arrays\n",
      "Thu Sep  1 14:16:24 2022 DEBUG _snp_variants_dataset: variant_position\n",
      "Thu Sep  1 14:16:24 2022 DEBUG _snp_variants_dataset: variant_allele\n",
      "Thu Sep  1 14:16:24 2022 DEBUG _snp_variants_dataset: variant_contig\n",
      "Thu Sep  1 14:16:24 2022 DEBUG _snp_variants_dataset: site filters arrays\n",
      "Thu Sep  1 14:16:24 2022 DEBUG _snp_variants_dataset: set up attributes\n",
      "Thu Sep  1 14:16:24 2022 DEBUG _snp_variants_dataset: create a dataset\n",
      "Thu Sep  1 14:16:24 2022 DEBUG snp_calls: handle site class\n",
      "Thu Sep  1 14:16:24 2022 DEBUG snp_calls: handle region, do this only once - optimisation\n",
      "Thu Sep  1 14:16:25 2022 DEBUG snp_calls: concatenate data from multiple regions\n",
      "Thu Sep  1 14:16:25 2022 DEBUG snp_calls: apply site filters\n",
      "Thu Sep  1 14:16:25 2022 DEBUG snp_calls: add call_genotype_mask\n",
      "Thu Sep  1 14:16:25 2022 DEBUG snp_calls: handle sample query\n",
      "Thu Sep  1 14:16:25 2022 DEBUG snp_calls: handle cohort size\n",
      "Thu Sep  1 14:16:26 2022 DEBUG snp_calls: normalise parameters\n",
      "Thu Sep  1 14:16:26 2022 DEBUG snp_calls: access SNP calls and concatenate multiple sample sets and/or regions\n",
      "Thu Sep  1 14:16:26 2022 DEBUG _snp_calls_dataset: call arrays\n",
      "Thu Sep  1 14:16:26 2022 DEBUG _snp_calls_dataset: sample arrays\n",
      "Thu Sep  1 14:16:26 2022 DEBUG _snp_calls_dataset: create a dataset\n",
      "Thu Sep  1 14:16:26 2022 DEBUG snp_calls: concatenate data from multiple sample sets\n",
      "Thu Sep  1 14:16:26 2022 DEBUG snp_calls: add variants variables\n",
      "Thu Sep  1 14:16:26 2022 DEBUG _snp_variants_dataset: variant arrays\n",
      "Thu Sep  1 14:16:26 2022 DEBUG _snp_variants_dataset: variant_position\n",
      "Thu Sep  1 14:16:26 2022 DEBUG _snp_variants_dataset: variant_allele\n",
      "Thu Sep  1 14:16:26 2022 DEBUG _snp_variants_dataset: variant_contig\n",
      "Thu Sep  1 14:16:26 2022 DEBUG _snp_variants_dataset: site filters arrays\n",
      "Thu Sep  1 14:16:26 2022 DEBUG _snp_variants_dataset: set up attributes\n",
      "Thu Sep  1 14:16:26 2022 DEBUG _snp_variants_dataset: create a dataset\n",
      "Thu Sep  1 14:16:26 2022 DEBUG snp_calls: handle site class\n",
      "Thu Sep  1 14:16:26 2022 DEBUG snp_calls: handle region, do this only once - optimisation\n",
      "Thu Sep  1 14:16:27 2022 DEBUG snp_calls: concatenate data from multiple regions\n",
      "Thu Sep  1 14:16:27 2022 DEBUG snp_calls: apply site filters\n",
      "Thu Sep  1 14:16:27 2022 DEBUG snp_calls: add call_genotype_mask\n",
      "Thu Sep  1 14:16:27 2022 DEBUG snp_calls: handle sample query\n",
      "Thu Sep  1 14:16:27 2022 DEBUG snp_calls: handle cohort size\n",
      "Thu Sep  1 14:16:28 2022 DEBUG snp_calls: normalise parameters\n",
      "Thu Sep  1 14:16:28 2022 DEBUG snp_calls: access SNP calls and concatenate multiple sample sets and/or regions\n",
      "Thu Sep  1 14:16:28 2022 DEBUG _snp_calls_dataset: call arrays\n",
      "Thu Sep  1 14:16:28 2022 DEBUG _snp_calls_dataset: sample arrays\n",
      "Thu Sep  1 14:16:28 2022 DEBUG _snp_calls_dataset: create a dataset\n",
      "Thu Sep  1 14:16:28 2022 DEBUG snp_calls: concatenate data from multiple sample sets\n",
      "Thu Sep  1 14:16:28 2022 DEBUG snp_calls: add variants variables\n",
      "Thu Sep  1 14:16:28 2022 DEBUG _snp_variants_dataset: variant arrays\n",
      "Thu Sep  1 14:16:28 2022 DEBUG _snp_variants_dataset: variant_position\n",
      "Thu Sep  1 14:16:28 2022 DEBUG _snp_variants_dataset: variant_allele\n"
     ]
    },
    {
     "name": "stderr",
     "output_type": "stream",
     "text": [
      "Thu Sep  1 14:16:28 2022 DEBUG _snp_variants_dataset: variant_contig\n",
      "Thu Sep  1 14:16:28 2022 DEBUG _snp_variants_dataset: site filters arrays\n",
      "Thu Sep  1 14:16:28 2022 DEBUG _snp_variants_dataset: set up attributes\n",
      "Thu Sep  1 14:16:28 2022 DEBUG _snp_variants_dataset: create a dataset\n",
      "Thu Sep  1 14:16:28 2022 DEBUG snp_calls: handle site class\n",
      "Thu Sep  1 14:16:28 2022 DEBUG snp_calls: handle region, do this only once - optimisation\n",
      "Thu Sep  1 14:16:29 2022 DEBUG snp_calls: concatenate data from multiple regions\n",
      "Thu Sep  1 14:16:29 2022 DEBUG snp_calls: apply site filters\n",
      "Thu Sep  1 14:16:29 2022 DEBUG snp_calls: add call_genotype_mask\n",
      "Thu Sep  1 14:16:29 2022 DEBUG snp_calls: handle sample query\n",
      "Thu Sep  1 14:16:29 2022 DEBUG snp_calls: handle cohort size\n"
     ]
    },
    {
     "data": {
      "application/vnd.plotly.v1+json": {
       "config": {
        "plotlyServerURL": "https://plot.ly"
       },
       "data": [
        {
         "customdata": [
          [
           0,
           0,
           0,
           1,
           "T_3492051"
          ],
          [
           0,
           1,
           0,
           0,
           "C_3492052"
          ],
          [
           1,
           0,
           0,
           0,
           "A_3492053"
          ],
          [
           0,
           0,
           0,
           1,
           "T_3492054"
          ],
          [
           0,
           0,
           1,
           0,
           "G_3492055"
          ],
          [
           0,
           1,
           0,
           0,
           "C_3492056"
          ],
          [
           0,
           0,
           0,
           1,
           "T_3492057"
          ],
          [
           0,
           0,
           1,
           0,
           "G_3492058"
          ],
          [
           0,
           0,
           0,
           1,
           "T_3492059"
          ],
          [
           0,
           0,
           1,
           0,
           "G_3492060"
          ],
          [
           0,
           0,
           1,
           0,
           "G_3492061"
          ],
          [
           1,
           0,
           0,
           0,
           "A_3492062"
          ],
          [
           0,
           0,
           0,
           1,
           "T_3492063"
          ],
          [
           0,
           1,
           0,
           0,
           "C_3492064"
          ],
          [
           0,
           0,
           0,
           1,
           "T_3492065"
          ],
          [
           0,
           0,
           0,
           1,
           "T_3492066"
          ],
          [
           0,
           0.99,
           0,
           0.01,
           "C_3492067"
          ],
          [
           0,
           0,
           1,
           0,
           "G_3492068"
          ],
          [
           0,
           0,
           1,
           0,
           "G_3492069"
          ],
          [
           0,
           1,
           0,
           0,
           "C_3492070"
          ]
         ],
         "hovertemplate": "Base / Position: %{customdata[4]}<br>Total Alternate freq: %{y}<br>A_freq: %{customdata[0]}<br>C_freq: %{customdata[1]}<br>G_freq: %{customdata[2]}<br>T_freq: %{customdata[3]}",
         "marker": {
          "color": [
           -1,
           -1,
           -1,
           -1,
           -1,
           -1,
           -1,
           -1,
           -1,
           -1,
           -1,
           -1,
           -1,
           -1,
           -1,
           -1,
           1,
           -1,
           -1,
           -1
          ],
          "colorscale": [
           [
            0,
            "lightgray"
           ],
           [
            0.5,
            "lightgray"
           ],
           [
            1,
            "dodgerblue"
           ]
          ],
          "line": {
           "color": "black",
           "width": 2
          },
          "size": 14,
          "symbol": "circle"
         },
         "mode": "markers",
         "type": "scatter",
         "x": [
          "T_3492051",
          "C_3492052",
          "A_3492053",
          "T_3492054",
          "G_3492055",
          "C_3492056",
          "T_3492057",
          "G_3492058",
          "T_3492059",
          "G_3492060",
          "G_3492061",
          "A_3492062",
          "T_3492063",
          "C_3492064",
          "T_3492065",
          "T_3492066",
          "C_3492067",
          "G_3492068",
          "G_3492069",
          "C_3492070"
         ],
         "xaxis": "x",
         "y": [
          0,
          0,
          0,
          0,
          0,
          0,
          0,
          0,
          0,
          0,
          0,
          0,
          0,
          0,
          0,
          0,
          0.01,
          0,
          0,
          0
         ],
         "yaxis": "y"
        },
        {
         "customdata": [
          [
           0,
           0,
           1,
           0,
           "G_3492047"
          ],
          [
           0,
           1,
           0,
           0,
           "C_3492048"
          ],
          [
           0,
           1,
           0,
           0,
           "C_3492049"
          ],
          [
           0.005,
           0,
           0.995,
           0,
           "G_3492050"
          ],
          [
           0,
           0,
           0,
           1,
           "T_3492051"
          ],
          [
           0,
           1,
           0,
           0,
           "C_3492052"
          ],
          [
           1,
           0,
           0,
           0,
           "A_3492053"
          ],
          [
           0,
           0,
           0,
           1,
           "T_3492054"
          ],
          [
           0,
           0,
           1,
           0,
           "G_3492055"
          ],
          [
           0,
           1,
           0,
           0,
           "C_3492056"
          ],
          [
           0,
           0,
           0,
           1,
           "T_3492057"
          ],
          [
           0,
           0,
           1,
           0,
           "G_3492058"
          ],
          [
           0,
           0,
           0,
           1,
           "T_3492059"
          ],
          [
           0,
           0,
           1,
           0,
           "G_3492060"
          ],
          [
           0,
           0,
           1,
           0,
           "G_3492061"
          ],
          [
           1,
           0,
           0,
           0,
           "A_3492062"
          ],
          [
           0,
           0,
           0,
           1,
           "T_3492063"
          ],
          [
           0,
           1,
           0,
           0,
           "C_3492064"
          ],
          [
           0,
           0,
           0,
           1,
           "T_3492065"
          ],
          [
           0,
           0,
           0,
           1,
           "T_3492066"
          ]
         ],
         "hovertemplate": "Base / Position: %{customdata[4]}<br>Total Alternate freq: %{y}<br>A_freq: %{customdata[0]}<br>C_freq: %{customdata[1]}<br>G_freq: %{customdata[2]}<br>T_freq: %{customdata[3]}",
         "marker": {
          "color": [
           -1,
           -1,
           -1,
           1,
           -1,
           -1,
           -1,
           -1,
           -1,
           -1,
           -1,
           -1,
           -1,
           -1,
           -1,
           -1,
           -1,
           -1,
           -1,
           -1
          ],
          "colorscale": [
           [
            0,
            "lightgray"
           ],
           [
            0.5,
            "lightgray"
           ],
           [
            1,
            "dodgerblue"
           ]
          ],
          "line": {
           "color": "black",
           "width": 2
          },
          "size": 14,
          "symbol": "circle"
         },
         "mode": "markers",
         "type": "scatter",
         "x": [
          "G_3492047",
          "C_3492048",
          "C_3492049",
          "G_3492050",
          "T_3492051",
          "C_3492052",
          "A_3492053",
          "T_3492054",
          "G_3492055",
          "C_3492056",
          "T_3492057",
          "G_3492058",
          "T_3492059",
          "G_3492060",
          "G_3492061",
          "A_3492062",
          "T_3492063",
          "C_3492064",
          "T_3492065",
          "T_3492066"
         ],
         "xaxis": "x4",
         "y": [
          0,
          0,
          0,
          0.005,
          0,
          0,
          0,
          0,
          0,
          0,
          0,
          0,
          0,
          0,
          0,
          0,
          0,
          0,
          0,
          0
         ],
         "yaxis": "y4"
        },
        {
         "customdata": [
          [
           0,
           0.995,
           0,
           0.005,
           "C_3492037"
          ],
          [
           1,
           0,
           0,
           0,
           "A_3492038"
          ],
          [
           1,
           0,
           0,
           0,
           "A_3492039"
          ],
          [
           0,
           0,
           1,
           0,
           "G_3492040"
          ],
          [
           1,
           0,
           0,
           0,
           "A_3492041"
          ],
          [
           1,
           0,
           0,
           0,
           "A_3492042"
          ],
          [
           0,
           0,
           0,
           1,
           "T_3492043"
          ],
          [
           0,
           0,
           1,
           0,
           "G_3492044"
          ],
          [
           0,
           1,
           0,
           0,
           "C_3492045"
          ],
          [
           0,
           0,
           0.995,
           0.005,
           "G_3492046"
          ],
          [
           0,
           0,
           1,
           0,
           "G_3492047"
          ],
          [
           0,
           1,
           0,
           0,
           "C_3492048"
          ],
          [
           0,
           1,
           0,
           0,
           "C_3492049"
          ],
          [
           0.005,
           0,
           0.995,
           0,
           "G_3492050"
          ],
          [
           0,
           0,
           0,
           1,
           "T_3492051"
          ],
          [
           0,
           1,
           0,
           0,
           "C_3492052"
          ],
          [
           1,
           0,
           0,
           0,
           "A_3492053"
          ],
          [
           0,
           0,
           0,
           1,
           "T_3492054"
          ],
          [
           0,
           0,
           1,
           0,
           "G_3492055"
          ]
         ],
         "hovertemplate": "Base / Position: %{customdata[4]}<br>Total Alternate freq: %{y}<br>A_freq: %{customdata[0]}<br>C_freq: %{customdata[1]}<br>G_freq: %{customdata[2]}<br>T_freq: %{customdata[3]}",
         "marker": {
          "color": [
           1,
           -1,
           -1,
           -1,
           -1,
           -1,
           -1,
           -1,
           -1,
           1,
           -1,
           -1,
           -1,
           1,
           -1,
           -1,
           -1,
           -1,
           -1
          ],
          "colorscale": [
           [
            0,
            "lightgray"
           ],
           [
            0.5,
            "lightgray"
           ],
           [
            1,
            "dodgerblue"
           ]
          ],
          "line": {
           "color": "black",
           "width": 2
          },
          "size": 14,
          "symbol": "circle"
         },
         "mode": "markers",
         "type": "scatter",
         "x": [
          "C_3492037",
          "A_3492038",
          "A_3492039",
          "G_3492040",
          "A_3492041",
          "A_3492042",
          "T_3492043",
          "G_3492044",
          "C_3492045",
          "G_3492046",
          "G_3492047",
          "C_3492048",
          "C_3492049",
          "G_3492050",
          "T_3492051",
          "C_3492052",
          "A_3492053",
          "T_3492054",
          "G_3492055"
         ],
         "xaxis": "x7",
         "y": [
          0.005,
          0,
          0,
          0,
          0,
          0,
          0,
          0,
          0,
          0.005,
          0,
          0,
          0,
          0.005,
          0,
          0,
          0,
          0,
          0
         ],
         "yaxis": "y7"
        },
        {
         "customdata": [
          [
           1,
           0,
           0,
           0,
           "A_3492006"
          ],
          [
           0,
           1,
           0,
           0,
           "C_3492007"
          ],
          [
           1,
           0,
           0,
           0,
           "A_3492008"
          ],
          [
           0,
           0,
           0,
           1,
           "T_3492009"
          ],
          [
           0,
           0,
           0,
           1,
           "T_3492010"
          ],
          [
           1,
           0,
           0,
           0,
           "A_3492011"
          ],
          [
           1,
           0,
           0,
           0,
           "A_3492012"
          ],
          [
           0,
           1,
           0,
           0,
           "C_3492013"
          ],
          [
           0,
           0,
           1,
           0,
           "G_3492014"
          ],
          [
           0,
           0,
           0,
           1,
           "T_3492015"
          ],
          [
           0,
           0,
           1,
           0,
           "G_3492016"
          ],
          [
           0,
           0,
           1,
           0,
           "G_3492017"
          ],
          [
           0,
           0,
           0,
           1,
           "T_3492018"
          ],
          [
           0,
           0,
           1,
           0,
           "G_3492019"
          ],
          [
           0,
           0,
           1,
           0,
           "G_3492020"
          ],
          [
           0,
           1,
           0,
           0,
           "C_3492021"
          ],
          [
           1,
           0,
           0,
           0,
           "A_3492022"
          ],
          [
           0,
           1,
           0,
           0,
           "C_3492023"
          ],
          [
           0,
           1,
           0,
           0,
           "C_3492024"
          ],
          [
           0,
           0,
           1,
           0,
           "G_3492025"
          ]
         ],
         "hovertemplate": "Base / Position: %{customdata[4]}<br>Total Alternate freq: %{y}<br>A_freq: %{customdata[0]}<br>C_freq: %{customdata[1]}<br>G_freq: %{customdata[2]}<br>T_freq: %{customdata[3]}",
         "marker": {
          "color": [
           -1,
           -1,
           -1,
           -1,
           -1,
           -1,
           -1,
           -1,
           -1,
           -1,
           -1,
           -1,
           -1,
           -1,
           -1,
           -1,
           -1,
           -1,
           -1,
           -1
          ],
          "colorscale": [
           [
            0,
            "lightgray"
           ],
           [
            0.5,
            "lightgray"
           ],
           [
            1,
            "dodgerblue"
           ]
          ],
          "line": {
           "color": "black",
           "width": 2
          },
          "size": 14,
          "symbol": "circle"
         },
         "mode": "markers",
         "type": "scatter",
         "x": [
          "A_3492006",
          "C_3492007",
          "A_3492008",
          "T_3492009",
          "T_3492010",
          "A_3492011",
          "A_3492012",
          "C_3492013",
          "G_3492014",
          "T_3492015",
          "G_3492016",
          "G_3492017",
          "T_3492018",
          "G_3492019",
          "G_3492020",
          "C_3492021",
          "A_3492022",
          "C_3492023",
          "C_3492024",
          "G_3492025"
         ],
         "xaxis": "x10",
         "y": [
          0,
          0,
          0,
          0,
          0,
          0,
          0,
          0,
          0,
          0,
          0,
          0,
          0,
          0,
          0,
          0,
          0,
          0,
          0,
          0
         ],
         "yaxis": "y10"
        },
        {
         "customdata": [
          [
           0,
           0,
           0.995,
           0.005,
           "G_3492046"
          ],
          [
           0,
           0,
           1,
           0,
           "G_3492047"
          ],
          [
           0,
           1,
           0,
           0,
           "C_3492048"
          ],
          [
           0,
           1,
           0,
           0,
           "C_3492049"
          ],
          [
           0.005,
           0,
           0.995,
           0,
           "G_3492050"
          ],
          [
           0,
           0,
           0,
           1,
           "T_3492051"
          ],
          [
           0,
           1,
           0,
           0,
           "C_3492052"
          ],
          [
           1,
           0,
           0,
           0,
           "A_3492053"
          ],
          [
           0,
           0,
           0,
           1,
           "T_3492054"
          ],
          [
           0,
           0,
           1,
           0,
           "G_3492055"
          ],
          [
           0,
           1,
           0,
           0,
           "C_3492056"
          ],
          [
           0,
           0,
           0,
           1,
           "T_3492057"
          ],
          [
           0,
           0,
           1,
           0,
           "G_3492058"
          ],
          [
           0,
           0,
           0,
           1,
           "T_3492059"
          ],
          [
           0,
           0,
           1,
           0,
           "G_3492060"
          ],
          [
           0,
           0,
           1,
           0,
           "G_3492061"
          ],
          [
           1,
           0,
           0,
           0,
           "A_3492062"
          ],
          [
           0,
           0,
           0,
           1,
           "T_3492063"
          ]
         ],
         "hovertemplate": "Base / Position: %{customdata[4]}<br>Total Alternate freq: %{y}<br>A_freq: %{customdata[0]}<br>C_freq: %{customdata[1]}<br>G_freq: %{customdata[2]}<br>T_freq: %{customdata[3]}",
         "marker": {
          "color": [
           1,
           -1,
           -1,
           -1,
           1,
           -1,
           -1,
           -1,
           -1,
           -1,
           -1,
           -1,
           -1,
           -1,
           -1,
           -1,
           -1,
           -1
          ],
          "colorscale": [
           [
            0,
            "lightgray"
           ],
           [
            0.5,
            "lightgray"
           ],
           [
            1,
            "dodgerblue"
           ]
          ],
          "line": {
           "color": "black",
           "width": 2
          },
          "size": 14,
          "symbol": "circle"
         },
         "mode": "markers",
         "type": "scatter",
         "x": [
          "G_3492046",
          "G_3492047",
          "C_3492048",
          "C_3492049",
          "G_3492050",
          "T_3492051",
          "C_3492052",
          "A_3492053",
          "T_3492054",
          "G_3492055",
          "C_3492056",
          "T_3492057",
          "G_3492058",
          "T_3492059",
          "G_3492060",
          "G_3492061",
          "A_3492062",
          "T_3492063"
         ],
         "xaxis": "x13",
         "y": [
          0.005,
          0,
          0,
          0,
          0.005,
          0,
          0,
          0,
          0,
          0,
          0,
          0,
          0,
          0,
          0,
          0,
          0,
          0
         ],
         "yaxis": "y13"
        },
        {
         "customdata": [
          [
           0,
           1,
           0,
           0,
           "C_3492056"
          ],
          [
           0,
           0,
           0,
           1,
           "T_3492057"
          ],
          [
           0,
           0,
           1,
           0,
           "G_3492058"
          ],
          [
           0,
           0,
           0,
           1,
           "T_3492059"
          ],
          [
           0,
           0,
           1,
           0,
           "G_3492060"
          ],
          [
           0,
           0,
           1,
           0,
           "G_3492061"
          ],
          [
           1,
           0,
           0,
           0,
           "A_3492062"
          ],
          [
           0,
           0,
           0,
           1,
           "T_3492063"
          ],
          [
           0,
           1,
           0,
           0,
           "C_3492064"
          ],
          [
           0,
           0,
           0,
           1,
           "T_3492065"
          ],
          [
           0,
           0,
           0,
           1,
           "T_3492066"
          ],
          [
           0,
           0.99,
           0,
           0.01,
           "C_3492067"
          ],
          [
           0,
           0,
           1,
           0,
           "G_3492068"
          ],
          [
           0,
           0,
           1,
           0,
           "G_3492069"
          ],
          [
           0,
           1,
           0,
           0,
           "C_3492070"
          ],
          [
           0,
           0,
           1,
           0,
           "G_3492071"
          ],
          [
           0,
           0,
           1,
           0,
           "G_3492072"
          ],
          [
           0,
           1,
           0,
           0,
           "C_3492073"
          ]
         ],
         "hovertemplate": "Base / Position: %{customdata[4]}<br>Total Alternate freq: %{y}<br>A_freq: %{customdata[0]}<br>C_freq: %{customdata[1]}<br>G_freq: %{customdata[2]}<br>T_freq: %{customdata[3]}",
         "marker": {
          "color": [
           -1,
           -1,
           -1,
           -1,
           -1,
           -1,
           -1,
           -1,
           -1,
           -1,
           -1,
           1,
           -1,
           -1,
           -1,
           -1,
           -1,
           -1
          ],
          "colorscale": [
           [
            0,
            "lightgray"
           ],
           [
            0.5,
            "lightgray"
           ],
           [
            1,
            "dodgerblue"
           ]
          ],
          "line": {
           "color": "black",
           "width": 2
          },
          "size": 14,
          "symbol": "circle"
         },
         "mode": "markers",
         "type": "scatter",
         "x": [
          "C_3492056",
          "T_3492057",
          "G_3492058",
          "T_3492059",
          "G_3492060",
          "G_3492061",
          "A_3492062",
          "T_3492063",
          "C_3492064",
          "T_3492065",
          "T_3492066",
          "C_3492067",
          "G_3492068",
          "G_3492069",
          "C_3492070",
          "G_3492071",
          "G_3492072",
          "C_3492073"
         ],
         "xaxis": "x16",
         "y": [
          0,
          0,
          0,
          0,
          0,
          0,
          0,
          0,
          0,
          0,
          0,
          0.01,
          0,
          0,
          0,
          0,
          0,
          0
         ],
         "yaxis": "y16"
        },
        {
         "customdata": [
          [
           0,
           0,
           1,
           0,
           "G_3492145"
          ],
          [
           1,
           0,
           0,
           0,
           "A_3492144"
          ],
          [
           0,
           0,
           0,
           1,
           "T_3492143"
          ],
          [
           0,
           1,
           0,
           0,
           "C_3492142"
          ],
          [
           1,
           0,
           0,
           0,
           "A_3492141"
          ],
          [
           0,
           1,
           0,
           0,
           "C_3492140"
          ],
          [
           0,
           0,
           1,
           0,
           "G_3492139"
          ],
          [
           0,
           0,
           0,
           1,
           "T_3492138"
          ],
          [
           0,
           0,
           0,
           1,
           "T_3492137"
          ],
          [
           0,
           1,
           0,
           0,
           "C_3492136"
          ],
          [
           0,
           0,
           0,
           1,
           "T_3492135"
          ],
          [
           0,
           1,
           0,
           0,
           "C_3492134"
          ],
          [
           0,
           1,
           0,
           0,
           "C_3492133"
          ],
          [
           0,
           0,
           0,
           1,
           "T_3492132"
          ],
          [
           0,
           1,
           0,
           0,
           "C_3492131"
          ],
          [
           0,
           1,
           0,
           0,
           "C_3492130"
          ],
          [
           0,
           0,
           1,
           0,
           "G_3492129"
          ],
          [
           1,
           0,
           0,
           0,
           "A_3492128"
          ],
          [
           0,
           0.995,
           0.005,
           0,
           "C_3492127"
          ],
          [
           0,
           0,
           1,
           0,
           "G_3492126"
          ]
         ],
         "hovertemplate": "Base / Position: %{customdata[4]}<br>Total Alternate freq: %{y}<br>A_freq: %{customdata[0]}<br>C_freq: %{customdata[1]}<br>G_freq: %{customdata[2]}<br>T_freq: %{customdata[3]}",
         "marker": {
          "color": [
           -1,
           -1,
           -1,
           -1,
           -1,
           -1,
           -1,
           -1,
           -1,
           -1,
           -1,
           -1,
           -1,
           -1,
           -1,
           -1,
           -1,
           -1,
           1,
           -1
          ],
          "colorscale": [
           [
            0,
            "lightgray"
           ],
           [
            0.5,
            "lightgray"
           ],
           [
            1,
            "dodgerblue"
           ]
          ],
          "line": {
           "color": "black",
           "width": 2
          },
          "size": 14,
          "symbol": "circle"
         },
         "mode": "markers",
         "type": "scatter",
         "x": [
          "G_3492145",
          "A_3492144",
          "T_3492143",
          "C_3492142",
          "A_3492141",
          "C_3492140",
          "G_3492139",
          "T_3492138",
          "T_3492137",
          "C_3492136",
          "T_3492135",
          "C_3492134",
          "C_3492133",
          "T_3492132",
          "C_3492131",
          "C_3492130",
          "G_3492129",
          "A_3492128",
          "C_3492127",
          "G_3492126"
         ],
         "xaxis": "x2",
         "y": [
          0,
          0,
          0,
          0,
          0,
          0,
          0,
          0,
          0,
          0,
          0,
          0,
          0,
          0,
          0,
          0,
          0,
          0,
          0.005,
          0
         ],
         "yaxis": "y2"
        },
        {
         "customdata": [
          [
           0,
           0,
           1,
           0,
           "G_3492112"
          ],
          [
           0,
           0,
           0,
           1,
           "T_3492111"
          ],
          [
           0,
           1,
           0,
           0,
           "C_3492110"
          ],
          [
           0,
           0,
           1,
           0,
           "G_3492109"
          ],
          [
           0,
           0,
           0,
           1,
           "T_3492108"
          ],
          [
           1,
           0,
           0,
           0,
           "A_3492107"
          ],
          [
           0,
           1,
           0,
           0,
           "C_3492106"
          ],
          [
           1,
           0,
           0,
           0,
           "A_3492105"
          ],
          [
           0,
           1,
           0,
           0,
           "C_3492104"
          ],
          [
           0,
           0,
           1,
           0,
           "G_3492103"
          ],
          [
           0,
           0,
           0,
           1,
           "T_3492102"
          ],
          [
           0,
           1,
           0,
           0,
           "C_3492101"
          ],
          [
           0,
           1,
           0,
           0,
           "C_3492100"
          ],
          [
           1,
           0,
           0,
           0,
           "A_3492099"
          ],
          [
           0,
           0,
           1,
           0,
           "G_3492098"
          ],
          [
           0,
           0,
           1,
           0,
           "G_3492097"
          ],
          [
           0,
           0,
           1,
           0,
           "G_3492096"
          ],
          [
           0,
           0,
           0,
           1,
           "T_3492095"
          ],
          [
           0,
           0,
           1,
           0,
           "G_3492094"
          ]
         ],
         "hovertemplate": "Base / Position: %{customdata[4]}<br>Total Alternate freq: %{y}<br>A_freq: %{customdata[0]}<br>C_freq: %{customdata[1]}<br>G_freq: %{customdata[2]}<br>T_freq: %{customdata[3]}",
         "marker": {
          "color": [
           -1,
           -1,
           -1,
           -1,
           -1,
           -1,
           -1,
           -1,
           -1,
           -1,
           -1,
           -1,
           -1,
           -1,
           -1,
           -1,
           -1,
           -1,
           -1
          ],
          "colorscale": [
           [
            0,
            "lightgray"
           ],
           [
            0.5,
            "lightgray"
           ],
           [
            1,
            "dodgerblue"
           ]
          ],
          "line": {
           "color": "black",
           "width": 2
          },
          "size": 14,
          "symbol": "circle"
         },
         "mode": "markers",
         "type": "scatter",
         "x": [
          "G_3492112",
          "T_3492111",
          "C_3492110",
          "G_3492109",
          "T_3492108",
          "A_3492107",
          "C_3492106",
          "A_3492105",
          "C_3492104",
          "G_3492103",
          "T_3492102",
          "C_3492101",
          "C_3492100",
          "A_3492099",
          "G_3492098",
          "G_3492097",
          "G_3492096",
          "T_3492095",
          "G_3492094"
         ],
         "xaxis": "x5",
         "y": [
          0,
          0,
          0,
          0,
          0,
          0,
          0,
          0,
          0,
          0,
          0,
          0,
          0,
          0,
          0,
          0,
          0,
          0,
          0
         ],
         "yaxis": "y5"
        },
        {
         "customdata": [
          [
           0,
           0,
           1,
           0,
           "G_3492139"
          ],
          [
           0,
           0,
           0,
           1,
           "T_3492138"
          ],
          [
           0,
           0,
           0,
           1,
           "T_3492137"
          ],
          [
           0,
           1,
           0,
           0,
           "C_3492136"
          ],
          [
           0,
           0,
           0,
           1,
           "T_3492135"
          ],
          [
           0,
           1,
           0,
           0,
           "C_3492134"
          ],
          [
           0,
           1,
           0,
           0,
           "C_3492133"
          ],
          [
           0,
           0,
           0,
           1,
           "T_3492132"
          ],
          [
           0,
           1,
           0,
           0,
           "C_3492131"
          ],
          [
           0,
           1,
           0,
           0,
           "C_3492130"
          ],
          [
           0,
           0,
           1,
           0,
           "G_3492129"
          ],
          [
           1,
           0,
           0,
           0,
           "A_3492128"
          ],
          [
           0,
           0.995,
           0.005,
           0,
           "C_3492127"
          ],
          [
           0,
           0,
           1,
           0,
           "G_3492126"
          ],
          [
           0,
           1,
           0,
           0,
           "C_3492125"
          ],
          [
           1,
           0,
           0,
           0,
           "A_3492124"
          ],
          [
           1,
           0,
           0,
           0,
           "A_3492123"
          ],
          [
           0,
           0,
           1,
           0,
           "G_3492122"
          ],
          [
           0,
           1,
           0,
           0,
           "C_3492121"
          ]
         ],
         "hovertemplate": "Base / Position: %{customdata[4]}<br>Total Alternate freq: %{y}<br>A_freq: %{customdata[0]}<br>C_freq: %{customdata[1]}<br>G_freq: %{customdata[2]}<br>T_freq: %{customdata[3]}",
         "marker": {
          "color": [
           -1,
           -1,
           -1,
           -1,
           -1,
           -1,
           -1,
           -1,
           -1,
           -1,
           -1,
           -1,
           1,
           -1,
           -1,
           -1,
           -1,
           -1,
           -1
          ],
          "colorscale": [
           [
            0,
            "lightgray"
           ],
           [
            0.5,
            "lightgray"
           ],
           [
            1,
            "dodgerblue"
           ]
          ],
          "line": {
           "color": "black",
           "width": 2
          },
          "size": 14,
          "symbol": "circle"
         },
         "mode": "markers",
         "type": "scatter",
         "x": [
          "G_3492139",
          "T_3492138",
          "T_3492137",
          "C_3492136",
          "T_3492135",
          "C_3492134",
          "C_3492133",
          "T_3492132",
          "C_3492131",
          "C_3492130",
          "G_3492129",
          "A_3492128",
          "C_3492127",
          "G_3492126",
          "C_3492125",
          "A_3492124",
          "A_3492123",
          "G_3492122",
          "C_3492121"
         ],
         "xaxis": "x8",
         "y": [
          0,
          0,
          0,
          0,
          0,
          0,
          0,
          0,
          0,
          0,
          0,
          0,
          0.005,
          0,
          0,
          0,
          0,
          0,
          0
         ],
         "yaxis": "y8"
        },
        {
         "customdata": [
          [
           0,
           1,
           0,
           0,
           "C_3492117"
          ],
          [
           0,
           0,
           1,
           0,
           "G_3492116"
          ],
          [
           0.015,
           0,
           0.985,
           0,
           "G_3492115"
          ],
          [
           0,
           0,
           0,
           1,
           "T_3492114"
          ],
          [
           0,
           0,
           1,
           0,
           "G_3492113"
          ],
          [
           0,
           0,
           1,
           0,
           "G_3492112"
          ],
          [
           0,
           0,
           0,
           1,
           "T_3492111"
          ],
          [
           0,
           1,
           0,
           0,
           "C_3492110"
          ],
          [
           0,
           0,
           1,
           0,
           "G_3492109"
          ],
          [
           0,
           0,
           0,
           1,
           "T_3492108"
          ],
          [
           1,
           0,
           0,
           0,
           "A_3492107"
          ],
          [
           0,
           1,
           0,
           0,
           "C_3492106"
          ],
          [
           1,
           0,
           0,
           0,
           "A_3492105"
          ],
          [
           0,
           1,
           0,
           0,
           "C_3492104"
          ],
          [
           0,
           0,
           1,
           0,
           "G_3492103"
          ],
          [
           0,
           0,
           0,
           1,
           "T_3492102"
          ],
          [
           0,
           1,
           0,
           0,
           "C_3492101"
          ],
          [
           0,
           1,
           0,
           0,
           "C_3492100"
          ]
         ],
         "hovertemplate": "Base / Position: %{customdata[4]}<br>Total Alternate freq: %{y}<br>A_freq: %{customdata[0]}<br>C_freq: %{customdata[1]}<br>G_freq: %{customdata[2]}<br>T_freq: %{customdata[3]}",
         "marker": {
          "color": [
           -1,
           -1,
           1,
           -1,
           -1,
           -1,
           -1,
           -1,
           -1,
           -1,
           -1,
           -1,
           -1,
           -1,
           -1,
           -1,
           -1,
           -1
          ],
          "colorscale": [
           [
            0,
            "lightgray"
           ],
           [
            0.5,
            "lightgray"
           ],
           [
            1,
            "dodgerblue"
           ]
          ],
          "line": {
           "color": "black",
           "width": 2
          },
          "size": 14,
          "symbol": "circle"
         },
         "mode": "markers",
         "type": "scatter",
         "x": [
          "C_3492117",
          "G_3492116",
          "G_3492115",
          "T_3492114",
          "G_3492113",
          "G_3492112",
          "T_3492111",
          "C_3492110",
          "G_3492109",
          "T_3492108",
          "A_3492107",
          "C_3492106",
          "A_3492105",
          "C_3492104",
          "G_3492103",
          "T_3492102",
          "C_3492101",
          "C_3492100"
         ],
         "xaxis": "x11",
         "y": [
          0,
          0,
          0.015,
          0,
          0,
          0,
          0,
          0,
          0,
          0,
          0,
          0,
          0,
          0,
          0,
          0,
          0,
          0
         ],
         "yaxis": "y11"
        },
        {
         "customdata": [
          [
           0,
           0,
           0,
           1,
           "T_3492162"
          ],
          [
           1,
           0,
           0,
           0,
           "A_3492161"
          ],
          [
           0,
           1,
           0,
           0,
           "C_3492160"
          ],
          [
           0,
           0,
           0,
           1,
           "T_3492159"
          ],
          [
           0,
           0,
           1,
           0,
           "G_3492158"
          ],
          [
           0,
           1,
           0,
           0,
           "C_3492157"
          ],
          [
           1,
           0,
           0,
           0,
           "A_3492156"
          ],
          [
           0,
           0,
           1,
           0,
           "G_3492155"
          ],
          [
           0,
           1,
           0,
           0,
           "C_3492154"
          ],
          [
           0,
           0,
           1,
           0,
           "G_3492153"
          ],
          [
           1,
           0,
           0,
           0,
           "A_3492152"
          ],
          [
           0,
           1,
           0,
           0,
           "C_3492151"
          ],
          [
           1,
           0,
           0,
           0,
           "A_3492150"
          ],
          [
           0,
           1,
           0,
           0,
           "C_3492149"
          ],
          [
           0,
           1,
           0,
           0,
           "C_3492148"
          ],
          [
           1,
           0,
           0,
           0,
           "A_3492147"
          ],
          [
           0,
           1,
           0,
           0,
           "C_3492146"
          ],
          [
           0,
           0,
           1,
           0,
           "G_3492145"
          ],
          [
           1,
           0,
           0,
           0,
           "A_3492144"
          ],
          [
           0,
           0,
           0,
           1,
           "T_3492143"
          ]
         ],
         "hovertemplate": "Base / Position: %{customdata[4]}<br>Total Alternate freq: %{y}<br>A_freq: %{customdata[0]}<br>C_freq: %{customdata[1]}<br>G_freq: %{customdata[2]}<br>T_freq: %{customdata[3]}",
         "marker": {
          "color": [
           -1,
           -1,
           -1,
           -1,
           -1,
           -1,
           -1,
           -1,
           -1,
           -1,
           -1,
           -1,
           -1,
           -1,
           -1,
           -1,
           -1,
           -1,
           -1,
           -1
          ],
          "colorscale": [
           [
            0,
            "lightgray"
           ],
           [
            0.5,
            "lightgray"
           ],
           [
            1,
            "dodgerblue"
           ]
          ],
          "line": {
           "color": "black",
           "width": 2
          },
          "size": 14,
          "symbol": "circle"
         },
         "mode": "markers",
         "type": "scatter",
         "x": [
          "T_3492162",
          "A_3492161",
          "C_3492160",
          "T_3492159",
          "G_3492158",
          "C_3492157",
          "A_3492156",
          "G_3492155",
          "C_3492154",
          "G_3492153",
          "A_3492152",
          "C_3492151",
          "A_3492150",
          "C_3492149",
          "C_3492148",
          "A_3492147",
          "C_3492146",
          "G_3492145",
          "A_3492144",
          "T_3492143"
         ],
         "xaxis": "x14",
         "y": [
          0,
          0,
          0,
          0,
          0,
          0,
          0,
          0,
          0,
          0,
          0,
          0,
          0,
          0,
          0,
          0,
          0,
          0,
          0,
          0
         ],
         "yaxis": "y14"
        },
        {
         "customdata": [
          [
           1,
           0,
           0,
           0,
           "A_3492156"
          ],
          [
           0,
           0,
           1,
           0,
           "G_3492155"
          ],
          [
           0,
           1,
           0,
           0,
           "C_3492154"
          ],
          [
           0,
           0,
           1,
           0,
           "G_3492153"
          ],
          [
           1,
           0,
           0,
           0,
           "A_3492152"
          ],
          [
           0,
           1,
           0,
           0,
           "C_3492151"
          ],
          [
           1,
           0,
           0,
           0,
           "A_3492150"
          ],
          [
           0,
           1,
           0,
           0,
           "C_3492149"
          ],
          [
           0,
           1,
           0,
           0,
           "C_3492148"
          ],
          [
           1,
           0,
           0,
           0,
           "A_3492147"
          ],
          [
           0,
           1,
           0,
           0,
           "C_3492146"
          ],
          [
           0,
           0,
           1,
           0,
           "G_3492145"
          ],
          [
           1,
           0,
           0,
           0,
           "A_3492144"
          ],
          [
           0,
           0,
           0,
           1,
           "T_3492143"
          ],
          [
           0,
           1,
           0,
           0,
           "C_3492142"
          ],
          [
           1,
           0,
           0,
           0,
           "A_3492141"
          ],
          [
           0,
           1,
           0,
           0,
           "C_3492140"
          ],
          [
           0,
           0,
           1,
           0,
           "G_3492139"
          ]
         ],
         "hovertemplate": "Base / Position: %{customdata[4]}<br>Total Alternate freq: %{y}<br>A_freq: %{customdata[0]}<br>C_freq: %{customdata[1]}<br>G_freq: %{customdata[2]}<br>T_freq: %{customdata[3]}",
         "marker": {
          "color": [
           -1,
           -1,
           -1,
           -1,
           -1,
           -1,
           -1,
           -1,
           -1,
           -1,
           -1,
           -1,
           -1,
           -1,
           -1,
           -1,
           -1,
           -1
          ],
          "colorscale": [
           [
            0,
            "lightgray"
           ],
           [
            0.5,
            "lightgray"
           ],
           [
            1,
            "dodgerblue"
           ]
          ],
          "line": {
           "color": "black",
           "width": 2
          },
          "size": 14,
          "symbol": "circle"
         },
         "mode": "markers",
         "type": "scatter",
         "x": [
          "A_3492156",
          "G_3492155",
          "C_3492154",
          "G_3492153",
          "A_3492152",
          "C_3492151",
          "A_3492150",
          "C_3492149",
          "C_3492148",
          "A_3492147",
          "C_3492146",
          "G_3492145",
          "A_3492144",
          "T_3492143",
          "C_3492142",
          "A_3492141",
          "C_3492140",
          "G_3492139"
         ],
         "xaxis": "x17",
         "y": [
          0,
          0,
          0,
          0,
          0,
          0,
          0,
          0,
          0,
          0,
          0,
          0,
          0,
          0,
          0,
          0,
          0,
          0
         ],
         "yaxis": "y17"
        },
        {
         "customdata": [
          [
           0,
           0,
           1,
           0,
           "G_3492072"
          ],
          [
           0,
           1,
           0,
           0,
           "C_3492073"
          ],
          [
           0.26,
           0,
           0.74,
           0,
           "G_3492074"
          ],
          [
           0,
           0,
           1,
           0,
           "G_3492075"
          ],
          [
           0,
           1,
           0,
           0,
           "C_3492076"
          ],
          [
           0,
           0,
           0,
           1,
           "T_3492077"
          ],
          [
           0,
           0,
           0,
           1,
           "T_3492078"
          ],
          [
           0,
           1,
           0,
           0,
           "C_3492079"
          ],
          [
           0,
           0,
           0,
           1,
           "T_3492080"
          ],
          [
           1,
           0,
           0,
           0,
           "A_3492081"
          ],
          [
           0,
           1,
           0,
           0,
           "C_3492082"
          ],
          [
           0,
           0,
           0,
           1,
           "T_3492083"
          ],
          [
           0,
           1,
           0,
           0,
           "C_3492084"
          ],
          [
           0,
           1,
           0,
           0,
           "C_3492085"
          ],
          [
           0,
           0,
           1,
           0,
           "G_3492086"
          ],
          [
           0,
           0,
           1,
           0,
           "G_3492087"
          ],
          [
           0,
           1,
           0,
           0,
           "C_3492088"
          ],
          [
           1,
           0,
           0,
           0,
           "A_3492089"
          ]
         ],
         "hovertemplate": "Base / Position: %{customdata[4]}<br>Total Alternate freq: %{y}<br>A_freq: %{customdata[0]}<br>C_freq: %{customdata[1]}<br>G_freq: %{customdata[2]}<br>T_freq: %{customdata[3]}",
         "marker": {
          "color": [
           -1,
           -1,
           1,
           -1,
           -1,
           -1,
           -1,
           -1,
           -1,
           -1,
           -1,
           -1,
           -1,
           -1,
           -1,
           -1,
           -1,
           -1
          ],
          "colorscale": [
           [
            0,
            "lightgray"
           ],
           [
            0.5,
            "lightgray"
           ],
           [
            1,
            "dodgerblue"
           ]
          ],
          "line": {
           "color": "black",
           "width": 2
          },
          "size": 14,
          "symbol": "circle"
         },
         "mode": "markers",
         "type": "scatter",
         "x": [
          "G_3492072",
          "C_3492073",
          "G_3492074",
          "G_3492075",
          "C_3492076",
          "T_3492077",
          "T_3492078",
          "C_3492079",
          "T_3492080",
          "A_3492081",
          "C_3492082",
          "T_3492083",
          "C_3492084",
          "C_3492085",
          "G_3492086",
          "G_3492087",
          "C_3492088",
          "A_3492089"
         ],
         "xaxis": "x3",
         "y": [
          0,
          0,
          0.26,
          0,
          0,
          0,
          0,
          0,
          0,
          0,
          0,
          0,
          0,
          0,
          0,
          0,
          0,
          0
         ],
         "yaxis": "y3"
        },
        {
         "customdata": [
          [
           0,
           0,
           1,
           0,
           "G_3492069"
          ],
          [
           0,
           1,
           0,
           0,
           "C_3492070"
          ],
          [
           0,
           0,
           1,
           0,
           "G_3492071"
          ],
          [
           0,
           0,
           1,
           0,
           "G_3492072"
          ],
          [
           0,
           1,
           0,
           0,
           "C_3492073"
          ],
          [
           0.26,
           0,
           0.74,
           0,
           "G_3492074"
          ],
          [
           0,
           0,
           1,
           0,
           "G_3492075"
          ],
          [
           0,
           1,
           0,
           0,
           "C_3492076"
          ],
          [
           0,
           0,
           0,
           1,
           "T_3492077"
          ],
          [
           0,
           0,
           0,
           1,
           "T_3492078"
          ],
          [
           0,
           1,
           0,
           0,
           "C_3492079"
          ],
          [
           0,
           0,
           0,
           1,
           "T_3492080"
          ],
          [
           1,
           0,
           0,
           0,
           "A_3492081"
          ],
          [
           0,
           1,
           0,
           0,
           "C_3492082"
          ],
          [
           0,
           0,
           0,
           1,
           "T_3492083"
          ],
          [
           0,
           1,
           0,
           0,
           "C_3492084"
          ],
          [
           0,
           1,
           0,
           0,
           "C_3492085"
          ],
          [
           0,
           0,
           1,
           0,
           "G_3492086"
          ],
          [
           0,
           0,
           1,
           0,
           "G_3492087"
          ]
         ],
         "hovertemplate": "Base / Position: %{customdata[4]}<br>Total Alternate freq: %{y}<br>A_freq: %{customdata[0]}<br>C_freq: %{customdata[1]}<br>G_freq: %{customdata[2]}<br>T_freq: %{customdata[3]}",
         "marker": {
          "color": [
           -1,
           -1,
           -1,
           -1,
           -1,
           1,
           -1,
           -1,
           -1,
           -1,
           -1,
           -1,
           -1,
           -1,
           -1,
           -1,
           -1,
           -1,
           -1
          ],
          "colorscale": [
           [
            0,
            "lightgray"
           ],
           [
            0.5,
            "lightgray"
           ],
           [
            1,
            "dodgerblue"
           ]
          ],
          "line": {
           "color": "black",
           "width": 2
          },
          "size": 14,
          "symbol": "circle"
         },
         "mode": "markers",
         "type": "scatter",
         "x": [
          "G_3492069",
          "C_3492070",
          "G_3492071",
          "G_3492072",
          "C_3492073",
          "G_3492074",
          "G_3492075",
          "C_3492076",
          "T_3492077",
          "T_3492078",
          "C_3492079",
          "T_3492080",
          "A_3492081",
          "C_3492082",
          "T_3492083",
          "C_3492084",
          "C_3492085",
          "G_3492086",
          "G_3492087"
         ],
         "xaxis": "x6",
         "y": [
          0,
          0,
          0,
          0,
          0,
          0.26,
          0,
          0,
          0,
          0,
          0,
          0,
          0,
          0,
          0,
          0,
          0,
          0,
          0
         ],
         "yaxis": "y6"
        },
        {
         "customdata": [
          [
           0,
           0,
           0,
           1,
           "T_3492059"
          ],
          [
           0,
           0,
           1,
           0,
           "G_3492060"
          ],
          [
           0,
           0,
           1,
           0,
           "G_3492061"
          ],
          [
           1,
           0,
           0,
           0,
           "A_3492062"
          ],
          [
           0,
           0,
           0,
           1,
           "T_3492063"
          ],
          [
           0,
           1,
           0,
           0,
           "C_3492064"
          ],
          [
           0,
           0,
           0,
           1,
           "T_3492065"
          ],
          [
           0,
           0,
           0,
           1,
           "T_3492066"
          ],
          [
           0,
           0.99,
           0,
           0.01,
           "C_3492067"
          ],
          [
           0,
           0,
           1,
           0,
           "G_3492068"
          ],
          [
           0,
           0,
           1,
           0,
           "G_3492069"
          ],
          [
           0,
           1,
           0,
           0,
           "C_3492070"
          ],
          [
           0,
           0,
           1,
           0,
           "G_3492071"
          ],
          [
           0,
           0,
           1,
           0,
           "G_3492072"
          ],
          [
           0,
           1,
           0,
           0,
           "C_3492073"
          ],
          [
           0.26,
           0,
           0.74,
           0,
           "G_3492074"
          ],
          [
           0,
           0,
           1,
           0,
           "G_3492075"
          ],
          [
           0,
           1,
           0,
           0,
           "C_3492076"
          ]
         ],
         "hovertemplate": "Base / Position: %{customdata[4]}<br>Total Alternate freq: %{y}<br>A_freq: %{customdata[0]}<br>C_freq: %{customdata[1]}<br>G_freq: %{customdata[2]}<br>T_freq: %{customdata[3]}",
         "marker": {
          "color": [
           -1,
           -1,
           -1,
           -1,
           -1,
           -1,
           -1,
           -1,
           1,
           -1,
           -1,
           -1,
           -1,
           -1,
           -1,
           1,
           -1,
           -1
          ],
          "colorscale": [
           [
            0,
            "lightgray"
           ],
           [
            0.5,
            "lightgray"
           ],
           [
            1,
            "dodgerblue"
           ]
          ],
          "line": {
           "color": "black",
           "width": 2
          },
          "size": 14,
          "symbol": "circle"
         },
         "mode": "markers",
         "type": "scatter",
         "x": [
          "T_3492059",
          "G_3492060",
          "G_3492061",
          "A_3492062",
          "T_3492063",
          "C_3492064",
          "T_3492065",
          "T_3492066",
          "C_3492067",
          "G_3492068",
          "G_3492069",
          "C_3492070",
          "G_3492071",
          "G_3492072",
          "C_3492073",
          "G_3492074",
          "G_3492075",
          "C_3492076"
         ],
         "xaxis": "x9",
         "y": [
          0,
          0,
          0,
          0,
          0,
          0,
          0,
          0,
          0.01,
          0,
          0,
          0,
          0,
          0,
          0,
          0.26,
          0,
          0
         ],
         "yaxis": "y9"
        },
        {
         "customdata": [
          [
           0,
           0,
           0,
           1,
           "T_3492059"
          ],
          [
           0,
           0,
           1,
           0,
           "G_3492060"
          ],
          [
           0,
           0,
           1,
           0,
           "G_3492061"
          ],
          [
           1,
           0,
           0,
           0,
           "A_3492062"
          ],
          [
           0,
           0,
           0,
           1,
           "T_3492063"
          ],
          [
           0,
           1,
           0,
           0,
           "C_3492064"
          ],
          [
           0,
           0,
           0,
           1,
           "T_3492065"
          ],
          [
           0,
           0,
           0,
           1,
           "T_3492066"
          ],
          [
           0,
           0.99,
           0,
           0.01,
           "C_3492067"
          ],
          [
           0,
           0,
           1,
           0,
           "G_3492068"
          ],
          [
           0,
           0,
           1,
           0,
           "G_3492069"
          ],
          [
           0,
           1,
           0,
           0,
           "C_3492070"
          ],
          [
           0,
           0,
           1,
           0,
           "G_3492071"
          ],
          [
           0,
           0,
           1,
           0,
           "G_3492072"
          ],
          [
           0,
           1,
           0,
           0,
           "C_3492073"
          ],
          [
           0.26,
           0,
           0.74,
           0,
           "G_3492074"
          ],
          [
           0,
           0,
           1,
           0,
           "G_3492075"
          ],
          [
           0,
           1,
           0,
           0,
           "C_3492076"
          ]
         ],
         "hovertemplate": "Base / Position: %{customdata[4]}<br>Total Alternate freq: %{y}<br>A_freq: %{customdata[0]}<br>C_freq: %{customdata[1]}<br>G_freq: %{customdata[2]}<br>T_freq: %{customdata[3]}",
         "marker": {
          "color": [
           -1,
           -1,
           -1,
           -1,
           -1,
           -1,
           -1,
           -1,
           1,
           -1,
           -1,
           -1,
           -1,
           -1,
           -1,
           1,
           -1,
           -1
          ],
          "colorscale": [
           [
            0,
            "lightgray"
           ],
           [
            0.5,
            "lightgray"
           ],
           [
            1,
            "dodgerblue"
           ]
          ],
          "line": {
           "color": "black",
           "width": 2
          },
          "size": 14,
          "symbol": "circle"
         },
         "mode": "markers",
         "type": "scatter",
         "x": [
          "T_3492059",
          "G_3492060",
          "G_3492061",
          "A_3492062",
          "T_3492063",
          "C_3492064",
          "T_3492065",
          "T_3492066",
          "C_3492067",
          "G_3492068",
          "G_3492069",
          "C_3492070",
          "G_3492071",
          "G_3492072",
          "C_3492073",
          "G_3492074",
          "G_3492075",
          "C_3492076"
         ],
         "xaxis": "x12",
         "y": [
          0,
          0,
          0,
          0,
          0,
          0,
          0,
          0,
          0.01,
          0,
          0,
          0,
          0,
          0,
          0,
          0.26,
          0,
          0
         ],
         "yaxis": "y12"
        },
        {
         "customdata": [
          [
           0,
           0,
           1,
           0,
           "G_3492069"
          ],
          [
           0,
           1,
           0,
           0,
           "C_3492070"
          ],
          [
           0,
           0,
           1,
           0,
           "G_3492071"
          ],
          [
           0,
           0,
           1,
           0,
           "G_3492072"
          ],
          [
           0,
           1,
           0,
           0,
           "C_3492073"
          ],
          [
           0.26,
           0,
           0.74,
           0,
           "G_3492074"
          ],
          [
           0,
           0,
           1,
           0,
           "G_3492075"
          ],
          [
           0,
           1,
           0,
           0,
           "C_3492076"
          ],
          [
           0,
           0,
           0,
           1,
           "T_3492077"
          ],
          [
           0,
           0,
           0,
           1,
           "T_3492078"
          ],
          [
           0,
           1,
           0,
           0,
           "C_3492079"
          ],
          [
           0,
           0,
           0,
           1,
           "T_3492080"
          ],
          [
           1,
           0,
           0,
           0,
           "A_3492081"
          ],
          [
           0,
           1,
           0,
           0,
           "C_3492082"
          ],
          [
           0,
           0,
           0,
           1,
           "T_3492083"
          ],
          [
           0,
           1,
           0,
           0,
           "C_3492084"
          ],
          [
           0,
           1,
           0,
           0,
           "C_3492085"
          ],
          [
           0,
           0,
           1,
           0,
           "G_3492086"
          ],
          [
           0,
           0,
           1,
           0,
           "G_3492087"
          ]
         ],
         "hovertemplate": "Base / Position: %{customdata[4]}<br>Total Alternate freq: %{y}<br>A_freq: %{customdata[0]}<br>C_freq: %{customdata[1]}<br>G_freq: %{customdata[2]}<br>T_freq: %{customdata[3]}",
         "marker": {
          "color": [
           -1,
           -1,
           -1,
           -1,
           -1,
           1,
           -1,
           -1,
           -1,
           -1,
           -1,
           -1,
           -1,
           -1,
           -1,
           -1,
           -1,
           -1,
           -1
          ],
          "colorscale": [
           [
            0,
            "lightgray"
           ],
           [
            0.5,
            "lightgray"
           ],
           [
            1,
            "dodgerblue"
           ]
          ],
          "line": {
           "color": "black",
           "width": 2
          },
          "size": 14,
          "symbol": "circle"
         },
         "mode": "markers",
         "type": "scatter",
         "x": [
          "G_3492069",
          "C_3492070",
          "G_3492071",
          "G_3492072",
          "C_3492073",
          "G_3492074",
          "G_3492075",
          "C_3492076",
          "T_3492077",
          "T_3492078",
          "C_3492079",
          "T_3492080",
          "A_3492081",
          "C_3492082",
          "T_3492083",
          "C_3492084",
          "C_3492085",
          "G_3492086",
          "G_3492087"
         ],
         "xaxis": "x15",
         "y": [
          0,
          0,
          0,
          0,
          0,
          0.26,
          0,
          0,
          0,
          0,
          0,
          0,
          0,
          0,
          0,
          0,
          0,
          0,
          0
         ],
         "yaxis": "y15"
        },
        {
         "customdata": [
          [
           0.26,
           0,
           0.74,
           0,
           "G_3492074"
          ],
          [
           0,
           0,
           1,
           0,
           "G_3492075"
          ],
          [
           0,
           1,
           0,
           0,
           "C_3492076"
          ],
          [
           0,
           0,
           0,
           1,
           "T_3492077"
          ],
          [
           0,
           0,
           0,
           1,
           "T_3492078"
          ],
          [
           0,
           1,
           0,
           0,
           "C_3492079"
          ],
          [
           0,
           0,
           0,
           1,
           "T_3492080"
          ],
          [
           1,
           0,
           0,
           0,
           "A_3492081"
          ],
          [
           0,
           1,
           0,
           0,
           "C_3492082"
          ],
          [
           0,
           0,
           0,
           1,
           "T_3492083"
          ],
          [
           0,
           1,
           0,
           0,
           "C_3492084"
          ],
          [
           0,
           1,
           0,
           0,
           "C_3492085"
          ],
          [
           0,
           0,
           1,
           0,
           "G_3492086"
          ],
          [
           0,
           0,
           1,
           0,
           "G_3492087"
          ],
          [
           0,
           1,
           0,
           0,
           "C_3492088"
          ],
          [
           1,
           0,
           0,
           0,
           "A_3492089"
          ]
         ],
         "hovertemplate": "Base / Position: %{customdata[4]}<br>Total Alternate freq: %{y}<br>A_freq: %{customdata[0]}<br>C_freq: %{customdata[1]}<br>G_freq: %{customdata[2]}<br>T_freq: %{customdata[3]}",
         "marker": {
          "color": [
           1,
           -1,
           -1,
           -1,
           -1,
           -1,
           -1,
           -1,
           -1,
           -1,
           -1,
           -1,
           -1,
           -1,
           -1,
           -1
          ],
          "colorscale": [
           [
            0,
            "lightgray"
           ],
           [
            0.5,
            "lightgray"
           ],
           [
            1,
            "dodgerblue"
           ]
          ],
          "line": {
           "color": "black",
           "width": 2
          },
          "size": 14,
          "symbol": "circle"
         },
         "mode": "markers",
         "type": "scatter",
         "x": [
          "G_3492074",
          "G_3492075",
          "C_3492076",
          "T_3492077",
          "T_3492078",
          "C_3492079",
          "T_3492080",
          "A_3492081",
          "C_3492082",
          "T_3492083",
          "C_3492084",
          "C_3492085",
          "G_3492086",
          "G_3492087",
          "C_3492088",
          "A_3492089"
         ],
         "xaxis": "x18",
         "y": [
          0.26,
          0,
          0,
          0,
          0,
          0,
          0,
          0,
          0,
          0,
          0,
          0,
          0,
          0,
          0,
          0
         ],
         "yaxis": "y18"
        }
       ],
       "layout": {
        "annotations": [
         {
          "font": {
           "size": 13
          },
          "showarrow": false,
          "text": "Forward primer 0",
          "x": 0.15666666666666665,
          "xanchor": "center",
          "xref": "paper",
          "y": 0.9999999999999999,
          "yanchor": "bottom",
          "yref": "paper"
         },
         {
          "font": {
           "size": 13
          },
          "showarrow": false,
          "text": "Reverse primer 0",
          "x": 0.4999999999999999,
          "xanchor": "center",
          "xref": "paper",
          "y": 0.9999999999999999,
          "yanchor": "bottom",
          "yref": "paper"
         },
         {
          "font": {
           "size": 13
          },
          "showarrow": false,
          "text": "Probe 0",
          "x": 0.8433333333333332,
          "xanchor": "center",
          "xref": "paper",
          "y": 0.9999999999999999,
          "yanchor": "bottom",
          "yref": "paper"
         },
         {
          "font": {
           "size": 13
          },
          "showarrow": false,
          "text": "Forward primer 1",
          "x": 0.15666666666666665,
          "xanchor": "center",
          "xref": "paper",
          "y": 0.82,
          "yanchor": "bottom",
          "yref": "paper"
         },
         {
          "font": {
           "size": 13
          },
          "showarrow": false,
          "text": "Reverse primer 1",
          "x": 0.4999999999999999,
          "xanchor": "center",
          "xref": "paper",
          "y": 0.82,
          "yanchor": "bottom",
          "yref": "paper"
         },
         {
          "font": {
           "size": 13
          },
          "showarrow": false,
          "text": "Probe 1",
          "x": 0.8433333333333332,
          "xanchor": "center",
          "xref": "paper",
          "y": 0.82,
          "yanchor": "bottom",
          "yref": "paper"
         },
         {
          "font": {
           "size": 13
          },
          "showarrow": false,
          "text": "Forward primer 2",
          "x": 0.15666666666666665,
          "xanchor": "center",
          "xref": "paper",
          "y": 0.64,
          "yanchor": "bottom",
          "yref": "paper"
         },
         {
          "font": {
           "size": 13
          },
          "showarrow": false,
          "text": "Reverse primer 2",
          "x": 0.4999999999999999,
          "xanchor": "center",
          "xref": "paper",
          "y": 0.64,
          "yanchor": "bottom",
          "yref": "paper"
         },
         {
          "font": {
           "size": 13
          },
          "showarrow": false,
          "text": "Probe 2",
          "x": 0.8433333333333332,
          "xanchor": "center",
          "xref": "paper",
          "y": 0.64,
          "yanchor": "bottom",
          "yref": "paper"
         },
         {
          "font": {
           "size": 13
          },
          "showarrow": false,
          "text": "Forward primer 3",
          "x": 0.15666666666666665,
          "xanchor": "center",
          "xref": "paper",
          "y": 0.45999999999999996,
          "yanchor": "bottom",
          "yref": "paper"
         },
         {
          "font": {
           "size": 13
          },
          "showarrow": false,
          "text": "Reverse primer 3",
          "x": 0.4999999999999999,
          "xanchor": "center",
          "xref": "paper",
          "y": 0.45999999999999996,
          "yanchor": "bottom",
          "yref": "paper"
         },
         {
          "font": {
           "size": 13
          },
          "showarrow": false,
          "text": "Probe 3",
          "x": 0.8433333333333332,
          "xanchor": "center",
          "xref": "paper",
          "y": 0.45999999999999996,
          "yanchor": "bottom",
          "yref": "paper"
         },
         {
          "font": {
           "size": 13
          },
          "showarrow": false,
          "text": "Forward primer 4",
          "x": 0.15666666666666665,
          "xanchor": "center",
          "xref": "paper",
          "y": 0.27999999999999997,
          "yanchor": "bottom",
          "yref": "paper"
         },
         {
          "font": {
           "size": 13
          },
          "showarrow": false,
          "text": "Reverse primer 4",
          "x": 0.4999999999999999,
          "xanchor": "center",
          "xref": "paper",
          "y": 0.27999999999999997,
          "yanchor": "bottom",
          "yref": "paper"
         },
         {
          "font": {
           "size": 13
          },
          "showarrow": false,
          "text": "Probe 4",
          "x": 0.8433333333333332,
          "xanchor": "center",
          "xref": "paper",
          "y": 0.27999999999999997,
          "yanchor": "bottom",
          "yref": "paper"
         },
         {
          "font": {
           "size": 13
          },
          "showarrow": false,
          "text": "Forward primer 5",
          "x": 0.15666666666666665,
          "xanchor": "center",
          "xref": "paper",
          "y": 0.09999999999999999,
          "yanchor": "bottom",
          "yref": "paper"
         },
         {
          "font": {
           "size": 13
          },
          "showarrow": false,
          "text": "Reverse primer 5",
          "x": 0.4999999999999999,
          "xanchor": "center",
          "xref": "paper",
          "y": 0.09999999999999999,
          "yanchor": "bottom",
          "yref": "paper"
         },
         {
          "font": {
           "size": 13
          },
          "showarrow": false,
          "text": "Probe 5",
          "x": 0.8433333333333332,
          "xanchor": "center",
          "xref": "paper",
          "y": 0.09999999999999999,
          "yanchor": "bottom",
          "yref": "paper"
         },
         {
          "showarrow": false,
          "text": "5'",
          "x": "T_3492051",
          "xref": "x",
          "y": 0.8,
          "yref": "y"
         },
         {
          "showarrow": false,
          "text": "3'",
          "x": "C_3492070",
          "xref": "x",
          "y": 0.8,
          "yref": "y"
         },
         {
          "showarrow": false,
          "text": "3492051-3492070",
          "x": "G_3492055",
          "xref": "x",
          "y": 0.92,
          "yref": "y"
         },
         {
          "showarrow": false,
          "text": "GC=55.0",
          "x": "C_3492064",
          "xref": "x",
          "y": 0.92,
          "yref": "y"
         },
         {
          "showarrow": false,
          "text": "TM=60.46",
          "x": "G_3492068",
          "xref": "x",
          "y": 0.92,
          "yref": "y"
         },
         {
          "showarrow": false,
          "text": "5'",
          "x": "G_3492047",
          "xref": "x4",
          "y": 0.8,
          "yref": "y4"
         },
         {
          "showarrow": false,
          "text": "3'",
          "x": "T_3492066",
          "xref": "x4",
          "y": 0.8,
          "yref": "y4"
         },
         {
          "showarrow": false,
          "text": "3492047-3492066",
          "x": "T_3492051",
          "xref": "x4",
          "y": 0.92,
          "yref": "y4"
         },
         {
          "showarrow": false,
          "text": "GC=55.0",
          "x": "G_3492060",
          "xref": "x4",
          "y": 0.92,
          "yref": "y4"
         },
         {
          "showarrow": false,
          "text": "TM=60.75",
          "x": "C_3492064",
          "xref": "x4",
          "y": 0.92,
          "yref": "y4"
         },
         {
          "showarrow": false,
          "text": "5'",
          "x": "C_3492037",
          "xref": "x7",
          "y": 0.8,
          "yref": "y7"
         },
         {
          "showarrow": false,
          "text": "3'",
          "x": "G_3492055",
          "xref": "x7",
          "y": 0.8,
          "yref": "y7"
         },
         {
          "showarrow": false,
          "text": "3492037-3492055",
          "x": "A_3492041",
          "xref": "x7",
          "y": 0.92,
          "yref": "y7"
         },
         {
          "showarrow": false,
          "text": "GC=57.89",
          "x": "C_3492049",
          "xref": "x7",
          "y": 0.92,
          "yref": "y7"
         },
         {
          "showarrow": false,
          "text": "TM=59.94",
          "x": "A_3492053",
          "xref": "x7",
          "y": 0.92,
          "yref": "y7"
         },
         {
          "showarrow": false,
          "text": "5'",
          "x": "A_3492006",
          "xref": "x10",
          "y": 0.8,
          "yref": "y10"
         },
         {
          "showarrow": false,
          "text": "3'",
          "x": "G_3492025",
          "xref": "x10",
          "y": 0.8,
          "yref": "y10"
         },
         {
          "showarrow": false,
          "text": "3492006-3492025",
          "x": "T_3492010",
          "xref": "x10",
          "y": 0.92,
          "yref": "y10"
         },
         {
          "showarrow": false,
          "text": "GC=55.0",
          "x": "G_3492019",
          "xref": "x10",
          "y": 0.92,
          "yref": "y10"
         },
         {
          "showarrow": false,
          "text": "TM=61.23",
          "x": "C_3492023",
          "xref": "x10",
          "y": 0.92,
          "yref": "y10"
         },
         {
          "showarrow": false,
          "text": "5'",
          "x": "G_3492046",
          "xref": "x13",
          "y": 0.8,
          "yref": "y13"
         },
         {
          "showarrow": false,
          "text": "3'",
          "x": "T_3492063",
          "xref": "x13",
          "y": 0.8,
          "yref": "y13"
         },
         {
          "showarrow": false,
          "text": "3492046-3492063",
          "x": "G_3492050",
          "xref": "x13",
          "y": 0.92,
          "yref": "y13"
         },
         {
          "showarrow": false,
          "text": "GC=61.11",
          "x": "T_3492057",
          "xref": "x13",
          "y": 0.92,
          "yref": "y13"
         },
         {
          "showarrow": false,
          "text": "TM=60.12",
          "x": "G_3492061",
          "xref": "x13",
          "y": 0.92,
          "yref": "y13"
         },
         {
          "showarrow": false,
          "text": "5'",
          "x": "C_3492056",
          "xref": "x16",
          "y": 0.8,
          "yref": "y16"
         },
         {
          "showarrow": false,
          "text": "3'",
          "x": "C_3492073",
          "xref": "x16",
          "y": 0.8,
          "yref": "y16"
         },
         {
          "showarrow": false,
          "text": "3492056-3492073",
          "x": "G_3492060",
          "xref": "x16",
          "y": 0.92,
          "yref": "y16"
         },
         {
          "showarrow": false,
          "text": "GC=66.67",
          "x": "C_3492067",
          "xref": "x16",
          "y": 0.92,
          "yref": "y16"
         },
         {
          "showarrow": false,
          "text": "TM=60.89",
          "x": "G_3492071",
          "xref": "x16",
          "y": 0.92,
          "yref": "y16"
         },
         {
          "showarrow": false,
          "text": "5'",
          "x": "G_3492145",
          "xref": "x2",
          "y": 0.8,
          "yref": "y2"
         },
         {
          "showarrow": false,
          "text": "3'",
          "x": "G_3492126",
          "xref": "x2",
          "y": 0.8,
          "yref": "y2"
         },
         {
          "showarrow": false,
          "text": "3492126-3492145",
          "x": "A_3492141",
          "xref": "x2",
          "y": 0.92,
          "yref": "y2"
         },
         {
          "showarrow": false,
          "text": "GC=60.0",
          "x": "T_3492132",
          "xref": "x2",
          "y": 0.92,
          "yref": "y2"
         },
         {
          "showarrow": false,
          "text": "TM=60.25",
          "x": "A_3492128",
          "xref": "x2",
          "y": 0.92,
          "yref": "y2"
         },
         {
          "showarrow": false,
          "text": "5'",
          "x": "G_3492112",
          "xref": "x5",
          "y": 0.8,
          "yref": "y5"
         },
         {
          "showarrow": false,
          "text": "3'",
          "x": "G_3492094",
          "xref": "x5",
          "y": 0.8,
          "yref": "y5"
         },
         {
          "showarrow": false,
          "text": "3492094-3492112",
          "x": "T_3492108",
          "xref": "x5",
          "y": 0.92,
          "yref": "y5"
         },
         {
          "showarrow": false,
          "text": "GC=63.16",
          "x": "C_3492100",
          "xref": "x5",
          "y": 0.92,
          "yref": "y5"
         },
         {
          "showarrow": false,
          "text": "TM=60.08",
          "x": "G_3492096",
          "xref": "x5",
          "y": 0.92,
          "yref": "y5"
         },
         {
          "showarrow": false,
          "text": "5'",
          "x": "G_3492139",
          "xref": "x8",
          "y": 0.8,
          "yref": "y8"
         },
         {
          "showarrow": false,
          "text": "3'",
          "x": "C_3492121",
          "xref": "x8",
          "y": 0.8,
          "yref": "y8"
         },
         {
          "showarrow": false,
          "text": "3492121-3492139",
          "x": "T_3492135",
          "xref": "x8",
          "y": 0.92,
          "yref": "y8"
         },
         {
          "showarrow": false,
          "text": "GC=63.16",
          "x": "C_3492127",
          "xref": "x8",
          "y": 0.92,
          "yref": "y8"
         },
         {
          "showarrow": false,
          "text": "TM=61.1",
          "x": "A_3492123",
          "xref": "x8",
          "y": 0.92,
          "yref": "y8"
         },
         {
          "showarrow": false,
          "text": "5'",
          "x": "C_3492117",
          "xref": "x11",
          "y": 0.8,
          "yref": "y11"
         },
         {
          "showarrow": false,
          "text": "3'",
          "x": "C_3492100",
          "xref": "x11",
          "y": 0.8,
          "yref": "y11"
         },
         {
          "showarrow": false,
          "text": "3492100-3492117",
          "x": "G_3492113",
          "xref": "x11",
          "y": 0.92,
          "yref": "y11"
         },
         {
          "showarrow": false,
          "text": "GC=66.67",
          "x": "C_3492106",
          "xref": "x11",
          "y": 0.92,
          "yref": "y11"
         },
         {
          "showarrow": false,
          "text": "TM=60.13",
          "x": "T_3492102",
          "xref": "x11",
          "y": 0.92,
          "yref": "y11"
         },
         {
          "showarrow": false,
          "text": "5'",
          "x": "T_3492162",
          "xref": "x14",
          "y": 0.8,
          "yref": "y14"
         },
         {
          "showarrow": false,
          "text": "3'",
          "x": "T_3492143",
          "xref": "x14",
          "y": 0.8,
          "yref": "y14"
         },
         {
          "showarrow": false,
          "text": "3492143-3492162",
          "x": "G_3492158",
          "xref": "x14",
          "y": 0.92,
          "yref": "y14"
         },
         {
          "showarrow": false,
          "text": "GC=55.0",
          "x": "C_3492149",
          "xref": "x14",
          "y": 0.92,
          "yref": "y14"
         },
         {
          "showarrow": false,
          "text": "TM=61.87",
          "x": "G_3492145",
          "xref": "x14",
          "y": 0.92,
          "yref": "y14"
         },
         {
          "showarrow": false,
          "text": "5'",
          "x": "A_3492156",
          "xref": "x17",
          "y": 0.8,
          "yref": "y17"
         },
         {
          "showarrow": false,
          "text": "3'",
          "x": "G_3492139",
          "xref": "x17",
          "y": 0.8,
          "yref": "y17"
         },
         {
          "showarrow": false,
          "text": "3492139-3492156",
          "x": "A_3492152",
          "xref": "x17",
          "y": 0.92,
          "yref": "y17"
         },
         {
          "showarrow": false,
          "text": "GC=61.11",
          "x": "G_3492145",
          "xref": "x17",
          "y": 0.92,
          "yref": "y17"
         },
         {
          "showarrow": false,
          "text": "TM=60.13",
          "x": "A_3492141",
          "xref": "x17",
          "y": 0.92,
          "yref": "y17"
         },
         {
          "showarrow": false,
          "text": "5'",
          "x": "G_3492072",
          "xref": "x3",
          "y": 0.8,
          "yref": "y3"
         },
         {
          "showarrow": false,
          "text": "3'",
          "x": "A_3492089",
          "xref": "x3",
          "y": 0.8,
          "yref": "y3"
         },
         {
          "showarrow": false,
          "text": "3492072-3492089",
          "x": "C_3492076",
          "xref": "x3",
          "y": 0.92,
          "yref": "y3"
         },
         {
          "showarrow": false,
          "text": "GC=66.67",
          "x": "T_3492083",
          "xref": "x3",
          "y": 0.92,
          "yref": "y3"
         },
         {
          "showarrow": false,
          "text": "TM=56.45",
          "x": "G_3492087",
          "xref": "x3",
          "y": 0.92,
          "yref": "y3"
         },
         {
          "showarrow": false,
          "text": "5'",
          "x": "G_3492069",
          "xref": "x6",
          "y": 0.8,
          "yref": "y6"
         },
         {
          "showarrow": false,
          "text": "3'",
          "x": "G_3492087",
          "xref": "x6",
          "y": 0.8,
          "yref": "y6"
         },
         {
          "showarrow": false,
          "text": "3492069-3492087",
          "x": "C_3492073",
          "xref": "x6",
          "y": 0.92,
          "yref": "y6"
         },
         {
          "showarrow": false,
          "text": "GC=73.68",
          "x": "A_3492081",
          "xref": "x6",
          "y": 0.92,
          "yref": "y6"
         },
         {
          "showarrow": false,
          "text": "TM=59.9",
          "x": "C_3492085",
          "xref": "x6",
          "y": 0.92,
          "yref": "y6"
         },
         {
          "showarrow": false,
          "text": "5'",
          "x": "T_3492059",
          "xref": "x9",
          "y": 0.8,
          "yref": "y9"
         },
         {
          "showarrow": false,
          "text": "3'",
          "x": "C_3492076",
          "xref": "x9",
          "y": 0.8,
          "yref": "y9"
         },
         {
          "showarrow": false,
          "text": "3492059-3492076",
          "x": "T_3492063",
          "xref": "x9",
          "y": 0.92,
          "yref": "y9"
         },
         {
          "showarrow": false,
          "text": "GC=72.22",
          "x": "C_3492070",
          "xref": "x9",
          "y": 0.92,
          "yref": "y9"
         },
         {
          "showarrow": false,
          "text": "TM=59.81",
          "x": "G_3492074",
          "xref": "x9",
          "y": 0.92,
          "yref": "y9"
         },
         {
          "showarrow": false,
          "text": "5'",
          "x": "T_3492059",
          "xref": "x12",
          "y": 0.8,
          "yref": "y12"
         },
         {
          "showarrow": false,
          "text": "3'",
          "x": "C_3492076",
          "xref": "x12",
          "y": 0.8,
          "yref": "y12"
         },
         {
          "showarrow": false,
          "text": "3492059-3492076",
          "x": "T_3492063",
          "xref": "x12",
          "y": 0.92,
          "yref": "y12"
         },
         {
          "showarrow": false,
          "text": "GC=72.22",
          "x": "C_3492070",
          "xref": "x12",
          "y": 0.92,
          "yref": "y12"
         },
         {
          "showarrow": false,
          "text": "TM=59.81",
          "x": "G_3492074",
          "xref": "x12",
          "y": 0.92,
          "yref": "y12"
         },
         {
          "showarrow": false,
          "text": "5'",
          "x": "G_3492069",
          "xref": "x15",
          "y": 0.8,
          "yref": "y15"
         },
         {
          "showarrow": false,
          "text": "3'",
          "x": "G_3492087",
          "xref": "x15",
          "y": 0.8,
          "yref": "y15"
         },
         {
          "showarrow": false,
          "text": "3492069-3492087",
          "x": "C_3492073",
          "xref": "x15",
          "y": 0.92,
          "yref": "y15"
         },
         {
          "showarrow": false,
          "text": "GC=73.68",
          "x": "A_3492081",
          "xref": "x15",
          "y": 0.92,
          "yref": "y15"
         },
         {
          "showarrow": false,
          "text": "TM=59.9",
          "x": "C_3492085",
          "xref": "x15",
          "y": 0.92,
          "yref": "y15"
         },
         {
          "showarrow": false,
          "text": "5'",
          "x": "G_3492074",
          "xref": "x18",
          "y": 0.8,
          "yref": "y18"
         },
         {
          "showarrow": false,
          "text": "3'",
          "x": "A_3492089",
          "xref": "x18",
          "y": 0.8,
          "yref": "y18"
         },
         {
          "showarrow": false,
          "text": "3492074-3492089",
          "x": "T_3492078",
          "xref": "x18",
          "y": 0.92,
          "yref": "y18"
         },
         {
          "showarrow": false,
          "text": "GC=62.5",
          "x": "T_3492083",
          "xref": "x18",
          "y": 0.92,
          "yref": "y18"
         },
         {
          "showarrow": false,
          "text": "TM=49.49",
          "x": "G_3492087",
          "xref": "x18",
          "y": 0.92,
          "yref": "y18"
         }
        ],
        "height": 1200,
        "showlegend": false,
        "template": {
         "data": {
          "bar": [
           {
            "error_x": {
             "color": "rgb(36,36,36)"
            },
            "error_y": {
             "color": "rgb(36,36,36)"
            },
            "marker": {
             "line": {
              "color": "white",
              "width": 0.5
             },
             "pattern": {
              "fillmode": "overlay",
              "size": 10,
              "solidity": 0.2
             }
            },
            "type": "bar"
           }
          ],
          "barpolar": [
           {
            "marker": {
             "line": {
              "color": "white",
              "width": 0.5
             },
             "pattern": {
              "fillmode": "overlay",
              "size": 10,
              "solidity": 0.2
             }
            },
            "type": "barpolar"
           }
          ],
          "carpet": [
           {
            "aaxis": {
             "endlinecolor": "rgb(36,36,36)",
             "gridcolor": "white",
             "linecolor": "white",
             "minorgridcolor": "white",
             "startlinecolor": "rgb(36,36,36)"
            },
            "baxis": {
             "endlinecolor": "rgb(36,36,36)",
             "gridcolor": "white",
             "linecolor": "white",
             "minorgridcolor": "white",
             "startlinecolor": "rgb(36,36,36)"
            },
            "type": "carpet"
           }
          ],
          "choropleth": [
           {
            "colorbar": {
             "outlinewidth": 1,
             "tickcolor": "rgb(36,36,36)",
             "ticks": "outside"
            },
            "type": "choropleth"
           }
          ],
          "contour": [
           {
            "colorbar": {
             "outlinewidth": 1,
             "tickcolor": "rgb(36,36,36)",
             "ticks": "outside"
            },
            "colorscale": [
             [
              0,
              "#440154"
             ],
             [
              0.1111111111111111,
              "#482878"
             ],
             [
              0.2222222222222222,
              "#3e4989"
             ],
             [
              0.3333333333333333,
              "#31688e"
             ],
             [
              0.4444444444444444,
              "#26828e"
             ],
             [
              0.5555555555555556,
              "#1f9e89"
             ],
             [
              0.6666666666666666,
              "#35b779"
             ],
             [
              0.7777777777777778,
              "#6ece58"
             ],
             [
              0.8888888888888888,
              "#b5de2b"
             ],
             [
              1,
              "#fde725"
             ]
            ],
            "type": "contour"
           }
          ],
          "contourcarpet": [
           {
            "colorbar": {
             "outlinewidth": 1,
             "tickcolor": "rgb(36,36,36)",
             "ticks": "outside"
            },
            "type": "contourcarpet"
           }
          ],
          "heatmap": [
           {
            "colorbar": {
             "outlinewidth": 1,
             "tickcolor": "rgb(36,36,36)",
             "ticks": "outside"
            },
            "colorscale": [
             [
              0,
              "#440154"
             ],
             [
              0.1111111111111111,
              "#482878"
             ],
             [
              0.2222222222222222,
              "#3e4989"
             ],
             [
              0.3333333333333333,
              "#31688e"
             ],
             [
              0.4444444444444444,
              "#26828e"
             ],
             [
              0.5555555555555556,
              "#1f9e89"
             ],
             [
              0.6666666666666666,
              "#35b779"
             ],
             [
              0.7777777777777778,
              "#6ece58"
             ],
             [
              0.8888888888888888,
              "#b5de2b"
             ],
             [
              1,
              "#fde725"
             ]
            ],
            "type": "heatmap"
           }
          ],
          "heatmapgl": [
           {
            "colorbar": {
             "outlinewidth": 1,
             "tickcolor": "rgb(36,36,36)",
             "ticks": "outside"
            },
            "colorscale": [
             [
              0,
              "#440154"
             ],
             [
              0.1111111111111111,
              "#482878"
             ],
             [
              0.2222222222222222,
              "#3e4989"
             ],
             [
              0.3333333333333333,
              "#31688e"
             ],
             [
              0.4444444444444444,
              "#26828e"
             ],
             [
              0.5555555555555556,
              "#1f9e89"
             ],
             [
              0.6666666666666666,
              "#35b779"
             ],
             [
              0.7777777777777778,
              "#6ece58"
             ],
             [
              0.8888888888888888,
              "#b5de2b"
             ],
             [
              1,
              "#fde725"
             ]
            ],
            "type": "heatmapgl"
           }
          ],
          "histogram": [
           {
            "marker": {
             "line": {
              "color": "white",
              "width": 0.6
             }
            },
            "type": "histogram"
           }
          ],
          "histogram2d": [
           {
            "colorbar": {
             "outlinewidth": 1,
             "tickcolor": "rgb(36,36,36)",
             "ticks": "outside"
            },
            "colorscale": [
             [
              0,
              "#440154"
             ],
             [
              0.1111111111111111,
              "#482878"
             ],
             [
              0.2222222222222222,
              "#3e4989"
             ],
             [
              0.3333333333333333,
              "#31688e"
             ],
             [
              0.4444444444444444,
              "#26828e"
             ],
             [
              0.5555555555555556,
              "#1f9e89"
             ],
             [
              0.6666666666666666,
              "#35b779"
             ],
             [
              0.7777777777777778,
              "#6ece58"
             ],
             [
              0.8888888888888888,
              "#b5de2b"
             ],
             [
              1,
              "#fde725"
             ]
            ],
            "type": "histogram2d"
           }
          ],
          "histogram2dcontour": [
           {
            "colorbar": {
             "outlinewidth": 1,
             "tickcolor": "rgb(36,36,36)",
             "ticks": "outside"
            },
            "colorscale": [
             [
              0,
              "#440154"
             ],
             [
              0.1111111111111111,
              "#482878"
             ],
             [
              0.2222222222222222,
              "#3e4989"
             ],
             [
              0.3333333333333333,
              "#31688e"
             ],
             [
              0.4444444444444444,
              "#26828e"
             ],
             [
              0.5555555555555556,
              "#1f9e89"
             ],
             [
              0.6666666666666666,
              "#35b779"
             ],
             [
              0.7777777777777778,
              "#6ece58"
             ],
             [
              0.8888888888888888,
              "#b5de2b"
             ],
             [
              1,
              "#fde725"
             ]
            ],
            "type": "histogram2dcontour"
           }
          ],
          "mesh3d": [
           {
            "colorbar": {
             "outlinewidth": 1,
             "tickcolor": "rgb(36,36,36)",
             "ticks": "outside"
            },
            "type": "mesh3d"
           }
          ],
          "parcoords": [
           {
            "line": {
             "colorbar": {
              "outlinewidth": 1,
              "tickcolor": "rgb(36,36,36)",
              "ticks": "outside"
             }
            },
            "type": "parcoords"
           }
          ],
          "pie": [
           {
            "automargin": true,
            "type": "pie"
           }
          ],
          "scatter": [
           {
            "marker": {
             "colorbar": {
              "outlinewidth": 1,
              "tickcolor": "rgb(36,36,36)",
              "ticks": "outside"
             }
            },
            "type": "scatter"
           }
          ],
          "scatter3d": [
           {
            "line": {
             "colorbar": {
              "outlinewidth": 1,
              "tickcolor": "rgb(36,36,36)",
              "ticks": "outside"
             }
            },
            "marker": {
             "colorbar": {
              "outlinewidth": 1,
              "tickcolor": "rgb(36,36,36)",
              "ticks": "outside"
             }
            },
            "type": "scatter3d"
           }
          ],
          "scattercarpet": [
           {
            "marker": {
             "colorbar": {
              "outlinewidth": 1,
              "tickcolor": "rgb(36,36,36)",
              "ticks": "outside"
             }
            },
            "type": "scattercarpet"
           }
          ],
          "scattergeo": [
           {
            "marker": {
             "colorbar": {
              "outlinewidth": 1,
              "tickcolor": "rgb(36,36,36)",
              "ticks": "outside"
             }
            },
            "type": "scattergeo"
           }
          ],
          "scattergl": [
           {
            "marker": {
             "colorbar": {
              "outlinewidth": 1,
              "tickcolor": "rgb(36,36,36)",
              "ticks": "outside"
             }
            },
            "type": "scattergl"
           }
          ],
          "scattermapbox": [
           {
            "marker": {
             "colorbar": {
              "outlinewidth": 1,
              "tickcolor": "rgb(36,36,36)",
              "ticks": "outside"
             }
            },
            "type": "scattermapbox"
           }
          ],
          "scatterpolar": [
           {
            "marker": {
             "colorbar": {
              "outlinewidth": 1,
              "tickcolor": "rgb(36,36,36)",
              "ticks": "outside"
             }
            },
            "type": "scatterpolar"
           }
          ],
          "scatterpolargl": [
           {
            "marker": {
             "colorbar": {
              "outlinewidth": 1,
              "tickcolor": "rgb(36,36,36)",
              "ticks": "outside"
             }
            },
            "type": "scatterpolargl"
           }
          ],
          "scatterternary": [
           {
            "marker": {
             "colorbar": {
              "outlinewidth": 1,
              "tickcolor": "rgb(36,36,36)",
              "ticks": "outside"
             }
            },
            "type": "scatterternary"
           }
          ],
          "surface": [
           {
            "colorbar": {
             "outlinewidth": 1,
             "tickcolor": "rgb(36,36,36)",
             "ticks": "outside"
            },
            "colorscale": [
             [
              0,
              "#440154"
             ],
             [
              0.1111111111111111,
              "#482878"
             ],
             [
              0.2222222222222222,
              "#3e4989"
             ],
             [
              0.3333333333333333,
              "#31688e"
             ],
             [
              0.4444444444444444,
              "#26828e"
             ],
             [
              0.5555555555555556,
              "#1f9e89"
             ],
             [
              0.6666666666666666,
              "#35b779"
             ],
             [
              0.7777777777777778,
              "#6ece58"
             ],
             [
              0.8888888888888888,
              "#b5de2b"
             ],
             [
              1,
              "#fde725"
             ]
            ],
            "type": "surface"
           }
          ],
          "table": [
           {
            "cells": {
             "fill": {
              "color": "rgb(237,237,237)"
             },
             "line": {
              "color": "white"
             }
            },
            "header": {
             "fill": {
              "color": "rgb(217,217,217)"
             },
             "line": {
              "color": "white"
             }
            },
            "type": "table"
           }
          ]
         },
         "layout": {
          "annotationdefaults": {
           "arrowhead": 0,
           "arrowwidth": 1
          },
          "autotypenumbers": "strict",
          "coloraxis": {
           "colorbar": {
            "outlinewidth": 1,
            "tickcolor": "rgb(36,36,36)",
            "ticks": "outside"
           }
          },
          "colorscale": {
           "diverging": [
            [
             0,
             "rgb(103,0,31)"
            ],
            [
             0.1,
             "rgb(178,24,43)"
            ],
            [
             0.2,
             "rgb(214,96,77)"
            ],
            [
             0.3,
             "rgb(244,165,130)"
            ],
            [
             0.4,
             "rgb(253,219,199)"
            ],
            [
             0.5,
             "rgb(247,247,247)"
            ],
            [
             0.6,
             "rgb(209,229,240)"
            ],
            [
             0.7,
             "rgb(146,197,222)"
            ],
            [
             0.8,
             "rgb(67,147,195)"
            ],
            [
             0.9,
             "rgb(33,102,172)"
            ],
            [
             1,
             "rgb(5,48,97)"
            ]
           ],
           "sequential": [
            [
             0,
             "#440154"
            ],
            [
             0.1111111111111111,
             "#482878"
            ],
            [
             0.2222222222222222,
             "#3e4989"
            ],
            [
             0.3333333333333333,
             "#31688e"
            ],
            [
             0.4444444444444444,
             "#26828e"
            ],
            [
             0.5555555555555556,
             "#1f9e89"
            ],
            [
             0.6666666666666666,
             "#35b779"
            ],
            [
             0.7777777777777778,
             "#6ece58"
            ],
            [
             0.8888888888888888,
             "#b5de2b"
            ],
            [
             1,
             "#fde725"
            ]
           ],
           "sequentialminus": [
            [
             0,
             "#440154"
            ],
            [
             0.1111111111111111,
             "#482878"
            ],
            [
             0.2222222222222222,
             "#3e4989"
            ],
            [
             0.3333333333333333,
             "#31688e"
            ],
            [
             0.4444444444444444,
             "#26828e"
            ],
            [
             0.5555555555555556,
             "#1f9e89"
            ],
            [
             0.6666666666666666,
             "#35b779"
            ],
            [
             0.7777777777777778,
             "#6ece58"
            ],
            [
             0.8888888888888888,
             "#b5de2b"
            ],
            [
             1,
             "#fde725"
            ]
           ]
          },
          "colorway": [
           "#1F77B4",
           "#FF7F0E",
           "#2CA02C",
           "#D62728",
           "#9467BD",
           "#8C564B",
           "#E377C2",
           "#7F7F7F",
           "#BCBD22",
           "#17BECF"
          ],
          "font": {
           "color": "rgb(36,36,36)"
          },
          "geo": {
           "bgcolor": "white",
           "lakecolor": "white",
           "landcolor": "white",
           "showlakes": true,
           "showland": true,
           "subunitcolor": "white"
          },
          "hoverlabel": {
           "align": "left"
          },
          "hovermode": "closest",
          "mapbox": {
           "style": "light"
          },
          "paper_bgcolor": "white",
          "plot_bgcolor": "white",
          "polar": {
           "angularaxis": {
            "gridcolor": "rgb(232,232,232)",
            "linecolor": "rgb(36,36,36)",
            "showgrid": false,
            "showline": true,
            "ticks": "outside"
           },
           "bgcolor": "white",
           "radialaxis": {
            "gridcolor": "rgb(232,232,232)",
            "linecolor": "rgb(36,36,36)",
            "showgrid": false,
            "showline": true,
            "ticks": "outside"
           }
          },
          "scene": {
           "xaxis": {
            "backgroundcolor": "white",
            "gridcolor": "rgb(232,232,232)",
            "gridwidth": 2,
            "linecolor": "rgb(36,36,36)",
            "showbackground": true,
            "showgrid": false,
            "showline": true,
            "ticks": "outside",
            "zeroline": false,
            "zerolinecolor": "rgb(36,36,36)"
           },
           "yaxis": {
            "backgroundcolor": "white",
            "gridcolor": "rgb(232,232,232)",
            "gridwidth": 2,
            "linecolor": "rgb(36,36,36)",
            "showbackground": true,
            "showgrid": false,
            "showline": true,
            "ticks": "outside",
            "zeroline": false,
            "zerolinecolor": "rgb(36,36,36)"
           },
           "zaxis": {
            "backgroundcolor": "white",
            "gridcolor": "rgb(232,232,232)",
            "gridwidth": 2,
            "linecolor": "rgb(36,36,36)",
            "showbackground": true,
            "showgrid": false,
            "showline": true,
            "ticks": "outside",
            "zeroline": false,
            "zerolinecolor": "rgb(36,36,36)"
           }
          },
          "shapedefaults": {
           "fillcolor": "black",
           "line": {
            "width": 0
           },
           "opacity": 0.3
          },
          "ternary": {
           "aaxis": {
            "gridcolor": "rgb(232,232,232)",
            "linecolor": "rgb(36,36,36)",
            "showgrid": false,
            "showline": true,
            "ticks": "outside"
           },
           "baxis": {
            "gridcolor": "rgb(232,232,232)",
            "linecolor": "rgb(36,36,36)",
            "showgrid": false,
            "showline": true,
            "ticks": "outside"
           },
           "bgcolor": "white",
           "caxis": {
            "gridcolor": "rgb(232,232,232)",
            "linecolor": "rgb(36,36,36)",
            "showgrid": false,
            "showline": true,
            "ticks": "outside"
           }
          },
          "title": {
           "x": 0.05
          },
          "xaxis": {
           "automargin": true,
           "gridcolor": "rgb(232,232,232)",
           "linecolor": "rgb(36,36,36)",
           "showgrid": false,
           "showline": true,
           "ticks": "outside",
           "title": {
            "standoff": 15
           },
           "zeroline": false,
           "zerolinecolor": "rgb(36,36,36)"
          },
          "yaxis": {
           "automargin": true,
           "gridcolor": "rgb(232,232,232)",
           "linecolor": "rgb(36,36,36)",
           "showgrid": false,
           "showline": true,
           "ticks": "outside",
           "title": {
            "standoff": 15
           },
           "zeroline": false,
           "zerolinecolor": "rgb(36,36,36)"
          }
         }
        },
        "title": {
         "text": "ace1-280s primer pairs | AG1000G-GH | target 3492074 bp",
         "x": 0.5
        },
        "width": 1500,
        "xaxis": {
         "anchor": "y",
         "domain": [
          0,
          0.3133333333333333
         ],
         "mirror": true,
         "tickangle": 0,
         "tickmode": "array",
         "ticktext": [
          "T",
          "C",
          "A",
          "T",
          "G",
          "C",
          "T",
          "G",
          "T",
          "G",
          "G",
          "A",
          "T",
          "C",
          "T",
          "T",
          "C",
          "G",
          "G",
          "C"
         ],
         "tickvals": [
          "T_3492051",
          "C_3492052",
          "A_3492053",
          "T_3492054",
          "G_3492055",
          "C_3492056",
          "T_3492057",
          "G_3492058",
          "T_3492059",
          "G_3492060",
          "G_3492061",
          "A_3492062",
          "T_3492063",
          "C_3492064",
          "T_3492065",
          "T_3492066",
          "C_3492067",
          "G_3492068",
          "G_3492069",
          "C_3492070"
         ]
        },
        "xaxis10": {
         "anchor": "y10",
         "domain": [
          0,
          0.3133333333333333
         ],
         "mirror": true,
         "tickangle": 0,
         "tickmode": "array",
         "ticktext": [
          "A",
          "C",
          "A",
          "T",
          "T",
          "A",
          "A",
          "C",
          "G",
          "T",
          "G",
          "G",
          "T",
          "G",
          "G",
          "C",
          "A",
          "C",
          "C",
          "G"
         ],
         "tickvals": [
          "A_3492006",
          "C_3492007",
          "A_3492008",
          "T_3492009",
          "T_3492010",
          "A_3492011",
          "A_3492012",
          "C_3492013",
          "G_3492014",
          "T_3492015",
          "G_3492016",
          "G_3492017",
          "T_3492018",
          "G_3492019",
          "G_3492020",
          "C_3492021",
          "A_3492022",
          "C_3492023",
          "C_3492024",
          "G_3492025"
         ]
        },
        "xaxis11": {
         "anchor": "y11",
         "domain": [
          0.34333333333333327,
          0.6566666666666665
         ],
         "mirror": true,
         "tickangle": 0,
         "tickmode": "array",
         "ticktext": [
          "C",
          "G",
          "G",
          "T",
          "G",
          "G",
          "T",
          "C",
          "G",
          "T",
          "A",
          "C",
          "A",
          "C",
          "G",
          "T",
          "C",
          "C"
         ],
         "tickvals": [
          "C_3492117",
          "G_3492116",
          "G_3492115",
          "T_3492114",
          "G_3492113",
          "G_3492112",
          "T_3492111",
          "C_3492110",
          "G_3492109",
          "T_3492108",
          "A_3492107",
          "C_3492106",
          "A_3492105",
          "C_3492104",
          "G_3492103",
          "T_3492102",
          "C_3492101",
          "C_3492100"
         ]
        },
        "xaxis12": {
         "anchor": "y12",
         "domain": [
          0.6866666666666665,
          0.9999999999999998
         ],
         "mirror": true,
         "tickangle": 0,
         "tickmode": "array",
         "ticktext": [
          "T",
          "G",
          "G",
          "A",
          "T",
          "C",
          "T",
          "T",
          "C",
          "G",
          "G",
          "C",
          "G",
          "G",
          "C",
          "G",
          "G",
          "C"
         ],
         "tickvals": [
          "T_3492059",
          "G_3492060",
          "G_3492061",
          "A_3492062",
          "T_3492063",
          "C_3492064",
          "T_3492065",
          "T_3492066",
          "C_3492067",
          "G_3492068",
          "G_3492069",
          "C_3492070",
          "G_3492071",
          "G_3492072",
          "C_3492073",
          "G_3492074",
          "G_3492075",
          "C_3492076"
         ]
        },
        "xaxis13": {
         "anchor": "y13",
         "domain": [
          0,
          0.3133333333333333
         ],
         "mirror": true,
         "tickangle": 0,
         "tickmode": "array",
         "ticktext": [
          "G",
          "G",
          "C",
          "C",
          "G",
          "T",
          "C",
          "A",
          "T",
          "G",
          "C",
          "T",
          "G",
          "T",
          "G",
          "G",
          "A",
          "T"
         ],
         "tickvals": [
          "G_3492046",
          "G_3492047",
          "C_3492048",
          "C_3492049",
          "G_3492050",
          "T_3492051",
          "C_3492052",
          "A_3492053",
          "T_3492054",
          "G_3492055",
          "C_3492056",
          "T_3492057",
          "G_3492058",
          "T_3492059",
          "G_3492060",
          "G_3492061",
          "A_3492062",
          "T_3492063"
         ]
        },
        "xaxis14": {
         "anchor": "y14",
         "domain": [
          0.34333333333333327,
          0.6566666666666665
         ],
         "mirror": true,
         "tickangle": 0,
         "tickmode": "array",
         "ticktext": [
          "T",
          "A",
          "C",
          "T",
          "G",
          "C",
          "A",
          "G",
          "C",
          "G",
          "A",
          "C",
          "A",
          "C",
          "C",
          "A",
          "C",
          "G",
          "A",
          "T"
         ],
         "tickvals": [
          "T_3492162",
          "A_3492161",
          "C_3492160",
          "T_3492159",
          "G_3492158",
          "C_3492157",
          "A_3492156",
          "G_3492155",
          "C_3492154",
          "G_3492153",
          "A_3492152",
          "C_3492151",
          "A_3492150",
          "C_3492149",
          "C_3492148",
          "A_3492147",
          "C_3492146",
          "G_3492145",
          "A_3492144",
          "T_3492143"
         ]
        },
        "xaxis15": {
         "anchor": "y15",
         "domain": [
          0.6866666666666665,
          0.9999999999999998
         ],
         "mirror": true,
         "tickangle": 0,
         "tickmode": "array",
         "ticktext": [
          "G",
          "C",
          "G",
          "G",
          "C",
          "G",
          "G",
          "C",
          "T",
          "T",
          "C",
          "T",
          "A",
          "C",
          "T",
          "C",
          "C",
          "G",
          "G"
         ],
         "tickvals": [
          "G_3492069",
          "C_3492070",
          "G_3492071",
          "G_3492072",
          "C_3492073",
          "G_3492074",
          "G_3492075",
          "C_3492076",
          "T_3492077",
          "T_3492078",
          "C_3492079",
          "T_3492080",
          "A_3492081",
          "C_3492082",
          "T_3492083",
          "C_3492084",
          "C_3492085",
          "G_3492086",
          "G_3492087"
         ]
        },
        "xaxis16": {
         "anchor": "y16",
         "domain": [
          0,
          0.3133333333333333
         ],
         "mirror": true,
         "tickangle": 0,
         "tickmode": "array",
         "ticktext": [
          "C",
          "T",
          "G",
          "T",
          "G",
          "G",
          "A",
          "T",
          "C",
          "T",
          "T",
          "C",
          "G",
          "G",
          "C",
          "G",
          "G",
          "C"
         ],
         "tickvals": [
          "C_3492056",
          "T_3492057",
          "G_3492058",
          "T_3492059",
          "G_3492060",
          "G_3492061",
          "A_3492062",
          "T_3492063",
          "C_3492064",
          "T_3492065",
          "T_3492066",
          "C_3492067",
          "G_3492068",
          "G_3492069",
          "C_3492070",
          "G_3492071",
          "G_3492072",
          "C_3492073"
         ]
        },
        "xaxis17": {
         "anchor": "y17",
         "domain": [
          0.34333333333333327,
          0.6566666666666665
         ],
         "mirror": true,
         "tickangle": 0,
         "tickmode": "array",
         "ticktext": [
          "A",
          "G",
          "C",
          "G",
          "A",
          "C",
          "A",
          "C",
          "C",
          "A",
          "C",
          "G",
          "A",
          "T",
          "C",
          "A",
          "C",
          "G"
         ],
         "tickvals": [
          "A_3492156",
          "G_3492155",
          "C_3492154",
          "G_3492153",
          "A_3492152",
          "C_3492151",
          "A_3492150",
          "C_3492149",
          "C_3492148",
          "A_3492147",
          "C_3492146",
          "G_3492145",
          "A_3492144",
          "T_3492143",
          "C_3492142",
          "A_3492141",
          "C_3492140",
          "G_3492139"
         ]
        },
        "xaxis18": {
         "anchor": "y18",
         "domain": [
          0.6866666666666665,
          0.9999999999999998
         ],
         "mirror": true,
         "tickangle": 0,
         "tickmode": "array",
         "ticktext": [
          "G",
          "G",
          "C",
          "T",
          "T",
          "C",
          "T",
          "A",
          "C",
          "T",
          "C",
          "C",
          "G",
          "G",
          "C",
          "A"
         ],
         "tickvals": [
          "G_3492074",
          "G_3492075",
          "C_3492076",
          "T_3492077",
          "T_3492078",
          "C_3492079",
          "T_3492080",
          "A_3492081",
          "C_3492082",
          "T_3492083",
          "C_3492084",
          "C_3492085",
          "G_3492086",
          "G_3492087",
          "C_3492088",
          "A_3492089"
         ]
        },
        "xaxis2": {
         "anchor": "y2",
         "domain": [
          0.34333333333333327,
          0.6566666666666665
         ],
         "mirror": true,
         "tickangle": 0,
         "tickmode": "array",
         "ticktext": [
          "G",
          "A",
          "T",
          "C",
          "A",
          "C",
          "G",
          "T",
          "T",
          "C",
          "T",
          "C",
          "C",
          "T",
          "C",
          "C",
          "G",
          "A",
          "C",
          "G"
         ],
         "tickvals": [
          "G_3492145",
          "A_3492144",
          "T_3492143",
          "C_3492142",
          "A_3492141",
          "C_3492140",
          "G_3492139",
          "T_3492138",
          "T_3492137",
          "C_3492136",
          "T_3492135",
          "C_3492134",
          "C_3492133",
          "T_3492132",
          "C_3492131",
          "C_3492130",
          "G_3492129",
          "A_3492128",
          "C_3492127",
          "G_3492126"
         ]
        },
        "xaxis3": {
         "anchor": "y3",
         "domain": [
          0.6866666666666665,
          0.9999999999999998
         ],
         "mirror": true,
         "tickangle": 0,
         "tickmode": "array",
         "ticktext": [
          "G",
          "C",
          "G",
          "G",
          "C",
          "T",
          "T",
          "C",
          "T",
          "A",
          "C",
          "T",
          "C",
          "C",
          "G",
          "G",
          "C",
          "A"
         ],
         "tickvals": [
          "G_3492072",
          "C_3492073",
          "G_3492074",
          "G_3492075",
          "C_3492076",
          "T_3492077",
          "T_3492078",
          "C_3492079",
          "T_3492080",
          "A_3492081",
          "C_3492082",
          "T_3492083",
          "C_3492084",
          "C_3492085",
          "G_3492086",
          "G_3492087",
          "C_3492088",
          "A_3492089"
         ]
        },
        "xaxis4": {
         "anchor": "y4",
         "domain": [
          0,
          0.3133333333333333
         ],
         "mirror": true,
         "tickangle": 0,
         "tickmode": "array",
         "ticktext": [
          "G",
          "C",
          "C",
          "G",
          "T",
          "C",
          "A",
          "T",
          "G",
          "C",
          "T",
          "G",
          "T",
          "G",
          "G",
          "A",
          "T",
          "C",
          "T",
          "T"
         ],
         "tickvals": [
          "G_3492047",
          "C_3492048",
          "C_3492049",
          "G_3492050",
          "T_3492051",
          "C_3492052",
          "A_3492053",
          "T_3492054",
          "G_3492055",
          "C_3492056",
          "T_3492057",
          "G_3492058",
          "T_3492059",
          "G_3492060",
          "G_3492061",
          "A_3492062",
          "T_3492063",
          "C_3492064",
          "T_3492065",
          "T_3492066"
         ]
        },
        "xaxis5": {
         "anchor": "y5",
         "domain": [
          0.34333333333333327,
          0.6566666666666665
         ],
         "mirror": true,
         "tickangle": 0,
         "tickmode": "array",
         "ticktext": [
          "G",
          "T",
          "C",
          "G",
          "T",
          "A",
          "C",
          "A",
          "C",
          "G",
          "T",
          "C",
          "C",
          "A",
          "G",
          "G",
          "G",
          "T",
          "G"
         ],
         "tickvals": [
          "G_3492112",
          "T_3492111",
          "C_3492110",
          "G_3492109",
          "T_3492108",
          "A_3492107",
          "C_3492106",
          "A_3492105",
          "C_3492104",
          "G_3492103",
          "T_3492102",
          "C_3492101",
          "C_3492100",
          "A_3492099",
          "G_3492098",
          "G_3492097",
          "G_3492096",
          "T_3492095",
          "G_3492094"
         ]
        },
        "xaxis6": {
         "anchor": "y6",
         "domain": [
          0.6866666666666665,
          0.9999999999999998
         ],
         "mirror": true,
         "tickangle": 0,
         "tickmode": "array",
         "ticktext": [
          "G",
          "C",
          "G",
          "G",
          "C",
          "G",
          "G",
          "C",
          "T",
          "T",
          "C",
          "T",
          "A",
          "C",
          "T",
          "C",
          "C",
          "G",
          "G"
         ],
         "tickvals": [
          "G_3492069",
          "C_3492070",
          "G_3492071",
          "G_3492072",
          "C_3492073",
          "G_3492074",
          "G_3492075",
          "C_3492076",
          "T_3492077",
          "T_3492078",
          "C_3492079",
          "T_3492080",
          "A_3492081",
          "C_3492082",
          "T_3492083",
          "C_3492084",
          "C_3492085",
          "G_3492086",
          "G_3492087"
         ]
        },
        "xaxis7": {
         "anchor": "y7",
         "domain": [
          0,
          0.3133333333333333
         ],
         "mirror": true,
         "tickangle": 0,
         "tickmode": "array",
         "ticktext": [
          "C",
          "A",
          "A",
          "G",
          "A",
          "A",
          "T",
          "G",
          "C",
          "G",
          "G",
          "C",
          "C",
          "G",
          "T",
          "C",
          "A",
          "T",
          "G"
         ],
         "tickvals": [
          "C_3492037",
          "A_3492038",
          "A_3492039",
          "G_3492040",
          "A_3492041",
          "A_3492042",
          "T_3492043",
          "G_3492044",
          "C_3492045",
          "G_3492046",
          "G_3492047",
          "C_3492048",
          "C_3492049",
          "G_3492050",
          "T_3492051",
          "C_3492052",
          "A_3492053",
          "T_3492054",
          "G_3492055"
         ]
        },
        "xaxis8": {
         "anchor": "y8",
         "domain": [
          0.34333333333333327,
          0.6566666666666665
         ],
         "mirror": true,
         "tickangle": 0,
         "tickmode": "array",
         "ticktext": [
          "G",
          "T",
          "T",
          "C",
          "T",
          "C",
          "C",
          "T",
          "C",
          "C",
          "G",
          "A",
          "C",
          "G",
          "C",
          "A",
          "A",
          "G",
          "C"
         ],
         "tickvals": [
          "G_3492139",
          "T_3492138",
          "T_3492137",
          "C_3492136",
          "T_3492135",
          "C_3492134",
          "C_3492133",
          "T_3492132",
          "C_3492131",
          "C_3492130",
          "G_3492129",
          "A_3492128",
          "C_3492127",
          "G_3492126",
          "C_3492125",
          "A_3492124",
          "A_3492123",
          "G_3492122",
          "C_3492121"
         ]
        },
        "xaxis9": {
         "anchor": "y9",
         "domain": [
          0.6866666666666665,
          0.9999999999999998
         ],
         "mirror": true,
         "tickangle": 0,
         "tickmode": "array",
         "ticktext": [
          "T",
          "G",
          "G",
          "A",
          "T",
          "C",
          "T",
          "T",
          "C",
          "G",
          "G",
          "C",
          "G",
          "G",
          "C",
          "G",
          "G",
          "C"
         ],
         "tickvals": [
          "T_3492059",
          "G_3492060",
          "G_3492061",
          "A_3492062",
          "T_3492063",
          "C_3492064",
          "T_3492065",
          "T_3492066",
          "C_3492067",
          "G_3492068",
          "G_3492069",
          "C_3492070",
          "G_3492071",
          "G_3492072",
          "C_3492073",
          "G_3492074",
          "G_3492075",
          "C_3492076"
         ]
        },
        "yaxis": {
         "anchor": "x",
         "domain": [
          0.8999999999999999,
          0.9999999999999999
         ],
         "mirror": true,
         "range": [
          0,
          1
         ],
         "tickvals": [
          0,
          0.2,
          0.4,
          0.6000000000000001,
          0.8
         ]
        },
        "yaxis10": {
         "anchor": "x10",
         "domain": [
          0.36,
          0.45999999999999996
         ],
         "mirror": true,
         "range": [
          0,
          1
         ],
         "tickvals": [
          0,
          0.2,
          0.4,
          0.6000000000000001,
          0.8
         ],
         "title": {
          "text": "Alternate allele frequency"
         }
        },
        "yaxis11": {
         "anchor": "x11",
         "domain": [
          0.36,
          0.45999999999999996
         ],
         "mirror": true,
         "range": [
          0,
          1
         ],
         "showticklabels": false,
         "tickvals": [
          0,
          0.2,
          0.4,
          0.6000000000000001,
          0.8
         ]
        },
        "yaxis12": {
         "anchor": "x12",
         "domain": [
          0.36,
          0.45999999999999996
         ],
         "mirror": true,
         "range": [
          0,
          1
         ],
         "showticklabels": false,
         "tickvals": [
          0,
          0.2,
          0.4,
          0.6000000000000001,
          0.8
         ]
        },
        "yaxis13": {
         "anchor": "x13",
         "domain": [
          0.18,
          0.27999999999999997
         ],
         "mirror": true,
         "range": [
          0,
          1
         ],
         "tickvals": [
          0,
          0.2,
          0.4,
          0.6000000000000001,
          0.8
         ]
        },
        "yaxis14": {
         "anchor": "x14",
         "domain": [
          0.18,
          0.27999999999999997
         ],
         "mirror": true,
         "range": [
          0,
          1
         ],
         "showticklabels": false,
         "tickvals": [
          0,
          0.2,
          0.4,
          0.6000000000000001,
          0.8
         ]
        },
        "yaxis15": {
         "anchor": "x15",
         "domain": [
          0.18,
          0.27999999999999997
         ],
         "mirror": true,
         "range": [
          0,
          1
         ],
         "showticklabels": false,
         "tickvals": [
          0,
          0.2,
          0.4,
          0.6000000000000001,
          0.8
         ]
        },
        "yaxis16": {
         "anchor": "x16",
         "domain": [
          0,
          0.09999999999999999
         ],
         "mirror": true,
         "range": [
          0,
          1
         ],
         "tickvals": [
          0,
          0.2,
          0.4,
          0.6000000000000001,
          0.8
         ],
         "title": {
          "text": "Alternate allele frequency"
         }
        },
        "yaxis17": {
         "anchor": "x17",
         "domain": [
          0,
          0.09999999999999999
         ],
         "mirror": true,
         "range": [
          0,
          1
         ],
         "showticklabels": false,
         "tickvals": [
          0,
          0.2,
          0.4,
          0.6000000000000001,
          0.8
         ]
        },
        "yaxis18": {
         "anchor": "x18",
         "domain": [
          0,
          0.09999999999999999
         ],
         "mirror": true,
         "range": [
          0,
          1
         ],
         "showticklabels": false,
         "tickvals": [
          0,
          0.2,
          0.4,
          0.6000000000000001,
          0.8
         ]
        },
        "yaxis2": {
         "anchor": "x2",
         "domain": [
          0.8999999999999999,
          0.9999999999999999
         ],
         "mirror": true,
         "range": [
          0,
          1
         ],
         "showticklabels": false,
         "tickvals": [
          0,
          0.2,
          0.4,
          0.6000000000000001,
          0.8
         ]
        },
        "yaxis3": {
         "anchor": "x3",
         "domain": [
          0.8999999999999999,
          0.9999999999999999
         ],
         "mirror": true,
         "range": [
          0,
          1
         ],
         "showticklabels": false,
         "tickvals": [
          0,
          0.2,
          0.4,
          0.6000000000000001,
          0.8
         ]
        },
        "yaxis4": {
         "anchor": "x4",
         "domain": [
          0.72,
          0.82
         ],
         "mirror": true,
         "range": [
          0,
          1
         ],
         "tickvals": [
          0,
          0.2,
          0.4,
          0.6000000000000001,
          0.8
         ],
         "title": {
          "text": "Alternate allele frequency"
         }
        },
        "yaxis5": {
         "anchor": "x5",
         "domain": [
          0.72,
          0.82
         ],
         "mirror": true,
         "range": [
          0,
          1
         ],
         "showticklabels": false,
         "tickvals": [
          0,
          0.2,
          0.4,
          0.6000000000000001,
          0.8
         ]
        },
        "yaxis6": {
         "anchor": "x6",
         "domain": [
          0.72,
          0.82
         ],
         "mirror": true,
         "range": [
          0,
          1
         ],
         "showticklabels": false,
         "tickvals": [
          0,
          0.2,
          0.4,
          0.6000000000000001,
          0.8
         ]
        },
        "yaxis7": {
         "anchor": "x7",
         "domain": [
          0.54,
          0.64
         ],
         "mirror": true,
         "range": [
          0,
          1
         ],
         "tickvals": [
          0,
          0.2,
          0.4,
          0.6000000000000001,
          0.8
         ]
        },
        "yaxis8": {
         "anchor": "x8",
         "domain": [
          0.54,
          0.64
         ],
         "mirror": true,
         "range": [
          0,
          1
         ],
         "showticklabels": false,
         "tickvals": [
          0,
          0.2,
          0.4,
          0.6000000000000001,
          0.8
         ]
        },
        "yaxis9": {
         "anchor": "x9",
         "domain": [
          0.54,
          0.64
         ],
         "mirror": true,
         "range": [
          0,
          1
         ],
         "showticklabels": false,
         "tickvals": [
          0,
          0.2,
          0.4,
          0.6000000000000001,
          0.8
         ]
        }
       }
      },
      "text/html": [
       "<div>                            <div id=\"bcc7892d-ba7e-4748-a7b4-6f2d41404270\" class=\"plotly-graph-div\" style=\"height:1200px; width:1500px;\"></div>            <script type=\"text/javascript\">                require([\"plotly\"], function(Plotly) {                    window.PLOTLYENV=window.PLOTLYENV || {};                                    if (document.getElementById(\"bcc7892d-ba7e-4748-a7b4-6f2d41404270\")) {                    Plotly.newPlot(                        \"bcc7892d-ba7e-4748-a7b4-6f2d41404270\",                        [{\"customdata\":[[0.0,0.0,0.0,1.0,\"T_3492051\"],[0.0,1.0,0.0,0.0,\"C_3492052\"],[1.0,0.0,0.0,0.0,\"A_3492053\"],[0.0,0.0,0.0,1.0,\"T_3492054\"],[0.0,0.0,1.0,0.0,\"G_3492055\"],[0.0,1.0,0.0,0.0,\"C_3492056\"],[0.0,0.0,0.0,1.0,\"T_3492057\"],[0.0,0.0,1.0,0.0,\"G_3492058\"],[0.0,0.0,0.0,1.0,\"T_3492059\"],[0.0,0.0,1.0,0.0,\"G_3492060\"],[0.0,0.0,1.0,0.0,\"G_3492061\"],[1.0,0.0,0.0,0.0,\"A_3492062\"],[0.0,0.0,0.0,1.0,\"T_3492063\"],[0.0,1.0,0.0,0.0,\"C_3492064\"],[0.0,0.0,0.0,1.0,\"T_3492065\"],[0.0,0.0,0.0,1.0,\"T_3492066\"],[0.0,0.99,0.0,0.01,\"C_3492067\"],[0.0,0.0,1.0,0.0,\"G_3492068\"],[0.0,0.0,1.0,0.0,\"G_3492069\"],[0.0,1.0,0.0,0.0,\"C_3492070\"]],\"hovertemplate\":\"Base / Position: %{customdata[4]}<br>Total Alternate freq: %{y}<br>A_freq: %{customdata[0]}<br>C_freq: %{customdata[1]}<br>G_freq: %{customdata[2]}<br>T_freq: %{customdata[3]}\",\"marker\":{\"color\":[-1,-1,-1,-1,-1,-1,-1,-1,-1,-1,-1,-1,-1,-1,-1,-1,1,-1,-1,-1],\"colorscale\":[[0,\"lightgray\"],[0.5,\"lightgray\"],[1,\"dodgerblue\"]],\"line\":{\"color\":\"black\",\"width\":2},\"size\":14,\"symbol\":\"circle\"},\"mode\":\"markers\",\"x\":[\"T_3492051\",\"C_3492052\",\"A_3492053\",\"T_3492054\",\"G_3492055\",\"C_3492056\",\"T_3492057\",\"G_3492058\",\"T_3492059\",\"G_3492060\",\"G_3492061\",\"A_3492062\",\"T_3492063\",\"C_3492064\",\"T_3492065\",\"T_3492066\",\"C_3492067\",\"G_3492068\",\"G_3492069\",\"C_3492070\"],\"y\":[0.0,0.0,0.0,0.0,0.0,0.0,0.0,0.0,0.0,0.0,0.0,0.0,0.0,0.0,0.0,0.0,0.01,0.0,0.0,0.0],\"type\":\"scatter\",\"xaxis\":\"x\",\"yaxis\":\"y\"},{\"customdata\":[[0.0,0.0,1.0,0.0,\"G_3492047\"],[0.0,1.0,0.0,0.0,\"C_3492048\"],[0.0,1.0,0.0,0.0,\"C_3492049\"],[0.005,0.0,0.995,0.0,\"G_3492050\"],[0.0,0.0,0.0,1.0,\"T_3492051\"],[0.0,1.0,0.0,0.0,\"C_3492052\"],[1.0,0.0,0.0,0.0,\"A_3492053\"],[0.0,0.0,0.0,1.0,\"T_3492054\"],[0.0,0.0,1.0,0.0,\"G_3492055\"],[0.0,1.0,0.0,0.0,\"C_3492056\"],[0.0,0.0,0.0,1.0,\"T_3492057\"],[0.0,0.0,1.0,0.0,\"G_3492058\"],[0.0,0.0,0.0,1.0,\"T_3492059\"],[0.0,0.0,1.0,0.0,\"G_3492060\"],[0.0,0.0,1.0,0.0,\"G_3492061\"],[1.0,0.0,0.0,0.0,\"A_3492062\"],[0.0,0.0,0.0,1.0,\"T_3492063\"],[0.0,1.0,0.0,0.0,\"C_3492064\"],[0.0,0.0,0.0,1.0,\"T_3492065\"],[0.0,0.0,0.0,1.0,\"T_3492066\"]],\"hovertemplate\":\"Base / Position: %{customdata[4]}<br>Total Alternate freq: %{y}<br>A_freq: %{customdata[0]}<br>C_freq: %{customdata[1]}<br>G_freq: %{customdata[2]}<br>T_freq: %{customdata[3]}\",\"marker\":{\"color\":[-1,-1,-1,1,-1,-1,-1,-1,-1,-1,-1,-1,-1,-1,-1,-1,-1,-1,-1,-1],\"colorscale\":[[0,\"lightgray\"],[0.5,\"lightgray\"],[1,\"dodgerblue\"]],\"line\":{\"color\":\"black\",\"width\":2},\"size\":14,\"symbol\":\"circle\"},\"mode\":\"markers\",\"x\":[\"G_3492047\",\"C_3492048\",\"C_3492049\",\"G_3492050\",\"T_3492051\",\"C_3492052\",\"A_3492053\",\"T_3492054\",\"G_3492055\",\"C_3492056\",\"T_3492057\",\"G_3492058\",\"T_3492059\",\"G_3492060\",\"G_3492061\",\"A_3492062\",\"T_3492063\",\"C_3492064\",\"T_3492065\",\"T_3492066\"],\"y\":[0.0,0.0,0.0,0.005,0.0,0.0,0.0,0.0,0.0,0.0,0.0,0.0,0.0,0.0,0.0,0.0,0.0,0.0,0.0,0.0],\"type\":\"scatter\",\"xaxis\":\"x4\",\"yaxis\":\"y4\"},{\"customdata\":[[0.0,0.995,0.0,0.005,\"C_3492037\"],[1.0,0.0,0.0,0.0,\"A_3492038\"],[1.0,0.0,0.0,0.0,\"A_3492039\"],[0.0,0.0,1.0,0.0,\"G_3492040\"],[1.0,0.0,0.0,0.0,\"A_3492041\"],[1.0,0.0,0.0,0.0,\"A_3492042\"],[0.0,0.0,0.0,1.0,\"T_3492043\"],[0.0,0.0,1.0,0.0,\"G_3492044\"],[0.0,1.0,0.0,0.0,\"C_3492045\"],[0.0,0.0,0.995,0.005,\"G_3492046\"],[0.0,0.0,1.0,0.0,\"G_3492047\"],[0.0,1.0,0.0,0.0,\"C_3492048\"],[0.0,1.0,0.0,0.0,\"C_3492049\"],[0.005,0.0,0.995,0.0,\"G_3492050\"],[0.0,0.0,0.0,1.0,\"T_3492051\"],[0.0,1.0,0.0,0.0,\"C_3492052\"],[1.0,0.0,0.0,0.0,\"A_3492053\"],[0.0,0.0,0.0,1.0,\"T_3492054\"],[0.0,0.0,1.0,0.0,\"G_3492055\"]],\"hovertemplate\":\"Base / Position: %{customdata[4]}<br>Total Alternate freq: %{y}<br>A_freq: %{customdata[0]}<br>C_freq: %{customdata[1]}<br>G_freq: %{customdata[2]}<br>T_freq: %{customdata[3]}\",\"marker\":{\"color\":[1,-1,-1,-1,-1,-1,-1,-1,-1,1,-1,-1,-1,1,-1,-1,-1,-1,-1],\"colorscale\":[[0,\"lightgray\"],[0.5,\"lightgray\"],[1,\"dodgerblue\"]],\"line\":{\"color\":\"black\",\"width\":2},\"size\":14,\"symbol\":\"circle\"},\"mode\":\"markers\",\"x\":[\"C_3492037\",\"A_3492038\",\"A_3492039\",\"G_3492040\",\"A_3492041\",\"A_3492042\",\"T_3492043\",\"G_3492044\",\"C_3492045\",\"G_3492046\",\"G_3492047\",\"C_3492048\",\"C_3492049\",\"G_3492050\",\"T_3492051\",\"C_3492052\",\"A_3492053\",\"T_3492054\",\"G_3492055\"],\"y\":[0.005,0.0,0.0,0.0,0.0,0.0,0.0,0.0,0.0,0.005,0.0,0.0,0.0,0.005,0.0,0.0,0.0,0.0,0.0],\"type\":\"scatter\",\"xaxis\":\"x7\",\"yaxis\":\"y7\"},{\"customdata\":[[1.0,0.0,0.0,0.0,\"A_3492006\"],[0.0,1.0,0.0,0.0,\"C_3492007\"],[1.0,0.0,0.0,0.0,\"A_3492008\"],[0.0,0.0,0.0,1.0,\"T_3492009\"],[0.0,0.0,0.0,1.0,\"T_3492010\"],[1.0,0.0,0.0,0.0,\"A_3492011\"],[1.0,0.0,0.0,0.0,\"A_3492012\"],[0.0,1.0,0.0,0.0,\"C_3492013\"],[0.0,0.0,1.0,0.0,\"G_3492014\"],[0.0,0.0,0.0,1.0,\"T_3492015\"],[0.0,0.0,1.0,0.0,\"G_3492016\"],[0.0,0.0,1.0,0.0,\"G_3492017\"],[0.0,0.0,0.0,1.0,\"T_3492018\"],[0.0,0.0,1.0,0.0,\"G_3492019\"],[0.0,0.0,1.0,0.0,\"G_3492020\"],[0.0,1.0,0.0,0.0,\"C_3492021\"],[1.0,0.0,0.0,0.0,\"A_3492022\"],[0.0,1.0,0.0,0.0,\"C_3492023\"],[0.0,1.0,0.0,0.0,\"C_3492024\"],[0.0,0.0,1.0,0.0,\"G_3492025\"]],\"hovertemplate\":\"Base / Position: %{customdata[4]}<br>Total Alternate freq: %{y}<br>A_freq: %{customdata[0]}<br>C_freq: %{customdata[1]}<br>G_freq: %{customdata[2]}<br>T_freq: %{customdata[3]}\",\"marker\":{\"color\":[-1,-1,-1,-1,-1,-1,-1,-1,-1,-1,-1,-1,-1,-1,-1,-1,-1,-1,-1,-1],\"colorscale\":[[0,\"lightgray\"],[0.5,\"lightgray\"],[1,\"dodgerblue\"]],\"line\":{\"color\":\"black\",\"width\":2},\"size\":14,\"symbol\":\"circle\"},\"mode\":\"markers\",\"x\":[\"A_3492006\",\"C_3492007\",\"A_3492008\",\"T_3492009\",\"T_3492010\",\"A_3492011\",\"A_3492012\",\"C_3492013\",\"G_3492014\",\"T_3492015\",\"G_3492016\",\"G_3492017\",\"T_3492018\",\"G_3492019\",\"G_3492020\",\"C_3492021\",\"A_3492022\",\"C_3492023\",\"C_3492024\",\"G_3492025\"],\"y\":[0.0,0.0,0.0,0.0,0.0,0.0,0.0,0.0,0.0,0.0,0.0,0.0,0.0,0.0,0.0,0.0,0.0,0.0,0.0,0.0],\"type\":\"scatter\",\"xaxis\":\"x10\",\"yaxis\":\"y10\"},{\"customdata\":[[0.0,0.0,0.995,0.005,\"G_3492046\"],[0.0,0.0,1.0,0.0,\"G_3492047\"],[0.0,1.0,0.0,0.0,\"C_3492048\"],[0.0,1.0,0.0,0.0,\"C_3492049\"],[0.005,0.0,0.995,0.0,\"G_3492050\"],[0.0,0.0,0.0,1.0,\"T_3492051\"],[0.0,1.0,0.0,0.0,\"C_3492052\"],[1.0,0.0,0.0,0.0,\"A_3492053\"],[0.0,0.0,0.0,1.0,\"T_3492054\"],[0.0,0.0,1.0,0.0,\"G_3492055\"],[0.0,1.0,0.0,0.0,\"C_3492056\"],[0.0,0.0,0.0,1.0,\"T_3492057\"],[0.0,0.0,1.0,0.0,\"G_3492058\"],[0.0,0.0,0.0,1.0,\"T_3492059\"],[0.0,0.0,1.0,0.0,\"G_3492060\"],[0.0,0.0,1.0,0.0,\"G_3492061\"],[1.0,0.0,0.0,0.0,\"A_3492062\"],[0.0,0.0,0.0,1.0,\"T_3492063\"]],\"hovertemplate\":\"Base / Position: %{customdata[4]}<br>Total Alternate freq: %{y}<br>A_freq: %{customdata[0]}<br>C_freq: %{customdata[1]}<br>G_freq: %{customdata[2]}<br>T_freq: %{customdata[3]}\",\"marker\":{\"color\":[1,-1,-1,-1,1,-1,-1,-1,-1,-1,-1,-1,-1,-1,-1,-1,-1,-1],\"colorscale\":[[0,\"lightgray\"],[0.5,\"lightgray\"],[1,\"dodgerblue\"]],\"line\":{\"color\":\"black\",\"width\":2},\"size\":14,\"symbol\":\"circle\"},\"mode\":\"markers\",\"x\":[\"G_3492046\",\"G_3492047\",\"C_3492048\",\"C_3492049\",\"G_3492050\",\"T_3492051\",\"C_3492052\",\"A_3492053\",\"T_3492054\",\"G_3492055\",\"C_3492056\",\"T_3492057\",\"G_3492058\",\"T_3492059\",\"G_3492060\",\"G_3492061\",\"A_3492062\",\"T_3492063\"],\"y\":[0.005,0.0,0.0,0.0,0.005,0.0,0.0,0.0,0.0,0.0,0.0,0.0,0.0,0.0,0.0,0.0,0.0,0.0],\"type\":\"scatter\",\"xaxis\":\"x13\",\"yaxis\":\"y13\"},{\"customdata\":[[0.0,1.0,0.0,0.0,\"C_3492056\"],[0.0,0.0,0.0,1.0,\"T_3492057\"],[0.0,0.0,1.0,0.0,\"G_3492058\"],[0.0,0.0,0.0,1.0,\"T_3492059\"],[0.0,0.0,1.0,0.0,\"G_3492060\"],[0.0,0.0,1.0,0.0,\"G_3492061\"],[1.0,0.0,0.0,0.0,\"A_3492062\"],[0.0,0.0,0.0,1.0,\"T_3492063\"],[0.0,1.0,0.0,0.0,\"C_3492064\"],[0.0,0.0,0.0,1.0,\"T_3492065\"],[0.0,0.0,0.0,1.0,\"T_3492066\"],[0.0,0.99,0.0,0.01,\"C_3492067\"],[0.0,0.0,1.0,0.0,\"G_3492068\"],[0.0,0.0,1.0,0.0,\"G_3492069\"],[0.0,1.0,0.0,0.0,\"C_3492070\"],[0.0,0.0,1.0,0.0,\"G_3492071\"],[0.0,0.0,1.0,0.0,\"G_3492072\"],[0.0,1.0,0.0,0.0,\"C_3492073\"]],\"hovertemplate\":\"Base / Position: %{customdata[4]}<br>Total Alternate freq: %{y}<br>A_freq: %{customdata[0]}<br>C_freq: %{customdata[1]}<br>G_freq: %{customdata[2]}<br>T_freq: %{customdata[3]}\",\"marker\":{\"color\":[-1,-1,-1,-1,-1,-1,-1,-1,-1,-1,-1,1,-1,-1,-1,-1,-1,-1],\"colorscale\":[[0,\"lightgray\"],[0.5,\"lightgray\"],[1,\"dodgerblue\"]],\"line\":{\"color\":\"black\",\"width\":2},\"size\":14,\"symbol\":\"circle\"},\"mode\":\"markers\",\"x\":[\"C_3492056\",\"T_3492057\",\"G_3492058\",\"T_3492059\",\"G_3492060\",\"G_3492061\",\"A_3492062\",\"T_3492063\",\"C_3492064\",\"T_3492065\",\"T_3492066\",\"C_3492067\",\"G_3492068\",\"G_3492069\",\"C_3492070\",\"G_3492071\",\"G_3492072\",\"C_3492073\"],\"y\":[0.0,0.0,0.0,0.0,0.0,0.0,0.0,0.0,0.0,0.0,0.0,0.01,0.0,0.0,0.0,0.0,0.0,0.0],\"type\":\"scatter\",\"xaxis\":\"x16\",\"yaxis\":\"y16\"},{\"customdata\":[[0.0,0.0,1.0,0.0,\"G_3492145\"],[1.0,0.0,0.0,0.0,\"A_3492144\"],[0.0,0.0,0.0,1.0,\"T_3492143\"],[0.0,1.0,0.0,0.0,\"C_3492142\"],[1.0,0.0,0.0,0.0,\"A_3492141\"],[0.0,1.0,0.0,0.0,\"C_3492140\"],[0.0,0.0,1.0,0.0,\"G_3492139\"],[0.0,0.0,0.0,1.0,\"T_3492138\"],[0.0,0.0,0.0,1.0,\"T_3492137\"],[0.0,1.0,0.0,0.0,\"C_3492136\"],[0.0,0.0,0.0,1.0,\"T_3492135\"],[0.0,1.0,0.0,0.0,\"C_3492134\"],[0.0,1.0,0.0,0.0,\"C_3492133\"],[0.0,0.0,0.0,1.0,\"T_3492132\"],[0.0,1.0,0.0,0.0,\"C_3492131\"],[0.0,1.0,0.0,0.0,\"C_3492130\"],[0.0,0.0,1.0,0.0,\"G_3492129\"],[1.0,0.0,0.0,0.0,\"A_3492128\"],[0.0,0.995,0.005,0.0,\"C_3492127\"],[0.0,0.0,1.0,0.0,\"G_3492126\"]],\"hovertemplate\":\"Base / Position: %{customdata[4]}<br>Total Alternate freq: %{y}<br>A_freq: %{customdata[0]}<br>C_freq: %{customdata[1]}<br>G_freq: %{customdata[2]}<br>T_freq: %{customdata[3]}\",\"marker\":{\"color\":[-1,-1,-1,-1,-1,-1,-1,-1,-1,-1,-1,-1,-1,-1,-1,-1,-1,-1,1,-1],\"colorscale\":[[0,\"lightgray\"],[0.5,\"lightgray\"],[1,\"dodgerblue\"]],\"line\":{\"color\":\"black\",\"width\":2},\"size\":14,\"symbol\":\"circle\"},\"mode\":\"markers\",\"x\":[\"G_3492145\",\"A_3492144\",\"T_3492143\",\"C_3492142\",\"A_3492141\",\"C_3492140\",\"G_3492139\",\"T_3492138\",\"T_3492137\",\"C_3492136\",\"T_3492135\",\"C_3492134\",\"C_3492133\",\"T_3492132\",\"C_3492131\",\"C_3492130\",\"G_3492129\",\"A_3492128\",\"C_3492127\",\"G_3492126\"],\"y\":[0.0,0.0,0.0,0.0,0.0,0.0,0.0,0.0,0.0,0.0,0.0,0.0,0.0,0.0,0.0,0.0,0.0,0.0,0.005,0.0],\"type\":\"scatter\",\"xaxis\":\"x2\",\"yaxis\":\"y2\"},{\"customdata\":[[0.0,0.0,1.0,0.0,\"G_3492112\"],[0.0,0.0,0.0,1.0,\"T_3492111\"],[0.0,1.0,0.0,0.0,\"C_3492110\"],[0.0,0.0,1.0,0.0,\"G_3492109\"],[0.0,0.0,0.0,1.0,\"T_3492108\"],[1.0,0.0,0.0,0.0,\"A_3492107\"],[0.0,1.0,0.0,0.0,\"C_3492106\"],[1.0,0.0,0.0,0.0,\"A_3492105\"],[0.0,1.0,0.0,0.0,\"C_3492104\"],[0.0,0.0,1.0,0.0,\"G_3492103\"],[0.0,0.0,0.0,1.0,\"T_3492102\"],[0.0,1.0,0.0,0.0,\"C_3492101\"],[0.0,1.0,0.0,0.0,\"C_3492100\"],[1.0,0.0,0.0,0.0,\"A_3492099\"],[0.0,0.0,1.0,0.0,\"G_3492098\"],[0.0,0.0,1.0,0.0,\"G_3492097\"],[0.0,0.0,1.0,0.0,\"G_3492096\"],[0.0,0.0,0.0,1.0,\"T_3492095\"],[0.0,0.0,1.0,0.0,\"G_3492094\"]],\"hovertemplate\":\"Base / Position: %{customdata[4]}<br>Total Alternate freq: %{y}<br>A_freq: %{customdata[0]}<br>C_freq: %{customdata[1]}<br>G_freq: %{customdata[2]}<br>T_freq: %{customdata[3]}\",\"marker\":{\"color\":[-1,-1,-1,-1,-1,-1,-1,-1,-1,-1,-1,-1,-1,-1,-1,-1,-1,-1,-1],\"colorscale\":[[0,\"lightgray\"],[0.5,\"lightgray\"],[1,\"dodgerblue\"]],\"line\":{\"color\":\"black\",\"width\":2},\"size\":14,\"symbol\":\"circle\"},\"mode\":\"markers\",\"x\":[\"G_3492112\",\"T_3492111\",\"C_3492110\",\"G_3492109\",\"T_3492108\",\"A_3492107\",\"C_3492106\",\"A_3492105\",\"C_3492104\",\"G_3492103\",\"T_3492102\",\"C_3492101\",\"C_3492100\",\"A_3492099\",\"G_3492098\",\"G_3492097\",\"G_3492096\",\"T_3492095\",\"G_3492094\"],\"y\":[0.0,0.0,0.0,0.0,0.0,0.0,0.0,0.0,0.0,0.0,0.0,0.0,0.0,0.0,0.0,0.0,0.0,0.0,0.0],\"type\":\"scatter\",\"xaxis\":\"x5\",\"yaxis\":\"y5\"},{\"customdata\":[[0.0,0.0,1.0,0.0,\"G_3492139\"],[0.0,0.0,0.0,1.0,\"T_3492138\"],[0.0,0.0,0.0,1.0,\"T_3492137\"],[0.0,1.0,0.0,0.0,\"C_3492136\"],[0.0,0.0,0.0,1.0,\"T_3492135\"],[0.0,1.0,0.0,0.0,\"C_3492134\"],[0.0,1.0,0.0,0.0,\"C_3492133\"],[0.0,0.0,0.0,1.0,\"T_3492132\"],[0.0,1.0,0.0,0.0,\"C_3492131\"],[0.0,1.0,0.0,0.0,\"C_3492130\"],[0.0,0.0,1.0,0.0,\"G_3492129\"],[1.0,0.0,0.0,0.0,\"A_3492128\"],[0.0,0.995,0.005,0.0,\"C_3492127\"],[0.0,0.0,1.0,0.0,\"G_3492126\"],[0.0,1.0,0.0,0.0,\"C_3492125\"],[1.0,0.0,0.0,0.0,\"A_3492124\"],[1.0,0.0,0.0,0.0,\"A_3492123\"],[0.0,0.0,1.0,0.0,\"G_3492122\"],[0.0,1.0,0.0,0.0,\"C_3492121\"]],\"hovertemplate\":\"Base / Position: %{customdata[4]}<br>Total Alternate freq: %{y}<br>A_freq: %{customdata[0]}<br>C_freq: %{customdata[1]}<br>G_freq: %{customdata[2]}<br>T_freq: %{customdata[3]}\",\"marker\":{\"color\":[-1,-1,-1,-1,-1,-1,-1,-1,-1,-1,-1,-1,1,-1,-1,-1,-1,-1,-1],\"colorscale\":[[0,\"lightgray\"],[0.5,\"lightgray\"],[1,\"dodgerblue\"]],\"line\":{\"color\":\"black\",\"width\":2},\"size\":14,\"symbol\":\"circle\"},\"mode\":\"markers\",\"x\":[\"G_3492139\",\"T_3492138\",\"T_3492137\",\"C_3492136\",\"T_3492135\",\"C_3492134\",\"C_3492133\",\"T_3492132\",\"C_3492131\",\"C_3492130\",\"G_3492129\",\"A_3492128\",\"C_3492127\",\"G_3492126\",\"C_3492125\",\"A_3492124\",\"A_3492123\",\"G_3492122\",\"C_3492121\"],\"y\":[0.0,0.0,0.0,0.0,0.0,0.0,0.0,0.0,0.0,0.0,0.0,0.0,0.005,0.0,0.0,0.0,0.0,0.0,0.0],\"type\":\"scatter\",\"xaxis\":\"x8\",\"yaxis\":\"y8\"},{\"customdata\":[[0.0,1.0,0.0,0.0,\"C_3492117\"],[0.0,0.0,1.0,0.0,\"G_3492116\"],[0.015,0.0,0.985,0.0,\"G_3492115\"],[0.0,0.0,0.0,1.0,\"T_3492114\"],[0.0,0.0,1.0,0.0,\"G_3492113\"],[0.0,0.0,1.0,0.0,\"G_3492112\"],[0.0,0.0,0.0,1.0,\"T_3492111\"],[0.0,1.0,0.0,0.0,\"C_3492110\"],[0.0,0.0,1.0,0.0,\"G_3492109\"],[0.0,0.0,0.0,1.0,\"T_3492108\"],[1.0,0.0,0.0,0.0,\"A_3492107\"],[0.0,1.0,0.0,0.0,\"C_3492106\"],[1.0,0.0,0.0,0.0,\"A_3492105\"],[0.0,1.0,0.0,0.0,\"C_3492104\"],[0.0,0.0,1.0,0.0,\"G_3492103\"],[0.0,0.0,0.0,1.0,\"T_3492102\"],[0.0,1.0,0.0,0.0,\"C_3492101\"],[0.0,1.0,0.0,0.0,\"C_3492100\"]],\"hovertemplate\":\"Base / Position: %{customdata[4]}<br>Total Alternate freq: %{y}<br>A_freq: %{customdata[0]}<br>C_freq: %{customdata[1]}<br>G_freq: %{customdata[2]}<br>T_freq: %{customdata[3]}\",\"marker\":{\"color\":[-1,-1,1,-1,-1,-1,-1,-1,-1,-1,-1,-1,-1,-1,-1,-1,-1,-1],\"colorscale\":[[0,\"lightgray\"],[0.5,\"lightgray\"],[1,\"dodgerblue\"]],\"line\":{\"color\":\"black\",\"width\":2},\"size\":14,\"symbol\":\"circle\"},\"mode\":\"markers\",\"x\":[\"C_3492117\",\"G_3492116\",\"G_3492115\",\"T_3492114\",\"G_3492113\",\"G_3492112\",\"T_3492111\",\"C_3492110\",\"G_3492109\",\"T_3492108\",\"A_3492107\",\"C_3492106\",\"A_3492105\",\"C_3492104\",\"G_3492103\",\"T_3492102\",\"C_3492101\",\"C_3492100\"],\"y\":[0.0,0.0,0.015,0.0,0.0,0.0,0.0,0.0,0.0,0.0,0.0,0.0,0.0,0.0,0.0,0.0,0.0,0.0],\"type\":\"scatter\",\"xaxis\":\"x11\",\"yaxis\":\"y11\"},{\"customdata\":[[0.0,0.0,0.0,1.0,\"T_3492162\"],[1.0,0.0,0.0,0.0,\"A_3492161\"],[0.0,1.0,0.0,0.0,\"C_3492160\"],[0.0,0.0,0.0,1.0,\"T_3492159\"],[0.0,0.0,1.0,0.0,\"G_3492158\"],[0.0,1.0,0.0,0.0,\"C_3492157\"],[1.0,0.0,0.0,0.0,\"A_3492156\"],[0.0,0.0,1.0,0.0,\"G_3492155\"],[0.0,1.0,0.0,0.0,\"C_3492154\"],[0.0,0.0,1.0,0.0,\"G_3492153\"],[1.0,0.0,0.0,0.0,\"A_3492152\"],[0.0,1.0,0.0,0.0,\"C_3492151\"],[1.0,0.0,0.0,0.0,\"A_3492150\"],[0.0,1.0,0.0,0.0,\"C_3492149\"],[0.0,1.0,0.0,0.0,\"C_3492148\"],[1.0,0.0,0.0,0.0,\"A_3492147\"],[0.0,1.0,0.0,0.0,\"C_3492146\"],[0.0,0.0,1.0,0.0,\"G_3492145\"],[1.0,0.0,0.0,0.0,\"A_3492144\"],[0.0,0.0,0.0,1.0,\"T_3492143\"]],\"hovertemplate\":\"Base / Position: %{customdata[4]}<br>Total Alternate freq: %{y}<br>A_freq: %{customdata[0]}<br>C_freq: %{customdata[1]}<br>G_freq: %{customdata[2]}<br>T_freq: %{customdata[3]}\",\"marker\":{\"color\":[-1,-1,-1,-1,-1,-1,-1,-1,-1,-1,-1,-1,-1,-1,-1,-1,-1,-1,-1,-1],\"colorscale\":[[0,\"lightgray\"],[0.5,\"lightgray\"],[1,\"dodgerblue\"]],\"line\":{\"color\":\"black\",\"width\":2},\"size\":14,\"symbol\":\"circle\"},\"mode\":\"markers\",\"x\":[\"T_3492162\",\"A_3492161\",\"C_3492160\",\"T_3492159\",\"G_3492158\",\"C_3492157\",\"A_3492156\",\"G_3492155\",\"C_3492154\",\"G_3492153\",\"A_3492152\",\"C_3492151\",\"A_3492150\",\"C_3492149\",\"C_3492148\",\"A_3492147\",\"C_3492146\",\"G_3492145\",\"A_3492144\",\"T_3492143\"],\"y\":[0.0,0.0,0.0,0.0,0.0,0.0,0.0,0.0,0.0,0.0,0.0,0.0,0.0,0.0,0.0,0.0,0.0,0.0,0.0,0.0],\"type\":\"scatter\",\"xaxis\":\"x14\",\"yaxis\":\"y14\"},{\"customdata\":[[1.0,0.0,0.0,0.0,\"A_3492156\"],[0.0,0.0,1.0,0.0,\"G_3492155\"],[0.0,1.0,0.0,0.0,\"C_3492154\"],[0.0,0.0,1.0,0.0,\"G_3492153\"],[1.0,0.0,0.0,0.0,\"A_3492152\"],[0.0,1.0,0.0,0.0,\"C_3492151\"],[1.0,0.0,0.0,0.0,\"A_3492150\"],[0.0,1.0,0.0,0.0,\"C_3492149\"],[0.0,1.0,0.0,0.0,\"C_3492148\"],[1.0,0.0,0.0,0.0,\"A_3492147\"],[0.0,1.0,0.0,0.0,\"C_3492146\"],[0.0,0.0,1.0,0.0,\"G_3492145\"],[1.0,0.0,0.0,0.0,\"A_3492144\"],[0.0,0.0,0.0,1.0,\"T_3492143\"],[0.0,1.0,0.0,0.0,\"C_3492142\"],[1.0,0.0,0.0,0.0,\"A_3492141\"],[0.0,1.0,0.0,0.0,\"C_3492140\"],[0.0,0.0,1.0,0.0,\"G_3492139\"]],\"hovertemplate\":\"Base / Position: %{customdata[4]}<br>Total Alternate freq: %{y}<br>A_freq: %{customdata[0]}<br>C_freq: %{customdata[1]}<br>G_freq: %{customdata[2]}<br>T_freq: %{customdata[3]}\",\"marker\":{\"color\":[-1,-1,-1,-1,-1,-1,-1,-1,-1,-1,-1,-1,-1,-1,-1,-1,-1,-1],\"colorscale\":[[0,\"lightgray\"],[0.5,\"lightgray\"],[1,\"dodgerblue\"]],\"line\":{\"color\":\"black\",\"width\":2},\"size\":14,\"symbol\":\"circle\"},\"mode\":\"markers\",\"x\":[\"A_3492156\",\"G_3492155\",\"C_3492154\",\"G_3492153\",\"A_3492152\",\"C_3492151\",\"A_3492150\",\"C_3492149\",\"C_3492148\",\"A_3492147\",\"C_3492146\",\"G_3492145\",\"A_3492144\",\"T_3492143\",\"C_3492142\",\"A_3492141\",\"C_3492140\",\"G_3492139\"],\"y\":[0.0,0.0,0.0,0.0,0.0,0.0,0.0,0.0,0.0,0.0,0.0,0.0,0.0,0.0,0.0,0.0,0.0,0.0],\"type\":\"scatter\",\"xaxis\":\"x17\",\"yaxis\":\"y17\"},{\"customdata\":[[0.0,0.0,1.0,0.0,\"G_3492072\"],[0.0,1.0,0.0,0.0,\"C_3492073\"],[0.26,0.0,0.74,0.0,\"G_3492074\"],[0.0,0.0,1.0,0.0,\"G_3492075\"],[0.0,1.0,0.0,0.0,\"C_3492076\"],[0.0,0.0,0.0,1.0,\"T_3492077\"],[0.0,0.0,0.0,1.0,\"T_3492078\"],[0.0,1.0,0.0,0.0,\"C_3492079\"],[0.0,0.0,0.0,1.0,\"T_3492080\"],[1.0,0.0,0.0,0.0,\"A_3492081\"],[0.0,1.0,0.0,0.0,\"C_3492082\"],[0.0,0.0,0.0,1.0,\"T_3492083\"],[0.0,1.0,0.0,0.0,\"C_3492084\"],[0.0,1.0,0.0,0.0,\"C_3492085\"],[0.0,0.0,1.0,0.0,\"G_3492086\"],[0.0,0.0,1.0,0.0,\"G_3492087\"],[0.0,1.0,0.0,0.0,\"C_3492088\"],[1.0,0.0,0.0,0.0,\"A_3492089\"]],\"hovertemplate\":\"Base / Position: %{customdata[4]}<br>Total Alternate freq: %{y}<br>A_freq: %{customdata[0]}<br>C_freq: %{customdata[1]}<br>G_freq: %{customdata[2]}<br>T_freq: %{customdata[3]}\",\"marker\":{\"color\":[-1,-1,1,-1,-1,-1,-1,-1,-1,-1,-1,-1,-1,-1,-1,-1,-1,-1],\"colorscale\":[[0,\"lightgray\"],[0.5,\"lightgray\"],[1,\"dodgerblue\"]],\"line\":{\"color\":\"black\",\"width\":2},\"size\":14,\"symbol\":\"circle\"},\"mode\":\"markers\",\"x\":[\"G_3492072\",\"C_3492073\",\"G_3492074\",\"G_3492075\",\"C_3492076\",\"T_3492077\",\"T_3492078\",\"C_3492079\",\"T_3492080\",\"A_3492081\",\"C_3492082\",\"T_3492083\",\"C_3492084\",\"C_3492085\",\"G_3492086\",\"G_3492087\",\"C_3492088\",\"A_3492089\"],\"y\":[0.0,0.0,0.26,0.0,0.0,0.0,0.0,0.0,0.0,0.0,0.0,0.0,0.0,0.0,0.0,0.0,0.0,0.0],\"type\":\"scatter\",\"xaxis\":\"x3\",\"yaxis\":\"y3\"},{\"customdata\":[[0.0,0.0,1.0,0.0,\"G_3492069\"],[0.0,1.0,0.0,0.0,\"C_3492070\"],[0.0,0.0,1.0,0.0,\"G_3492071\"],[0.0,0.0,1.0,0.0,\"G_3492072\"],[0.0,1.0,0.0,0.0,\"C_3492073\"],[0.26,0.0,0.74,0.0,\"G_3492074\"],[0.0,0.0,1.0,0.0,\"G_3492075\"],[0.0,1.0,0.0,0.0,\"C_3492076\"],[0.0,0.0,0.0,1.0,\"T_3492077\"],[0.0,0.0,0.0,1.0,\"T_3492078\"],[0.0,1.0,0.0,0.0,\"C_3492079\"],[0.0,0.0,0.0,1.0,\"T_3492080\"],[1.0,0.0,0.0,0.0,\"A_3492081\"],[0.0,1.0,0.0,0.0,\"C_3492082\"],[0.0,0.0,0.0,1.0,\"T_3492083\"],[0.0,1.0,0.0,0.0,\"C_3492084\"],[0.0,1.0,0.0,0.0,\"C_3492085\"],[0.0,0.0,1.0,0.0,\"G_3492086\"],[0.0,0.0,1.0,0.0,\"G_3492087\"]],\"hovertemplate\":\"Base / Position: %{customdata[4]}<br>Total Alternate freq: %{y}<br>A_freq: %{customdata[0]}<br>C_freq: %{customdata[1]}<br>G_freq: %{customdata[2]}<br>T_freq: %{customdata[3]}\",\"marker\":{\"color\":[-1,-1,-1,-1,-1,1,-1,-1,-1,-1,-1,-1,-1,-1,-1,-1,-1,-1,-1],\"colorscale\":[[0,\"lightgray\"],[0.5,\"lightgray\"],[1,\"dodgerblue\"]],\"line\":{\"color\":\"black\",\"width\":2},\"size\":14,\"symbol\":\"circle\"},\"mode\":\"markers\",\"x\":[\"G_3492069\",\"C_3492070\",\"G_3492071\",\"G_3492072\",\"C_3492073\",\"G_3492074\",\"G_3492075\",\"C_3492076\",\"T_3492077\",\"T_3492078\",\"C_3492079\",\"T_3492080\",\"A_3492081\",\"C_3492082\",\"T_3492083\",\"C_3492084\",\"C_3492085\",\"G_3492086\",\"G_3492087\"],\"y\":[0.0,0.0,0.0,0.0,0.0,0.26,0.0,0.0,0.0,0.0,0.0,0.0,0.0,0.0,0.0,0.0,0.0,0.0,0.0],\"type\":\"scatter\",\"xaxis\":\"x6\",\"yaxis\":\"y6\"},{\"customdata\":[[0.0,0.0,0.0,1.0,\"T_3492059\"],[0.0,0.0,1.0,0.0,\"G_3492060\"],[0.0,0.0,1.0,0.0,\"G_3492061\"],[1.0,0.0,0.0,0.0,\"A_3492062\"],[0.0,0.0,0.0,1.0,\"T_3492063\"],[0.0,1.0,0.0,0.0,\"C_3492064\"],[0.0,0.0,0.0,1.0,\"T_3492065\"],[0.0,0.0,0.0,1.0,\"T_3492066\"],[0.0,0.99,0.0,0.01,\"C_3492067\"],[0.0,0.0,1.0,0.0,\"G_3492068\"],[0.0,0.0,1.0,0.0,\"G_3492069\"],[0.0,1.0,0.0,0.0,\"C_3492070\"],[0.0,0.0,1.0,0.0,\"G_3492071\"],[0.0,0.0,1.0,0.0,\"G_3492072\"],[0.0,1.0,0.0,0.0,\"C_3492073\"],[0.26,0.0,0.74,0.0,\"G_3492074\"],[0.0,0.0,1.0,0.0,\"G_3492075\"],[0.0,1.0,0.0,0.0,\"C_3492076\"]],\"hovertemplate\":\"Base / Position: %{customdata[4]}<br>Total Alternate freq: %{y}<br>A_freq: %{customdata[0]}<br>C_freq: %{customdata[1]}<br>G_freq: %{customdata[2]}<br>T_freq: %{customdata[3]}\",\"marker\":{\"color\":[-1,-1,-1,-1,-1,-1,-1,-1,1,-1,-1,-1,-1,-1,-1,1,-1,-1],\"colorscale\":[[0,\"lightgray\"],[0.5,\"lightgray\"],[1,\"dodgerblue\"]],\"line\":{\"color\":\"black\",\"width\":2},\"size\":14,\"symbol\":\"circle\"},\"mode\":\"markers\",\"x\":[\"T_3492059\",\"G_3492060\",\"G_3492061\",\"A_3492062\",\"T_3492063\",\"C_3492064\",\"T_3492065\",\"T_3492066\",\"C_3492067\",\"G_3492068\",\"G_3492069\",\"C_3492070\",\"G_3492071\",\"G_3492072\",\"C_3492073\",\"G_3492074\",\"G_3492075\",\"C_3492076\"],\"y\":[0.0,0.0,0.0,0.0,0.0,0.0,0.0,0.0,0.01,0.0,0.0,0.0,0.0,0.0,0.0,0.26,0.0,0.0],\"type\":\"scatter\",\"xaxis\":\"x9\",\"yaxis\":\"y9\"},{\"customdata\":[[0.0,0.0,0.0,1.0,\"T_3492059\"],[0.0,0.0,1.0,0.0,\"G_3492060\"],[0.0,0.0,1.0,0.0,\"G_3492061\"],[1.0,0.0,0.0,0.0,\"A_3492062\"],[0.0,0.0,0.0,1.0,\"T_3492063\"],[0.0,1.0,0.0,0.0,\"C_3492064\"],[0.0,0.0,0.0,1.0,\"T_3492065\"],[0.0,0.0,0.0,1.0,\"T_3492066\"],[0.0,0.99,0.0,0.01,\"C_3492067\"],[0.0,0.0,1.0,0.0,\"G_3492068\"],[0.0,0.0,1.0,0.0,\"G_3492069\"],[0.0,1.0,0.0,0.0,\"C_3492070\"],[0.0,0.0,1.0,0.0,\"G_3492071\"],[0.0,0.0,1.0,0.0,\"G_3492072\"],[0.0,1.0,0.0,0.0,\"C_3492073\"],[0.26,0.0,0.74,0.0,\"G_3492074\"],[0.0,0.0,1.0,0.0,\"G_3492075\"],[0.0,1.0,0.0,0.0,\"C_3492076\"]],\"hovertemplate\":\"Base / Position: %{customdata[4]}<br>Total Alternate freq: %{y}<br>A_freq: %{customdata[0]}<br>C_freq: %{customdata[1]}<br>G_freq: %{customdata[2]}<br>T_freq: %{customdata[3]}\",\"marker\":{\"color\":[-1,-1,-1,-1,-1,-1,-1,-1,1,-1,-1,-1,-1,-1,-1,1,-1,-1],\"colorscale\":[[0,\"lightgray\"],[0.5,\"lightgray\"],[1,\"dodgerblue\"]],\"line\":{\"color\":\"black\",\"width\":2},\"size\":14,\"symbol\":\"circle\"},\"mode\":\"markers\",\"x\":[\"T_3492059\",\"G_3492060\",\"G_3492061\",\"A_3492062\",\"T_3492063\",\"C_3492064\",\"T_3492065\",\"T_3492066\",\"C_3492067\",\"G_3492068\",\"G_3492069\",\"C_3492070\",\"G_3492071\",\"G_3492072\",\"C_3492073\",\"G_3492074\",\"G_3492075\",\"C_3492076\"],\"y\":[0.0,0.0,0.0,0.0,0.0,0.0,0.0,0.0,0.01,0.0,0.0,0.0,0.0,0.0,0.0,0.26,0.0,0.0],\"type\":\"scatter\",\"xaxis\":\"x12\",\"yaxis\":\"y12\"},{\"customdata\":[[0.0,0.0,1.0,0.0,\"G_3492069\"],[0.0,1.0,0.0,0.0,\"C_3492070\"],[0.0,0.0,1.0,0.0,\"G_3492071\"],[0.0,0.0,1.0,0.0,\"G_3492072\"],[0.0,1.0,0.0,0.0,\"C_3492073\"],[0.26,0.0,0.74,0.0,\"G_3492074\"],[0.0,0.0,1.0,0.0,\"G_3492075\"],[0.0,1.0,0.0,0.0,\"C_3492076\"],[0.0,0.0,0.0,1.0,\"T_3492077\"],[0.0,0.0,0.0,1.0,\"T_3492078\"],[0.0,1.0,0.0,0.0,\"C_3492079\"],[0.0,0.0,0.0,1.0,\"T_3492080\"],[1.0,0.0,0.0,0.0,\"A_3492081\"],[0.0,1.0,0.0,0.0,\"C_3492082\"],[0.0,0.0,0.0,1.0,\"T_3492083\"],[0.0,1.0,0.0,0.0,\"C_3492084\"],[0.0,1.0,0.0,0.0,\"C_3492085\"],[0.0,0.0,1.0,0.0,\"G_3492086\"],[0.0,0.0,1.0,0.0,\"G_3492087\"]],\"hovertemplate\":\"Base / Position: %{customdata[4]}<br>Total Alternate freq: %{y}<br>A_freq: %{customdata[0]}<br>C_freq: %{customdata[1]}<br>G_freq: %{customdata[2]}<br>T_freq: %{customdata[3]}\",\"marker\":{\"color\":[-1,-1,-1,-1,-1,1,-1,-1,-1,-1,-1,-1,-1,-1,-1,-1,-1,-1,-1],\"colorscale\":[[0,\"lightgray\"],[0.5,\"lightgray\"],[1,\"dodgerblue\"]],\"line\":{\"color\":\"black\",\"width\":2},\"size\":14,\"symbol\":\"circle\"},\"mode\":\"markers\",\"x\":[\"G_3492069\",\"C_3492070\",\"G_3492071\",\"G_3492072\",\"C_3492073\",\"G_3492074\",\"G_3492075\",\"C_3492076\",\"T_3492077\",\"T_3492078\",\"C_3492079\",\"T_3492080\",\"A_3492081\",\"C_3492082\",\"T_3492083\",\"C_3492084\",\"C_3492085\",\"G_3492086\",\"G_3492087\"],\"y\":[0.0,0.0,0.0,0.0,0.0,0.26,0.0,0.0,0.0,0.0,0.0,0.0,0.0,0.0,0.0,0.0,0.0,0.0,0.0],\"type\":\"scatter\",\"xaxis\":\"x15\",\"yaxis\":\"y15\"},{\"customdata\":[[0.26,0.0,0.74,0.0,\"G_3492074\"],[0.0,0.0,1.0,0.0,\"G_3492075\"],[0.0,1.0,0.0,0.0,\"C_3492076\"],[0.0,0.0,0.0,1.0,\"T_3492077\"],[0.0,0.0,0.0,1.0,\"T_3492078\"],[0.0,1.0,0.0,0.0,\"C_3492079\"],[0.0,0.0,0.0,1.0,\"T_3492080\"],[1.0,0.0,0.0,0.0,\"A_3492081\"],[0.0,1.0,0.0,0.0,\"C_3492082\"],[0.0,0.0,0.0,1.0,\"T_3492083\"],[0.0,1.0,0.0,0.0,\"C_3492084\"],[0.0,1.0,0.0,0.0,\"C_3492085\"],[0.0,0.0,1.0,0.0,\"G_3492086\"],[0.0,0.0,1.0,0.0,\"G_3492087\"],[0.0,1.0,0.0,0.0,\"C_3492088\"],[1.0,0.0,0.0,0.0,\"A_3492089\"]],\"hovertemplate\":\"Base / Position: %{customdata[4]}<br>Total Alternate freq: %{y}<br>A_freq: %{customdata[0]}<br>C_freq: %{customdata[1]}<br>G_freq: %{customdata[2]}<br>T_freq: %{customdata[3]}\",\"marker\":{\"color\":[1,-1,-1,-1,-1,-1,-1,-1,-1,-1,-1,-1,-1,-1,-1,-1],\"colorscale\":[[0,\"lightgray\"],[0.5,\"lightgray\"],[1,\"dodgerblue\"]],\"line\":{\"color\":\"black\",\"width\":2},\"size\":14,\"symbol\":\"circle\"},\"mode\":\"markers\",\"x\":[\"G_3492074\",\"G_3492075\",\"C_3492076\",\"T_3492077\",\"T_3492078\",\"C_3492079\",\"T_3492080\",\"A_3492081\",\"C_3492082\",\"T_3492083\",\"C_3492084\",\"C_3492085\",\"G_3492086\",\"G_3492087\",\"C_3492088\",\"A_3492089\"],\"y\":[0.26,0.0,0.0,0.0,0.0,0.0,0.0,0.0,0.0,0.0,0.0,0.0,0.0,0.0,0.0,0.0],\"type\":\"scatter\",\"xaxis\":\"x18\",\"yaxis\":\"y18\"}],                        {\"template\":{\"data\":{\"barpolar\":[{\"marker\":{\"line\":{\"color\":\"white\",\"width\":0.5},\"pattern\":{\"fillmode\":\"overlay\",\"size\":10,\"solidity\":0.2}},\"type\":\"barpolar\"}],\"bar\":[{\"error_x\":{\"color\":\"rgb(36,36,36)\"},\"error_y\":{\"color\":\"rgb(36,36,36)\"},\"marker\":{\"line\":{\"color\":\"white\",\"width\":0.5},\"pattern\":{\"fillmode\":\"overlay\",\"size\":10,\"solidity\":0.2}},\"type\":\"bar\"}],\"carpet\":[{\"aaxis\":{\"endlinecolor\":\"rgb(36,36,36)\",\"gridcolor\":\"white\",\"linecolor\":\"white\",\"minorgridcolor\":\"white\",\"startlinecolor\":\"rgb(36,36,36)\"},\"baxis\":{\"endlinecolor\":\"rgb(36,36,36)\",\"gridcolor\":\"white\",\"linecolor\":\"white\",\"minorgridcolor\":\"white\",\"startlinecolor\":\"rgb(36,36,36)\"},\"type\":\"carpet\"}],\"choropleth\":[{\"colorbar\":{\"outlinewidth\":1,\"tickcolor\":\"rgb(36,36,36)\",\"ticks\":\"outside\"},\"type\":\"choropleth\"}],\"contourcarpet\":[{\"colorbar\":{\"outlinewidth\":1,\"tickcolor\":\"rgb(36,36,36)\",\"ticks\":\"outside\"},\"type\":\"contourcarpet\"}],\"contour\":[{\"colorbar\":{\"outlinewidth\":1,\"tickcolor\":\"rgb(36,36,36)\",\"ticks\":\"outside\"},\"colorscale\":[[0.0,\"#440154\"],[0.1111111111111111,\"#482878\"],[0.2222222222222222,\"#3e4989\"],[0.3333333333333333,\"#31688e\"],[0.4444444444444444,\"#26828e\"],[0.5555555555555556,\"#1f9e89\"],[0.6666666666666666,\"#35b779\"],[0.7777777777777778,\"#6ece58\"],[0.8888888888888888,\"#b5de2b\"],[1.0,\"#fde725\"]],\"type\":\"contour\"}],\"heatmapgl\":[{\"colorbar\":{\"outlinewidth\":1,\"tickcolor\":\"rgb(36,36,36)\",\"ticks\":\"outside\"},\"colorscale\":[[0.0,\"#440154\"],[0.1111111111111111,\"#482878\"],[0.2222222222222222,\"#3e4989\"],[0.3333333333333333,\"#31688e\"],[0.4444444444444444,\"#26828e\"],[0.5555555555555556,\"#1f9e89\"],[0.6666666666666666,\"#35b779\"],[0.7777777777777778,\"#6ece58\"],[0.8888888888888888,\"#b5de2b\"],[1.0,\"#fde725\"]],\"type\":\"heatmapgl\"}],\"heatmap\":[{\"colorbar\":{\"outlinewidth\":1,\"tickcolor\":\"rgb(36,36,36)\",\"ticks\":\"outside\"},\"colorscale\":[[0.0,\"#440154\"],[0.1111111111111111,\"#482878\"],[0.2222222222222222,\"#3e4989\"],[0.3333333333333333,\"#31688e\"],[0.4444444444444444,\"#26828e\"],[0.5555555555555556,\"#1f9e89\"],[0.6666666666666666,\"#35b779\"],[0.7777777777777778,\"#6ece58\"],[0.8888888888888888,\"#b5de2b\"],[1.0,\"#fde725\"]],\"type\":\"heatmap\"}],\"histogram2dcontour\":[{\"colorbar\":{\"outlinewidth\":1,\"tickcolor\":\"rgb(36,36,36)\",\"ticks\":\"outside\"},\"colorscale\":[[0.0,\"#440154\"],[0.1111111111111111,\"#482878\"],[0.2222222222222222,\"#3e4989\"],[0.3333333333333333,\"#31688e\"],[0.4444444444444444,\"#26828e\"],[0.5555555555555556,\"#1f9e89\"],[0.6666666666666666,\"#35b779\"],[0.7777777777777778,\"#6ece58\"],[0.8888888888888888,\"#b5de2b\"],[1.0,\"#fde725\"]],\"type\":\"histogram2dcontour\"}],\"histogram2d\":[{\"colorbar\":{\"outlinewidth\":1,\"tickcolor\":\"rgb(36,36,36)\",\"ticks\":\"outside\"},\"colorscale\":[[0.0,\"#440154\"],[0.1111111111111111,\"#482878\"],[0.2222222222222222,\"#3e4989\"],[0.3333333333333333,\"#31688e\"],[0.4444444444444444,\"#26828e\"],[0.5555555555555556,\"#1f9e89\"],[0.6666666666666666,\"#35b779\"],[0.7777777777777778,\"#6ece58\"],[0.8888888888888888,\"#b5de2b\"],[1.0,\"#fde725\"]],\"type\":\"histogram2d\"}],\"histogram\":[{\"marker\":{\"line\":{\"color\":\"white\",\"width\":0.6}},\"type\":\"histogram\"}],\"mesh3d\":[{\"colorbar\":{\"outlinewidth\":1,\"tickcolor\":\"rgb(36,36,36)\",\"ticks\":\"outside\"},\"type\":\"mesh3d\"}],\"parcoords\":[{\"line\":{\"colorbar\":{\"outlinewidth\":1,\"tickcolor\":\"rgb(36,36,36)\",\"ticks\":\"outside\"}},\"type\":\"parcoords\"}],\"pie\":[{\"automargin\":true,\"type\":\"pie\"}],\"scatter3d\":[{\"line\":{\"colorbar\":{\"outlinewidth\":1,\"tickcolor\":\"rgb(36,36,36)\",\"ticks\":\"outside\"}},\"marker\":{\"colorbar\":{\"outlinewidth\":1,\"tickcolor\":\"rgb(36,36,36)\",\"ticks\":\"outside\"}},\"type\":\"scatter3d\"}],\"scattercarpet\":[{\"marker\":{\"colorbar\":{\"outlinewidth\":1,\"tickcolor\":\"rgb(36,36,36)\",\"ticks\":\"outside\"}},\"type\":\"scattercarpet\"}],\"scattergeo\":[{\"marker\":{\"colorbar\":{\"outlinewidth\":1,\"tickcolor\":\"rgb(36,36,36)\",\"ticks\":\"outside\"}},\"type\":\"scattergeo\"}],\"scattergl\":[{\"marker\":{\"colorbar\":{\"outlinewidth\":1,\"tickcolor\":\"rgb(36,36,36)\",\"ticks\":\"outside\"}},\"type\":\"scattergl\"}],\"scattermapbox\":[{\"marker\":{\"colorbar\":{\"outlinewidth\":1,\"tickcolor\":\"rgb(36,36,36)\",\"ticks\":\"outside\"}},\"type\":\"scattermapbox\"}],\"scatterpolargl\":[{\"marker\":{\"colorbar\":{\"outlinewidth\":1,\"tickcolor\":\"rgb(36,36,36)\",\"ticks\":\"outside\"}},\"type\":\"scatterpolargl\"}],\"scatterpolar\":[{\"marker\":{\"colorbar\":{\"outlinewidth\":1,\"tickcolor\":\"rgb(36,36,36)\",\"ticks\":\"outside\"}},\"type\":\"scatterpolar\"}],\"scatter\":[{\"marker\":{\"colorbar\":{\"outlinewidth\":1,\"tickcolor\":\"rgb(36,36,36)\",\"ticks\":\"outside\"}},\"type\":\"scatter\"}],\"scatterternary\":[{\"marker\":{\"colorbar\":{\"outlinewidth\":1,\"tickcolor\":\"rgb(36,36,36)\",\"ticks\":\"outside\"}},\"type\":\"scatterternary\"}],\"surface\":[{\"colorbar\":{\"outlinewidth\":1,\"tickcolor\":\"rgb(36,36,36)\",\"ticks\":\"outside\"},\"colorscale\":[[0.0,\"#440154\"],[0.1111111111111111,\"#482878\"],[0.2222222222222222,\"#3e4989\"],[0.3333333333333333,\"#31688e\"],[0.4444444444444444,\"#26828e\"],[0.5555555555555556,\"#1f9e89\"],[0.6666666666666666,\"#35b779\"],[0.7777777777777778,\"#6ece58\"],[0.8888888888888888,\"#b5de2b\"],[1.0,\"#fde725\"]],\"type\":\"surface\"}],\"table\":[{\"cells\":{\"fill\":{\"color\":\"rgb(237,237,237)\"},\"line\":{\"color\":\"white\"}},\"header\":{\"fill\":{\"color\":\"rgb(217,217,217)\"},\"line\":{\"color\":\"white\"}},\"type\":\"table\"}]},\"layout\":{\"annotationdefaults\":{\"arrowhead\":0,\"arrowwidth\":1},\"autotypenumbers\":\"strict\",\"coloraxis\":{\"colorbar\":{\"outlinewidth\":1,\"tickcolor\":\"rgb(36,36,36)\",\"ticks\":\"outside\"}},\"colorscale\":{\"diverging\":[[0.0,\"rgb(103,0,31)\"],[0.1,\"rgb(178,24,43)\"],[0.2,\"rgb(214,96,77)\"],[0.3,\"rgb(244,165,130)\"],[0.4,\"rgb(253,219,199)\"],[0.5,\"rgb(247,247,247)\"],[0.6,\"rgb(209,229,240)\"],[0.7,\"rgb(146,197,222)\"],[0.8,\"rgb(67,147,195)\"],[0.9,\"rgb(33,102,172)\"],[1.0,\"rgb(5,48,97)\"]],\"sequential\":[[0.0,\"#440154\"],[0.1111111111111111,\"#482878\"],[0.2222222222222222,\"#3e4989\"],[0.3333333333333333,\"#31688e\"],[0.4444444444444444,\"#26828e\"],[0.5555555555555556,\"#1f9e89\"],[0.6666666666666666,\"#35b779\"],[0.7777777777777778,\"#6ece58\"],[0.8888888888888888,\"#b5de2b\"],[1.0,\"#fde725\"]],\"sequentialminus\":[[0.0,\"#440154\"],[0.1111111111111111,\"#482878\"],[0.2222222222222222,\"#3e4989\"],[0.3333333333333333,\"#31688e\"],[0.4444444444444444,\"#26828e\"],[0.5555555555555556,\"#1f9e89\"],[0.6666666666666666,\"#35b779\"],[0.7777777777777778,\"#6ece58\"],[0.8888888888888888,\"#b5de2b\"],[1.0,\"#fde725\"]]},\"colorway\":[\"#1F77B4\",\"#FF7F0E\",\"#2CA02C\",\"#D62728\",\"#9467BD\",\"#8C564B\",\"#E377C2\",\"#7F7F7F\",\"#BCBD22\",\"#17BECF\"],\"font\":{\"color\":\"rgb(36,36,36)\"},\"geo\":{\"bgcolor\":\"white\",\"lakecolor\":\"white\",\"landcolor\":\"white\",\"showlakes\":true,\"showland\":true,\"subunitcolor\":\"white\"},\"hoverlabel\":{\"align\":\"left\"},\"hovermode\":\"closest\",\"mapbox\":{\"style\":\"light\"},\"paper_bgcolor\":\"white\",\"plot_bgcolor\":\"white\",\"polar\":{\"angularaxis\":{\"gridcolor\":\"rgb(232,232,232)\",\"linecolor\":\"rgb(36,36,36)\",\"showgrid\":false,\"showline\":true,\"ticks\":\"outside\"},\"bgcolor\":\"white\",\"radialaxis\":{\"gridcolor\":\"rgb(232,232,232)\",\"linecolor\":\"rgb(36,36,36)\",\"showgrid\":false,\"showline\":true,\"ticks\":\"outside\"}},\"scene\":{\"xaxis\":{\"backgroundcolor\":\"white\",\"gridcolor\":\"rgb(232,232,232)\",\"gridwidth\":2,\"linecolor\":\"rgb(36,36,36)\",\"showbackground\":true,\"showgrid\":false,\"showline\":true,\"ticks\":\"outside\",\"zeroline\":false,\"zerolinecolor\":\"rgb(36,36,36)\"},\"yaxis\":{\"backgroundcolor\":\"white\",\"gridcolor\":\"rgb(232,232,232)\",\"gridwidth\":2,\"linecolor\":\"rgb(36,36,36)\",\"showbackground\":true,\"showgrid\":false,\"showline\":true,\"ticks\":\"outside\",\"zeroline\":false,\"zerolinecolor\":\"rgb(36,36,36)\"},\"zaxis\":{\"backgroundcolor\":\"white\",\"gridcolor\":\"rgb(232,232,232)\",\"gridwidth\":2,\"linecolor\":\"rgb(36,36,36)\",\"showbackground\":true,\"showgrid\":false,\"showline\":true,\"ticks\":\"outside\",\"zeroline\":false,\"zerolinecolor\":\"rgb(36,36,36)\"}},\"shapedefaults\":{\"fillcolor\":\"black\",\"line\":{\"width\":0},\"opacity\":0.3},\"ternary\":{\"aaxis\":{\"gridcolor\":\"rgb(232,232,232)\",\"linecolor\":\"rgb(36,36,36)\",\"showgrid\":false,\"showline\":true,\"ticks\":\"outside\"},\"baxis\":{\"gridcolor\":\"rgb(232,232,232)\",\"linecolor\":\"rgb(36,36,36)\",\"showgrid\":false,\"showline\":true,\"ticks\":\"outside\"},\"bgcolor\":\"white\",\"caxis\":{\"gridcolor\":\"rgb(232,232,232)\",\"linecolor\":\"rgb(36,36,36)\",\"showgrid\":false,\"showline\":true,\"ticks\":\"outside\"}},\"title\":{\"x\":0.05},\"xaxis\":{\"automargin\":true,\"gridcolor\":\"rgb(232,232,232)\",\"linecolor\":\"rgb(36,36,36)\",\"showgrid\":false,\"showline\":true,\"ticks\":\"outside\",\"title\":{\"standoff\":15},\"zeroline\":false,\"zerolinecolor\":\"rgb(36,36,36)\"},\"yaxis\":{\"automargin\":true,\"gridcolor\":\"rgb(232,232,232)\",\"linecolor\":\"rgb(36,36,36)\",\"showgrid\":false,\"showline\":true,\"ticks\":\"outside\",\"title\":{\"standoff\":15},\"zeroline\":false,\"zerolinecolor\":\"rgb(36,36,36)\"}}},\"xaxis\":{\"anchor\":\"y\",\"domain\":[0.0,0.3133333333333333],\"tickmode\":\"array\",\"tickvals\":[\"T_3492051\",\"C_3492052\",\"A_3492053\",\"T_3492054\",\"G_3492055\",\"C_3492056\",\"T_3492057\",\"G_3492058\",\"T_3492059\",\"G_3492060\",\"G_3492061\",\"A_3492062\",\"T_3492063\",\"C_3492064\",\"T_3492065\",\"T_3492066\",\"C_3492067\",\"G_3492068\",\"G_3492069\",\"C_3492070\"],\"ticktext\":[\"T\",\"C\",\"A\",\"T\",\"G\",\"C\",\"T\",\"G\",\"T\",\"G\",\"G\",\"A\",\"T\",\"C\",\"T\",\"T\",\"C\",\"G\",\"G\",\"C\"],\"tickangle\":0,\"mirror\":true},\"yaxis\":{\"anchor\":\"x\",\"domain\":[0.8999999999999999,0.9999999999999999],\"tickvals\":[0.0,0.2,0.4,0.6000000000000001,0.8],\"range\":[0,1],\"mirror\":true},\"xaxis2\":{\"anchor\":\"y2\",\"domain\":[0.34333333333333327,0.6566666666666665],\"tickmode\":\"array\",\"tickvals\":[\"G_3492145\",\"A_3492144\",\"T_3492143\",\"C_3492142\",\"A_3492141\",\"C_3492140\",\"G_3492139\",\"T_3492138\",\"T_3492137\",\"C_3492136\",\"T_3492135\",\"C_3492134\",\"C_3492133\",\"T_3492132\",\"C_3492131\",\"C_3492130\",\"G_3492129\",\"A_3492128\",\"C_3492127\",\"G_3492126\"],\"ticktext\":[\"G\",\"A\",\"T\",\"C\",\"A\",\"C\",\"G\",\"T\",\"T\",\"C\",\"T\",\"C\",\"C\",\"T\",\"C\",\"C\",\"G\",\"A\",\"C\",\"G\"],\"tickangle\":0,\"mirror\":true},\"yaxis2\":{\"anchor\":\"x2\",\"domain\":[0.8999999999999999,0.9999999999999999],\"range\":[0,1],\"tickvals\":[0.0,0.2,0.4,0.6000000000000001,0.8],\"showticklabels\":false,\"mirror\":true},\"xaxis3\":{\"anchor\":\"y3\",\"domain\":[0.6866666666666665,0.9999999999999998],\"tickmode\":\"array\",\"tickvals\":[\"G_3492072\",\"C_3492073\",\"G_3492074\",\"G_3492075\",\"C_3492076\",\"T_3492077\",\"T_3492078\",\"C_3492079\",\"T_3492080\",\"A_3492081\",\"C_3492082\",\"T_3492083\",\"C_3492084\",\"C_3492085\",\"G_3492086\",\"G_3492087\",\"C_3492088\",\"A_3492089\"],\"ticktext\":[\"G\",\"C\",\"G\",\"G\",\"C\",\"T\",\"T\",\"C\",\"T\",\"A\",\"C\",\"T\",\"C\",\"C\",\"G\",\"G\",\"C\",\"A\"],\"tickangle\":0,\"mirror\":true},\"yaxis3\":{\"anchor\":\"x3\",\"domain\":[0.8999999999999999,0.9999999999999999],\"range\":[0,1],\"tickvals\":[0.0,0.2,0.4,0.6000000000000001,0.8],\"showticklabels\":false,\"mirror\":true},\"xaxis4\":{\"anchor\":\"y4\",\"domain\":[0.0,0.3133333333333333],\"tickmode\":\"array\",\"tickvals\":[\"G_3492047\",\"C_3492048\",\"C_3492049\",\"G_3492050\",\"T_3492051\",\"C_3492052\",\"A_3492053\",\"T_3492054\",\"G_3492055\",\"C_3492056\",\"T_3492057\",\"G_3492058\",\"T_3492059\",\"G_3492060\",\"G_3492061\",\"A_3492062\",\"T_3492063\",\"C_3492064\",\"T_3492065\",\"T_3492066\"],\"ticktext\":[\"G\",\"C\",\"C\",\"G\",\"T\",\"C\",\"A\",\"T\",\"G\",\"C\",\"T\",\"G\",\"T\",\"G\",\"G\",\"A\",\"T\",\"C\",\"T\",\"T\"],\"tickangle\":0,\"mirror\":true},\"yaxis4\":{\"anchor\":\"x4\",\"domain\":[0.72,0.82],\"tickvals\":[0.0,0.2,0.4,0.6000000000000001,0.8],\"range\":[0,1],\"mirror\":true,\"title\":{\"text\":\"Alternate allele frequency\"}},\"xaxis5\":{\"anchor\":\"y5\",\"domain\":[0.34333333333333327,0.6566666666666665],\"tickmode\":\"array\",\"tickvals\":[\"G_3492112\",\"T_3492111\",\"C_3492110\",\"G_3492109\",\"T_3492108\",\"A_3492107\",\"C_3492106\",\"A_3492105\",\"C_3492104\",\"G_3492103\",\"T_3492102\",\"C_3492101\",\"C_3492100\",\"A_3492099\",\"G_3492098\",\"G_3492097\",\"G_3492096\",\"T_3492095\",\"G_3492094\"],\"ticktext\":[\"G\",\"T\",\"C\",\"G\",\"T\",\"A\",\"C\",\"A\",\"C\",\"G\",\"T\",\"C\",\"C\",\"A\",\"G\",\"G\",\"G\",\"T\",\"G\"],\"tickangle\":0,\"mirror\":true},\"yaxis5\":{\"anchor\":\"x5\",\"domain\":[0.72,0.82],\"range\":[0,1],\"tickvals\":[0.0,0.2,0.4,0.6000000000000001,0.8],\"showticklabels\":false,\"mirror\":true},\"xaxis6\":{\"anchor\":\"y6\",\"domain\":[0.6866666666666665,0.9999999999999998],\"tickmode\":\"array\",\"tickvals\":[\"G_3492069\",\"C_3492070\",\"G_3492071\",\"G_3492072\",\"C_3492073\",\"G_3492074\",\"G_3492075\",\"C_3492076\",\"T_3492077\",\"T_3492078\",\"C_3492079\",\"T_3492080\",\"A_3492081\",\"C_3492082\",\"T_3492083\",\"C_3492084\",\"C_3492085\",\"G_3492086\",\"G_3492087\"],\"ticktext\":[\"G\",\"C\",\"G\",\"G\",\"C\",\"G\",\"G\",\"C\",\"T\",\"T\",\"C\",\"T\",\"A\",\"C\",\"T\",\"C\",\"C\",\"G\",\"G\"],\"tickangle\":0,\"mirror\":true},\"yaxis6\":{\"anchor\":\"x6\",\"domain\":[0.72,0.82],\"range\":[0,1],\"tickvals\":[0.0,0.2,0.4,0.6000000000000001,0.8],\"showticklabels\":false,\"mirror\":true},\"xaxis7\":{\"anchor\":\"y7\",\"domain\":[0.0,0.3133333333333333],\"tickmode\":\"array\",\"tickvals\":[\"C_3492037\",\"A_3492038\",\"A_3492039\",\"G_3492040\",\"A_3492041\",\"A_3492042\",\"T_3492043\",\"G_3492044\",\"C_3492045\",\"G_3492046\",\"G_3492047\",\"C_3492048\",\"C_3492049\",\"G_3492050\",\"T_3492051\",\"C_3492052\",\"A_3492053\",\"T_3492054\",\"G_3492055\"],\"ticktext\":[\"C\",\"A\",\"A\",\"G\",\"A\",\"A\",\"T\",\"G\",\"C\",\"G\",\"G\",\"C\",\"C\",\"G\",\"T\",\"C\",\"A\",\"T\",\"G\"],\"tickangle\":0,\"mirror\":true},\"yaxis7\":{\"anchor\":\"x7\",\"domain\":[0.54,0.64],\"tickvals\":[0.0,0.2,0.4,0.6000000000000001,0.8],\"range\":[0,1],\"mirror\":true},\"xaxis8\":{\"anchor\":\"y8\",\"domain\":[0.34333333333333327,0.6566666666666665],\"tickmode\":\"array\",\"tickvals\":[\"G_3492139\",\"T_3492138\",\"T_3492137\",\"C_3492136\",\"T_3492135\",\"C_3492134\",\"C_3492133\",\"T_3492132\",\"C_3492131\",\"C_3492130\",\"G_3492129\",\"A_3492128\",\"C_3492127\",\"G_3492126\",\"C_3492125\",\"A_3492124\",\"A_3492123\",\"G_3492122\",\"C_3492121\"],\"ticktext\":[\"G\",\"T\",\"T\",\"C\",\"T\",\"C\",\"C\",\"T\",\"C\",\"C\",\"G\",\"A\",\"C\",\"G\",\"C\",\"A\",\"A\",\"G\",\"C\"],\"tickangle\":0,\"mirror\":true},\"yaxis8\":{\"anchor\":\"x8\",\"domain\":[0.54,0.64],\"range\":[0,1],\"tickvals\":[0.0,0.2,0.4,0.6000000000000001,0.8],\"showticklabels\":false,\"mirror\":true},\"xaxis9\":{\"anchor\":\"y9\",\"domain\":[0.6866666666666665,0.9999999999999998],\"tickmode\":\"array\",\"tickvals\":[\"T_3492059\",\"G_3492060\",\"G_3492061\",\"A_3492062\",\"T_3492063\",\"C_3492064\",\"T_3492065\",\"T_3492066\",\"C_3492067\",\"G_3492068\",\"G_3492069\",\"C_3492070\",\"G_3492071\",\"G_3492072\",\"C_3492073\",\"G_3492074\",\"G_3492075\",\"C_3492076\"],\"ticktext\":[\"T\",\"G\",\"G\",\"A\",\"T\",\"C\",\"T\",\"T\",\"C\",\"G\",\"G\",\"C\",\"G\",\"G\",\"C\",\"G\",\"G\",\"C\"],\"tickangle\":0,\"mirror\":true},\"yaxis9\":{\"anchor\":\"x9\",\"domain\":[0.54,0.64],\"range\":[0,1],\"tickvals\":[0.0,0.2,0.4,0.6000000000000001,0.8],\"showticklabels\":false,\"mirror\":true},\"xaxis10\":{\"anchor\":\"y10\",\"domain\":[0.0,0.3133333333333333],\"tickmode\":\"array\",\"tickvals\":[\"A_3492006\",\"C_3492007\",\"A_3492008\",\"T_3492009\",\"T_3492010\",\"A_3492011\",\"A_3492012\",\"C_3492013\",\"G_3492014\",\"T_3492015\",\"G_3492016\",\"G_3492017\",\"T_3492018\",\"G_3492019\",\"G_3492020\",\"C_3492021\",\"A_3492022\",\"C_3492023\",\"C_3492024\",\"G_3492025\"],\"ticktext\":[\"A\",\"C\",\"A\",\"T\",\"T\",\"A\",\"A\",\"C\",\"G\",\"T\",\"G\",\"G\",\"T\",\"G\",\"G\",\"C\",\"A\",\"C\",\"C\",\"G\"],\"tickangle\":0,\"mirror\":true},\"yaxis10\":{\"anchor\":\"x10\",\"domain\":[0.36,0.45999999999999996],\"tickvals\":[0.0,0.2,0.4,0.6000000000000001,0.8],\"range\":[0,1],\"mirror\":true,\"title\":{\"text\":\"Alternate allele frequency\"}},\"xaxis11\":{\"anchor\":\"y11\",\"domain\":[0.34333333333333327,0.6566666666666665],\"tickmode\":\"array\",\"tickvals\":[\"C_3492117\",\"G_3492116\",\"G_3492115\",\"T_3492114\",\"G_3492113\",\"G_3492112\",\"T_3492111\",\"C_3492110\",\"G_3492109\",\"T_3492108\",\"A_3492107\",\"C_3492106\",\"A_3492105\",\"C_3492104\",\"G_3492103\",\"T_3492102\",\"C_3492101\",\"C_3492100\"],\"ticktext\":[\"C\",\"G\",\"G\",\"T\",\"G\",\"G\",\"T\",\"C\",\"G\",\"T\",\"A\",\"C\",\"A\",\"C\",\"G\",\"T\",\"C\",\"C\"],\"tickangle\":0,\"mirror\":true},\"yaxis11\":{\"anchor\":\"x11\",\"domain\":[0.36,0.45999999999999996],\"range\":[0,1],\"tickvals\":[0.0,0.2,0.4,0.6000000000000001,0.8],\"showticklabels\":false,\"mirror\":true},\"xaxis12\":{\"anchor\":\"y12\",\"domain\":[0.6866666666666665,0.9999999999999998],\"tickmode\":\"array\",\"tickvals\":[\"T_3492059\",\"G_3492060\",\"G_3492061\",\"A_3492062\",\"T_3492063\",\"C_3492064\",\"T_3492065\",\"T_3492066\",\"C_3492067\",\"G_3492068\",\"G_3492069\",\"C_3492070\",\"G_3492071\",\"G_3492072\",\"C_3492073\",\"G_3492074\",\"G_3492075\",\"C_3492076\"],\"ticktext\":[\"T\",\"G\",\"G\",\"A\",\"T\",\"C\",\"T\",\"T\",\"C\",\"G\",\"G\",\"C\",\"G\",\"G\",\"C\",\"G\",\"G\",\"C\"],\"tickangle\":0,\"mirror\":true},\"yaxis12\":{\"anchor\":\"x12\",\"domain\":[0.36,0.45999999999999996],\"range\":[0,1],\"tickvals\":[0.0,0.2,0.4,0.6000000000000001,0.8],\"showticklabels\":false,\"mirror\":true},\"xaxis13\":{\"anchor\":\"y13\",\"domain\":[0.0,0.3133333333333333],\"tickmode\":\"array\",\"tickvals\":[\"G_3492046\",\"G_3492047\",\"C_3492048\",\"C_3492049\",\"G_3492050\",\"T_3492051\",\"C_3492052\",\"A_3492053\",\"T_3492054\",\"G_3492055\",\"C_3492056\",\"T_3492057\",\"G_3492058\",\"T_3492059\",\"G_3492060\",\"G_3492061\",\"A_3492062\",\"T_3492063\"],\"ticktext\":[\"G\",\"G\",\"C\",\"C\",\"G\",\"T\",\"C\",\"A\",\"T\",\"G\",\"C\",\"T\",\"G\",\"T\",\"G\",\"G\",\"A\",\"T\"],\"tickangle\":0,\"mirror\":true},\"yaxis13\":{\"anchor\":\"x13\",\"domain\":[0.18,0.27999999999999997],\"tickvals\":[0.0,0.2,0.4,0.6000000000000001,0.8],\"range\":[0,1],\"mirror\":true},\"xaxis14\":{\"anchor\":\"y14\",\"domain\":[0.34333333333333327,0.6566666666666665],\"tickmode\":\"array\",\"tickvals\":[\"T_3492162\",\"A_3492161\",\"C_3492160\",\"T_3492159\",\"G_3492158\",\"C_3492157\",\"A_3492156\",\"G_3492155\",\"C_3492154\",\"G_3492153\",\"A_3492152\",\"C_3492151\",\"A_3492150\",\"C_3492149\",\"C_3492148\",\"A_3492147\",\"C_3492146\",\"G_3492145\",\"A_3492144\",\"T_3492143\"],\"ticktext\":[\"T\",\"A\",\"C\",\"T\",\"G\",\"C\",\"A\",\"G\",\"C\",\"G\",\"A\",\"C\",\"A\",\"C\",\"C\",\"A\",\"C\",\"G\",\"A\",\"T\"],\"tickangle\":0,\"mirror\":true},\"yaxis14\":{\"anchor\":\"x14\",\"domain\":[0.18,0.27999999999999997],\"range\":[0,1],\"tickvals\":[0.0,0.2,0.4,0.6000000000000001,0.8],\"showticklabels\":false,\"mirror\":true},\"xaxis15\":{\"anchor\":\"y15\",\"domain\":[0.6866666666666665,0.9999999999999998],\"tickmode\":\"array\",\"tickvals\":[\"G_3492069\",\"C_3492070\",\"G_3492071\",\"G_3492072\",\"C_3492073\",\"G_3492074\",\"G_3492075\",\"C_3492076\",\"T_3492077\",\"T_3492078\",\"C_3492079\",\"T_3492080\",\"A_3492081\",\"C_3492082\",\"T_3492083\",\"C_3492084\",\"C_3492085\",\"G_3492086\",\"G_3492087\"],\"ticktext\":[\"G\",\"C\",\"G\",\"G\",\"C\",\"G\",\"G\",\"C\",\"T\",\"T\",\"C\",\"T\",\"A\",\"C\",\"T\",\"C\",\"C\",\"G\",\"G\"],\"tickangle\":0,\"mirror\":true},\"yaxis15\":{\"anchor\":\"x15\",\"domain\":[0.18,0.27999999999999997],\"range\":[0,1],\"tickvals\":[0.0,0.2,0.4,0.6000000000000001,0.8],\"showticklabels\":false,\"mirror\":true},\"xaxis16\":{\"anchor\":\"y16\",\"domain\":[0.0,0.3133333333333333],\"tickmode\":\"array\",\"tickvals\":[\"C_3492056\",\"T_3492057\",\"G_3492058\",\"T_3492059\",\"G_3492060\",\"G_3492061\",\"A_3492062\",\"T_3492063\",\"C_3492064\",\"T_3492065\",\"T_3492066\",\"C_3492067\",\"G_3492068\",\"G_3492069\",\"C_3492070\",\"G_3492071\",\"G_3492072\",\"C_3492073\"],\"ticktext\":[\"C\",\"T\",\"G\",\"T\",\"G\",\"G\",\"A\",\"T\",\"C\",\"T\",\"T\",\"C\",\"G\",\"G\",\"C\",\"G\",\"G\",\"C\"],\"tickangle\":0,\"mirror\":true},\"yaxis16\":{\"anchor\":\"x16\",\"domain\":[0.0,0.09999999999999999],\"tickvals\":[0.0,0.2,0.4,0.6000000000000001,0.8],\"range\":[0,1],\"mirror\":true,\"title\":{\"text\":\"Alternate allele frequency\"}},\"xaxis17\":{\"anchor\":\"y17\",\"domain\":[0.34333333333333327,0.6566666666666665],\"tickmode\":\"array\",\"tickvals\":[\"A_3492156\",\"G_3492155\",\"C_3492154\",\"G_3492153\",\"A_3492152\",\"C_3492151\",\"A_3492150\",\"C_3492149\",\"C_3492148\",\"A_3492147\",\"C_3492146\",\"G_3492145\",\"A_3492144\",\"T_3492143\",\"C_3492142\",\"A_3492141\",\"C_3492140\",\"G_3492139\"],\"ticktext\":[\"A\",\"G\",\"C\",\"G\",\"A\",\"C\",\"A\",\"C\",\"C\",\"A\",\"C\",\"G\",\"A\",\"T\",\"C\",\"A\",\"C\",\"G\"],\"tickangle\":0,\"mirror\":true},\"yaxis17\":{\"anchor\":\"x17\",\"domain\":[0.0,0.09999999999999999],\"range\":[0,1],\"tickvals\":[0.0,0.2,0.4,0.6000000000000001,0.8],\"showticklabels\":false,\"mirror\":true},\"xaxis18\":{\"anchor\":\"y18\",\"domain\":[0.6866666666666665,0.9999999999999998],\"tickmode\":\"array\",\"tickvals\":[\"G_3492074\",\"G_3492075\",\"C_3492076\",\"T_3492077\",\"T_3492078\",\"C_3492079\",\"T_3492080\",\"A_3492081\",\"C_3492082\",\"T_3492083\",\"C_3492084\",\"C_3492085\",\"G_3492086\",\"G_3492087\",\"C_3492088\",\"A_3492089\"],\"ticktext\":[\"G\",\"G\",\"C\",\"T\",\"T\",\"C\",\"T\",\"A\",\"C\",\"T\",\"C\",\"C\",\"G\",\"G\",\"C\",\"A\"],\"tickangle\":0,\"mirror\":true},\"yaxis18\":{\"anchor\":\"x18\",\"domain\":[0.0,0.09999999999999999],\"range\":[0,1],\"tickvals\":[0.0,0.2,0.4,0.6000000000000001,0.8],\"showticklabels\":false,\"mirror\":true},\"annotations\":[{\"font\":{\"size\":13},\"showarrow\":false,\"text\":\"Forward primer 0\",\"x\":0.15666666666666665,\"xanchor\":\"center\",\"xref\":\"paper\",\"y\":0.9999999999999999,\"yanchor\":\"bottom\",\"yref\":\"paper\"},{\"font\":{\"size\":13},\"showarrow\":false,\"text\":\"Reverse primer 0\",\"x\":0.4999999999999999,\"xanchor\":\"center\",\"xref\":\"paper\",\"y\":0.9999999999999999,\"yanchor\":\"bottom\",\"yref\":\"paper\"},{\"font\":{\"size\":13},\"showarrow\":false,\"text\":\"Probe 0\",\"x\":0.8433333333333332,\"xanchor\":\"center\",\"xref\":\"paper\",\"y\":0.9999999999999999,\"yanchor\":\"bottom\",\"yref\":\"paper\"},{\"font\":{\"size\":13},\"showarrow\":false,\"text\":\"Forward primer 1\",\"x\":0.15666666666666665,\"xanchor\":\"center\",\"xref\":\"paper\",\"y\":0.82,\"yanchor\":\"bottom\",\"yref\":\"paper\"},{\"font\":{\"size\":13},\"showarrow\":false,\"text\":\"Reverse primer 1\",\"x\":0.4999999999999999,\"xanchor\":\"center\",\"xref\":\"paper\",\"y\":0.82,\"yanchor\":\"bottom\",\"yref\":\"paper\"},{\"font\":{\"size\":13},\"showarrow\":false,\"text\":\"Probe 1\",\"x\":0.8433333333333332,\"xanchor\":\"center\",\"xref\":\"paper\",\"y\":0.82,\"yanchor\":\"bottom\",\"yref\":\"paper\"},{\"font\":{\"size\":13},\"showarrow\":false,\"text\":\"Forward primer 2\",\"x\":0.15666666666666665,\"xanchor\":\"center\",\"xref\":\"paper\",\"y\":0.64,\"yanchor\":\"bottom\",\"yref\":\"paper\"},{\"font\":{\"size\":13},\"showarrow\":false,\"text\":\"Reverse primer 2\",\"x\":0.4999999999999999,\"xanchor\":\"center\",\"xref\":\"paper\",\"y\":0.64,\"yanchor\":\"bottom\",\"yref\":\"paper\"},{\"font\":{\"size\":13},\"showarrow\":false,\"text\":\"Probe 2\",\"x\":0.8433333333333332,\"xanchor\":\"center\",\"xref\":\"paper\",\"y\":0.64,\"yanchor\":\"bottom\",\"yref\":\"paper\"},{\"font\":{\"size\":13},\"showarrow\":false,\"text\":\"Forward primer 3\",\"x\":0.15666666666666665,\"xanchor\":\"center\",\"xref\":\"paper\",\"y\":0.45999999999999996,\"yanchor\":\"bottom\",\"yref\":\"paper\"},{\"font\":{\"size\":13},\"showarrow\":false,\"text\":\"Reverse primer 3\",\"x\":0.4999999999999999,\"xanchor\":\"center\",\"xref\":\"paper\",\"y\":0.45999999999999996,\"yanchor\":\"bottom\",\"yref\":\"paper\"},{\"font\":{\"size\":13},\"showarrow\":false,\"text\":\"Probe 3\",\"x\":0.8433333333333332,\"xanchor\":\"center\",\"xref\":\"paper\",\"y\":0.45999999999999996,\"yanchor\":\"bottom\",\"yref\":\"paper\"},{\"font\":{\"size\":13},\"showarrow\":false,\"text\":\"Forward primer 4\",\"x\":0.15666666666666665,\"xanchor\":\"center\",\"xref\":\"paper\",\"y\":0.27999999999999997,\"yanchor\":\"bottom\",\"yref\":\"paper\"},{\"font\":{\"size\":13},\"showarrow\":false,\"text\":\"Reverse primer 4\",\"x\":0.4999999999999999,\"xanchor\":\"center\",\"xref\":\"paper\",\"y\":0.27999999999999997,\"yanchor\":\"bottom\",\"yref\":\"paper\"},{\"font\":{\"size\":13},\"showarrow\":false,\"text\":\"Probe 4\",\"x\":0.8433333333333332,\"xanchor\":\"center\",\"xref\":\"paper\",\"y\":0.27999999999999997,\"yanchor\":\"bottom\",\"yref\":\"paper\"},{\"font\":{\"size\":13},\"showarrow\":false,\"text\":\"Forward primer 5\",\"x\":0.15666666666666665,\"xanchor\":\"center\",\"xref\":\"paper\",\"y\":0.09999999999999999,\"yanchor\":\"bottom\",\"yref\":\"paper\"},{\"font\":{\"size\":13},\"showarrow\":false,\"text\":\"Reverse primer 5\",\"x\":0.4999999999999999,\"xanchor\":\"center\",\"xref\":\"paper\",\"y\":0.09999999999999999,\"yanchor\":\"bottom\",\"yref\":\"paper\"},{\"font\":{\"size\":13},\"showarrow\":false,\"text\":\"Probe 5\",\"x\":0.8433333333333332,\"xanchor\":\"center\",\"xref\":\"paper\",\"y\":0.09999999999999999,\"yanchor\":\"bottom\",\"yref\":\"paper\"},{\"showarrow\":false,\"text\":\"5'\",\"x\":\"T_3492051\",\"xref\":\"x\",\"y\":0.8,\"yref\":\"y\"},{\"showarrow\":false,\"text\":\"3'\",\"x\":\"C_3492070\",\"xref\":\"x\",\"y\":0.8,\"yref\":\"y\"},{\"showarrow\":false,\"text\":\"3492051-3492070\",\"x\":\"G_3492055\",\"xref\":\"x\",\"y\":0.92,\"yref\":\"y\"},{\"showarrow\":false,\"text\":\"GC=55.0\",\"x\":\"C_3492064\",\"xref\":\"x\",\"y\":0.92,\"yref\":\"y\"},{\"showarrow\":false,\"text\":\"TM=60.46\",\"x\":\"G_3492068\",\"xref\":\"x\",\"y\":0.92,\"yref\":\"y\"},{\"showarrow\":false,\"text\":\"5'\",\"x\":\"G_3492047\",\"xref\":\"x4\",\"y\":0.8,\"yref\":\"y4\"},{\"showarrow\":false,\"text\":\"3'\",\"x\":\"T_3492066\",\"xref\":\"x4\",\"y\":0.8,\"yref\":\"y4\"},{\"showarrow\":false,\"text\":\"3492047-3492066\",\"x\":\"T_3492051\",\"xref\":\"x4\",\"y\":0.92,\"yref\":\"y4\"},{\"showarrow\":false,\"text\":\"GC=55.0\",\"x\":\"G_3492060\",\"xref\":\"x4\",\"y\":0.92,\"yref\":\"y4\"},{\"showarrow\":false,\"text\":\"TM=60.75\",\"x\":\"C_3492064\",\"xref\":\"x4\",\"y\":0.92,\"yref\":\"y4\"},{\"showarrow\":false,\"text\":\"5'\",\"x\":\"C_3492037\",\"xref\":\"x7\",\"y\":0.8,\"yref\":\"y7\"},{\"showarrow\":false,\"text\":\"3'\",\"x\":\"G_3492055\",\"xref\":\"x7\",\"y\":0.8,\"yref\":\"y7\"},{\"showarrow\":false,\"text\":\"3492037-3492055\",\"x\":\"A_3492041\",\"xref\":\"x7\",\"y\":0.92,\"yref\":\"y7\"},{\"showarrow\":false,\"text\":\"GC=57.89\",\"x\":\"C_3492049\",\"xref\":\"x7\",\"y\":0.92,\"yref\":\"y7\"},{\"showarrow\":false,\"text\":\"TM=59.94\",\"x\":\"A_3492053\",\"xref\":\"x7\",\"y\":0.92,\"yref\":\"y7\"},{\"showarrow\":false,\"text\":\"5'\",\"x\":\"A_3492006\",\"xref\":\"x10\",\"y\":0.8,\"yref\":\"y10\"},{\"showarrow\":false,\"text\":\"3'\",\"x\":\"G_3492025\",\"xref\":\"x10\",\"y\":0.8,\"yref\":\"y10\"},{\"showarrow\":false,\"text\":\"3492006-3492025\",\"x\":\"T_3492010\",\"xref\":\"x10\",\"y\":0.92,\"yref\":\"y10\"},{\"showarrow\":false,\"text\":\"GC=55.0\",\"x\":\"G_3492019\",\"xref\":\"x10\",\"y\":0.92,\"yref\":\"y10\"},{\"showarrow\":false,\"text\":\"TM=61.23\",\"x\":\"C_3492023\",\"xref\":\"x10\",\"y\":0.92,\"yref\":\"y10\"},{\"showarrow\":false,\"text\":\"5'\",\"x\":\"G_3492046\",\"xref\":\"x13\",\"y\":0.8,\"yref\":\"y13\"},{\"showarrow\":false,\"text\":\"3'\",\"x\":\"T_3492063\",\"xref\":\"x13\",\"y\":0.8,\"yref\":\"y13\"},{\"showarrow\":false,\"text\":\"3492046-3492063\",\"x\":\"G_3492050\",\"xref\":\"x13\",\"y\":0.92,\"yref\":\"y13\"},{\"showarrow\":false,\"text\":\"GC=61.11\",\"x\":\"T_3492057\",\"xref\":\"x13\",\"y\":0.92,\"yref\":\"y13\"},{\"showarrow\":false,\"text\":\"TM=60.12\",\"x\":\"G_3492061\",\"xref\":\"x13\",\"y\":0.92,\"yref\":\"y13\"},{\"showarrow\":false,\"text\":\"5'\",\"x\":\"C_3492056\",\"xref\":\"x16\",\"y\":0.8,\"yref\":\"y16\"},{\"showarrow\":false,\"text\":\"3'\",\"x\":\"C_3492073\",\"xref\":\"x16\",\"y\":0.8,\"yref\":\"y16\"},{\"showarrow\":false,\"text\":\"3492056-3492073\",\"x\":\"G_3492060\",\"xref\":\"x16\",\"y\":0.92,\"yref\":\"y16\"},{\"showarrow\":false,\"text\":\"GC=66.67\",\"x\":\"C_3492067\",\"xref\":\"x16\",\"y\":0.92,\"yref\":\"y16\"},{\"showarrow\":false,\"text\":\"TM=60.89\",\"x\":\"G_3492071\",\"xref\":\"x16\",\"y\":0.92,\"yref\":\"y16\"},{\"showarrow\":false,\"text\":\"5'\",\"x\":\"G_3492145\",\"xref\":\"x2\",\"y\":0.8,\"yref\":\"y2\"},{\"showarrow\":false,\"text\":\"3'\",\"x\":\"G_3492126\",\"xref\":\"x2\",\"y\":0.8,\"yref\":\"y2\"},{\"showarrow\":false,\"text\":\"3492126-3492145\",\"x\":\"A_3492141\",\"xref\":\"x2\",\"y\":0.92,\"yref\":\"y2\"},{\"showarrow\":false,\"text\":\"GC=60.0\",\"x\":\"T_3492132\",\"xref\":\"x2\",\"y\":0.92,\"yref\":\"y2\"},{\"showarrow\":false,\"text\":\"TM=60.25\",\"x\":\"A_3492128\",\"xref\":\"x2\",\"y\":0.92,\"yref\":\"y2\"},{\"showarrow\":false,\"text\":\"5'\",\"x\":\"G_3492112\",\"xref\":\"x5\",\"y\":0.8,\"yref\":\"y5\"},{\"showarrow\":false,\"text\":\"3'\",\"x\":\"G_3492094\",\"xref\":\"x5\",\"y\":0.8,\"yref\":\"y5\"},{\"showarrow\":false,\"text\":\"3492094-3492112\",\"x\":\"T_3492108\",\"xref\":\"x5\",\"y\":0.92,\"yref\":\"y5\"},{\"showarrow\":false,\"text\":\"GC=63.16\",\"x\":\"C_3492100\",\"xref\":\"x5\",\"y\":0.92,\"yref\":\"y5\"},{\"showarrow\":false,\"text\":\"TM=60.08\",\"x\":\"G_3492096\",\"xref\":\"x5\",\"y\":0.92,\"yref\":\"y5\"},{\"showarrow\":false,\"text\":\"5'\",\"x\":\"G_3492139\",\"xref\":\"x8\",\"y\":0.8,\"yref\":\"y8\"},{\"showarrow\":false,\"text\":\"3'\",\"x\":\"C_3492121\",\"xref\":\"x8\",\"y\":0.8,\"yref\":\"y8\"},{\"showarrow\":false,\"text\":\"3492121-3492139\",\"x\":\"T_3492135\",\"xref\":\"x8\",\"y\":0.92,\"yref\":\"y8\"},{\"showarrow\":false,\"text\":\"GC=63.16\",\"x\":\"C_3492127\",\"xref\":\"x8\",\"y\":0.92,\"yref\":\"y8\"},{\"showarrow\":false,\"text\":\"TM=61.1\",\"x\":\"A_3492123\",\"xref\":\"x8\",\"y\":0.92,\"yref\":\"y8\"},{\"showarrow\":false,\"text\":\"5'\",\"x\":\"C_3492117\",\"xref\":\"x11\",\"y\":0.8,\"yref\":\"y11\"},{\"showarrow\":false,\"text\":\"3'\",\"x\":\"C_3492100\",\"xref\":\"x11\",\"y\":0.8,\"yref\":\"y11\"},{\"showarrow\":false,\"text\":\"3492100-3492117\",\"x\":\"G_3492113\",\"xref\":\"x11\",\"y\":0.92,\"yref\":\"y11\"},{\"showarrow\":false,\"text\":\"GC=66.67\",\"x\":\"C_3492106\",\"xref\":\"x11\",\"y\":0.92,\"yref\":\"y11\"},{\"showarrow\":false,\"text\":\"TM=60.13\",\"x\":\"T_3492102\",\"xref\":\"x11\",\"y\":0.92,\"yref\":\"y11\"},{\"showarrow\":false,\"text\":\"5'\",\"x\":\"T_3492162\",\"xref\":\"x14\",\"y\":0.8,\"yref\":\"y14\"},{\"showarrow\":false,\"text\":\"3'\",\"x\":\"T_3492143\",\"xref\":\"x14\",\"y\":0.8,\"yref\":\"y14\"},{\"showarrow\":false,\"text\":\"3492143-3492162\",\"x\":\"G_3492158\",\"xref\":\"x14\",\"y\":0.92,\"yref\":\"y14\"},{\"showarrow\":false,\"text\":\"GC=55.0\",\"x\":\"C_3492149\",\"xref\":\"x14\",\"y\":0.92,\"yref\":\"y14\"},{\"showarrow\":false,\"text\":\"TM=61.87\",\"x\":\"G_3492145\",\"xref\":\"x14\",\"y\":0.92,\"yref\":\"y14\"},{\"showarrow\":false,\"text\":\"5'\",\"x\":\"A_3492156\",\"xref\":\"x17\",\"y\":0.8,\"yref\":\"y17\"},{\"showarrow\":false,\"text\":\"3'\",\"x\":\"G_3492139\",\"xref\":\"x17\",\"y\":0.8,\"yref\":\"y17\"},{\"showarrow\":false,\"text\":\"3492139-3492156\",\"x\":\"A_3492152\",\"xref\":\"x17\",\"y\":0.92,\"yref\":\"y17\"},{\"showarrow\":false,\"text\":\"GC=61.11\",\"x\":\"G_3492145\",\"xref\":\"x17\",\"y\":0.92,\"yref\":\"y17\"},{\"showarrow\":false,\"text\":\"TM=60.13\",\"x\":\"A_3492141\",\"xref\":\"x17\",\"y\":0.92,\"yref\":\"y17\"},{\"showarrow\":false,\"text\":\"5'\",\"x\":\"G_3492072\",\"xref\":\"x3\",\"y\":0.8,\"yref\":\"y3\"},{\"showarrow\":false,\"text\":\"3'\",\"x\":\"A_3492089\",\"xref\":\"x3\",\"y\":0.8,\"yref\":\"y3\"},{\"showarrow\":false,\"text\":\"3492072-3492089\",\"x\":\"C_3492076\",\"xref\":\"x3\",\"y\":0.92,\"yref\":\"y3\"},{\"showarrow\":false,\"text\":\"GC=66.67\",\"x\":\"T_3492083\",\"xref\":\"x3\",\"y\":0.92,\"yref\":\"y3\"},{\"showarrow\":false,\"text\":\"TM=56.45\",\"x\":\"G_3492087\",\"xref\":\"x3\",\"y\":0.92,\"yref\":\"y3\"},{\"showarrow\":false,\"text\":\"5'\",\"x\":\"G_3492069\",\"xref\":\"x6\",\"y\":0.8,\"yref\":\"y6\"},{\"showarrow\":false,\"text\":\"3'\",\"x\":\"G_3492087\",\"xref\":\"x6\",\"y\":0.8,\"yref\":\"y6\"},{\"showarrow\":false,\"text\":\"3492069-3492087\",\"x\":\"C_3492073\",\"xref\":\"x6\",\"y\":0.92,\"yref\":\"y6\"},{\"showarrow\":false,\"text\":\"GC=73.68\",\"x\":\"A_3492081\",\"xref\":\"x6\",\"y\":0.92,\"yref\":\"y6\"},{\"showarrow\":false,\"text\":\"TM=59.9\",\"x\":\"C_3492085\",\"xref\":\"x6\",\"y\":0.92,\"yref\":\"y6\"},{\"showarrow\":false,\"text\":\"5'\",\"x\":\"T_3492059\",\"xref\":\"x9\",\"y\":0.8,\"yref\":\"y9\"},{\"showarrow\":false,\"text\":\"3'\",\"x\":\"C_3492076\",\"xref\":\"x9\",\"y\":0.8,\"yref\":\"y9\"},{\"showarrow\":false,\"text\":\"3492059-3492076\",\"x\":\"T_3492063\",\"xref\":\"x9\",\"y\":0.92,\"yref\":\"y9\"},{\"showarrow\":false,\"text\":\"GC=72.22\",\"x\":\"C_3492070\",\"xref\":\"x9\",\"y\":0.92,\"yref\":\"y9\"},{\"showarrow\":false,\"text\":\"TM=59.81\",\"x\":\"G_3492074\",\"xref\":\"x9\",\"y\":0.92,\"yref\":\"y9\"},{\"showarrow\":false,\"text\":\"5'\",\"x\":\"T_3492059\",\"xref\":\"x12\",\"y\":0.8,\"yref\":\"y12\"},{\"showarrow\":false,\"text\":\"3'\",\"x\":\"C_3492076\",\"xref\":\"x12\",\"y\":0.8,\"yref\":\"y12\"},{\"showarrow\":false,\"text\":\"3492059-3492076\",\"x\":\"T_3492063\",\"xref\":\"x12\",\"y\":0.92,\"yref\":\"y12\"},{\"showarrow\":false,\"text\":\"GC=72.22\",\"x\":\"C_3492070\",\"xref\":\"x12\",\"y\":0.92,\"yref\":\"y12\"},{\"showarrow\":false,\"text\":\"TM=59.81\",\"x\":\"G_3492074\",\"xref\":\"x12\",\"y\":0.92,\"yref\":\"y12\"},{\"showarrow\":false,\"text\":\"5'\",\"x\":\"G_3492069\",\"xref\":\"x15\",\"y\":0.8,\"yref\":\"y15\"},{\"showarrow\":false,\"text\":\"3'\",\"x\":\"G_3492087\",\"xref\":\"x15\",\"y\":0.8,\"yref\":\"y15\"},{\"showarrow\":false,\"text\":\"3492069-3492087\",\"x\":\"C_3492073\",\"xref\":\"x15\",\"y\":0.92,\"yref\":\"y15\"},{\"showarrow\":false,\"text\":\"GC=73.68\",\"x\":\"A_3492081\",\"xref\":\"x15\",\"y\":0.92,\"yref\":\"y15\"},{\"showarrow\":false,\"text\":\"TM=59.9\",\"x\":\"C_3492085\",\"xref\":\"x15\",\"y\":0.92,\"yref\":\"y15\"},{\"showarrow\":false,\"text\":\"5'\",\"x\":\"G_3492074\",\"xref\":\"x18\",\"y\":0.8,\"yref\":\"y18\"},{\"showarrow\":false,\"text\":\"3'\",\"x\":\"A_3492089\",\"xref\":\"x18\",\"y\":0.8,\"yref\":\"y18\"},{\"showarrow\":false,\"text\":\"3492074-3492089\",\"x\":\"T_3492078\",\"xref\":\"x18\",\"y\":0.92,\"yref\":\"y18\"},{\"showarrow\":false,\"text\":\"GC=62.5\",\"x\":\"T_3492083\",\"xref\":\"x18\",\"y\":0.92,\"yref\":\"y18\"},{\"showarrow\":false,\"text\":\"TM=49.49\",\"x\":\"G_3492087\",\"xref\":\"x18\",\"y\":0.92,\"yref\":\"y18\"}],\"title\":{\"text\":\"ace1-280s primer pairs | AG1000G-GH | target 3492074 bp\",\"x\":0.5},\"height\":1200,\"width\":1500,\"showlegend\":false},                        {\"responsive\": true}                    ).then(function(){\n",
       "                            \n",
       "var gd = document.getElementById('bcc7892d-ba7e-4748-a7b4-6f2d41404270');\n",
       "var x = new MutationObserver(function (mutations, observer) {{\n",
       "        var display = window.getComputedStyle(gd).display;\n",
       "        if (!display || display === 'none') {{\n",
       "            console.log([gd, 'removed!']);\n",
       "            Plotly.purge(gd);\n",
       "            observer.disconnect();\n",
       "        }}\n",
       "}});\n",
       "\n",
       "// Listen for the removal of the full notebook cells\n",
       "var notebookContainer = gd.closest('#notebook-container');\n",
       "if (notebookContainer) {{\n",
       "    x.observe(notebookContainer, {childList: true});\n",
       "}}\n",
       "\n",
       "// Listen for the clearing of the current output cell\n",
       "var outputEl = gd.closest('.output');\n",
       "if (outputEl) {{\n",
       "    x.observe(outputEl, {childList: true});\n",
       "}}\n",
       "\n",
       "                        })                };                });            </script>        </div>"
      ]
     },
     "metadata": {},
     "output_type": "display_data"
    }
   ],
   "source": [
    "results_dict = AgamPrimer.plot_primer_ag3_frequencies(primer_df=primer_df,\n",
    "                                                gdna_pos=gdna_pos,\n",
    "                                                contig=contig,\n",
    "                                                sample_set=sample_set, \n",
    "                                                sample_query=sample_query,\n",
    "                                                assay_type=assay_type,\n",
    "                                                seq_parameters=seq_parameters,\n",
    "                                                save=True)"
   ]
  },
  {
   "cell_type": "markdown",
   "id": "aCVuE1CiAR4h",
   "metadata": {
    "id": "aCVuE1CiAR4h"
   },
   "source": [
    "Now lets plot these primer pairs across the genome, highlighting where they are in relation to any nearby exons..."
   ]
  },
  {
   "cell_type": "code",
   "execution_count": 84,
   "id": "cAacbw-q8Sgm",
   "metadata": {
    "colab": {
     "base_uri": "https://localhost:8080/",
     "height": 302
    },
    "id": "cAacbw-q8Sgm",
    "outputId": "879684f4-91eb-4e59-e8d1-e31c8397b0ba"
   },
   "outputs": [
    {
     "name": "stderr",
     "output_type": "stream",
     "text": [
      "Thu Sep  1 14:19:25 2022 DEBUG geneset: handle region\n"
     ]
    },
    {
     "data": {
      "image/png": "[encoded data removed]",
      "text/plain": [
       "<Figure size 1152x288 with 1 Axes>"
      ]
     },
     "metadata": {
      "image/png": {
       "height": 269,
       "width": 927
      },
      "needs_background": "light"
     },
     "output_type": "display_data"
    }
   ],
   "source": [
    "AgamPrimer.plot_primer_locs(primer_res_dict=results_dict, primer_df=primer_df, assay_type=assay_type, gff=ag3.geneset(), contig=contig, seq_parameters=seq_parameters, legend_loc='lower left')"
   ]
  },
  {
   "cell_type": "markdown",
   "id": "-aIy4IyoBc7-",
   "metadata": {
    "id": "-aIy4IyoBc7-"
   },
   "source": [
    "### **Checking our primers for specificity to the *Anopheles gambiae* genome**\n",
    "\n",
    "We can use a cool new python package, [gget](https://github.com/pachterlab/gget), to rapidly search our primers against the AgamP3 genome, to ensure they will not amplify any other regions of the genome. gget rapidly queries large databases - in this case we can use the program BLAT to align primer sequences. Unfortunately as the lengths of primer sequences are so short, it is at the limit of BLATs sensitivity, and in some cases, matches are not returned. gget can also currently only query the older AgamP3 assembly. Therefore, it is also recommended run a more exhaustive search in [Primer-BLAST](https://www.ncbi.nlm.nih.gov/tools/primer-blast/)."
   ]
  },
  {
   "cell_type": "code",
   "execution_count": 85,
   "id": "f9fedfe4",
   "metadata": {},
   "outputs": [
    {
     "name": "stderr",
     "output_type": "stream",
     "text": [
      "Thu Sep  1 14:21:27 2022 INFO No DNA BLAT matches were found for this sequence in genome anoGam3.\n"
     ]
    },
    {
     "name": "stdout",
     "output_type": "stream",
     "text": [
      "No hit for probe - pair 0\n"
     ]
    },
    {
     "name": "stderr",
     "output_type": "stream",
     "text": [
      "Thu Sep  1 14:21:31 2022 INFO No DNA BLAT matches were found for this sequence in genome anoGam3.\n"
     ]
    },
    {
     "name": "stdout",
     "output_type": "stream",
     "text": [
      "No hit for forward - pair 2\n"
     ]
    },
    {
     "name": "stderr",
     "output_type": "stream",
     "text": [
      "Thu Sep  1 14:21:42 2022 ERROR \n",
      "            BLAT of seqtype 'DNA' using assembly 'anoGam3' was unsuccesful. \n",
      "            Possible causes: \n",
      "            - Sequence possibly too short (required minimum: 20 characters). \n",
      "            - Assembly possibly invalid. All available species with their respective assemblies are listed at https://genome.ucsc.edu/cgi-bin/hgBlat.\n",
      "            \n"
     ]
    },
    {
     "name": "stdout",
     "output_type": "stream",
     "text": [
      "No hit for probe - pair 5\n"
     ]
    },
    {
     "data": {
      "text/html": [
       "<div>\n",
       "<style scoped>\n",
       "    .dataframe tbody tr th:only-of-type {\n",
       "        vertical-align: middle;\n",
       "    }\n",
       "\n",
       "    .dataframe tbody tr th {\n",
       "        vertical-align: top;\n",
       "    }\n",
       "\n",
       "    .dataframe thead th {\n",
       "        text-align: right;\n",
       "    }\n",
       "</style>\n",
       "<table border=\"1\" class=\"dataframe\">\n",
       "  <thead>\n",
       "    <tr style=\"text-align: right;\">\n",
       "      <th></th>\n",
       "      <th></th>\n",
       "      <th>genome</th>\n",
       "      <th>query_size</th>\n",
       "      <th>aligned_start</th>\n",
       "      <th>aligned_end</th>\n",
       "      <th>matches</th>\n",
       "      <th>mismatches</th>\n",
       "      <th>%_aligned</th>\n",
       "      <th>%_matched</th>\n",
       "      <th>chromosome</th>\n",
       "      <th>strand</th>\n",
       "      <th>start</th>\n",
       "      <th>end</th>\n",
       "    </tr>\n",
       "    <tr>\n",
       "      <th></th>\n",
       "      <th>primer</th>\n",
       "      <th></th>\n",
       "      <th></th>\n",
       "      <th></th>\n",
       "      <th></th>\n",
       "      <th></th>\n",
       "      <th></th>\n",
       "      <th></th>\n",
       "      <th></th>\n",
       "      <th></th>\n",
       "      <th></th>\n",
       "      <th></th>\n",
       "      <th></th>\n",
       "    </tr>\n",
       "  </thead>\n",
       "  <tbody>\n",
       "    <tr>\n",
       "      <th rowspan=\"2\" valign=\"top\">0</th>\n",
       "      <th>forward_0</th>\n",
       "      <td>anoGam3</td>\n",
       "      <td>20</td>\n",
       "      <td>1</td>\n",
       "      <td>20</td>\n",
       "      <td>20</td>\n",
       "      <td>0</td>\n",
       "      <td>100.0</td>\n",
       "      <td>100.0</td>\n",
       "      <td>chr2R</td>\n",
       "      <td>+</td>\n",
       "      <td>3492051</td>\n",
       "      <td>3492070</td>\n",
       "    </tr>\n",
       "    <tr>\n",
       "      <th>reverse_0</th>\n",
       "      <td>anoGam3</td>\n",
       "      <td>20</td>\n",
       "      <td>1</td>\n",
       "      <td>20</td>\n",
       "      <td>20</td>\n",
       "      <td>0</td>\n",
       "      <td>100.0</td>\n",
       "      <td>100.0</td>\n",
       "      <td>chr2R</td>\n",
       "      <td>-</td>\n",
       "      <td>3492126</td>\n",
       "      <td>3492145</td>\n",
       "    </tr>\n",
       "    <tr>\n",
       "      <th rowspan=\"3\" valign=\"top\">1</th>\n",
       "      <th>forward_1</th>\n",
       "      <td>anoGam3</td>\n",
       "      <td>20</td>\n",
       "      <td>1</td>\n",
       "      <td>20</td>\n",
       "      <td>20</td>\n",
       "      <td>0</td>\n",
       "      <td>100.0</td>\n",
       "      <td>100.0</td>\n",
       "      <td>chr2R</td>\n",
       "      <td>+</td>\n",
       "      <td>3492047</td>\n",
       "      <td>3492066</td>\n",
       "    </tr>\n",
       "    <tr>\n",
       "      <th>reverse_1</th>\n",
       "      <td>anoGam3</td>\n",
       "      <td>19</td>\n",
       "      <td>1</td>\n",
       "      <td>19</td>\n",
       "      <td>19</td>\n",
       "      <td>0</td>\n",
       "      <td>100.0</td>\n",
       "      <td>100.0</td>\n",
       "      <td>chr2R</td>\n",
       "      <td>-</td>\n",
       "      <td>3492094</td>\n",
       "      <td>3492112</td>\n",
       "    </tr>\n",
       "    <tr>\n",
       "      <th>probe_1</th>\n",
       "      <td>anoGam3</td>\n",
       "      <td>19</td>\n",
       "      <td>1</td>\n",
       "      <td>19</td>\n",
       "      <td>19</td>\n",
       "      <td>0</td>\n",
       "      <td>100.0</td>\n",
       "      <td>100.0</td>\n",
       "      <td>chr2R</td>\n",
       "      <td>+</td>\n",
       "      <td>3492069</td>\n",
       "      <td>3492087</td>\n",
       "    </tr>\n",
       "    <tr>\n",
       "      <th rowspan=\"2\" valign=\"top\">2</th>\n",
       "      <th>reverse_2</th>\n",
       "      <td>anoGam3</td>\n",
       "      <td>19</td>\n",
       "      <td>1</td>\n",
       "      <td>19</td>\n",
       "      <td>19</td>\n",
       "      <td>0</td>\n",
       "      <td>100.0</td>\n",
       "      <td>100.0</td>\n",
       "      <td>chr2R</td>\n",
       "      <td>-</td>\n",
       "      <td>3492121</td>\n",
       "      <td>3492139</td>\n",
       "    </tr>\n",
       "    <tr>\n",
       "      <th>probe_2</th>\n",
       "      <td>anoGam3</td>\n",
       "      <td>18</td>\n",
       "      <td>1</td>\n",
       "      <td>18</td>\n",
       "      <td>18</td>\n",
       "      <td>0</td>\n",
       "      <td>100.0</td>\n",
       "      <td>100.0</td>\n",
       "      <td>chr2R</td>\n",
       "      <td>+</td>\n",
       "      <td>3492059</td>\n",
       "      <td>3492076</td>\n",
       "    </tr>\n",
       "    <tr>\n",
       "      <th rowspan=\"3\" valign=\"top\">3</th>\n",
       "      <th>forward_3</th>\n",
       "      <td>anoGam3</td>\n",
       "      <td>20</td>\n",
       "      <td>1</td>\n",
       "      <td>20</td>\n",
       "      <td>20</td>\n",
       "      <td>0</td>\n",
       "      <td>100.0</td>\n",
       "      <td>100.0</td>\n",
       "      <td>chr2R</td>\n",
       "      <td>+</td>\n",
       "      <td>3492006</td>\n",
       "      <td>3492025</td>\n",
       "    </tr>\n",
       "    <tr>\n",
       "      <th>reverse_3</th>\n",
       "      <td>anoGam3</td>\n",
       "      <td>18</td>\n",
       "      <td>1</td>\n",
       "      <td>18</td>\n",
       "      <td>18</td>\n",
       "      <td>0</td>\n",
       "      <td>100.0</td>\n",
       "      <td>100.0</td>\n",
       "      <td>chr2R</td>\n",
       "      <td>-</td>\n",
       "      <td>3492100</td>\n",
       "      <td>3492117</td>\n",
       "    </tr>\n",
       "    <tr>\n",
       "      <th>probe_3</th>\n",
       "      <td>anoGam3</td>\n",
       "      <td>18</td>\n",
       "      <td>1</td>\n",
       "      <td>18</td>\n",
       "      <td>18</td>\n",
       "      <td>0</td>\n",
       "      <td>100.0</td>\n",
       "      <td>100.0</td>\n",
       "      <td>chr2R</td>\n",
       "      <td>+</td>\n",
       "      <td>3492059</td>\n",
       "      <td>3492076</td>\n",
       "    </tr>\n",
       "    <tr>\n",
       "      <th rowspan=\"3\" valign=\"top\">4</th>\n",
       "      <th>forward_4</th>\n",
       "      <td>anoGam3</td>\n",
       "      <td>18</td>\n",
       "      <td>1</td>\n",
       "      <td>18</td>\n",
       "      <td>18</td>\n",
       "      <td>0</td>\n",
       "      <td>100.0</td>\n",
       "      <td>100.0</td>\n",
       "      <td>chr2R</td>\n",
       "      <td>+</td>\n",
       "      <td>3492046</td>\n",
       "      <td>3492063</td>\n",
       "    </tr>\n",
       "    <tr>\n",
       "      <th>reverse_4</th>\n",
       "      <td>anoGam3</td>\n",
       "      <td>20</td>\n",
       "      <td>1</td>\n",
       "      <td>20</td>\n",
       "      <td>20</td>\n",
       "      <td>0</td>\n",
       "      <td>100.0</td>\n",
       "      <td>100.0</td>\n",
       "      <td>chr2R</td>\n",
       "      <td>-</td>\n",
       "      <td>3492143</td>\n",
       "      <td>3492162</td>\n",
       "    </tr>\n",
       "    <tr>\n",
       "      <th>probe_4</th>\n",
       "      <td>anoGam3</td>\n",
       "      <td>19</td>\n",
       "      <td>1</td>\n",
       "      <td>19</td>\n",
       "      <td>19</td>\n",
       "      <td>0</td>\n",
       "      <td>100.0</td>\n",
       "      <td>100.0</td>\n",
       "      <td>chr2R</td>\n",
       "      <td>+</td>\n",
       "      <td>3492069</td>\n",
       "      <td>3492087</td>\n",
       "    </tr>\n",
       "    <tr>\n",
       "      <th rowspan=\"2\" valign=\"top\">5</th>\n",
       "      <th>forward_5</th>\n",
       "      <td>anoGam3</td>\n",
       "      <td>18</td>\n",
       "      <td>1</td>\n",
       "      <td>18</td>\n",
       "      <td>18</td>\n",
       "      <td>0</td>\n",
       "      <td>100.0</td>\n",
       "      <td>100.0</td>\n",
       "      <td>chr2R</td>\n",
       "      <td>+</td>\n",
       "      <td>3492056</td>\n",
       "      <td>3492073</td>\n",
       "    </tr>\n",
       "    <tr>\n",
       "      <th>reverse_5</th>\n",
       "      <td>anoGam3</td>\n",
       "      <td>18</td>\n",
       "      <td>1</td>\n",
       "      <td>18</td>\n",
       "      <td>18</td>\n",
       "      <td>0</td>\n",
       "      <td>100.0</td>\n",
       "      <td>100.0</td>\n",
       "      <td>chr2R</td>\n",
       "      <td>-</td>\n",
       "      <td>3492139</td>\n",
       "      <td>3492156</td>\n",
       "    </tr>\n",
       "  </tbody>\n",
       "</table>\n",
       "</div>"
      ],
      "text/plain": [
       "              genome  query_size  aligned_start  aligned_end  matches  \\\n",
       "  primer                                                                \n",
       "0 forward_0  anoGam3          20              1           20       20   \n",
       "  reverse_0  anoGam3          20              1           20       20   \n",
       "1 forward_1  anoGam3          20              1           20       20   \n",
       "  reverse_1  anoGam3          19              1           19       19   \n",
       "  probe_1    anoGam3          19              1           19       19   \n",
       "2 reverse_2  anoGam3          19              1           19       19   \n",
       "  probe_2    anoGam3          18              1           18       18   \n",
       "3 forward_3  anoGam3          20              1           20       20   \n",
       "  reverse_3  anoGam3          18              1           18       18   \n",
       "  probe_3    anoGam3          18              1           18       18   \n",
       "4 forward_4  anoGam3          18              1           18       18   \n",
       "  reverse_4  anoGam3          20              1           20       20   \n",
       "  probe_4    anoGam3          19              1           19       19   \n",
       "5 forward_5  anoGam3          18              1           18       18   \n",
       "  reverse_5  anoGam3          18              1           18       18   \n",
       "\n",
       "             mismatches  %_aligned  %_matched chromosome strand    start  \\\n",
       "  primer                                                                   \n",
       "0 forward_0           0      100.0      100.0      chr2R      +  3492051   \n",
       "  reverse_0           0      100.0      100.0      chr2R      -  3492126   \n",
       "1 forward_1           0      100.0      100.0      chr2R      +  3492047   \n",
       "  reverse_1           0      100.0      100.0      chr2R      -  3492094   \n",
       "  probe_1             0      100.0      100.0      chr2R      +  3492069   \n",
       "2 reverse_2           0      100.0      100.0      chr2R      -  3492121   \n",
       "  probe_2             0      100.0      100.0      chr2R      +  3492059   \n",
       "3 forward_3           0      100.0      100.0      chr2R      +  3492006   \n",
       "  reverse_3           0      100.0      100.0      chr2R      -  3492100   \n",
       "  probe_3             0      100.0      100.0      chr2R      +  3492059   \n",
       "4 forward_4           0      100.0      100.0      chr2R      +  3492046   \n",
       "  reverse_4           0      100.0      100.0      chr2R      -  3492143   \n",
       "  probe_4             0      100.0      100.0      chr2R      +  3492069   \n",
       "5 forward_5           0      100.0      100.0      chr2R      +  3492056   \n",
       "  reverse_5           0      100.0      100.0      chr2R      -  3492139   \n",
       "\n",
       "                 end  \n",
       "  primer              \n",
       "0 forward_0  3492070  \n",
       "  reverse_0  3492145  \n",
       "1 forward_1  3492066  \n",
       "  reverse_1  3492112  \n",
       "  probe_1    3492087  \n",
       "2 reverse_2  3492139  \n",
       "  probe_2    3492076  \n",
       "3 forward_3  3492025  \n",
       "  reverse_3  3492117  \n",
       "  probe_3    3492076  \n",
       "4 forward_4  3492063  \n",
       "  reverse_4  3492162  \n",
       "  probe_4    3492087  \n",
       "5 forward_5  3492073  \n",
       "  reverse_5  3492156  "
      ]
     },
     "execution_count": 85,
     "metadata": {},
     "output_type": "execute_result"
    }
   ],
   "source": [
    "blat_result_df = AgamPrimer.gget_blat_genome(primer_df, assay_type, assembly='anoGam3')\n",
    "blat_result_df"
   ]
  },
  {
   "cell_type": "markdown",
   "id": "1f7ca79e",
   "metadata": {
    "id": "g4r9sQectXxx"
   },
   "source": [
    "#### **We may now have designed suitable primers. However, there are some further considerations...**\n",
    "\n",
    "\n",
    "- Primers should be run in [**Primer-BLAST**](https://www.ncbi.nlm.nih.gov/tools/primer-blast/), to ensure specificity against the host organism, and specificity for the genomic location of interest.\n",
    "\n",
    "- If in multiplexed use with other primers or probes, primers must not interact with each other. This can be investigated on a one by one basis using the IDT tool [oligoanalyzer](https://eu.idtdna.com/calc/analyzer), though higher throughput algorithms may be required.\n",
    "\n",
    "- If designing Locked Nucleic Acid (LNA) probes for SNP detection, you will want to play around with the placement of LNAs in the oligo sequence, which can allow short probes (~10-14 bases) to bind with high affinity and discriminate between SNPs. IDT have a tool for this which allow you to check the binding affinity between mismatches, though it requires a log in https://eu.idtdna.com/calc/analyzer/lna. \n",
    "\n",
    "- Many more considerations.... [IDT - How to design primers and probes for PCR and qPCR](https://eu.idtdna.com/pages/education/decoded/article/designing-pcr-primers-and-probes)   \n",
    "\n",
    "---"
   ]
  },
  {
   "cell_type": "markdown",
   "id": "86c29277",
   "metadata": {},
   "source": [
    "### Well done!!\n",
    "\n",
    "Well done on completing the notebook and hopefully designing sets of SNP-variation informed primers!\n",
    "\n",
    "---\n",
    "\n",
    "### Exercises\n",
    "\n",
    "For the exercises, you may wish to open the [AgamPrimer notebook](https://colab.research.google.com/github/sanjaynagi/AgamPrimer/blob/main/Primer-Design-in-Anopheles-gambiae.ipynb) rather than re-run this one.\n",
    "\n",
    "**1)** Design a set of qPCR primers for the Cytochrome P450 gene, CYP9K1 (AGAP000818), restricting the samples to just *Anopheles coluzzii*.\n",
    "\n",
    "**2)** Design a set of primers and a probe for the *vgsc*-995F *kdr* mutation (contig = 2L, genome bp = 2422652)\n",
    "\n",
    "**3)** Use the batch mode of AgamPrimer (link) to design a set of primers for multiple loci.\n",
    "\n",
    "---\n",
    "### **Future development**\n",
    "\n",
    "Any contributions or suggestions on how we can improve this notebook are more than welcome. Please [email](mailto:sanjay.nagi@lstmed.ac.uk) or log an [issue on github](https://github.com/sanjaynagi/primerDesignAg/issues). This notebook and source code for AgamPrimer are located here - https://github.com/sanjaynagi/AgamPrimer/    \n",
    "\n",
    "---\n",
    "\n",
    "\n",
    "### **References**\n",
    "\n",
    "[1] Lefever S, Pattyn F, et al. (2013) **Single-nucleotide polymorphisms and other mismatches reduce performance of quantitative PCR assays. Single-nucleotide polymorphisms and other mismatches reduce performance of quantitative PCR assays**. Clin Chem, 59(10):1470–1480.\n",
    "\n",
    "[2] Owczarzy R, Tataurov AV, et al. (2008) **IDT SciTools: a suite for analysis and design of nucleic acid oligomers**. Nucl Acids Res, 36 (suppl 2):W163–169.\n",
    "\n",
    "[3] The Anopheles gambiae 1000 Genomes Consortium (2020). **Genome variation and population structure among 1142 mosquitoes of the African malaria vector species *Anopheles gambiae* and *Anopheles coluzzii***. *Genome Research*, **30**: 1533-1546. \n",
    "https://genome.cshlp.org/content/early/2020/09/25/gr.262790.120\n",
    "\n",
    "[4] Untergasser A, Cutcutache I, Koressaar T, Ye J, Faircloth BC, Remm M and Rozen SG (2012). **Primer3--new capabilities and interfaces**. *Nucleic Acids Research*. 40(15):e115.\n",
    "\n",
    "[5] Ye, J., Coulouris, G., Zaretskaya, I. et al. **Primer-BLAST: A tool to design target-specific primers for polymerase chain reaction**. BMC Bioinformatics 13, 134 (2012). https://doi.org/10.1186/1471-2105-13-134"
   ]
  },
  {
   "cell_type": "code",
   "execution_count": null,
   "id": "0be05d58",
   "metadata": {},
   "outputs": [],
   "source": []
  }
 ],
 "metadata": {
  "colab": {
   "include_colab_link": true,
   "name": "Primer Design in Anopheles gambiae.ipynb",
   "provenance": []
  },
  "kernelspec": {
   "display_name": "Python 3 (ipykernel)",
   "language": "python",
   "name": "python3"
  },
  "language_info": {
   "codemirror_mode": {
    "name": "ipython",
    "version": 3
   },
   "file_extension": ".py",
   "mimetype": "text/x-python",
   "name": "python",
   "nbconvert_exporter": "python",
   "pygments_lexer": "ipython3",
   "version": "3.7.12"
  },
  "vscode": {
   "interpreter": {
    "hash": "710100144729ec1057471750b60f3250df4296be7eb29e7e87fec32ed718ec4b"
   }
  },
  "widgets": {
   "application/vnd.jupyter.widget-state+json": {
    "2db4d9dd91a24e32b80d870e9869339a": {
     "model_module": "@jupyter-widgets/base",
     "model_module_version": "1.2.0",
     "model_name": "LayoutModel",
     "state": {
      "_model_module": "@jupyter-widgets/base",
      "_model_module_version": "1.2.0",
      "_model_name": "LayoutModel",
      "_view_count": null,
      "_view_module": "@jupyter-widgets/base",
      "_view_module_version": "1.2.0",
      "_view_name": "LayoutView",
      "align_content": null,
      "align_items": null,
      "align_self": null,
      "border": null,
      "bottom": null,
      "display": null,
      "flex": null,
      "flex_flow": null,
      "grid_area": null,
      "grid_auto_columns": null,
      "grid_auto_flow": null,
      "grid_auto_rows": null,
      "grid_column": null,
      "grid_gap": null,
      "grid_row": null,
      "grid_template_areas": null,
      "grid_template_columns": null,
      "grid_template_rows": null,
      "height": null,
      "justify_content": null,
      "justify_items": null,
      "left": null,
      "margin": null,
      "max_height": null,
      "max_width": null,
      "min_height": null,
      "min_width": null,
      "object_fit": null,
      "object_position": null,
      "order": null,
      "overflow": null,
      "overflow_x": null,
      "overflow_y": null,
      "padding": null,
      "right": null,
      "top": null,
      "visibility": null,
      "width": null
     }
    },
    "4546f79977e24400806287bebf4efca0": {
     "model_module": "@jupyter-widgets/base",
     "model_module_version": "1.2.0",
     "model_name": "LayoutModel",
     "state": {
      "_model_module": "@jupyter-widgets/base",
      "_model_module_version": "1.2.0",
      "_model_name": "LayoutModel",
      "_view_count": null,
      "_view_module": "@jupyter-widgets/base",
      "_view_module_version": "1.2.0",
      "_view_name": "LayoutView",
      "align_content": null,
      "align_items": null,
      "align_self": null,
      "border": null,
      "bottom": null,
      "display": null,
      "flex": null,
      "flex_flow": null,
      "grid_area": null,
      "grid_auto_columns": null,
      "grid_auto_flow": null,
      "grid_auto_rows": null,
      "grid_column": null,
      "grid_gap": null,
      "grid_row": null,
      "grid_template_areas": null,
      "grid_template_columns": null,
      "grid_template_rows": null,
      "height": null,
      "justify_content": null,
      "justify_items": null,
      "left": null,
      "margin": null,
      "max_height": null,
      "max_width": null,
      "min_height": null,
      "min_width": null,
      "object_fit": null,
      "object_position": null,
      "order": null,
      "overflow": null,
      "overflow_x": null,
      "overflow_y": null,
      "padding": null,
      "right": null,
      "top": null,
      "visibility": null,
      "width": null
     }
    },
    "506dbb25d1f743ee80033d6f98dabc3b": {
     "model_module": "@jupyter-widgets/controls",
     "model_module_version": "1.5.0",
     "model_name": "HTMLModel",
     "state": {
      "_dom_classes": [],
      "_model_module": "@jupyter-widgets/controls",
      "_model_module_version": "1.5.0",
      "_model_name": "HTMLModel",
      "_view_count": null,
      "_view_module": "@jupyter-widgets/controls",
      "_view_module_version": "1.5.0",
      "_view_name": "HTMLView",
      "description": "",
      "description_tooltip": null,
      "layout": "IPY_MODEL_2db4d9dd91a24e32b80d870e9869339a",
      "placeholder": "​",
      "style": "IPY_MODEL_cbf3c833b87d4f51b10aa6f09d53d5d1",
      "value": "Load sample metadata: 100%"
     }
    },
    "5a98a29b6ecf41f09fee8d7aebf3132e": {
     "model_module": "@jupyter-widgets/controls",
     "model_module_version": "1.5.0",
     "model_name": "FloatProgressModel",
     "state": {
      "_dom_classes": [],
      "_model_module": "@jupyter-widgets/controls",
      "_model_module_version": "1.5.0",
      "_model_name": "FloatProgressModel",
      "_view_count": null,
      "_view_module": "@jupyter-widgets/controls",
      "_view_module_version": "1.5.0",
      "_view_name": "ProgressView",
      "bar_style": "success",
      "description": "",
      "description_tooltip": null,
      "layout": "IPY_MODEL_a60370f9435b42ab8b5d794ce32c2fa2",
      "max": 28,
      "min": 0,
      "orientation": "horizontal",
      "style": "IPY_MODEL_cc3c6714c3ab435ca820f8081878dc3f",
      "value": 28
     }
    },
    "743f1f0ae54f4f4aa4994c96a523625c": {
     "model_module": "@jupyter-widgets/controls",
     "model_module_version": "1.5.0",
     "model_name": "HTMLModel",
     "state": {
      "_dom_classes": [],
      "_model_module": "@jupyter-widgets/controls",
      "_model_module_version": "1.5.0",
      "_model_name": "HTMLModel",
      "_view_count": null,
      "_view_module": "@jupyter-widgets/controls",
      "_view_module_version": "1.5.0",
      "_view_name": "HTMLView",
      "description": "",
      "description_tooltip": null,
      "layout": "IPY_MODEL_4546f79977e24400806287bebf4efca0",
      "placeholder": "​",
      "style": "IPY_MODEL_b913e8c4b6ca4c129949878e1b832774",
      "value": " 28/28 [00:43&lt;00:00,  1.37s/it]"
     }
    },
    "792f088bb26346baa2f17f4cfcafe0ea": {
     "model_module": "@jupyter-widgets/base",
     "model_module_version": "1.2.0",
     "model_name": "LayoutModel",
     "state": {
      "_model_module": "@jupyter-widgets/base",
      "_model_module_version": "1.2.0",
      "_model_name": "LayoutModel",
      "_view_count": null,
      "_view_module": "@jupyter-widgets/base",
      "_view_module_version": "1.2.0",
      "_view_name": "LayoutView",
      "align_content": null,
      "align_items": null,
      "align_self": null,
      "border": null,
      "bottom": null,
      "display": null,
      "flex": null,
      "flex_flow": null,
      "grid_area": null,
      "grid_auto_columns": null,
      "grid_auto_flow": null,
      "grid_auto_rows": null,
      "grid_column": null,
      "grid_gap": null,
      "grid_row": null,
      "grid_template_areas": null,
      "grid_template_columns": null,
      "grid_template_rows": null,
      "height": null,
      "justify_content": null,
      "justify_items": null,
      "left": null,
      "margin": null,
      "max_height": null,
      "max_width": null,
      "min_height": null,
      "min_width": null,
      "object_fit": null,
      "object_position": null,
      "order": null,
      "overflow": null,
      "overflow_x": null,
      "overflow_y": null,
      "padding": null,
      "right": null,
      "top": null,
      "visibility": null,
      "width": null
     }
    },
    "a60370f9435b42ab8b5d794ce32c2fa2": {
     "model_module": "@jupyter-widgets/base",
     "model_module_version": "1.2.0",
     "model_name": "LayoutModel",
     "state": {
      "_model_module": "@jupyter-widgets/base",
      "_model_module_version": "1.2.0",
      "_model_name": "LayoutModel",
      "_view_count": null,
      "_view_module": "@jupyter-widgets/base",
      "_view_module_version": "1.2.0",
      "_view_name": "LayoutView",
      "align_content": null,
      "align_items": null,
      "align_self": null,
      "border": null,
      "bottom": null,
      "display": null,
      "flex": null,
      "flex_flow": null,
      "grid_area": null,
      "grid_auto_columns": null,
      "grid_auto_flow": null,
      "grid_auto_rows": null,
      "grid_column": null,
      "grid_gap": null,
      "grid_row": null,
      "grid_template_areas": null,
      "grid_template_columns": null,
      "grid_template_rows": null,
      "height": null,
      "justify_content": null,
      "justify_items": null,
      "left": null,
      "margin": null,
      "max_height": null,
      "max_width": null,
      "min_height": null,
      "min_width": null,
      "object_fit": null,
      "object_position": null,
      "order": null,
      "overflow": null,
      "overflow_x": null,
      "overflow_y": null,
      "padding": null,
      "right": null,
      "top": null,
      "visibility": null,
      "width": null
     }
    },
    "b913e8c4b6ca4c129949878e1b832774": {
     "model_module": "@jupyter-widgets/controls",
     "model_module_version": "1.5.0",
     "model_name": "DescriptionStyleModel",
     "state": {
      "_model_module": "@jupyter-widgets/controls",
      "_model_module_version": "1.5.0",
      "_model_name": "DescriptionStyleModel",
      "_view_count": null,
      "_view_module": "@jupyter-widgets/base",
      "_view_module_version": "1.2.0",
      "_view_name": "StyleView",
      "description_width": ""
     }
    },
    "cbf3c833b87d4f51b10aa6f09d53d5d1": {
     "model_module": "@jupyter-widgets/controls",
     "model_module_version": "1.5.0",
     "model_name": "DescriptionStyleModel",
     "state": {
      "_model_module": "@jupyter-widgets/controls",
      "_model_module_version": "1.5.0",
      "_model_name": "DescriptionStyleModel",
      "_view_count": null,
      "_view_module": "@jupyter-widgets/base",
      "_view_module_version": "1.2.0",
      "_view_name": "StyleView",
      "description_width": ""
     }
    },
    "cc3c6714c3ab435ca820f8081878dc3f": {
     "model_module": "@jupyter-widgets/controls",
     "model_module_version": "1.5.0",
     "model_name": "ProgressStyleModel",
     "state": {
      "_model_module": "@jupyter-widgets/controls",
      "_model_module_version": "1.5.0",
      "_model_name": "ProgressStyleModel",
      "_view_count": null,
      "_view_module": "@jupyter-widgets/base",
      "_view_module_version": "1.2.0",
      "_view_name": "StyleView",
      "bar_color": null,
      "description_width": ""
     }
    },
    "e2fec3b726cd4f529b58b0716f2237a3": {
     "model_module": "@jupyter-widgets/controls",
     "model_module_version": "1.5.0",
     "model_name": "HBoxModel",
     "state": {
      "_dom_classes": [],
      "_model_module": "@jupyter-widgets/controls",
      "_model_module_version": "1.5.0",
      "_model_name": "HBoxModel",
      "_view_count": null,
      "_view_module": "@jupyter-widgets/controls",
      "_view_module_version": "1.5.0",
      "_view_name": "HBoxView",
      "box_style": "",
      "children": [
       "IPY_MODEL_506dbb25d1f743ee80033d6f98dabc3b",
       "IPY_MODEL_5a98a29b6ecf41f09fee8d7aebf3132e",
       "IPY_MODEL_743f1f0ae54f4f4aa4994c96a523625c"
      ],
      "layout": "IPY_MODEL_792f088bb26346baa2f17f4cfcafe0ea"
     }
    }
   }
  }
 },
 "nbformat": 4,
 "nbformat_minor": 5
}
